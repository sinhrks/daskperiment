{
 "cells": [
  {
   "cell_type": "markdown",
   "metadata": {},
   "source": [
    "# Quickstart\n",
    "\n",
    "This notebook describes a minimal example. First, create `daskperiment.Experiment` instance. This instance controlls an experiment, a chain of functions to output value and a collection of input variables."
   ]
  },
  {
   "cell_type": "code",
   "execution_count": 1,
   "metadata": {
    "collapsed": false
   },
   "outputs": [],
   "source": [
    "%matplotlib inline\n",
    "import numpy as np\n",
    "import daskperiment"
   ]
  },
  {
   "cell_type": "markdown",
   "metadata": {},
   "source": [
    "First, create `daskperiment.Experiment` instance. This instance controlls an experiment, a chain of functions to output value and a collection of input variables."
   ]
  },
  {
   "cell_type": "code",
   "execution_count": 2,
   "metadata": {
    "collapsed": false,
    "scrolled": true
   },
   "outputs": [
    {
     "name": "stderr",
     "output_type": "stream",
     "text": [
      "2019-02-22 14:05:46,788 [daskperiment.core.experiment] [INFO] Initialized new experiment: Experiment(id: quickstart_pj, trial_id: 0, backend: LocalBackend('daskperiment_cache/quickstart_pj'))\n",
      "2019-02-22 14:05:47,429 [daskperiment.core.environment] [INFO] Platform Information: Darwin-17.7.0-x86_64-i386-64bit\n",
      "2019-02-22 14:05:47,432 [daskperiment.core.environment] [INFO] Device CPU Count: 4\n",
      "2019-02-22 14:05:47,433 [daskperiment.core.environment] [INFO] Python Implementation: CPython\n",
      "2019-02-22 14:05:47,436 [daskperiment.core.environment] [INFO] Python Version: 3.6.6\n",
      "2019-02-22 14:05:47,439 [daskperiment.core.environment] [INFO] Python Shell Mode: Jupyter Notebook\n",
      "2019-02-22 14:05:47,441 [daskperiment.core.environment] [INFO] Daskperiment Version: 0.3.0\n",
      "2019-02-22 14:05:47,443 [daskperiment.core.environment] [INFO] Daskperiment Path: /Users/sinhrks/Git/daskperiment/daskperiment\n",
      "2019-02-22 14:05:47,445 [daskperiment.core.environment] [INFO] Working Directory: /Users/sinhrks/Git/daskperiment/notebook\n",
      "2019-02-22 14:05:47,447 [daskperiment.core.environment] [INFO] Git Repository: /Users/sinhrks/Git/daskperiment\n",
      "2019-02-22 14:05:47,451 [daskperiment.core.environment] [INFO] Git Active Branch: master\n",
      "2019-02-22 14:05:47,452 [daskperiment.core.environment] [INFO] Git HEAD Commit: 3c3b324cfc81d79b7433cef4443d1a5f83c40143\n",
      "2019-02-22 14:05:47,454 [daskperiment.core.environment] [INFO] Number of installed Python packages: 5949\n"
     ]
    },
    {
     "data": {
      "text/plain": [
       "Experiment(id: quickstart_pj, trial_id: 0, backend: LocalBackend('daskperiment_cache/quickstart_pj'))"
      ]
     },
     "execution_count": 2,
     "metadata": {},
     "output_type": "execute_result"
    }
   ],
   "source": [
    "ex = daskperiment.Experiment(id='quickstart_pj')\n",
    "ex"
   ]
  },
  {
   "cell_type": "markdown",
   "metadata": {},
   "source": [
    "Then, use `Experiment.parameter` method to define parameters (input variables for the experiment). The actual value of each parameter can be changed in every trial."
   ]
  },
  {
   "cell_type": "code",
   "execution_count": 3,
   "metadata": {
    "collapsed": false
   },
   "outputs": [
    {
     "data": {
      "text/plain": [
       "Parameter(a: Undefined)"
      ]
     },
     "execution_count": 3,
     "metadata": {},
     "output_type": "execute_result"
    }
   ],
   "source": [
    "a = ex.parameter('a')\n",
    "b = ex.parameter('b')\n",
    "a"
   ]
  },
  {
   "cell_type": "markdown",
   "metadata": {},
   "source": [
    "Next, you can define each experiment step (function) by decorating with `Experiment` instance (`@ex`).\n",
    "\n",
    "Note that the function to output the final result (mostly objective value to be minimized or maximized) must be decorated with `Experiment.result`. The chain of these functions are expressed as `Dask.Delayed` instance."
   ]
  },
  {
   "cell_type": "code",
   "execution_count": 4,
   "metadata": {
    "collapsed": false,
    "scrolled": false
   },
   "outputs": [
    {
     "data": {
      "text/plain": [
       "Delayed('calculate_score-57e1d6c8-89f5-4492-8cca-ba7ac326415d')"
      ]
     },
     "execution_count": 4,
     "metadata": {},
     "output_type": "execute_result"
    }
   ],
   "source": [
    "@ex\n",
    "def prepare_data(a, b):\n",
    "    return a + b \n",
    "\n",
    "@ex.result\n",
    "def calculate_score(s):\n",
    "    return 10 / s\n",
    "\n",
    "d = prepare_data(a, b)\n",
    "s = calculate_score(d)\n",
    "s"
   ]
  },
  {
   "cell_type": "markdown",
   "metadata": {},
   "source": [
    "Thus, you can visualize computation graph via `.visualize` method."
   ]
  },
  {
   "cell_type": "code",
   "execution_count": 5,
   "metadata": {
    "collapsed": false
   },
   "outputs": [
    {
     "data": {
      "image/png": "[encoded data removed]",
      "text/plain": [
       "<IPython.core.display.Image object>"
      ]
     },
     "execution_count": 5,
     "metadata": {},
     "output_type": "execute_result"
    }
   ],
   "source": [
    "s.visualize()"
   ]
  },
  {
   "cell_type": "markdown",
   "metadata": {},
   "source": [
    "Use `Experiment.set_parameters` method to set parameters for a trial. After setting parameters, `Parameter` variable and experiment result will be computable.\n",
    "\n",
    "Parameters are recommended to be a scalar (or lightweight value) because these are stored as history (for example, passing filename as a parameter is　preffered rather than passing `DataFrame`)."
   ]
  },
  {
   "cell_type": "code",
   "execution_count": 6,
   "metadata": {
    "collapsed": false,
    "scrolled": false
   },
   "outputs": [
    {
     "name": "stderr",
     "output_type": "stream",
     "text": [
      "2019-02-22 14:05:48,445 [daskperiment.core.parameter] [INFO] Updated parameters: a=1<class 'int'>, b=2<class 'int'>\n"
     ]
    },
    {
     "data": {
      "text/plain": [
       "1"
      ]
     },
     "execution_count": 6,
     "metadata": {},
     "output_type": "execute_result"
    }
   ],
   "source": [
    "ex.set_parameters(a=1, b=2)\n",
    "a.compute()"
   ]
  },
  {
   "cell_type": "code",
   "execution_count": 7,
   "metadata": {
    "collapsed": false
   },
   "outputs": [
    {
     "name": "stderr",
     "output_type": "stream",
     "text": [
      "2019-02-22 14:05:48,485 [daskperiment.core.trial] [INFO] Started Experiment (trial id=1)\n",
      "2019-02-22 14:05:48,487 [daskperiment.core.experiment] [INFO] Target: calculate_score-57e1d6c8-89f5-4492-8cca-ba7ac326415d\n",
      "2019-02-22 14:05:48,489 [daskperiment.core.experiment] [INFO] Random seed is not provided, initialized with generated seed: 3280295347\n",
      "2019-02-22 14:05:48,493 [daskperiment.core.trial] [INFO] Parameters: a=1<class 'int'>, b=2<class 'int'>\n",
      "2019-02-22 14:05:48,496 [daskperiment.core.code] [INFO] Saving code context: daskperiment_cache/quickstart_pj/code/quickstart_pj_1.py\n",
      "2019-02-22 14:05:48,499 [daskperiment.core.environment] [INFO] Saving platform info: daskperiment_cache/quickstart_pj/environment/device_quickstart_pj_1.json\n",
      "2019-02-22 14:05:48,501 [daskperiment.core.environment] [INFO] Saving Python info: daskperiment_cache/quickstart_pj/environment/python_quickstart_pj_1.json\n",
      "2019-02-22 14:05:48,503 [daskperiment.core.environment] [INFO] Saving Git info: daskperiment_cache/quickstart_pj/environment/git_quickstart_pj_1.json\n",
      "2019-02-22 14:05:48,505 [daskperiment.core.environment] [INFO] Saving python packages: daskperiment_cache/quickstart_pj/environment/requirements_quickstart_pj_1.txt\n",
      "2019-02-22 14:05:48,510 [daskperiment.core.trial] [INFO] Finished Experiment (trial id=1)\n",
      "2019-02-22 14:05:48,511 [daskperiment.backend.local] [INFO] Saving Experiment to file: daskperiment_cache/quickstart_pj/quickstart_pj.pkl\n"
     ]
    },
    {
     "data": {
      "text/plain": [
       "3.3333333333333335"
      ]
     },
     "execution_count": 7,
     "metadata": {},
     "output_type": "execute_result"
    }
   ],
   "source": [
    "s.compute()"
   ]
  },
  {
   "cell_type": "markdown",
   "metadata": {},
   "source": [
    "You can update any parameters for next trial. Every trials can be distinguished by trial id."
   ]
  },
  {
   "cell_type": "code",
   "execution_count": 8,
   "metadata": {
    "collapsed": false,
    "scrolled": false
   },
   "outputs": [
    {
     "name": "stderr",
     "output_type": "stream",
     "text": [
      "2019-02-22 14:05:48,530 [daskperiment.core.parameter] [INFO] Updated parameters: a=1<class 'int'>, b=3<class 'int'>\n",
      "2019-02-22 14:05:48,537 [daskperiment.core.trial] [INFO] Started Experiment (trial id=2)\n",
      "2019-02-22 14:05:48,540 [daskperiment.core.experiment] [INFO] Target: calculate_score-57e1d6c8-89f5-4492-8cca-ba7ac326415d\n",
      "2019-02-22 14:05:48,544 [daskperiment.core.experiment] [INFO] Random seed is not provided, initialized with generated seed: 225128864\n",
      "2019-02-22 14:05:48,547 [daskperiment.core.trial] [INFO] Parameters: a=1<class 'int'>, b=3<class 'int'>\n",
      "2019-02-22 14:05:48,553 [daskperiment.core.code] [INFO] Saving code context: daskperiment_cache/quickstart_pj/code/quickstart_pj_2.py\n",
      "2019-02-22 14:05:48,566 [daskperiment.core.environment] [INFO] Saving platform info: daskperiment_cache/quickstart_pj/environment/device_quickstart_pj_2.json\n",
      "2019-02-22 14:05:48,571 [daskperiment.core.environment] [INFO] Saving Python info: daskperiment_cache/quickstart_pj/environment/python_quickstart_pj_2.json\n",
      "2019-02-22 14:05:48,584 [daskperiment.core.environment] [INFO] Saving Git info: daskperiment_cache/quickstart_pj/environment/git_quickstart_pj_2.json\n",
      "2019-02-22 14:05:48,589 [daskperiment.core.environment] [INFO] Saving python packages: daskperiment_cache/quickstart_pj/environment/requirements_quickstart_pj_2.txt\n",
      "2019-02-22 14:05:48,602 [daskperiment.core.trial] [INFO] Finished Experiment (trial id=2)\n",
      "2019-02-22 14:05:48,603 [daskperiment.backend.local] [INFO] Saving Experiment to file: daskperiment_cache/quickstart_pj/quickstart_pj.pkl\n"
     ]
    },
    {
     "data": {
      "text/plain": [
       "2.5"
      ]
     },
     "execution_count": 8,
     "metadata": {},
     "output_type": "execute_result"
    }
   ],
   "source": [
    "ex.set_parameters(b=3)\n",
    "s.compute()"
   ]
  },
  {
   "cell_type": "code",
   "execution_count": 9,
   "metadata": {
    "collapsed": false
   },
   "outputs": [
    {
     "data": {
      "text/html": [
       "<div>\n",
       "<style scoped>\n",
       "    .dataframe tbody tr th:only-of-type {\n",
       "        vertical-align: middle;\n",
       "    }\n",
       "\n",
       "    .dataframe tbody tr th {\n",
       "        vertical-align: top;\n",
       "    }\n",
       "\n",
       "    .dataframe thead th {\n",
       "        text-align: right;\n",
       "    }\n",
       "</style>\n",
       "<table border=\"1\" class=\"dataframe\">\n",
       "  <thead>\n",
       "    <tr style=\"text-align: right;\">\n",
       "      <th></th>\n",
       "      <th>a</th>\n",
       "      <th>b</th>\n",
       "      <th>Result</th>\n",
       "      <th>Success</th>\n",
       "      <th>Finished</th>\n",
       "      <th>Process Time</th>\n",
       "      <th>Description</th>\n",
       "    </tr>\n",
       "    <tr>\n",
       "      <th>Trial ID</th>\n",
       "      <th></th>\n",
       "      <th></th>\n",
       "      <th></th>\n",
       "      <th></th>\n",
       "      <th></th>\n",
       "      <th></th>\n",
       "      <th></th>\n",
       "    </tr>\n",
       "  </thead>\n",
       "  <tbody>\n",
       "    <tr>\n",
       "      <th>1</th>\n",
       "      <td>1</td>\n",
       "      <td>2</td>\n",
       "      <td>3.333333</td>\n",
       "      <td>True</td>\n",
       "      <td>2019-02-22 14:05:48.510193</td>\n",
       "      <td>00:00:00.024739</td>\n",
       "      <td>NaN</td>\n",
       "    </tr>\n",
       "    <tr>\n",
       "      <th>2</th>\n",
       "      <td>1</td>\n",
       "      <td>3</td>\n",
       "      <td>2.500000</td>\n",
       "      <td>True</td>\n",
       "      <td>2019-02-22 14:05:48.602198</td>\n",
       "      <td>00:00:00.064431</td>\n",
       "      <td>NaN</td>\n",
       "    </tr>\n",
       "  </tbody>\n",
       "</table>\n",
       "</div>"
      ],
      "text/plain": [
       "          a  b    Result  Success                   Finished    Process Time  \\\n",
       "Trial ID                                                                       \n",
       "1         1  2  3.333333     True 2019-02-22 14:05:48.510193 00:00:00.024739   \n",
       "2         1  3  2.500000     True 2019-02-22 14:05:48.602198 00:00:00.064431   \n",
       "\n",
       "          Description  \n",
       "Trial ID               \n",
       "1                 NaN  \n",
       "2                 NaN  "
      ]
     },
     "execution_count": 9,
     "metadata": {},
     "output_type": "execute_result"
    }
   ],
   "source": [
    "ex.get_history()"
   ]
  },
  {
   "cell_type": "markdown",
   "metadata": {},
   "source": [
    "After some trials, you can retrieve parameter values specifying trial id."
   ]
  },
  {
   "cell_type": "code",
   "execution_count": 10,
   "metadata": {
    "collapsed": false,
    "scrolled": true
   },
   "outputs": [
    {
     "data": {
      "text/plain": [
       "{'a': 1, 'b': 2}"
      ]
     },
     "execution_count": 10,
     "metadata": {},
     "output_type": "execute_result"
    }
   ],
   "source": [
    "ex.get_parameters(trial_id=1)"
   ]
  },
  {
   "cell_type": "code",
   "execution_count": 11,
   "metadata": {
    "collapsed": false
   },
   "outputs": [
    {
     "data": {
      "text/plain": [
       "{'a': 1, 'b': 3}"
      ]
     },
     "execution_count": 11,
     "metadata": {},
     "output_type": "execute_result"
    }
   ],
   "source": [
    "ex.get_parameters(trial_id=2)"
   ]
  },
  {
   "cell_type": "markdown",
   "metadata": {},
   "source": [
    "`Experiment.get_history` will return a `DataFrame` which stores a history of trial parameters and its results. You can select desirable trial using `pandas` basic operation."
   ]
  },
  {
   "cell_type": "code",
   "execution_count": 12,
   "metadata": {
    "collapsed": false,
    "scrolled": false
   },
   "outputs": [
    {
     "data": {
      "text/html": [
       "<div>\n",
       "<style scoped>\n",
       "    .dataframe tbody tr th:only-of-type {\n",
       "        vertical-align: middle;\n",
       "    }\n",
       "\n",
       "    .dataframe tbody tr th {\n",
       "        vertical-align: top;\n",
       "    }\n",
       "\n",
       "    .dataframe thead th {\n",
       "        text-align: right;\n",
       "    }\n",
       "</style>\n",
       "<table border=\"1\" class=\"dataframe\">\n",
       "  <thead>\n",
       "    <tr style=\"text-align: right;\">\n",
       "      <th></th>\n",
       "      <th>a</th>\n",
       "      <th>b</th>\n",
       "      <th>Result</th>\n",
       "      <th>Success</th>\n",
       "      <th>Finished</th>\n",
       "      <th>Process Time</th>\n",
       "      <th>Description</th>\n",
       "    </tr>\n",
       "    <tr>\n",
       "      <th>Trial ID</th>\n",
       "      <th></th>\n",
       "      <th></th>\n",
       "      <th></th>\n",
       "      <th></th>\n",
       "      <th></th>\n",
       "      <th></th>\n",
       "      <th></th>\n",
       "    </tr>\n",
       "  </thead>\n",
       "  <tbody>\n",
       "    <tr>\n",
       "      <th>1</th>\n",
       "      <td>1</td>\n",
       "      <td>2</td>\n",
       "      <td>3.333333</td>\n",
       "      <td>True</td>\n",
       "      <td>2019-02-22 14:05:48.510193</td>\n",
       "      <td>00:00:00.024739</td>\n",
       "      <td>NaN</td>\n",
       "    </tr>\n",
       "    <tr>\n",
       "      <th>2</th>\n",
       "      <td>1</td>\n",
       "      <td>3</td>\n",
       "      <td>2.500000</td>\n",
       "      <td>True</td>\n",
       "      <td>2019-02-22 14:05:48.602198</td>\n",
       "      <td>00:00:00.064431</td>\n",
       "      <td>NaN</td>\n",
       "    </tr>\n",
       "  </tbody>\n",
       "</table>\n",
       "</div>"
      ],
      "text/plain": [
       "          a  b    Result  Success                   Finished    Process Time  \\\n",
       "Trial ID                                                                       \n",
       "1         1  2  3.333333     True 2019-02-22 14:05:48.510193 00:00:00.024739   \n",
       "2         1  3  2.500000     True 2019-02-22 14:05:48.602198 00:00:00.064431   \n",
       "\n",
       "          Description  \n",
       "Trial ID               \n",
       "1                 NaN  \n",
       "2                 NaN  "
      ]
     },
     "execution_count": 12,
     "metadata": {},
     "output_type": "execute_result"
    }
   ],
   "source": [
    "ex.get_history()"
   ]
  },
  {
   "cell_type": "markdown",
   "metadata": {},
   "source": [
    "When any error occurs during the trial, `Experiment` instance stores the log as failed trial. The \"Description\" column contains the error detail."
   ]
  },
  {
   "cell_type": "code",
   "execution_count": 13,
   "metadata": {
    "collapsed": false
   },
   "outputs": [
    {
     "name": "stderr",
     "output_type": "stream",
     "text": [
      "2019-02-22 14:05:48,921 [daskperiment.core.parameter] [INFO] Updated parameters: a=1<class 'int'>, b=-1<class 'int'>\n",
      "2019-02-22 14:05:48,925 [daskperiment.core.trial] [INFO] Started Experiment (trial id=3)\n",
      "2019-02-22 14:05:48,929 [daskperiment.core.experiment] [INFO] Target: calculate_score-57e1d6c8-89f5-4492-8cca-ba7ac326415d\n",
      "2019-02-22 14:05:48,932 [daskperiment.core.experiment] [INFO] Random seed is not provided, initialized with generated seed: 1428381994\n",
      "2019-02-22 14:05:48,935 [daskperiment.core.trial] [INFO] Parameters: a=1<class 'int'>, b=-1<class 'int'>\n",
      "2019-02-22 14:05:48,938 [daskperiment.core.code] [INFO] Saving code context: daskperiment_cache/quickstart_pj/code/quickstart_pj_3.py\n",
      "2019-02-22 14:05:48,941 [daskperiment.core.environment] [INFO] Saving platform info: daskperiment_cache/quickstart_pj/environment/device_quickstart_pj_3.json\n",
      "2019-02-22 14:05:48,944 [daskperiment.core.environment] [INFO] Saving Python info: daskperiment_cache/quickstart_pj/environment/python_quickstart_pj_3.json\n",
      "2019-02-22 14:05:48,948 [daskperiment.core.environment] [INFO] Saving Git info: daskperiment_cache/quickstart_pj/environment/git_quickstart_pj_3.json\n",
      "2019-02-22 14:05:48,951 [daskperiment.core.environment] [INFO] Saving python packages: daskperiment_cache/quickstart_pj/environment/requirements_quickstart_pj_3.txt\n",
      "2019-02-22 14:05:48,957 [daskperiment.core.experiment] [ERROR] Experiment failed: ZeroDivisionError(division by zero)\n",
      "2019-02-22 14:05:48,958 [daskperiment.core.trial] [INFO] Finished Experiment (trial id=3)\n",
      "2019-02-22 14:05:48,961 [daskperiment.backend.local] [INFO] Saving Experiment to file: daskperiment_cache/quickstart_pj/quickstart_pj.pkl\n"
     ]
    },
    {
     "name": "stdout",
     "output_type": "stream",
     "text": [
      "ZeroDivisionError(division by zero)\n"
     ]
    }
   ],
   "source": [
    "ex.set_parameters(a=1, b=-1)\n",
    "try:\n",
    "    s.compute()\n",
    "    \n",
    "except ZeroDivisionError as e:\n",
    "    # To hide stack trace\n",
    "    print('{}({})'.format(e.__class__.__name__, e))"
   ]
  },
  {
   "cell_type": "code",
   "execution_count": 14,
   "metadata": {
    "collapsed": false
   },
   "outputs": [
    {
     "data": {
      "text/html": [
       "<div>\n",
       "<style scoped>\n",
       "    .dataframe tbody tr th:only-of-type {\n",
       "        vertical-align: middle;\n",
       "    }\n",
       "\n",
       "    .dataframe tbody tr th {\n",
       "        vertical-align: top;\n",
       "    }\n",
       "\n",
       "    .dataframe thead th {\n",
       "        text-align: right;\n",
       "    }\n",
       "</style>\n",
       "<table border=\"1\" class=\"dataframe\">\n",
       "  <thead>\n",
       "    <tr style=\"text-align: right;\">\n",
       "      <th></th>\n",
       "      <th>a</th>\n",
       "      <th>b</th>\n",
       "      <th>Result</th>\n",
       "      <th>Success</th>\n",
       "      <th>Finished</th>\n",
       "      <th>Process Time</th>\n",
       "      <th>Description</th>\n",
       "    </tr>\n",
       "    <tr>\n",
       "      <th>Trial ID</th>\n",
       "      <th></th>\n",
       "      <th></th>\n",
       "      <th></th>\n",
       "      <th></th>\n",
       "      <th></th>\n",
       "      <th></th>\n",
       "      <th></th>\n",
       "    </tr>\n",
       "  </thead>\n",
       "  <tbody>\n",
       "    <tr>\n",
       "      <th>1</th>\n",
       "      <td>1</td>\n",
       "      <td>2</td>\n",
       "      <td>3.333333</td>\n",
       "      <td>True</td>\n",
       "      <td>2019-02-22 14:05:48.510193</td>\n",
       "      <td>00:00:00.024739</td>\n",
       "      <td>NaN</td>\n",
       "    </tr>\n",
       "    <tr>\n",
       "      <th>2</th>\n",
       "      <td>1</td>\n",
       "      <td>3</td>\n",
       "      <td>2.500000</td>\n",
       "      <td>True</td>\n",
       "      <td>2019-02-22 14:05:48.602198</td>\n",
       "      <td>00:00:00.064431</td>\n",
       "      <td>NaN</td>\n",
       "    </tr>\n",
       "    <tr>\n",
       "      <th>3</th>\n",
       "      <td>1</td>\n",
       "      <td>-1</td>\n",
       "      <td>NaN</td>\n",
       "      <td>False</td>\n",
       "      <td>2019-02-22 14:05:48.958260</td>\n",
       "      <td>00:00:00.032536</td>\n",
       "      <td>ZeroDivisionError(division by zero)</td>\n",
       "    </tr>\n",
       "  </tbody>\n",
       "</table>\n",
       "</div>"
      ],
      "text/plain": [
       "          a  b    Result  Success                   Finished    Process Time  \\\n",
       "Trial ID                                                                       \n",
       "1         1  2  3.333333     True 2019-02-22 14:05:48.510193 00:00:00.024739   \n",
       "2         1  3  2.500000     True 2019-02-22 14:05:48.602198 00:00:00.064431   \n",
       "3         1 -1       NaN    False 2019-02-22 14:05:48.958260 00:00:00.032536   \n",
       "\n",
       "                                  Description  \n",
       "Trial ID                                       \n",
       "1                                         NaN  \n",
       "2                                         NaN  \n",
       "3         ZeroDivisionError(division by zero)  "
      ]
     },
     "execution_count": 14,
     "metadata": {},
     "output_type": "execute_result"
    }
   ],
   "source": [
    "ex.get_history()"
   ]
  },
  {
   "cell_type": "markdown",
   "metadata": {},
   "source": [
    "Every time the computation performed, `Experiment` instance is automatically saved to specified cache directory. When `Experiment` instance is initialized, it automatically load previous trials (check trial id in the log)."
   ]
  },
  {
   "cell_type": "markdown",
   "metadata": {},
   "source": [
    "# Handling intermediate result"
   ]
  },
  {
   "cell_type": "markdown",
   "metadata": {},
   "source": [
    "Next example shows how to retrieve an intermediate result of the chain.\n",
    "\n",
    "The only difference is using `Experiment.persist` decorator. It makes `Experiment` instance to keep the decorated function's intermediate result. After definition, rebuilt the same workflow using the persisted function. \n",
    "\n",
    "Note that an intermediate result is saved as a pickle file named with its function name, function name must be unique in the experiment."
   ]
  },
  {
   "cell_type": "code",
   "execution_count": 15,
   "metadata": {
    "collapsed": false,
    "scrolled": true
   },
   "outputs": [
    {
     "name": "stderr",
     "output_type": "stream",
     "text": [
      "2019-02-22 14:05:49,087 [daskperiment.core.code] [WARNING] Code context has been changed: prepare_data\n",
      "2019-02-22 14:05:49,091 [daskperiment.core.code] [WARNING] @@ -1,3 +1,3 @@\n",
      "\n",
      "2019-02-22 14:05:49,092 [daskperiment.core.code] [WARNING] -@ex\n",
      "2019-02-22 14:05:49,094 [daskperiment.core.code] [WARNING] +@ex.persist\n",
      "2019-02-22 14:05:49,095 [daskperiment.core.code] [WARNING]  def prepare_data(a, b):\n",
      "2019-02-22 14:05:49,098 [daskperiment.core.code] [WARNING] -    return a + b \n",
      "2019-02-22 14:05:49,099 [daskperiment.core.code] [WARNING] +    return a + b\n"
     ]
    }
   ],
   "source": [
    "@ex.persist\n",
    "def prepare_data(a, b):\n",
    "    return a + b\n",
    "\n",
    "d = prepare_data(a, b)\n",
    "s = calculate_score(d)"
   ]
  },
  {
   "cell_type": "markdown",
   "metadata": {},
   "source": [
    "NOTE: Also, you can notice that `daskperiment` outputs some \"WARNING\" indicating code contexts has been changed. It's because `daskperiment` automatically tracks code context to guarantee reproducibility.\n",
    "\n",
    "Let's perform some trials."
   ]
  },
  {
   "cell_type": "code",
   "execution_count": 16,
   "metadata": {
    "collapsed": false
   },
   "outputs": [
    {
     "name": "stderr",
     "output_type": "stream",
     "text": [
      "2019-02-22 14:05:49,110 [daskperiment.core.parameter] [INFO] Updated parameters: a=1<class 'int'>, b=2<class 'int'>\n",
      "2019-02-22 14:05:49,113 [daskperiment.core.trial] [INFO] Started Experiment (trial id=4)\n",
      "2019-02-22 14:05:49,115 [daskperiment.core.experiment] [INFO] Target: calculate_score-e468600f-7cb1-4138-8195-f5c55d304cc5\n",
      "2019-02-22 14:05:49,116 [daskperiment.core.experiment] [INFO] Random seed is not provided, initialized with generated seed: 907307153\n",
      "2019-02-22 14:05:49,118 [daskperiment.core.trial] [INFO] Parameters: a=1<class 'int'>, b=2<class 'int'>\n",
      "2019-02-22 14:05:49,120 [daskperiment.core.code] [INFO] Saving code context: daskperiment_cache/quickstart_pj/code/quickstart_pj_4.py\n",
      "2019-02-22 14:05:49,123 [daskperiment.core.environment] [INFO] Saving platform info: daskperiment_cache/quickstart_pj/environment/device_quickstart_pj_4.json\n",
      "2019-02-22 14:05:49,128 [daskperiment.core.environment] [INFO] Saving Python info: daskperiment_cache/quickstart_pj/environment/python_quickstart_pj_4.json\n",
      "2019-02-22 14:05:49,133 [daskperiment.core.environment] [INFO] Saving Git info: daskperiment_cache/quickstart_pj/environment/git_quickstart_pj_4.json\n",
      "2019-02-22 14:05:49,136 [daskperiment.core.environment] [INFO] Saving python packages: daskperiment_cache/quickstart_pj/environment/requirements_quickstart_pj_4.txt\n",
      "2019-02-22 14:05:49,141 [daskperiment.core.trial] [INFO] Finished Experiment (trial id=4)\n",
      "2019-02-22 14:05:49,143 [daskperiment.backend.local] [INFO] Saving Experiment to file: daskperiment_cache/quickstart_pj/quickstart_pj.pkl\n"
     ]
    },
    {
     "data": {
      "text/plain": [
       "3.3333333333333335"
      ]
     },
     "execution_count": 16,
     "metadata": {},
     "output_type": "execute_result"
    }
   ],
   "source": [
    "ex.set_parameters(a=1, b=2)\n",
    "s.compute()"
   ]
  },
  {
   "cell_type": "code",
   "execution_count": 17,
   "metadata": {
    "collapsed": false
   },
   "outputs": [
    {
     "name": "stderr",
     "output_type": "stream",
     "text": [
      "2019-02-22 14:05:49,165 [daskperiment.core.parameter] [INFO] Updated parameters: a=3<class 'int'>, b=2<class 'int'>\n",
      "2019-02-22 14:05:49,169 [daskperiment.core.trial] [INFO] Started Experiment (trial id=5)\n",
      "2019-02-22 14:05:49,181 [daskperiment.core.experiment] [INFO] Target: calculate_score-e468600f-7cb1-4138-8195-f5c55d304cc5\n",
      "2019-02-22 14:05:49,185 [daskperiment.core.experiment] [INFO] Random seed is not provided, initialized with generated seed: 3200913301\n",
      "2019-02-22 14:05:49,188 [daskperiment.core.trial] [INFO] Parameters: a=3<class 'int'>, b=2<class 'int'>\n",
      "2019-02-22 14:05:49,190 [daskperiment.core.code] [INFO] Saving code context: daskperiment_cache/quickstart_pj/code/quickstart_pj_5.py\n",
      "2019-02-22 14:05:49,194 [daskperiment.core.environment] [INFO] Saving platform info: daskperiment_cache/quickstart_pj/environment/device_quickstart_pj_5.json\n",
      "2019-02-22 14:05:49,199 [daskperiment.core.environment] [INFO] Saving Python info: daskperiment_cache/quickstart_pj/environment/python_quickstart_pj_5.json\n",
      "2019-02-22 14:05:49,204 [daskperiment.core.environment] [INFO] Saving Git info: daskperiment_cache/quickstart_pj/environment/git_quickstart_pj_5.json\n",
      "2019-02-22 14:05:49,212 [daskperiment.core.environment] [INFO] Saving python packages: daskperiment_cache/quickstart_pj/environment/requirements_quickstart_pj_5.txt\n",
      "2019-02-22 14:05:49,220 [daskperiment.core.trial] [INFO] Finished Experiment (trial id=5)\n",
      "2019-02-22 14:05:49,222 [daskperiment.backend.local] [INFO] Saving Experiment to file: daskperiment_cache/quickstart_pj/quickstart_pj.pkl\n"
     ]
    },
    {
     "data": {
      "text/plain": [
       "2.0"
      ]
     },
     "execution_count": 17,
     "metadata": {},
     "output_type": "execute_result"
    }
   ],
   "source": [
    "ex.set_parameters(a=3, b=2)\n",
    "s.compute()"
   ]
  },
  {
   "cell_type": "markdown",
   "metadata": {},
   "source": [
    "You can retrieve intermediate results via `Experiment.get_persisted` method by specifying function name and trial id."
   ]
  },
  {
   "cell_type": "code",
   "execution_count": 18,
   "metadata": {
    "collapsed": false
   },
   "outputs": [
    {
     "data": {
      "text/plain": [
       "3"
      ]
     },
     "execution_count": 18,
     "metadata": {},
     "output_type": "execute_result"
    }
   ],
   "source": [
    "ex.get_persisted('prepare_data', trial_id=4)"
   ]
  },
  {
   "cell_type": "code",
   "execution_count": 19,
   "metadata": {
    "collapsed": false
   },
   "outputs": [
    {
     "data": {
      "text/plain": [
       "5"
      ]
     },
     "execution_count": 19,
     "metadata": {},
     "output_type": "execute_result"
    }
   ],
   "source": [
    "ex.get_persisted('prepare_data', trial_id=5)"
   ]
  },
  {
   "cell_type": "markdown",
   "metadata": {},
   "source": [
    "# Monitoring metrics"
   ]
  },
  {
   "cell_type": "markdown",
   "metadata": {},
   "source": [
    "You may need to monitor transition of some metrics during each trial. In each experiment function, you can call `Experiment.save_metric` to save metric with its key (name) and epoch."
   ]
  },
  {
   "cell_type": "code",
   "execution_count": 20,
   "metadata": {
    "collapsed": false,
    "scrolled": true
   },
   "outputs": [
    {
     "name": "stderr",
     "output_type": "stream",
     "text": [
      "2019-02-22 14:05:49,267 [daskperiment.core.code] [WARNING] Code context has been changed: calculate_score\n",
      "2019-02-22 14:05:49,270 [daskperiment.core.code] [WARNING] @@ -1,3 +1,6 @@\n",
      "\n",
      "2019-02-22 14:05:49,272 [daskperiment.core.code] [WARNING]  @ex.result\n",
      "2019-02-22 14:05:49,277 [daskperiment.core.code] [WARNING]  def calculate_score(s):\n",
      "2019-02-22 14:05:49,279 [daskperiment.core.code] [WARNING] +    for i in range(100):\n",
      "2019-02-22 14:05:49,288 [daskperiment.core.code] [WARNING] +        ex.save_metric('dummy_score', epoch=i, value=100 - np.random.random() * i)\n",
      "2019-02-22 14:05:49,292 [daskperiment.core.code] [WARNING] +        \n",
      "2019-02-22 14:05:49,295 [daskperiment.core.code] [WARNING]      return 10 / s\n"
     ]
    }
   ],
   "source": [
    "@ex.result\n",
    "def calculate_score(s):\n",
    "    for i in range(100):\n",
    "        ex.save_metric('dummy_score', epoch=i, value=100 - np.random.random() * i)\n",
    "        \n",
    "    return 10 / s\n",
    "\n",
    "d = prepare_data(a, b)\n",
    "s = calculate_score(d)"
   ]
  },
  {
   "cell_type": "code",
   "execution_count": 21,
   "metadata": {
    "collapsed": false,
    "scrolled": false
   },
   "outputs": [
    {
     "name": "stderr",
     "output_type": "stream",
     "text": [
      "2019-02-22 14:05:49,307 [daskperiment.core.parameter] [INFO] Updated parameters: a=1<class 'int'>, b=2<class 'int'>\n",
      "2019-02-22 14:05:49,329 [daskperiment.core.trial] [INFO] Started Experiment (trial id=6)\n",
      "2019-02-22 14:05:49,339 [daskperiment.core.experiment] [INFO] Target: calculate_score-668246c4-47f4-4cf6-b6bd-4e1f2aff6bdd\n",
      "2019-02-22 14:05:49,343 [daskperiment.core.experiment] [INFO] Random seed is not provided, initialized with generated seed: 2878592973\n",
      "2019-02-22 14:05:49,345 [daskperiment.core.trial] [INFO] Parameters: a=1<class 'int'>, b=2<class 'int'>\n",
      "2019-02-22 14:05:49,347 [daskperiment.core.code] [INFO] Saving code context: daskperiment_cache/quickstart_pj/code/quickstart_pj_6.py\n",
      "2019-02-22 14:05:49,351 [daskperiment.core.environment] [INFO] Saving platform info: daskperiment_cache/quickstart_pj/environment/device_quickstart_pj_6.json\n",
      "2019-02-22 14:05:49,353 [daskperiment.core.environment] [INFO] Saving Python info: daskperiment_cache/quickstart_pj/environment/python_quickstart_pj_6.json\n",
      "2019-02-22 14:05:49,356 [daskperiment.core.environment] [INFO] Saving Git info: daskperiment_cache/quickstart_pj/environment/git_quickstart_pj_6.json\n",
      "2019-02-22 14:05:49,360 [daskperiment.core.environment] [INFO] Saving python packages: daskperiment_cache/quickstart_pj/environment/requirements_quickstart_pj_6.txt\n",
      "2019-02-22 14:05:49,369 [daskperiment.core.trial] [INFO] Finished Experiment (trial id=6)\n",
      "2019-02-22 14:05:49,373 [daskperiment.backend.local] [INFO] Saving Experiment to file: daskperiment_cache/quickstart_pj/quickstart_pj.pkl\n"
     ]
    },
    {
     "data": {
      "text/plain": [
       "3.3333333333333335"
      ]
     },
     "execution_count": 21,
     "metadata": {},
     "output_type": "execute_result"
    }
   ],
   "source": [
    "ex.set_parameters(a=1, b=2)\n",
    "s.compute()"
   ]
  },
  {
   "cell_type": "markdown",
   "metadata": {},
   "source": [
    "After a trial, you can load saved metric using `Experiment.load_metric` specifying its name and trial_id. As it is returned as `DataFrame`, you can easily investigate it."
   ]
  },
  {
   "cell_type": "code",
   "execution_count": 22,
   "metadata": {
    "collapsed": false
   },
   "outputs": [
    {
     "name": "stdout",
     "output_type": "stream",
     "text": [
      "Trial ID           6\n",
      "Epoch               \n",
      "0         100.000000\n",
      "1          99.494395\n",
      "2          99.727589\n",
      "3          98.186609\n",
      "4          99.361903\n"
     ]
    }
   ],
   "source": [
    "dummy_score = ex.load_metric('dummy_score', trial_id=6)\n",
    "print(dummy_score.head())"
   ]
  },
  {
   "cell_type": "code",
   "execution_count": 23,
   "metadata": {
    "collapsed": false
   },
   "outputs": [
    {
     "data": {
      "text/plain": [
       "<matplotlib.axes._subplots.AxesSubplot at 0x11fc5b470>"
      ]
     },
     "execution_count": 23,
     "metadata": {},
     "output_type": "execute_result"
    },
    {
     "data": {
      "image/png": "[encoded data removed]",
      "text/plain": [
       "<Figure size 432x288 with 1 Axes>"
      ]
     },
     "metadata": {
      "needs_background": "light"
     },
     "output_type": "display_data"
    }
   ],
   "source": [
    "dummy_score.plot()"
   ]
  },
  {
   "cell_type": "markdown",
   "metadata": {},
   "source": [
    "Perform another trial."
   ]
  },
  {
   "cell_type": "code",
   "execution_count": 24,
   "metadata": {
    "collapsed": false
   },
   "outputs": [
    {
     "name": "stderr",
     "output_type": "stream",
     "text": [
      "2019-02-22 14:05:49,895 [daskperiment.core.parameter] [INFO] Updated parameters: a=3<class 'int'>, b=4<class 'int'>\n",
      "2019-02-22 14:05:49,898 [daskperiment.core.trial] [INFO] Started Experiment (trial id=7)\n",
      "2019-02-22 14:05:49,899 [daskperiment.core.experiment] [INFO] Target: calculate_score-668246c4-47f4-4cf6-b6bd-4e1f2aff6bdd\n",
      "2019-02-22 14:05:49,901 [daskperiment.core.experiment] [INFO] Random seed is not provided, initialized with generated seed: 3714455186\n",
      "2019-02-22 14:05:49,903 [daskperiment.core.trial] [INFO] Parameters: a=3<class 'int'>, b=4<class 'int'>\n",
      "2019-02-22 14:05:49,906 [daskperiment.core.code] [INFO] Saving code context: daskperiment_cache/quickstart_pj/code/quickstart_pj_7.py\n",
      "2019-02-22 14:05:49,909 [daskperiment.core.environment] [INFO] Saving platform info: daskperiment_cache/quickstart_pj/environment/device_quickstart_pj_7.json\n",
      "2019-02-22 14:05:49,911 [daskperiment.core.environment] [INFO] Saving Python info: daskperiment_cache/quickstart_pj/environment/python_quickstart_pj_7.json\n",
      "2019-02-22 14:05:49,914 [daskperiment.core.environment] [INFO] Saving Git info: daskperiment_cache/quickstart_pj/environment/git_quickstart_pj_7.json\n",
      "2019-02-22 14:05:49,917 [daskperiment.core.environment] [INFO] Saving python packages: daskperiment_cache/quickstart_pj/environment/requirements_quickstart_pj_7.txt\n",
      "2019-02-22 14:05:49,928 [daskperiment.core.trial] [INFO] Finished Experiment (trial id=7)\n",
      "2019-02-22 14:05:49,931 [daskperiment.backend.local] [INFO] Saving Experiment to file: daskperiment_cache/quickstart_pj/quickstart_pj.pkl\n"
     ]
    },
    {
     "data": {
      "text/plain": [
       "1.4285714285714286"
      ]
     },
     "execution_count": 24,
     "metadata": {},
     "output_type": "execute_result"
    }
   ],
   "source": [
    "ex.set_parameters(a=3, b=4)\n",
    "s.compute()"
   ]
  },
  {
   "cell_type": "markdown",
   "metadata": {},
   "source": [
    "To compare metrics between trials, pass multiple trial ids to `Experiment.load_metric`."
   ]
  },
  {
   "cell_type": "code",
   "execution_count": 25,
   "metadata": {
    "collapsed": false
   },
   "outputs": [
    {
     "data": {
      "text/plain": [
       "<matplotlib.axes._subplots.AxesSubplot at 0x11ff504a8>"
      ]
     },
     "execution_count": 25,
     "metadata": {},
     "output_type": "execute_result"
    },
    {
     "data": {
      "image/png": "[encoded data removed]",
      "text/plain": [
       "<Figure size 432x288 with 1 Axes>"
      ]
     },
     "metadata": {
      "needs_background": "light"
     },
     "output_type": "display_data"
    }
   ],
   "source": [
    "ex.load_metric('dummy_score', trial_id=[6, 7]).plot()"
   ]
  },
  {
   "cell_type": "markdown",
   "metadata": {},
   "source": [
    "# Check code context"
   ]
  },
  {
   "cell_type": "markdown",
   "metadata": {},
   "source": [
    "The above example illustrated `daskperiment` tracks code contexts decorated with `Experiment` decorators. \n",
    "\n",
    "To check the tracked code contexts, use `Experiment.get_code` specifying trial id (shows current code if trial id is not provided)."
   ]
  },
  {
   "cell_type": "code",
   "execution_count": 26,
   "metadata": {
    "collapsed": false,
    "scrolled": false
   },
   "outputs": [
    {
     "name": "stdout",
     "output_type": "stream",
     "text": [
      "@ex.persist\n",
      "def prepare_data(a, b):\n",
      "    return a + b\n",
      "\n",
      "\n",
      "@ex.result\n",
      "def calculate_score(s):\n",
      "    for i in range(100):\n",
      "        ex.save_metric('dummy_score', epoch=i, value=100 - np.random.random() * i)\n",
      "        \n",
      "    return 10 / s\n",
      "\n"
     ]
    }
   ],
   "source": [
    "print(ex.get_code())"
   ]
  },
  {
   "cell_type": "code",
   "execution_count": 27,
   "metadata": {
    "collapsed": false,
    "scrolled": true
   },
   "outputs": [
    {
     "name": "stdout",
     "output_type": "stream",
     "text": [
      "@ex\n",
      "def prepare_data(a, b):\n",
      "    return a + b \n",
      "\n",
      "\n",
      "@ex.result\n",
      "def calculate_score(s):\n",
      "    return 10 / s\n",
      "\n"
     ]
    }
   ],
   "source": [
    "print(ex.get_code(trial_id=1))"
   ]
  },
  {
   "cell_type": "markdown",
   "metadata": {},
   "source": [
    "Each code context is also saved as a text file per trial id. Thus, these are easily handled by diff tools and  Git."
   ]
  },
  {
   "cell_type": "code",
   "execution_count": 28,
   "metadata": {
    "collapsed": false
   },
   "outputs": [
    {
     "name": "stdout",
     "output_type": "stream",
     "text": [
      "# Code output saved in trial_id=1\r\n",
      "@ex\r\n",
      "def prepare_data(a, b):\r\n",
      "    return a + b \r\n",
      "\r\n",
      "\r\n",
      "@ex.result\r\n",
      "def calculate_score(s):\r\n",
      "    return 10 / s\r\n"
     ]
    }
   ],
   "source": [
    "%cat daskperiment_cache/quickstart_pj/code/quickstart_pj_1.py"
   ]
  },
  {
   "cell_type": "markdown",
   "metadata": {},
   "source": [
    "# Function purity and handling randomness"
   ]
  },
  {
   "cell_type": "markdown",
   "metadata": {},
   "source": [
    "To make the experiment reproducible, all the experiment step should be \"pure\" function (it the inputs are the same, output shouldn't be changed). In other words, the function should not have internal state nor randomness.\n",
    "\n",
    "`daskperiment` checks whether each experiment step is pure. It internally stores the hash of inputs and output, and shows a warning if its output is changed even though the inputs are unchanged.　\n",
    "\n",
    "To illustrate this, add randomness to the example code."
   ]
  },
  {
   "cell_type": "code",
   "execution_count": 29,
   "metadata": {
    "collapsed": false,
    "scrolled": true
   },
   "outputs": [
    {
     "name": "stderr",
     "output_type": "stream",
     "text": [
      "2019-02-22 14:05:50,604 [daskperiment.core.code] [WARNING] Code context has been changed: calculate_score\n",
      "2019-02-22 14:05:50,607 [daskperiment.core.code] [WARNING] @@ -3,4 +3,4 @@\n",
      "\n",
      "2019-02-22 14:05:50,611 [daskperiment.core.code] [WARNING]      for i in range(100):\n",
      "2019-02-22 14:05:50,614 [daskperiment.core.code] [WARNING]          ex.save_metric('dummy_score', epoch=i, value=100 - np.random.random() * i)\n",
      "2019-02-22 14:05:50,618 [daskperiment.core.code] [WARNING]          \n",
      "2019-02-22 14:05:50,622 [daskperiment.core.code] [WARNING] -    return 10 / s\n",
      "2019-02-22 14:05:50,623 [daskperiment.core.code] [WARNING] +    return 10 / s + np.random.random()\n"
     ]
    }
   ],
   "source": [
    "@ex.result\n",
    "def calculate_score(s):\n",
    "    for i in range(100):\n",
    "        ex.save_metric('dummy_score', epoch=i, value=100 - np.random.random() * i)\n",
    "        \n",
    "    return 10 / s + np.random.random()\n",
    "\n",
    "d = prepare_data(a, b)\n",
    "s = calculate_score(d)"
   ]
  },
  {
   "cell_type": "markdown",
   "metadata": {},
   "source": [
    "Because of the code change, it outputs the different results even though its inputs (parameters) are unchanged. `daskperiment` shows the warning."
   ]
  },
  {
   "cell_type": "code",
   "execution_count": 30,
   "metadata": {
    "collapsed": false
   },
   "outputs": [
    {
     "name": "stderr",
     "output_type": "stream",
     "text": [
      "2019-02-22 14:05:50,640 [daskperiment.core.trial] [INFO] Started Experiment (trial id=8)\n",
      "2019-02-22 14:05:50,642 [daskperiment.core.experiment] [INFO] Target: calculate_score-5ab8a5ee-9a09-4827-9f29-6fb101f3fea6\n",
      "2019-02-22 14:05:50,643 [daskperiment.core.experiment] [INFO] Random seed is not provided, initialized with generated seed: 1246783546\n",
      "2019-02-22 14:05:50,645 [daskperiment.core.trial] [INFO] Parameters: a=3<class 'int'>, b=4<class 'int'>\n",
      "2019-02-22 14:05:50,647 [daskperiment.core.code] [INFO] Saving code context: daskperiment_cache/quickstart_pj/code/quickstart_pj_8.py\n",
      "2019-02-22 14:05:50,650 [daskperiment.core.environment] [INFO] Saving platform info: daskperiment_cache/quickstart_pj/environment/device_quickstart_pj_8.json\n",
      "2019-02-22 14:05:50,654 [daskperiment.core.environment] [INFO] Saving Python info: daskperiment_cache/quickstart_pj/environment/python_quickstart_pj_8.json\n",
      "2019-02-22 14:05:50,656 [daskperiment.core.environment] [INFO] Saving Git info: daskperiment_cache/quickstart_pj/environment/git_quickstart_pj_8.json\n",
      "2019-02-22 14:05:50,658 [daskperiment.core.environment] [INFO] Saving python packages: daskperiment_cache/quickstart_pj/environment/requirements_quickstart_pj_8.txt\n",
      "2019-02-22 14:05:50,669 [daskperiment.core.trial] [WARNING] Experiment step result is changed with the same input: (step: calculate_score, args: (7,), kwargs: {})\n",
      "2019-02-22 14:05:50,672 [daskperiment.core.trial] [INFO] Finished Experiment (trial id=8)\n",
      "2019-02-22 14:05:50,674 [daskperiment.backend.local] [INFO] Saving Experiment to file: daskperiment_cache/quickstart_pj/quickstart_pj.pkl\n"
     ]
    },
    {
     "data": {
      "text/plain": [
       "1.9132763740250618"
      ]
     },
     "execution_count": 30,
     "metadata": {},
     "output_type": "execute_result"
    }
   ],
   "source": [
    "s.compute()"
   ]
  },
  {
   "cell_type": "markdown",
   "metadata": {},
   "source": [
    "The function outputs different result in every trial because of the randomness.\n",
    "To make the function reproducible, random seed should be provided.\n",
    "\n",
    "To do this, pass `seed` argument to `compute` method. Note that this trial shows the warning because its result is changed comparing to the previous result (no seed)."
   ]
  },
  {
   "cell_type": "code",
   "execution_count": 31,
   "metadata": {
    "collapsed": false,
    "scrolled": true
   },
   "outputs": [
    {
     "name": "stderr",
     "output_type": "stream",
     "text": [
      "2019-02-22 14:05:50,730 [daskperiment.core.trial] [INFO] Started Experiment (trial id=9)\n",
      "2019-02-22 14:05:50,733 [daskperiment.core.experiment] [INFO] Target: calculate_score-5ab8a5ee-9a09-4827-9f29-6fb101f3fea6\n",
      "2019-02-22 14:05:50,735 [daskperiment.core.experiment] [INFO] Random seed is initialized with given seed: 1\n",
      "2019-02-22 14:05:50,738 [daskperiment.core.trial] [INFO] Parameters: a=3<class 'int'>, b=4<class 'int'>\n",
      "2019-02-22 14:05:50,739 [daskperiment.core.code] [INFO] Saving code context: daskperiment_cache/quickstart_pj/code/quickstart_pj_9.py\n",
      "2019-02-22 14:05:50,742 [daskperiment.core.environment] [INFO] Saving platform info: daskperiment_cache/quickstart_pj/environment/device_quickstart_pj_9.json\n",
      "2019-02-22 14:05:50,744 [daskperiment.core.environment] [INFO] Saving Python info: daskperiment_cache/quickstart_pj/environment/python_quickstart_pj_9.json\n",
      "2019-02-22 14:05:50,745 [daskperiment.core.environment] [INFO] Saving Git info: daskperiment_cache/quickstart_pj/environment/git_quickstart_pj_9.json\n",
      "2019-02-22 14:05:50,747 [daskperiment.core.environment] [INFO] Saving python packages: daskperiment_cache/quickstart_pj/environment/requirements_quickstart_pj_9.txt\n",
      "2019-02-22 14:05:50,752 [daskperiment.core.trial] [WARNING] Experiment step result is changed with the same input: (step: calculate_score, args: (7,), kwargs: {})\n",
      "2019-02-22 14:05:50,754 [daskperiment.core.trial] [INFO] Finished Experiment (trial id=9)\n",
      "2019-02-22 14:05:50,755 [daskperiment.backend.local] [INFO] Saving Experiment to file: daskperiment_cache/quickstart_pj/quickstart_pj.pkl\n"
     ]
    },
    {
     "data": {
      "text/plain": [
       "1.7552163303435249"
      ]
     },
     "execution_count": 31,
     "metadata": {},
     "output_type": "execute_result"
    }
   ],
   "source": [
    "s.compute(seed=1)"
   ]
  },
  {
   "cell_type": "markdown",
   "metadata": {},
   "source": [
    "Another trial with the same seed doesn't show the warning, because the result is unchanged."
   ]
  },
  {
   "cell_type": "code",
   "execution_count": 32,
   "metadata": {
    "collapsed": false
   },
   "outputs": [
    {
     "name": "stderr",
     "output_type": "stream",
     "text": [
      "2019-02-22 14:05:50,810 [daskperiment.core.trial] [INFO] Started Experiment (trial id=10)\n",
      "2019-02-22 14:05:50,813 [daskperiment.core.experiment] [INFO] Target: calculate_score-5ab8a5ee-9a09-4827-9f29-6fb101f3fea6\n",
      "2019-02-22 14:05:50,816 [daskperiment.core.experiment] [INFO] Random seed is initialized with given seed: 1\n",
      "2019-02-22 14:05:50,820 [daskperiment.core.trial] [INFO] Parameters: a=3<class 'int'>, b=4<class 'int'>\n",
      "2019-02-22 14:05:50,825 [daskperiment.core.code] [INFO] Saving code context: daskperiment_cache/quickstart_pj/code/quickstart_pj_10.py\n",
      "2019-02-22 14:05:50,829 [daskperiment.core.environment] [INFO] Saving platform info: daskperiment_cache/quickstart_pj/environment/device_quickstart_pj_10.json\n",
      "2019-02-22 14:05:50,831 [daskperiment.core.environment] [INFO] Saving Python info: daskperiment_cache/quickstart_pj/environment/python_quickstart_pj_10.json\n",
      "2019-02-22 14:05:50,834 [daskperiment.core.environment] [INFO] Saving Git info: daskperiment_cache/quickstart_pj/environment/git_quickstart_pj_10.json\n",
      "2019-02-22 14:05:50,837 [daskperiment.core.environment] [INFO] Saving python packages: daskperiment_cache/quickstart_pj/environment/requirements_quickstart_pj_10.txt\n",
      "2019-02-22 14:05:50,843 [daskperiment.core.trial] [INFO] Finished Experiment (trial id=10)\n",
      "2019-02-22 14:05:50,844 [daskperiment.backend.local] [INFO] Saving Experiment to file: daskperiment_cache/quickstart_pj/quickstart_pj.pkl\n"
     ]
    },
    {
     "data": {
      "text/plain": [
       "1.7552163303435249"
      ]
     },
     "execution_count": 32,
     "metadata": {},
     "output_type": "execute_result"
    }
   ],
   "source": [
    "s.compute(seed=1)"
   ]
  },
  {
   "cell_type": "markdown",
   "metadata": {},
   "source": [
    "Calling `Experiment.get_history` specifying `verbose=True` returns detailed info including seed value per trials."
   ]
  },
  {
   "cell_type": "code",
   "execution_count": 33,
   "metadata": {
    "collapsed": false
   },
   "outputs": [
    {
     "data": {
      "text/html": [
       "<div>\n",
       "<style scoped>\n",
       "    .dataframe tbody tr th:only-of-type {\n",
       "        vertical-align: middle;\n",
       "    }\n",
       "\n",
       "    .dataframe tbody tr th {\n",
       "        vertical-align: top;\n",
       "    }\n",
       "\n",
       "    .dataframe thead th {\n",
       "        text-align: right;\n",
       "    }\n",
       "</style>\n",
       "<table border=\"1\" class=\"dataframe\">\n",
       "  <thead>\n",
       "    <tr style=\"text-align: right;\">\n",
       "      <th></th>\n",
       "      <th>a</th>\n",
       "      <th>b</th>\n",
       "      <th>Seed</th>\n",
       "      <th>Result</th>\n",
       "      <th>Result Type</th>\n",
       "      <th>Success</th>\n",
       "      <th>Finished</th>\n",
       "      <th>Process Time</th>\n",
       "      <th>Description</th>\n",
       "    </tr>\n",
       "    <tr>\n",
       "      <th>Trial ID</th>\n",
       "      <th></th>\n",
       "      <th></th>\n",
       "      <th></th>\n",
       "      <th></th>\n",
       "      <th></th>\n",
       "      <th></th>\n",
       "      <th></th>\n",
       "      <th></th>\n",
       "      <th></th>\n",
       "    </tr>\n",
       "  </thead>\n",
       "  <tbody>\n",
       "    <tr>\n",
       "      <th>1</th>\n",
       "      <td>1</td>\n",
       "      <td>2</td>\n",
       "      <td>3280295347</td>\n",
       "      <td>3.333333</td>\n",
       "      <td>&lt;class 'float'&gt;</td>\n",
       "      <td>True</td>\n",
       "      <td>2019-02-22 14:05:48.510193</td>\n",
       "      <td>00:00:00.024739</td>\n",
       "      <td>NaN</td>\n",
       "    </tr>\n",
       "    <tr>\n",
       "      <th>2</th>\n",
       "      <td>1</td>\n",
       "      <td>3</td>\n",
       "      <td>225128864</td>\n",
       "      <td>2.500000</td>\n",
       "      <td>&lt;class 'float'&gt;</td>\n",
       "      <td>True</td>\n",
       "      <td>2019-02-22 14:05:48.602198</td>\n",
       "      <td>00:00:00.064431</td>\n",
       "      <td>NaN</td>\n",
       "    </tr>\n",
       "    <tr>\n",
       "      <th>3</th>\n",
       "      <td>1</td>\n",
       "      <td>-1</td>\n",
       "      <td>1428381994</td>\n",
       "      <td>NaN</td>\n",
       "      <td>None</td>\n",
       "      <td>False</td>\n",
       "      <td>2019-02-22 14:05:48.958260</td>\n",
       "      <td>00:00:00.032536</td>\n",
       "      <td>ZeroDivisionError(division by zero)</td>\n",
       "    </tr>\n",
       "    <tr>\n",
       "      <th>4</th>\n",
       "      <td>1</td>\n",
       "      <td>2</td>\n",
       "      <td>907307153</td>\n",
       "      <td>3.333333</td>\n",
       "      <td>&lt;class 'float'&gt;</td>\n",
       "      <td>True</td>\n",
       "      <td>2019-02-22 14:05:49.141520</td>\n",
       "      <td>00:00:00.028570</td>\n",
       "      <td>NaN</td>\n",
       "    </tr>\n",
       "    <tr>\n",
       "      <th>5</th>\n",
       "      <td>3</td>\n",
       "      <td>2</td>\n",
       "      <td>3200913301</td>\n",
       "      <td>2.000000</td>\n",
       "      <td>&lt;class 'float'&gt;</td>\n",
       "      <td>True</td>\n",
       "      <td>2019-02-22 14:05:49.220449</td>\n",
       "      <td>00:00:00.050808</td>\n",
       "      <td>NaN</td>\n",
       "    </tr>\n",
       "    <tr>\n",
       "      <th>6</th>\n",
       "      <td>1</td>\n",
       "      <td>2</td>\n",
       "      <td>2878592973</td>\n",
       "      <td>3.333333</td>\n",
       "      <td>&lt;class 'float'&gt;</td>\n",
       "      <td>True</td>\n",
       "      <td>2019-02-22 14:05:49.369387</td>\n",
       "      <td>00:00:00.040458</td>\n",
       "      <td>NaN</td>\n",
       "    </tr>\n",
       "    <tr>\n",
       "      <th>7</th>\n",
       "      <td>3</td>\n",
       "      <td>4</td>\n",
       "      <td>3714455186</td>\n",
       "      <td>1.428571</td>\n",
       "      <td>&lt;class 'float'&gt;</td>\n",
       "      <td>True</td>\n",
       "      <td>2019-02-22 14:05:49.928481</td>\n",
       "      <td>00:00:00.030314</td>\n",
       "      <td>NaN</td>\n",
       "    </tr>\n",
       "    <tr>\n",
       "      <th>8</th>\n",
       "      <td>3</td>\n",
       "      <td>4</td>\n",
       "      <td>1246783546</td>\n",
       "      <td>1.913276</td>\n",
       "      <td>&lt;class 'float'&gt;</td>\n",
       "      <td>True</td>\n",
       "      <td>2019-02-22 14:05:50.671853</td>\n",
       "      <td>00:00:00.031534</td>\n",
       "      <td>NaN</td>\n",
       "    </tr>\n",
       "    <tr>\n",
       "      <th>9</th>\n",
       "      <td>3</td>\n",
       "      <td>4</td>\n",
       "      <td>1</td>\n",
       "      <td>1.755216</td>\n",
       "      <td>&lt;class 'float'&gt;</td>\n",
       "      <td>True</td>\n",
       "      <td>2019-02-22 14:05:50.754142</td>\n",
       "      <td>00:00:00.023988</td>\n",
       "      <td>NaN</td>\n",
       "    </tr>\n",
       "    <tr>\n",
       "      <th>10</th>\n",
       "      <td>3</td>\n",
       "      <td>4</td>\n",
       "      <td>1</td>\n",
       "      <td>1.755216</td>\n",
       "      <td>&lt;class 'float'&gt;</td>\n",
       "      <td>True</td>\n",
       "      <td>2019-02-22 14:05:50.843127</td>\n",
       "      <td>00:00:00.032265</td>\n",
       "      <td>NaN</td>\n",
       "    </tr>\n",
       "  </tbody>\n",
       "</table>\n",
       "</div>"
      ],
      "text/plain": [
       "          a  b        Seed    Result      Result Type  Success  \\\n",
       "Trial ID                                                         \n",
       "1         1  2  3280295347  3.333333  <class 'float'>     True   \n",
       "2         1  3   225128864  2.500000  <class 'float'>     True   \n",
       "3         1 -1  1428381994       NaN             None    False   \n",
       "4         1  2   907307153  3.333333  <class 'float'>     True   \n",
       "5         3  2  3200913301  2.000000  <class 'float'>     True   \n",
       "6         1  2  2878592973  3.333333  <class 'float'>     True   \n",
       "7         3  4  3714455186  1.428571  <class 'float'>     True   \n",
       "8         3  4  1246783546  1.913276  <class 'float'>     True   \n",
       "9         3  4           1  1.755216  <class 'float'>     True   \n",
       "10        3  4           1  1.755216  <class 'float'>     True   \n",
       "\n",
       "                           Finished    Process Time  \\\n",
       "Trial ID                                              \n",
       "1        2019-02-22 14:05:48.510193 00:00:00.024739   \n",
       "2        2019-02-22 14:05:48.602198 00:00:00.064431   \n",
       "3        2019-02-22 14:05:48.958260 00:00:00.032536   \n",
       "4        2019-02-22 14:05:49.141520 00:00:00.028570   \n",
       "5        2019-02-22 14:05:49.220449 00:00:00.050808   \n",
       "6        2019-02-22 14:05:49.369387 00:00:00.040458   \n",
       "7        2019-02-22 14:05:49.928481 00:00:00.030314   \n",
       "8        2019-02-22 14:05:50.671853 00:00:00.031534   \n",
       "9        2019-02-22 14:05:50.754142 00:00:00.023988   \n",
       "10       2019-02-22 14:05:50.843127 00:00:00.032265   \n",
       "\n",
       "                                  Description  \n",
       "Trial ID                                       \n",
       "1                                         NaN  \n",
       "2                                         NaN  \n",
       "3         ZeroDivisionError(division by zero)  \n",
       "4                                         NaN  \n",
       "5                                         NaN  \n",
       "6                                         NaN  \n",
       "7                                         NaN  \n",
       "8                                         NaN  \n",
       "9                                         NaN  \n",
       "10                                        NaN  "
      ]
     },
     "execution_count": 33,
     "metadata": {},
     "output_type": "execute_result"
    }
   ],
   "source": [
    "ex.get_history(verbose=True)"
   ]
  },
  {
   "cell_type": "markdown",
   "metadata": {},
   "source": [
    "# Save experiment result\n",
    "\n",
    "`daskperiment` automatically saves its internal state when the experiment result is computed (when `.compute` is called). Also, `Experiment` instance automatically recover previous state when it is instanciated.\n",
    "\n",
    "Following example instanciates `Experiment` instance using the same id as above. Thus, the created `Experiment` automatically recovers its state. "
   ]
  },
  {
   "cell_type": "code",
   "execution_count": 34,
   "metadata": {
    "collapsed": false
   },
   "outputs": [
    {
     "name": "stderr",
     "output_type": "stream",
     "text": [
      "2019-02-22 14:05:50,944 [daskperiment.backend.local] [INFO] Loading Experiment from file: daskperiment_cache/quickstart_pj/quickstart_pj.pkl\n",
      "2019-02-22 14:05:50,949 [daskperiment.core.experiment] [INFO] Loaded existing experiment: Experiment(id: quickstart_pj, trial_id: 10, backend: LocalBackend('daskperiment_cache/quickstart_pj'))\n",
      "2019-02-22 14:05:50,974 [daskperiment.core.environment] [INFO] Platform Information: Darwin-17.7.0-x86_64-i386-64bit\n",
      "2019-02-22 14:05:50,978 [daskperiment.core.environment] [INFO] Device CPU Count: 4\n",
      "2019-02-22 14:05:50,979 [daskperiment.core.environment] [INFO] Python Implementation: CPython\n",
      "2019-02-22 14:05:50,982 [daskperiment.core.environment] [INFO] Python Version: 3.6.6\n",
      "2019-02-22 14:05:50,985 [daskperiment.core.environment] [INFO] Python Shell Mode: Jupyter Notebook\n",
      "2019-02-22 14:05:50,987 [daskperiment.core.environment] [INFO] Daskperiment Version: 0.3.0\n",
      "2019-02-22 14:05:50,990 [daskperiment.core.environment] [INFO] Daskperiment Path: /Users/sinhrks/Git/daskperiment/daskperiment\n",
      "2019-02-22 14:05:50,992 [daskperiment.core.environment] [INFO] Working Directory: /Users/sinhrks/Git/daskperiment/notebook\n",
      "2019-02-22 14:05:50,993 [daskperiment.core.environment] [INFO] Git Repository: /Users/sinhrks/Git/daskperiment\n",
      "2019-02-22 14:05:50,994 [daskperiment.core.environment] [INFO] Git Active Branch: master\n",
      "2019-02-22 14:05:50,997 [daskperiment.core.environment] [INFO] Git HEAD Commit: 3c3b324cfc81d79b7433cef4443d1a5f83c40143\n",
      "2019-02-22 14:05:50,999 [daskperiment.core.environment] [INFO] Number of installed Python packages: 5949\n"
     ]
    }
   ],
   "source": [
    "ex_new = daskperiment.Experiment(id='quickstart_pj')"
   ]
  },
  {
   "cell_type": "markdown",
   "metadata": {},
   "source": [
    "Calling `.get_history` returns information of previous trials."
   ]
  },
  {
   "cell_type": "code",
   "execution_count": 35,
   "metadata": {
    "collapsed": false
   },
   "outputs": [
    {
     "data": {
      "text/html": [
       "<div>\n",
       "<style scoped>\n",
       "    .dataframe tbody tr th:only-of-type {\n",
       "        vertical-align: middle;\n",
       "    }\n",
       "\n",
       "    .dataframe tbody tr th {\n",
       "        vertical-align: top;\n",
       "    }\n",
       "\n",
       "    .dataframe thead th {\n",
       "        text-align: right;\n",
       "    }\n",
       "</style>\n",
       "<table border=\"1\" class=\"dataframe\">\n",
       "  <thead>\n",
       "    <tr style=\"text-align: right;\">\n",
       "      <th></th>\n",
       "      <th>a</th>\n",
       "      <th>b</th>\n",
       "      <th>Result</th>\n",
       "      <th>Success</th>\n",
       "      <th>Finished</th>\n",
       "      <th>Process Time</th>\n",
       "      <th>Description</th>\n",
       "    </tr>\n",
       "    <tr>\n",
       "      <th>Trial ID</th>\n",
       "      <th></th>\n",
       "      <th></th>\n",
       "      <th></th>\n",
       "      <th></th>\n",
       "      <th></th>\n",
       "      <th></th>\n",
       "      <th></th>\n",
       "    </tr>\n",
       "  </thead>\n",
       "  <tbody>\n",
       "    <tr>\n",
       "      <th>1</th>\n",
       "      <td>1</td>\n",
       "      <td>2</td>\n",
       "      <td>3.333333</td>\n",
       "      <td>True</td>\n",
       "      <td>2019-02-22 14:05:48.510193</td>\n",
       "      <td>00:00:00.024739</td>\n",
       "      <td>NaN</td>\n",
       "    </tr>\n",
       "    <tr>\n",
       "      <th>2</th>\n",
       "      <td>1</td>\n",
       "      <td>3</td>\n",
       "      <td>2.500000</td>\n",
       "      <td>True</td>\n",
       "      <td>2019-02-22 14:05:48.602198</td>\n",
       "      <td>00:00:00.064431</td>\n",
       "      <td>NaN</td>\n",
       "    </tr>\n",
       "    <tr>\n",
       "      <th>3</th>\n",
       "      <td>1</td>\n",
       "      <td>-1</td>\n",
       "      <td>NaN</td>\n",
       "      <td>False</td>\n",
       "      <td>2019-02-22 14:05:48.958260</td>\n",
       "      <td>00:00:00.032536</td>\n",
       "      <td>ZeroDivisionError(division by zero)</td>\n",
       "    </tr>\n",
       "    <tr>\n",
       "      <th>4</th>\n",
       "      <td>1</td>\n",
       "      <td>2</td>\n",
       "      <td>3.333333</td>\n",
       "      <td>True</td>\n",
       "      <td>2019-02-22 14:05:49.141520</td>\n",
       "      <td>00:00:00.028570</td>\n",
       "      <td>NaN</td>\n",
       "    </tr>\n",
       "    <tr>\n",
       "      <th>5</th>\n",
       "      <td>3</td>\n",
       "      <td>2</td>\n",
       "      <td>2.000000</td>\n",
       "      <td>True</td>\n",
       "      <td>2019-02-22 14:05:49.220449</td>\n",
       "      <td>00:00:00.050808</td>\n",
       "      <td>NaN</td>\n",
       "    </tr>\n",
       "    <tr>\n",
       "      <th>6</th>\n",
       "      <td>1</td>\n",
       "      <td>2</td>\n",
       "      <td>3.333333</td>\n",
       "      <td>True</td>\n",
       "      <td>2019-02-22 14:05:49.369387</td>\n",
       "      <td>00:00:00.040458</td>\n",
       "      <td>NaN</td>\n",
       "    </tr>\n",
       "    <tr>\n",
       "      <th>7</th>\n",
       "      <td>3</td>\n",
       "      <td>4</td>\n",
       "      <td>1.428571</td>\n",
       "      <td>True</td>\n",
       "      <td>2019-02-22 14:05:49.928481</td>\n",
       "      <td>00:00:00.030314</td>\n",
       "      <td>NaN</td>\n",
       "    </tr>\n",
       "    <tr>\n",
       "      <th>8</th>\n",
       "      <td>3</td>\n",
       "      <td>4</td>\n",
       "      <td>1.913276</td>\n",
       "      <td>True</td>\n",
       "      <td>2019-02-22 14:05:50.671853</td>\n",
       "      <td>00:00:00.031534</td>\n",
       "      <td>NaN</td>\n",
       "    </tr>\n",
       "    <tr>\n",
       "      <th>9</th>\n",
       "      <td>3</td>\n",
       "      <td>4</td>\n",
       "      <td>1.755216</td>\n",
       "      <td>True</td>\n",
       "      <td>2019-02-22 14:05:50.754142</td>\n",
       "      <td>00:00:00.023988</td>\n",
       "      <td>NaN</td>\n",
       "    </tr>\n",
       "    <tr>\n",
       "      <th>10</th>\n",
       "      <td>3</td>\n",
       "      <td>4</td>\n",
       "      <td>1.755216</td>\n",
       "      <td>True</td>\n",
       "      <td>2019-02-22 14:05:50.843127</td>\n",
       "      <td>00:00:00.032265</td>\n",
       "      <td>NaN</td>\n",
       "    </tr>\n",
       "  </tbody>\n",
       "</table>\n",
       "</div>"
      ],
      "text/plain": [
       "          a  b    Result  Success                   Finished    Process Time  \\\n",
       "Trial ID                                                                       \n",
       "1         1  2  3.333333     True 2019-02-22 14:05:48.510193 00:00:00.024739   \n",
       "2         1  3  2.500000     True 2019-02-22 14:05:48.602198 00:00:00.064431   \n",
       "3         1 -1       NaN    False 2019-02-22 14:05:48.958260 00:00:00.032536   \n",
       "4         1  2  3.333333     True 2019-02-22 14:05:49.141520 00:00:00.028570   \n",
       "5         3  2  2.000000     True 2019-02-22 14:05:49.220449 00:00:00.050808   \n",
       "6         1  2  3.333333     True 2019-02-22 14:05:49.369387 00:00:00.040458   \n",
       "7         3  4  1.428571     True 2019-02-22 14:05:49.928481 00:00:00.030314   \n",
       "8         3  4  1.913276     True 2019-02-22 14:05:50.671853 00:00:00.031534   \n",
       "9         3  4  1.755216     True 2019-02-22 14:05:50.754142 00:00:00.023988   \n",
       "10        3  4  1.755216     True 2019-02-22 14:05:50.843127 00:00:00.032265   \n",
       "\n",
       "                                  Description  \n",
       "Trial ID                                       \n",
       "1                                         NaN  \n",
       "2                                         NaN  \n",
       "3         ZeroDivisionError(division by zero)  \n",
       "4                                         NaN  \n",
       "5                                         NaN  \n",
       "6                                         NaN  \n",
       "7                                         NaN  \n",
       "8                                         NaN  \n",
       "9                                         NaN  \n",
       "10                                        NaN  "
      ]
     },
     "execution_count": 35,
     "metadata": {},
     "output_type": "execute_result"
    }
   ],
   "source": [
    "ex_new.get_history()"
   ]
  },
  {
   "cell_type": "markdown",
   "metadata": {},
   "source": [
    "Also, `Experiment` instance automatically detects the environment change from its previous trial. Following is a sample log when package update is detected (pandas 0.23.4 -> 0.24.0).\n",
    "\n",
    "    2019-01-29 00:22:35,357 [daskperiment.io.serialize] [INFO] Loaded Experiment(id: quickstart_pj, trial_id: 14) from path=daskperiment_cache/quickstart_pj/quickstart_pj.pkl\n",
    "    2019-01-29 00:22:35,404 [daskperiment.core.environment] [WARNING] Installed Python packages have been changed\n",
    "    2019-01-29 00:22:35,408 [daskperiment.core.environment] [WARNING] @@ -142 +142 @@\n",
    "    2019-01-29 00:22:35,411 [daskperiment.core.environment] [WARNING] -pandas 0.23.4 (/Users/sinhrks/anaconda/lib/python3.6/site-packages)\n",
    "    2019-01-29 00:22:35,412 [daskperiment.core.environment] [WARNING] +pandas 0.24.0 (/Users/sinhrks/anaconda/lib/python3.6/site-packages)"
   ]
  },
  {
   "cell_type": "markdown",
   "metadata": {
    "collapsed": true
   },
   "source": [
    "# Run as CLI\n",
    "\n",
    "`daskperiment` also supports execution from command line. First, prepare a `Python` script to define experiment. The usage of `Experiment` class is all the same as Jupyter example. `daskperiment` regards a result of a function decorated with `Experiment.result` (`calculate_score` function in below case) as experiment output."
   ]
  },
  {
   "cell_type": "code",
   "execution_count": 36,
   "metadata": {
    "collapsed": false
   },
   "outputs": [
    {
     "name": "stdout",
     "output_type": "stream",
     "text": [
      "import daskperiment\r\n",
      "\r\n",
      "ex = daskperiment.Experiment(id='simple_experiment_pj')\r\n",
      "\r\n",
      "a = ex.parameter('a')\r\n",
      "b = ex.parameter('b')\r\n",
      "\r\n",
      "\r\n",
      "@ex\r\n",
      "def prepare_data(a, b):\r\n",
      "    return a + b\r\n",
      "\r\n",
      "\r\n",
      "@ex.result\r\n",
      "def calculate_score(s):\r\n",
      "    return s + 1\r\n",
      "\r\n",
      "\r\n",
      "d = prepare_data(a, b)\r\n",
      "calculate_score(d)\r\n"
     ]
    }
   ],
   "source": [
    "%cat ../scripts/simple_experiment.py"
   ]
  },
  {
   "cell_type": "markdown",
   "metadata": {},
   "source": [
    "You can provide parameter values from command line options using `key=value` format. `daskperinemt` automatically parse parameters and perform computation."
   ]
  },
  {
   "cell_type": "code",
   "execution_count": 37,
   "metadata": {
    "collapsed": false
   },
   "outputs": [
    {
     "name": "stdout",
     "output_type": "stream",
     "text": [
      "2019-02-22 14:05:52,093 [daskperiment.core.experiment] [INFO] Initialized new experiment: Experiment(id: simple_experiment_pj, trial_id: 0, backend: LocalBackend('daskperiment_cache/simple_experiment_pj'))\n",
      "2019-02-22 14:05:52,560 [daskperiment.core.environment] [INFO] Platform Information: Darwin-17.7.0-x86_64-i386-64bit\n",
      "2019-02-22 14:05:52,560 [daskperiment.core.environment] [INFO] Device CPU Count: 4\n",
      "2019-02-22 14:05:52,560 [daskperiment.core.environment] [INFO] Python Implementation: CPython\n",
      "2019-02-22 14:05:52,560 [daskperiment.core.environment] [INFO] Python Version: 3.6.6\n",
      "2019-02-22 14:05:52,560 [daskperiment.core.environment] [INFO] Python Shell Mode: File\n",
      "2019-02-22 14:05:52,560 [daskperiment.core.environment] [INFO] Daskperiment Version: 0.3.0\n",
      "2019-02-22 14:05:52,560 [daskperiment.core.environment] [INFO] Daskperiment Path: /Users/sinhrks/Git/daskperiment/daskperiment\n",
      "2019-02-22 14:05:52,560 [daskperiment.core.environment] [INFO] Working Directory: /Users/sinhrks/Git/daskperiment/notebook\n",
      "2019-02-22 14:05:52,560 [daskperiment.core.environment] [INFO] Git Repository: /Users/sinhrks/Git/daskperiment\n",
      "2019-02-22 14:05:52,561 [daskperiment.core.environment] [INFO] Git Active Branch: master\n",
      "2019-02-22 14:05:52,561 [daskperiment.core.environment] [INFO] Git HEAD Commit: 3c3b324cfc81d79b7433cef4443d1a5f83c40143\n",
      "2019-02-22 14:05:52,561 [daskperiment.core.environment] [INFO] Number of installed Python packages: 5949\n",
      "2019-02-22 14:05:52,569 [daskperiment.core.parameter] [INFO] Updated parameters: a=1<class 'int'>, b=2<class 'int'>\n",
      "2019-02-22 14:05:52,569 [daskperiment.core.trial] [INFO] Started Experiment (trial id=1)\n",
      "2019-02-22 14:05:52,569 [daskperiment.core.experiment] [INFO] Target: calculate_score-882a53f0-03e5-41ea-a74b-e7e872c8612a\n",
      "2019-02-22 14:05:52,569 [daskperiment.core.experiment] [INFO] Random seed is not provided, initialized with generated seed: 3857775911\n",
      "2019-02-22 14:05:52,570 [daskperiment.core.trial] [INFO] Parameters: a=1<class 'int'>, b=2<class 'int'>\n",
      "2019-02-22 14:05:52,570 [daskperiment.core.code] [INFO] Saving code context: daskperiment_cache/simple_experiment_pj/code/simple_experiment_pj_1.py\n",
      "2019-02-22 14:05:52,571 [daskperiment.core.environment] [INFO] Saving platform info: daskperiment_cache/simple_experiment_pj/environment/device_simple_experiment_pj_1.json\n",
      "2019-02-22 14:05:52,571 [daskperiment.core.environment] [INFO] Saving Python info: daskperiment_cache/simple_experiment_pj/environment/python_simple_experiment_pj_1.json\n",
      "2019-02-22 14:05:52,572 [daskperiment.core.environment] [INFO] Saving Git info: daskperiment_cache/simple_experiment_pj/environment/git_simple_experiment_pj_1.json\n",
      "2019-02-22 14:05:52,573 [daskperiment.core.environment] [INFO] Saving python packages: daskperiment_cache/simple_experiment_pj/environment/requirements_simple_experiment_pj_1.txt\n",
      "2019-02-22 14:05:52,577 [daskperiment.core.trial] [INFO] Finished Experiment (trial id=1)\n",
      "2019-02-22 14:05:52,577 [daskperiment.backend.local] [INFO] Saving Experiment to file: daskperiment_cache/simple_experiment_pj/simple_experiment_pj.pkl\n"
     ]
    }
   ],
   "source": [
    "!python ../scripts/simple_experiment.py a=1 b=2"
   ]
  },
  {
   "cell_type": "markdown",
   "metadata": {},
   "source": [
    "Let's perform multiple trials using different parameters. `daskperiment` automatically saves trial history as the same as Jupyter example (see trial id is incremented)."
   ]
  },
  {
   "cell_type": "code",
   "execution_count": 38,
   "metadata": {
    "collapsed": false
   },
   "outputs": [
    {
     "name": "stdout",
     "output_type": "stream",
     "text": [
      "2019-02-22 14:05:53,600 [daskperiment.backend.local] [INFO] Loading Experiment from file: daskperiment_cache/simple_experiment_pj/simple_experiment_pj.pkl\n",
      "2019-02-22 14:05:53,600 [daskperiment.core.experiment] [INFO] Loaded existing experiment: Experiment(id: simple_experiment_pj, trial_id: 1, backend: LocalBackend('daskperiment_cache/simple_experiment_pj'))\n",
      "2019-02-22 14:05:54,110 [daskperiment.core.environment] [INFO] Platform Information: Darwin-17.7.0-x86_64-i386-64bit\n",
      "2019-02-22 14:05:54,110 [daskperiment.core.environment] [INFO] Device CPU Count: 4\n",
      "2019-02-22 14:05:54,110 [daskperiment.core.environment] [INFO] Python Implementation: CPython\n",
      "2019-02-22 14:05:54,111 [daskperiment.core.environment] [INFO] Python Version: 3.6.6\n",
      "2019-02-22 14:05:54,111 [daskperiment.core.environment] [INFO] Python Shell Mode: File\n",
      "2019-02-22 14:05:54,111 [daskperiment.core.environment] [INFO] Daskperiment Version: 0.3.0\n",
      "2019-02-22 14:05:54,111 [daskperiment.core.environment] [INFO] Daskperiment Path: /Users/sinhrks/Git/daskperiment/daskperiment\n",
      "2019-02-22 14:05:54,111 [daskperiment.core.environment] [INFO] Working Directory: /Users/sinhrks/Git/daskperiment/notebook\n",
      "2019-02-22 14:05:54,111 [daskperiment.core.environment] [INFO] Git Repository: /Users/sinhrks/Git/daskperiment\n",
      "2019-02-22 14:05:54,111 [daskperiment.core.environment] [INFO] Git Active Branch: master\n",
      "2019-02-22 14:05:54,111 [daskperiment.core.environment] [INFO] Git HEAD Commit: 3c3b324cfc81d79b7433cef4443d1a5f83c40143\n",
      "2019-02-22 14:05:54,111 [daskperiment.core.environment] [INFO] Number of installed Python packages: 5949\n",
      "2019-02-22 14:05:54,121 [daskperiment.core.parameter] [INFO] Updated parameters: a=3<class 'int'>, b=2<class 'int'>\n",
      "2019-02-22 14:05:54,121 [daskperiment.core.trial] [INFO] Started Experiment (trial id=2)\n",
      "2019-02-22 14:05:54,121 [daskperiment.core.experiment] [INFO] Target: calculate_score-72cc4c82-84d4-4c73-8696-12fe70141363\n",
      "2019-02-22 14:05:54,121 [daskperiment.core.experiment] [INFO] Random seed is not provided, initialized with generated seed: 2713252763\n",
      "2019-02-22 14:05:54,121 [daskperiment.core.trial] [INFO] Parameters: a=3<class 'int'>, b=2<class 'int'>\n",
      "2019-02-22 14:05:54,121 [daskperiment.core.code] [INFO] Saving code context: daskperiment_cache/simple_experiment_pj/code/simple_experiment_pj_2.py\n",
      "2019-02-22 14:05:54,122 [daskperiment.core.environment] [INFO] Saving platform info: daskperiment_cache/simple_experiment_pj/environment/device_simple_experiment_pj_2.json\n",
      "2019-02-22 14:05:54,123 [daskperiment.core.environment] [INFO] Saving Python info: daskperiment_cache/simple_experiment_pj/environment/python_simple_experiment_pj_2.json\n",
      "2019-02-22 14:05:54,123 [daskperiment.core.environment] [INFO] Saving Git info: daskperiment_cache/simple_experiment_pj/environment/git_simple_experiment_pj_2.json\n",
      "2019-02-22 14:05:54,124 [daskperiment.core.environment] [INFO] Saving python packages: daskperiment_cache/simple_experiment_pj/environment/requirements_simple_experiment_pj_2.txt\n",
      "2019-02-22 14:05:54,128 [daskperiment.core.trial] [INFO] Finished Experiment (trial id=2)\n",
      "2019-02-22 14:05:54,128 [daskperiment.backend.local] [INFO] Saving Experiment to file: daskperiment_cache/simple_experiment_pj/simple_experiment_pj.pkl\n"
     ]
    }
   ],
   "source": [
    "!python ../scripts/simple_experiment.py a=3 b=2"
   ]
  },
  {
   "cell_type": "markdown",
   "metadata": {},
   "source": [
    "To confirm the experiment results, instanciate Experiment specifying the same id as the script and use Experiment.get_history."
   ]
  },
  {
   "cell_type": "code",
   "execution_count": 39,
   "metadata": {
    "collapsed": false
   },
   "outputs": [
    {
     "name": "stderr",
     "output_type": "stream",
     "text": [
      "2019-02-22 14:05:54,497 [daskperiment.backend.local] [INFO] Loading Experiment from file: daskperiment_cache/simple_experiment_pj/simple_experiment_pj.pkl\n",
      "2019-02-22 14:05:54,500 [daskperiment.core.experiment] [INFO] Loaded existing experiment: Experiment(id: simple_experiment_pj, trial_id: 2, backend: LocalBackend('daskperiment_cache/simple_experiment_pj'))\n",
      "2019-02-22 14:05:54,539 [daskperiment.core.environment] [INFO] Platform Information: Darwin-17.7.0-x86_64-i386-64bit\n",
      "2019-02-22 14:05:54,546 [daskperiment.core.environment] [INFO] Device CPU Count: 4\n",
      "2019-02-22 14:05:54,548 [daskperiment.core.environment] [INFO] Python Implementation: CPython\n",
      "2019-02-22 14:05:54,552 [daskperiment.core.environment] [INFO] Python Version: 3.6.6\n",
      "2019-02-22 14:05:54,554 [daskperiment.core.environment] [INFO] Python Shell Mode: Jupyter Notebook\n",
      "2019-02-22 14:05:54,556 [daskperiment.core.environment] [INFO] Daskperiment Version: 0.3.0\n",
      "2019-02-22 14:05:54,558 [daskperiment.core.environment] [INFO] Daskperiment Path: /Users/sinhrks/Git/daskperiment/daskperiment\n",
      "2019-02-22 14:05:54,559 [daskperiment.core.environment] [INFO] Working Directory: /Users/sinhrks/Git/daskperiment/notebook\n",
      "2019-02-22 14:05:54,561 [daskperiment.core.environment] [INFO] Git Repository: /Users/sinhrks/Git/daskperiment\n",
      "2019-02-22 14:05:54,562 [daskperiment.core.environment] [INFO] Git Active Branch: master\n",
      "2019-02-22 14:05:54,563 [daskperiment.core.environment] [INFO] Git HEAD Commit: 3c3b324cfc81d79b7433cef4443d1a5f83c40143\n",
      "2019-02-22 14:05:54,565 [daskperiment.core.environment] [INFO] Number of installed Python packages: 5949\n",
      "2019-02-22 14:05:54,570 [daskperiment.core.environment] [WARNING] Environment has been changed\n",
      "2019-02-22 14:05:54,572 [daskperiment.core.environment] [WARNING] @@ -5 +5 @@\n",
      "\n",
      "2019-02-22 14:05:54,575 [daskperiment.core.environment] [WARNING] -Python Shell Mode: File\n",
      "2019-02-22 14:05:54,577 [daskperiment.core.environment] [WARNING] +Python Shell Mode: Jupyter Notebook\n"
     ]
    },
    {
     "data": {
      "text/html": [
       "<div>\n",
       "<style scoped>\n",
       "    .dataframe tbody tr th:only-of-type {\n",
       "        vertical-align: middle;\n",
       "    }\n",
       "\n",
       "    .dataframe tbody tr th {\n",
       "        vertical-align: top;\n",
       "    }\n",
       "\n",
       "    .dataframe thead th {\n",
       "        text-align: right;\n",
       "    }\n",
       "</style>\n",
       "<table border=\"1\" class=\"dataframe\">\n",
       "  <thead>\n",
       "    <tr style=\"text-align: right;\">\n",
       "      <th></th>\n",
       "      <th>a</th>\n",
       "      <th>b</th>\n",
       "      <th>Result</th>\n",
       "      <th>Success</th>\n",
       "      <th>Finished</th>\n",
       "      <th>Process Time</th>\n",
       "      <th>Description</th>\n",
       "    </tr>\n",
       "    <tr>\n",
       "      <th>Trial ID</th>\n",
       "      <th></th>\n",
       "      <th></th>\n",
       "      <th></th>\n",
       "      <th></th>\n",
       "      <th></th>\n",
       "      <th></th>\n",
       "      <th></th>\n",
       "    </tr>\n",
       "  </thead>\n",
       "  <tbody>\n",
       "    <tr>\n",
       "      <th>1</th>\n",
       "      <td>1</td>\n",
       "      <td>2</td>\n",
       "      <td>4</td>\n",
       "      <td>True</td>\n",
       "      <td>2019-02-22 14:05:52.577548</td>\n",
       "      <td>00:00:00.008051</td>\n",
       "      <td>NaN</td>\n",
       "    </tr>\n",
       "    <tr>\n",
       "      <th>2</th>\n",
       "      <td>3</td>\n",
       "      <td>2</td>\n",
       "      <td>6</td>\n",
       "      <td>True</td>\n",
       "      <td>2019-02-22 14:05:54.128597</td>\n",
       "      <td>00:00:00.007375</td>\n",
       "      <td>NaN</td>\n",
       "    </tr>\n",
       "  </tbody>\n",
       "</table>\n",
       "</div>"
      ],
      "text/plain": [
       "          a  b  Result  Success                   Finished    Process Time  \\\n",
       "Trial ID                                                                     \n",
       "1         1  2       4     True 2019-02-22 14:05:52.577548 00:00:00.008051   \n",
       "2         3  2       6     True 2019-02-22 14:05:54.128597 00:00:00.007375   \n",
       "\n",
       "          Description  \n",
       "Trial ID               \n",
       "1                 NaN  \n",
       "2                 NaN  "
      ]
     },
     "execution_count": 39,
     "metadata": {},
     "output_type": "execute_result"
    }
   ],
   "source": [
    "import daskperiment\n",
    "\n",
    "ex = daskperiment.Experiment(id='simple_experiment_pj')\n",
    "ex.get_history()"
   ]
  },
  {
   "cell_type": "code",
   "execution_count": null,
   "metadata": {
    "collapsed": true
   },
   "outputs": [],
   "source": []
  }
 ],
 "metadata": {
  "kernelspec": {
   "display_name": "Python 3",
   "language": "python",
   "name": "python3"
  },
  "language_info": {
   "codemirror_mode": {
    "name": "ipython",
    "version": 3
   },
   "file_extension": ".py",
   "mimetype": "text/x-python",
   "name": "python",
   "nbconvert_exporter": "python",
   "pygments_lexer": "ipython3",
   "version": "3.6.6"
  }
 },
 "nbformat": 4,
 "nbformat_minor": 2
}
