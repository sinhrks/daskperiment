{
 "cells": [
  {
   "cell_type": "markdown",
   "metadata": {},
   "source": [
    "# Quickstart\n",
    "\n",
    "This notebook describes a minimal example. First, create `daskperiment.Experiment` instance. This instance controlls an experiment, a chain of functions to output value and a collection of input variables."
   ]
  },
  {
   "cell_type": "code",
   "execution_count": 1,
   "metadata": {
    "collapsed": false
   },
   "outputs": [],
   "source": [
    "%matplotlib inline\n",
    "import numpy as np\n",
    "import daskperiment"
   ]
  },
  {
   "cell_type": "markdown",
   "metadata": {},
   "source": [
    "First, create `daskperiment.Experiment` instance. This instance controlls an experiment, a chain of functions to output value and a collection of input variables."
   ]
  },
  {
   "cell_type": "code",
   "execution_count": 2,
   "metadata": {
    "collapsed": false,
    "scrolled": true
   },
   "outputs": [
    {
     "name": "stderr",
     "output_type": "stream",
     "text": [
      "2019-04-24 06:18:59,492 [daskperiment.core.experiment] [INFO] Initialized new experiment: Experiment(id: quickstart_pj, trial_id: 0, backend: LocalBackend('daskperiment_cache/quickstart_pj'))\n",
      "2019-04-24 06:18:59,646 [daskperiment.environment.environment] [INFO] Platform Information: Darwin-17.7.0-x86_64-i386-64bit\n",
      "2019-04-24 06:18:59,648 [daskperiment.environment.environment] [INFO] Device CPU Count: 4\n",
      "2019-04-24 06:18:59,649 [daskperiment.environment.environment] [INFO] Python Implementation: CPython\n",
      "2019-04-24 06:18:59,650 [daskperiment.environment.environment] [INFO] Python Version: 3.6.8\n",
      "2019-04-24 06:18:59,651 [daskperiment.environment.environment] [INFO] Python Shell Mode: Jupyter Notebook\n",
      "2019-04-24 06:18:59,653 [daskperiment.environment.environment] [INFO] Python venv: False\n",
      "2019-04-24 06:18:59,654 [daskperiment.environment.environment] [INFO] Daskperiment Version: 0.4.0\n",
      "2019-04-24 06:18:59,655 [daskperiment.environment.environment] [INFO] Git Repository: /Users/sinhrks/Git/daskperiment\n",
      "2019-04-24 06:18:59,656 [daskperiment.environment.environment] [INFO] Git Active Branch: master\n",
      "2019-04-24 06:18:59,657 [daskperiment.environment.environment] [INFO] Git HEAD Commit: ac7a6ea40476ea21b4c4b98232ef35200561bfe4 (DIRTY)\n",
      "2019-04-24 06:18:59,660 [daskperiment.environment.environment] [INFO] Number of Installed Python Packages: 368\n"
     ]
    },
    {
     "data": {
      "text/plain": [
       "Experiment(id: quickstart_pj, trial_id: 0, backend: LocalBackend('daskperiment_cache/quickstart_pj'))"
      ]
     },
     "execution_count": 2,
     "metadata": {},
     "output_type": "execute_result"
    }
   ],
   "source": [
    "ex = daskperiment.Experiment(id='quickstart_pj')\n",
    "ex"
   ]
  },
  {
   "cell_type": "markdown",
   "metadata": {},
   "source": [
    "Then, use `Experiment.parameter` method to define parameters (input variables for the experiment). The actual value of each parameter can be changed in every trial."
   ]
  },
  {
   "cell_type": "code",
   "execution_count": 3,
   "metadata": {
    "collapsed": false
   },
   "outputs": [
    {
     "data": {
      "text/plain": [
       "Parameter(a: Undefined)"
      ]
     },
     "execution_count": 3,
     "metadata": {},
     "output_type": "execute_result"
    }
   ],
   "source": [
    "a = ex.parameter('a')\n",
    "b = ex.parameter('b')\n",
    "a"
   ]
  },
  {
   "cell_type": "markdown",
   "metadata": {},
   "source": [
    "Next, you can define each experiment step (function) by decorating with `Experiment` instance (`@ex`).\n",
    "\n",
    "Note that the function to output the final result (mostly objective value to be minimized or maximized) must be decorated with `Experiment.result`. The chain of these functions are expressed as `Dask.Delayed` instance."
   ]
  },
  {
   "cell_type": "code",
   "execution_count": 4,
   "metadata": {
    "collapsed": false,
    "scrolled": false
   },
   "outputs": [
    {
     "data": {
      "text/plain": [
       "Delayed('calculate_score-deaad938-a7d9-4d69-93b6-186d6dc27bdc')"
      ]
     },
     "execution_count": 4,
     "metadata": {},
     "output_type": "execute_result"
    }
   ],
   "source": [
    "@ex\n",
    "def prepare_data(a, b):\n",
    "    return a + b \n",
    "\n",
    "@ex.result\n",
    "def calculate_score(s):\n",
    "    return 10 / s\n",
    "\n",
    "d = prepare_data(a, b)\n",
    "s = calculate_score(d)\n",
    "s"
   ]
  },
  {
   "cell_type": "markdown",
   "metadata": {},
   "source": [
    "Thus, you can visualize computation graph via `.visualize` method."
   ]
  },
  {
   "cell_type": "code",
   "execution_count": 5,
   "metadata": {
    "collapsed": false
   },
   "outputs": [
    {
     "data": {
      "image/png": "[encoded data removed]",
      "text/plain": [
       "<IPython.core.display.Image object>"
      ]
     },
     "execution_count": 5,
     "metadata": {},
     "output_type": "execute_result"
    }
   ],
   "source": [
    "s.visualize()"
   ]
  },
  {
   "cell_type": "markdown",
   "metadata": {},
   "source": [
    "Use `Experiment.set_parameters` method to set parameters for a trial. After setting parameters, `Parameter` variable and experiment result will be computable.\n",
    "\n",
    "Parameters are recommended to be a scalar (or lightweight value) because these are stored as history (for example, passing filename as a parameter is　preffered rather than passing `DataFrame`)."
   ]
  },
  {
   "cell_type": "code",
   "execution_count": 6,
   "metadata": {
    "collapsed": false,
    "scrolled": false
   },
   "outputs": [
    {
     "name": "stderr",
     "output_type": "stream",
     "text": [
      "2019-04-24 06:18:59,826 [daskperiment.core.parameter] [INFO] Updated parameters: a=1<class 'int'>, b=2<class 'int'>\n"
     ]
    },
    {
     "data": {
      "text/plain": [
       "1"
      ]
     },
     "execution_count": 6,
     "metadata": {},
     "output_type": "execute_result"
    }
   ],
   "source": [
    "ex.set_parameters(a=1, b=2)\n",
    "a.compute()"
   ]
  },
  {
   "cell_type": "code",
   "execution_count": 7,
   "metadata": {
    "collapsed": false
   },
   "outputs": [
    {
     "name": "stderr",
     "output_type": "stream",
     "text": [
      "2019-04-24 06:18:59,885 [daskperiment.core.trial.base] [INFO] Started Experiment (trial id=1)\n",
      "2019-04-24 06:18:59,888 [daskperiment.core.trial.base] [INFO] Parameters: a=1<class 'int'>, b=2<class 'int'>\n",
      "2019-04-24 06:18:59,891 [daskperiment.core.code] [INFO] Saving code context: daskperiment_cache/quickstart_pj/code/quickstart_pj_1.py\n",
      "2019-04-24 06:18:59,926 [daskperiment.core.trial.base] [INFO] Random seed is not provided, initialized with generated seed: 2028578286\n",
      "2019-04-24 06:18:59,932 [daskperiment.core.trial.base] [INFO] Finished Experiment (trial id=1)\n",
      "2019-04-24 06:18:59,934 [daskperiment.backend.local] [INFO] Saving Experiment to file: daskperiment_cache/quickstart_pj/quickstart_pj.pkl\n"
     ]
    },
    {
     "data": {
      "text/plain": [
       "3.3333333333333335"
      ]
     },
     "execution_count": 7,
     "metadata": {},
     "output_type": "execute_result"
    }
   ],
   "source": [
    "s.compute()"
   ]
  },
  {
   "cell_type": "markdown",
   "metadata": {},
   "source": [
    "You can update any parameters for next trial. Every trials can be distinguished by trial id."
   ]
  },
  {
   "cell_type": "code",
   "execution_count": 8,
   "metadata": {
    "collapsed": false,
    "scrolled": false
   },
   "outputs": [
    {
     "name": "stderr",
     "output_type": "stream",
     "text": [
      "2019-04-24 06:18:59,952 [daskperiment.core.parameter] [INFO] Updated parameters: a=1<class 'int'>, b=3<class 'int'>\n",
      "2019-04-24 06:18:59,956 [daskperiment.core.trial.base] [INFO] Started Experiment (trial id=2)\n",
      "2019-04-24 06:18:59,957 [daskperiment.core.trial.base] [INFO] Parameters: a=1<class 'int'>, b=3<class 'int'>\n",
      "2019-04-24 06:18:59,960 [daskperiment.core.code] [INFO] Saving code context: daskperiment_cache/quickstart_pj/code/quickstart_pj_2.py\n",
      "2019-04-24 06:18:59,990 [daskperiment.core.trial.base] [INFO] Random seed is not provided, initialized with generated seed: 2078759740\n",
      "2019-04-24 06:18:59,993 [daskperiment.core.trial.base] [INFO] Finished Experiment (trial id=2)\n",
      "2019-04-24 06:18:59,996 [daskperiment.backend.local] [INFO] Saving Experiment to file: daskperiment_cache/quickstart_pj/quickstart_pj.pkl\n"
     ]
    },
    {
     "data": {
      "text/plain": [
       "2.5"
      ]
     },
     "execution_count": 8,
     "metadata": {},
     "output_type": "execute_result"
    }
   ],
   "source": [
    "ex.set_parameters(b=3)\n",
    "s.compute()"
   ]
  },
  {
   "cell_type": "code",
   "execution_count": 9,
   "metadata": {
    "collapsed": false
   },
   "outputs": [
    {
     "data": {
      "text/html": [
       "<div>\n",
       "<style scoped>\n",
       "    .dataframe tbody tr th:only-of-type {\n",
       "        vertical-align: middle;\n",
       "    }\n",
       "\n",
       "    .dataframe tbody tr th {\n",
       "        vertical-align: top;\n",
       "    }\n",
       "\n",
       "    .dataframe thead th {\n",
       "        text-align: right;\n",
       "    }\n",
       "</style>\n",
       "<table border=\"1\" class=\"dataframe\">\n",
       "  <thead>\n",
       "    <tr style=\"text-align: right;\">\n",
       "      <th></th>\n",
       "      <th>a</th>\n",
       "      <th>b</th>\n",
       "      <th>Result</th>\n",
       "      <th>Success</th>\n",
       "      <th>Finished</th>\n",
       "      <th>Process Time</th>\n",
       "      <th>Description</th>\n",
       "    </tr>\n",
       "    <tr>\n",
       "      <th>Trial ID</th>\n",
       "      <th></th>\n",
       "      <th></th>\n",
       "      <th></th>\n",
       "      <th></th>\n",
       "      <th></th>\n",
       "      <th></th>\n",
       "      <th></th>\n",
       "    </tr>\n",
       "  </thead>\n",
       "  <tbody>\n",
       "    <tr>\n",
       "      <th>1</th>\n",
       "      <td>1</td>\n",
       "      <td>2</td>\n",
       "      <td>3.333333</td>\n",
       "      <td>True</td>\n",
       "      <td>2019-04-24 06:18:59.932019</td>\n",
       "      <td>00:00:00.046128</td>\n",
       "      <td>NaN</td>\n",
       "    </tr>\n",
       "    <tr>\n",
       "      <th>2</th>\n",
       "      <td>1</td>\n",
       "      <td>3</td>\n",
       "      <td>2.500000</td>\n",
       "      <td>True</td>\n",
       "      <td>2019-04-24 06:18:59.993738</td>\n",
       "      <td>00:00:00.037286</td>\n",
       "      <td>NaN</td>\n",
       "    </tr>\n",
       "  </tbody>\n",
       "</table>\n",
       "</div>"
      ],
      "text/plain": [
       "          a  b    Result  Success                   Finished    Process Time  \\\n",
       "Trial ID                                                                       \n",
       "1         1  2  3.333333     True 2019-04-24 06:18:59.932019 00:00:00.046128   \n",
       "2         1  3  2.500000     True 2019-04-24 06:18:59.993738 00:00:00.037286   \n",
       "\n",
       "          Description  \n",
       "Trial ID               \n",
       "1                 NaN  \n",
       "2                 NaN  "
      ]
     },
     "execution_count": 9,
     "metadata": {},
     "output_type": "execute_result"
    }
   ],
   "source": [
    "ex.get_history()"
   ]
  },
  {
   "cell_type": "markdown",
   "metadata": {},
   "source": [
    "After some trials, you can retrieve parameter values specifying trial id."
   ]
  },
  {
   "cell_type": "code",
   "execution_count": 10,
   "metadata": {
    "collapsed": false,
    "scrolled": true
   },
   "outputs": [
    {
     "data": {
      "text/plain": [
       "{'a': 1, 'b': 2}"
      ]
     },
     "execution_count": 10,
     "metadata": {},
     "output_type": "execute_result"
    }
   ],
   "source": [
    "ex.get_parameters(trial_id=1)"
   ]
  },
  {
   "cell_type": "code",
   "execution_count": 11,
   "metadata": {
    "collapsed": false
   },
   "outputs": [
    {
     "data": {
      "text/plain": [
       "{'a': 1, 'b': 3}"
      ]
     },
     "execution_count": 11,
     "metadata": {},
     "output_type": "execute_result"
    }
   ],
   "source": [
    "ex.get_parameters(trial_id=2)"
   ]
  },
  {
   "cell_type": "markdown",
   "metadata": {},
   "source": [
    "`Experiment.get_history` will return a `DataFrame` which stores a history of trial parameters and its results. You can select desirable trial using `pandas` basic operation."
   ]
  },
  {
   "cell_type": "code",
   "execution_count": 12,
   "metadata": {
    "collapsed": false,
    "scrolled": false
   },
   "outputs": [
    {
     "data": {
      "text/html": [
       "<div>\n",
       "<style scoped>\n",
       "    .dataframe tbody tr th:only-of-type {\n",
       "        vertical-align: middle;\n",
       "    }\n",
       "\n",
       "    .dataframe tbody tr th {\n",
       "        vertical-align: top;\n",
       "    }\n",
       "\n",
       "    .dataframe thead th {\n",
       "        text-align: right;\n",
       "    }\n",
       "</style>\n",
       "<table border=\"1\" class=\"dataframe\">\n",
       "  <thead>\n",
       "    <tr style=\"text-align: right;\">\n",
       "      <th></th>\n",
       "      <th>a</th>\n",
       "      <th>b</th>\n",
       "      <th>Result</th>\n",
       "      <th>Success</th>\n",
       "      <th>Finished</th>\n",
       "      <th>Process Time</th>\n",
       "      <th>Description</th>\n",
       "    </tr>\n",
       "    <tr>\n",
       "      <th>Trial ID</th>\n",
       "      <th></th>\n",
       "      <th></th>\n",
       "      <th></th>\n",
       "      <th></th>\n",
       "      <th></th>\n",
       "      <th></th>\n",
       "      <th></th>\n",
       "    </tr>\n",
       "  </thead>\n",
       "  <tbody>\n",
       "    <tr>\n",
       "      <th>1</th>\n",
       "      <td>1</td>\n",
       "      <td>2</td>\n",
       "      <td>3.333333</td>\n",
       "      <td>True</td>\n",
       "      <td>2019-04-24 06:18:59.932019</td>\n",
       "      <td>00:00:00.046128</td>\n",
       "      <td>NaN</td>\n",
       "    </tr>\n",
       "    <tr>\n",
       "      <th>2</th>\n",
       "      <td>1</td>\n",
       "      <td>3</td>\n",
       "      <td>2.500000</td>\n",
       "      <td>True</td>\n",
       "      <td>2019-04-24 06:18:59.993738</td>\n",
       "      <td>00:00:00.037286</td>\n",
       "      <td>NaN</td>\n",
       "    </tr>\n",
       "  </tbody>\n",
       "</table>\n",
       "</div>"
      ],
      "text/plain": [
       "          a  b    Result  Success                   Finished    Process Time  \\\n",
       "Trial ID                                                                       \n",
       "1         1  2  3.333333     True 2019-04-24 06:18:59.932019 00:00:00.046128   \n",
       "2         1  3  2.500000     True 2019-04-24 06:18:59.993738 00:00:00.037286   \n",
       "\n",
       "          Description  \n",
       "Trial ID               \n",
       "1                 NaN  \n",
       "2                 NaN  "
      ]
     },
     "execution_count": 12,
     "metadata": {},
     "output_type": "execute_result"
    }
   ],
   "source": [
    "ex.get_history()"
   ]
  },
  {
   "cell_type": "markdown",
   "metadata": {},
   "source": [
    "When any error occurs during the trial, `Experiment` instance stores the log as failed trial. The \"Description\" column contains the error detail."
   ]
  },
  {
   "cell_type": "code",
   "execution_count": 13,
   "metadata": {
    "collapsed": false
   },
   "outputs": [
    {
     "name": "stderr",
     "output_type": "stream",
     "text": [
      "2019-04-24 06:19:00,208 [daskperiment.core.parameter] [INFO] Updated parameters: a=1<class 'int'>, b=-1<class 'int'>\n",
      "2019-04-24 06:19:00,212 [daskperiment.core.trial.base] [INFO] Started Experiment (trial id=3)\n",
      "2019-04-24 06:19:00,215 [daskperiment.core.trial.base] [INFO] Parameters: a=1<class 'int'>, b=-1<class 'int'>\n",
      "2019-04-24 06:19:00,216 [daskperiment.core.code] [INFO] Saving code context: daskperiment_cache/quickstart_pj/code/quickstart_pj_3.py\n",
      "2019-04-24 06:19:00,225 [daskperiment.core.trial.base] [INFO] Random seed is not provided, initialized with generated seed: 4062272305\n",
      "2019-04-24 06:19:00,228 [daskperiment.core.experiment] [ERROR] Experiment failed: ZeroDivisionError(division by zero)\n",
      "2019-04-24 06:19:00,231 [daskperiment.core.trial.base] [INFO] Finished Experiment (trial id=3)\n",
      "2019-04-24 06:19:00,232 [daskperiment.backend.local] [INFO] Saving Experiment to file: daskperiment_cache/quickstart_pj/quickstart_pj.pkl\n"
     ]
    },
    {
     "name": "stdout",
     "output_type": "stream",
     "text": [
      "ZeroDivisionError(division by zero)\n"
     ]
    }
   ],
   "source": [
    "ex.set_parameters(a=1, b=-1)\n",
    "try:\n",
    "    s.compute()\n",
    "    \n",
    "except ZeroDivisionError as e:\n",
    "    # To hide stack trace\n",
    "    print('{}({})'.format(e.__class__.__name__, e))"
   ]
  },
  {
   "cell_type": "code",
   "execution_count": 14,
   "metadata": {
    "collapsed": false
   },
   "outputs": [
    {
     "data": {
      "text/html": [
       "<div>\n",
       "<style scoped>\n",
       "    .dataframe tbody tr th:only-of-type {\n",
       "        vertical-align: middle;\n",
       "    }\n",
       "\n",
       "    .dataframe tbody tr th {\n",
       "        vertical-align: top;\n",
       "    }\n",
       "\n",
       "    .dataframe thead th {\n",
       "        text-align: right;\n",
       "    }\n",
       "</style>\n",
       "<table border=\"1\" class=\"dataframe\">\n",
       "  <thead>\n",
       "    <tr style=\"text-align: right;\">\n",
       "      <th></th>\n",
       "      <th>a</th>\n",
       "      <th>b</th>\n",
       "      <th>Result</th>\n",
       "      <th>Success</th>\n",
       "      <th>Finished</th>\n",
       "      <th>Process Time</th>\n",
       "      <th>Description</th>\n",
       "    </tr>\n",
       "    <tr>\n",
       "      <th>Trial ID</th>\n",
       "      <th></th>\n",
       "      <th></th>\n",
       "      <th></th>\n",
       "      <th></th>\n",
       "      <th></th>\n",
       "      <th></th>\n",
       "      <th></th>\n",
       "    </tr>\n",
       "  </thead>\n",
       "  <tbody>\n",
       "    <tr>\n",
       "      <th>1</th>\n",
       "      <td>1</td>\n",
       "      <td>2</td>\n",
       "      <td>3.333333</td>\n",
       "      <td>True</td>\n",
       "      <td>2019-04-24 06:18:59.932019</td>\n",
       "      <td>00:00:00.046128</td>\n",
       "      <td>NaN</td>\n",
       "    </tr>\n",
       "    <tr>\n",
       "      <th>2</th>\n",
       "      <td>1</td>\n",
       "      <td>3</td>\n",
       "      <td>2.500000</td>\n",
       "      <td>True</td>\n",
       "      <td>2019-04-24 06:18:59.993738</td>\n",
       "      <td>00:00:00.037286</td>\n",
       "      <td>NaN</td>\n",
       "    </tr>\n",
       "    <tr>\n",
       "      <th>3</th>\n",
       "      <td>1</td>\n",
       "      <td>-1</td>\n",
       "      <td>NaN</td>\n",
       "      <td>False</td>\n",
       "      <td>2019-04-24 06:19:00.231209</td>\n",
       "      <td>00:00:00.018889</td>\n",
       "      <td>ZeroDivisionError(division by zero)</td>\n",
       "    </tr>\n",
       "  </tbody>\n",
       "</table>\n",
       "</div>"
      ],
      "text/plain": [
       "          a  b    Result  Success                   Finished    Process Time  \\\n",
       "Trial ID                                                                       \n",
       "1         1  2  3.333333     True 2019-04-24 06:18:59.932019 00:00:00.046128   \n",
       "2         1  3  2.500000     True 2019-04-24 06:18:59.993738 00:00:00.037286   \n",
       "3         1 -1       NaN    False 2019-04-24 06:19:00.231209 00:00:00.018889   \n",
       "\n",
       "                                  Description  \n",
       "Trial ID                                       \n",
       "1                                         NaN  \n",
       "2                                         NaN  \n",
       "3         ZeroDivisionError(division by zero)  "
      ]
     },
     "execution_count": 14,
     "metadata": {},
     "output_type": "execute_result"
    }
   ],
   "source": [
    "ex.get_history()"
   ]
  },
  {
   "cell_type": "markdown",
   "metadata": {},
   "source": [
    "Every time the computation performed, `Experiment` instance is automatically saved to specified cache directory. When `Experiment` instance is initialized, it automatically load previous trials (check trial id in the log)."
   ]
  },
  {
   "cell_type": "markdown",
   "metadata": {},
   "source": [
    "# Handling intermediate result"
   ]
  },
  {
   "cell_type": "markdown",
   "metadata": {},
   "source": [
    "Next example shows how to retrieve an intermediate result of the chain.\n",
    "\n",
    "The only difference is using `Experiment.persist` decorator. It makes `Experiment` instance to keep the decorated function's intermediate result. After definition, rebuilt the same workflow using the persisted function. \n",
    "\n",
    "Note that an intermediate result is saved as a pickle file named with its function name, function name must be unique in the experiment."
   ]
  },
  {
   "cell_type": "code",
   "execution_count": 15,
   "metadata": {
    "collapsed": false,
    "scrolled": true
   },
   "outputs": [
    {
     "name": "stderr",
     "output_type": "stream",
     "text": [
      "2019-04-24 06:19:00,318 [daskperiment.core.code] [WARNING] Code context has been changed: prepare_data\n",
      "2019-04-24 06:19:00,325 [daskperiment.core.code] [WARNING] @@ -1,3 +1,3 @@\n",
      "\n",
      "2019-04-24 06:19:00,326 [daskperiment.core.code] [WARNING] -@ex\n",
      "2019-04-24 06:19:00,328 [daskperiment.core.code] [WARNING] +@ex.persist\n",
      "2019-04-24 06:19:00,331 [daskperiment.core.code] [WARNING]  def prepare_data(a, b):\n",
      "2019-04-24 06:19:00,333 [daskperiment.core.code] [WARNING] -    return a + b \n",
      "2019-04-24 06:19:00,335 [daskperiment.core.code] [WARNING] +    return a + b\n"
     ]
    }
   ],
   "source": [
    "@ex.persist\n",
    "def prepare_data(a, b):\n",
    "    return a + b\n",
    "\n",
    "d = prepare_data(a, b)\n",
    "s = calculate_score(d)"
   ]
  },
  {
   "cell_type": "markdown",
   "metadata": {},
   "source": [
    "NOTE: Also, you can notice that `daskperiment` outputs some \"WARNING\" indicating code contexts has been changed. It's because `daskperiment` automatically tracks code context to guarantee reproducibility.\n",
    "\n",
    "Let's perform some trials."
   ]
  },
  {
   "cell_type": "code",
   "execution_count": 16,
   "metadata": {
    "collapsed": false
   },
   "outputs": [
    {
     "name": "stderr",
     "output_type": "stream",
     "text": [
      "2019-04-24 06:19:00,349 [daskperiment.core.parameter] [INFO] Updated parameters: a=1<class 'int'>, b=2<class 'int'>\n",
      "2019-04-24 06:19:00,358 [daskperiment.core.trial.base] [INFO] Started Experiment (trial id=4)\n",
      "2019-04-24 06:19:00,370 [daskperiment.core.trial.base] [INFO] Parameters: a=1<class 'int'>, b=2<class 'int'>\n",
      "2019-04-24 06:19:00,372 [daskperiment.core.code] [INFO] Saving code context: daskperiment_cache/quickstart_pj/code/quickstart_pj_4.py\n",
      "2019-04-24 06:19:00,390 [daskperiment.core.trial.base] [INFO] Random seed is not provided, initialized with generated seed: 2421174391\n",
      "2019-04-24 06:19:00,402 [daskperiment.core.trial.base] [INFO] Finished Experiment (trial id=4)\n",
      "2019-04-24 06:19:00,405 [daskperiment.backend.local] [INFO] Saving Experiment to file: daskperiment_cache/quickstart_pj/quickstart_pj.pkl\n"
     ]
    },
    {
     "data": {
      "text/plain": [
       "3.3333333333333335"
      ]
     },
     "execution_count": 16,
     "metadata": {},
     "output_type": "execute_result"
    }
   ],
   "source": [
    "ex.set_parameters(a=1, b=2)\n",
    "s.compute()"
   ]
  },
  {
   "cell_type": "code",
   "execution_count": 17,
   "metadata": {
    "collapsed": false
   },
   "outputs": [
    {
     "name": "stderr",
     "output_type": "stream",
     "text": [
      "2019-04-24 06:19:00,424 [daskperiment.core.parameter] [INFO] Updated parameters: a=3<class 'int'>, b=2<class 'int'>\n",
      "2019-04-24 06:19:00,428 [daskperiment.core.trial.base] [INFO] Started Experiment (trial id=5)\n",
      "2019-04-24 06:19:00,429 [daskperiment.core.trial.base] [INFO] Parameters: a=3<class 'int'>, b=2<class 'int'>\n",
      "2019-04-24 06:19:00,432 [daskperiment.core.code] [INFO] Saving code context: daskperiment_cache/quickstart_pj/code/quickstart_pj_5.py\n",
      "2019-04-24 06:19:00,451 [daskperiment.core.trial.base] [INFO] Random seed is not provided, initialized with generated seed: 816656897\n",
      "2019-04-24 06:19:00,457 [daskperiment.core.trial.base] [INFO] Finished Experiment (trial id=5)\n",
      "2019-04-24 06:19:00,460 [daskperiment.backend.local] [INFO] Saving Experiment to file: daskperiment_cache/quickstart_pj/quickstart_pj.pkl\n"
     ]
    },
    {
     "data": {
      "text/plain": [
       "2.0"
      ]
     },
     "execution_count": 17,
     "metadata": {},
     "output_type": "execute_result"
    }
   ],
   "source": [
    "ex.set_parameters(a=3, b=2)\n",
    "s.compute()"
   ]
  },
  {
   "cell_type": "markdown",
   "metadata": {},
   "source": [
    "You can retrieve intermediate results via `Experiment.get_persisted` method by specifying function name and trial id."
   ]
  },
  {
   "cell_type": "code",
   "execution_count": 18,
   "metadata": {
    "collapsed": false
   },
   "outputs": [
    {
     "data": {
      "text/plain": [
       "3"
      ]
     },
     "execution_count": 18,
     "metadata": {},
     "output_type": "execute_result"
    }
   ],
   "source": [
    "ex.get_persisted('prepare_data', trial_id=4)"
   ]
  },
  {
   "cell_type": "code",
   "execution_count": 19,
   "metadata": {
    "collapsed": false
   },
   "outputs": [
    {
     "data": {
      "text/plain": [
       "5"
      ]
     },
     "execution_count": 19,
     "metadata": {},
     "output_type": "execute_result"
    }
   ],
   "source": [
    "ex.get_persisted('prepare_data', trial_id=5)"
   ]
  },
  {
   "cell_type": "markdown",
   "metadata": {},
   "source": [
    "# Monitoring metrics"
   ]
  },
  {
   "cell_type": "markdown",
   "metadata": {},
   "source": [
    "You may need to monitor transition of some metrics during each trial. In each experiment function, you can call `Experiment.save_metric` to save metric with its key (name) and epoch."
   ]
  },
  {
   "cell_type": "code",
   "execution_count": 20,
   "metadata": {
    "collapsed": false,
    "scrolled": true
   },
   "outputs": [
    {
     "name": "stderr",
     "output_type": "stream",
     "text": [
      "2019-04-24 06:19:00,504 [daskperiment.core.code] [WARNING] Code context has been changed: calculate_score\n",
      "2019-04-24 06:19:00,506 [daskperiment.core.code] [WARNING] @@ -1,3 +1,6 @@\n",
      "\n",
      "2019-04-24 06:19:00,510 [daskperiment.core.code] [WARNING]  @ex.result\n",
      "2019-04-24 06:19:00,513 [daskperiment.core.code] [WARNING]  def calculate_score(s):\n",
      "2019-04-24 06:19:00,516 [daskperiment.core.code] [WARNING] +    for i in range(100):\n",
      "2019-04-24 06:19:00,518 [daskperiment.core.code] [WARNING] +        ex.save_metric('dummy_score', epoch=i, value=100 - np.random.random() * i)\n",
      "2019-04-24 06:19:00,520 [daskperiment.core.code] [WARNING] +\n",
      "2019-04-24 06:19:00,521 [daskperiment.core.code] [WARNING]      return 10 / s\n"
     ]
    }
   ],
   "source": [
    "@ex.result\n",
    "def calculate_score(s):\n",
    "    for i in range(100):\n",
    "        ex.save_metric('dummy_score', epoch=i, value=100 - np.random.random() * i)\n",
    "\n",
    "    return 10 / s\n",
    "\n",
    "d = prepare_data(a, b)\n",
    "s = calculate_score(d)"
   ]
  },
  {
   "cell_type": "code",
   "execution_count": 21,
   "metadata": {
    "collapsed": false,
    "scrolled": false
   },
   "outputs": [
    {
     "name": "stderr",
     "output_type": "stream",
     "text": [
      "2019-04-24 06:19:00,533 [daskperiment.core.parameter] [INFO] Updated parameters: a=1<class 'int'>, b=2<class 'int'>\n",
      "2019-04-24 06:19:00,537 [daskperiment.core.trial.base] [INFO] Started Experiment (trial id=6)\n",
      "2019-04-24 06:19:00,539 [daskperiment.core.trial.base] [INFO] Parameters: a=1<class 'int'>, b=2<class 'int'>\n",
      "2019-04-24 06:19:00,542 [daskperiment.core.code] [INFO] Saving code context: daskperiment_cache/quickstart_pj/code/quickstart_pj_6.py\n",
      "2019-04-24 06:19:00,552 [daskperiment.core.trial.base] [INFO] Random seed is not provided, initialized with generated seed: 922220462\n",
      "2019-04-24 06:19:00,559 [daskperiment.core.trial.base] [INFO] Finished Experiment (trial id=6)\n",
      "2019-04-24 06:19:00,562 [daskperiment.backend.local] [INFO] Saving Experiment to file: daskperiment_cache/quickstart_pj/quickstart_pj.pkl\n"
     ]
    },
    {
     "data": {
      "text/plain": [
       "3.3333333333333335"
      ]
     },
     "execution_count": 21,
     "metadata": {},
     "output_type": "execute_result"
    }
   ],
   "source": [
    "ex.set_parameters(a=1, b=2)\n",
    "s.compute()"
   ]
  },
  {
   "cell_type": "markdown",
   "metadata": {},
   "source": [
    "After a trial, you can load saved metric using `Experiment.load_metric` specifying its name and trial_id. As it is returned as `DataFrame`, you can easily investigate it."
   ]
  },
  {
   "cell_type": "code",
   "execution_count": 22,
   "metadata": {
    "collapsed": false
   },
   "outputs": [
    {
     "name": "stdout",
     "output_type": "stream",
     "text": [
      "Trial ID           6\n",
      "Epoch               \n",
      "0         100.000000\n",
      "1          99.808715\n",
      "2          99.263687\n",
      "3          97.342728\n",
      "4          96.496220\n"
     ]
    }
   ],
   "source": [
    "dummy_score = ex.load_metric('dummy_score', trial_id=6)\n",
    "print(dummy_score.head())"
   ]
  },
  {
   "cell_type": "code",
   "execution_count": 23,
   "metadata": {
    "collapsed": false
   },
   "outputs": [
    {
     "data": {
      "text/plain": [
       "<matplotlib.axes._subplots.AxesSubplot at 0x112c636d8>"
      ]
     },
     "execution_count": 23,
     "metadata": {},
     "output_type": "execute_result"
    },
    {
     "data": {
      "image/png": "[encoded data removed]",
      "text/plain": [
       "<Figure size 432x288 with 1 Axes>"
      ]
     },
     "metadata": {
      "needs_background": "light"
     },
     "output_type": "display_data"
    }
   ],
   "source": [
    "dummy_score.plot()"
   ]
  },
  {
   "cell_type": "markdown",
   "metadata": {},
   "source": [
    "Perform another trial."
   ]
  },
  {
   "cell_type": "code",
   "execution_count": 24,
   "metadata": {
    "collapsed": false
   },
   "outputs": [
    {
     "name": "stderr",
     "output_type": "stream",
     "text": [
      "2019-04-24 06:19:01,127 [daskperiment.core.parameter] [INFO] Updated parameters: a=3<class 'int'>, b=4<class 'int'>\n",
      "2019-04-24 06:19:01,130 [daskperiment.core.trial.base] [INFO] Started Experiment (trial id=7)\n",
      "2019-04-24 06:19:01,132 [daskperiment.core.trial.base] [INFO] Parameters: a=3<class 'int'>, b=4<class 'int'>\n",
      "2019-04-24 06:19:01,134 [daskperiment.core.code] [INFO] Saving code context: daskperiment_cache/quickstart_pj/code/quickstart_pj_7.py\n",
      "2019-04-24 06:19:01,144 [daskperiment.core.trial.base] [INFO] Random seed is not provided, initialized with generated seed: 2182320626\n",
      "2019-04-24 06:19:01,149 [daskperiment.core.trial.base] [INFO] Finished Experiment (trial id=7)\n",
      "2019-04-24 06:19:01,150 [daskperiment.backend.local] [INFO] Saving Experiment to file: daskperiment_cache/quickstart_pj/quickstart_pj.pkl\n"
     ]
    },
    {
     "data": {
      "text/plain": [
       "1.4285714285714286"
      ]
     },
     "execution_count": 24,
     "metadata": {},
     "output_type": "execute_result"
    }
   ],
   "source": [
    "ex.set_parameters(a=3, b=4)\n",
    "s.compute()"
   ]
  },
  {
   "cell_type": "markdown",
   "metadata": {},
   "source": [
    "To compare metrics between trials, pass multiple trial ids to `Experiment.load_metric`."
   ]
  },
  {
   "cell_type": "code",
   "execution_count": 25,
   "metadata": {
    "collapsed": false
   },
   "outputs": [
    {
     "data": {
      "text/plain": [
       "<matplotlib.axes._subplots.AxesSubplot at 0x112d41240>"
      ]
     },
     "execution_count": 25,
     "metadata": {},
     "output_type": "execute_result"
    },
    {
     "data": {
      "image/png": "[encoded data removed]",
      "text/plain": [
       "<Figure size 432x288 with 1 Axes>"
      ]
     },
     "metadata": {
      "needs_background": "light"
     },
     "output_type": "display_data"
    }
   ],
   "source": [
    "ex.load_metric('dummy_score', trial_id=[6, 7]).plot()"
   ]
  },
  {
   "cell_type": "markdown",
   "metadata": {},
   "source": [
    "# Check code context"
   ]
  },
  {
   "cell_type": "markdown",
   "metadata": {},
   "source": [
    "The above example illustrated `daskperiment` tracks code contexts decorated with `Experiment` decorators. \n",
    "\n",
    "To check the tracked code contexts, use `Experiment.get_code` specifying trial id (shows current code if trial id is not provided)."
   ]
  },
  {
   "cell_type": "code",
   "execution_count": 26,
   "metadata": {
    "collapsed": false,
    "scrolled": false
   },
   "outputs": [
    {
     "name": "stdout",
     "output_type": "stream",
     "text": [
      "@ex.persist\n",
      "def prepare_data(a, b):\n",
      "    return a + b\n",
      "\n",
      "\n",
      "@ex.result\n",
      "def calculate_score(s):\n",
      "    for i in range(100):\n",
      "        ex.save_metric('dummy_score', epoch=i, value=100 - np.random.random() * i)\n",
      "\n",
      "    return 10 / s\n",
      "\n"
     ]
    }
   ],
   "source": [
    "print(ex.get_code())"
   ]
  },
  {
   "cell_type": "code",
   "execution_count": 27,
   "metadata": {
    "collapsed": false,
    "scrolled": true
   },
   "outputs": [
    {
     "name": "stdout",
     "output_type": "stream",
     "text": [
      "@ex\n",
      "def prepare_data(a, b):\n",
      "    return a + b \n",
      "\n",
      "\n",
      "@ex.result\n",
      "def calculate_score(s):\n",
      "    return 10 / s\n",
      "\n"
     ]
    }
   ],
   "source": [
    "print(ex.get_code(trial_id=1))"
   ]
  },
  {
   "cell_type": "markdown",
   "metadata": {},
   "source": [
    "Each code context is also saved as a text file per trial id. Thus, these are easily handled by diff tools and  Git."
   ]
  },
  {
   "cell_type": "code",
   "execution_count": 28,
   "metadata": {
    "collapsed": false
   },
   "outputs": [
    {
     "name": "stdout",
     "output_type": "stream",
     "text": [
      "# Code output saved in trial_id=1\r\n",
      "@ex\r\n",
      "def prepare_data(a, b):\r\n",
      "    return a + b \r\n",
      "\r\n",
      "\r\n",
      "@ex.result\r\n",
      "def calculate_score(s):\r\n",
      "    return 10 / s\r\n"
     ]
    }
   ],
   "source": [
    "%cat daskperiment_cache/quickstart_pj/code/quickstart_pj_1.py"
   ]
  },
  {
   "cell_type": "markdown",
   "metadata": {},
   "source": [
    "# Function purity and handling randomness"
   ]
  },
  {
   "cell_type": "markdown",
   "metadata": {},
   "source": [
    "To make the experiment reproducible, all the experiment step should be \"pure\" function (it the inputs are the same, output shouldn't be changed). In other words, the function should not have internal state nor randomness.\n",
    "\n",
    "`daskperiment` checks whether each experiment step is pure. It internally stores the hash of inputs and output, and shows a warning if its output is changed even though the inputs are unchanged.　\n",
    "\n",
    "To illustrate this, add randomness to the example code."
   ]
  },
  {
   "cell_type": "code",
   "execution_count": 29,
   "metadata": {
    "collapsed": false,
    "scrolled": true
   },
   "outputs": [
    {
     "name": "stderr",
     "output_type": "stream",
     "text": [
      "2019-04-24 06:19:01,750 [daskperiment.core.code] [WARNING] Code context has been changed: calculate_score\n",
      "2019-04-24 06:19:01,758 [daskperiment.core.code] [WARNING] @@ -2,5 +2,5 @@\n",
      "\n",
      "2019-04-24 06:19:01,760 [daskperiment.core.code] [WARNING]  def calculate_score(s):\n",
      "2019-04-24 06:19:01,763 [daskperiment.core.code] [WARNING]      for i in range(100):\n",
      "2019-04-24 06:19:01,767 [daskperiment.core.code] [WARNING]          ex.save_metric('dummy_score', epoch=i, value=100 - np.random.random() * i)\n",
      "2019-04-24 06:19:01,769 [daskperiment.core.code] [WARNING] -\n",
      "2019-04-24 06:19:01,771 [daskperiment.core.code] [WARNING] -    return 10 / s\n",
      "2019-04-24 06:19:01,776 [daskperiment.core.code] [WARNING] +        \n",
      "2019-04-24 06:19:01,778 [daskperiment.core.code] [WARNING] +    return 10 / s + np.random.random()\n"
     ]
    }
   ],
   "source": [
    "@ex.result\n",
    "def calculate_score(s):\n",
    "    for i in range(100):\n",
    "        ex.save_metric('dummy_score', epoch=i, value=100 - np.random.random() * i)\n",
    "        \n",
    "    return 10 / s + np.random.random()\n",
    "\n",
    "d = prepare_data(a, b)\n",
    "s = calculate_score(d)"
   ]
  },
  {
   "cell_type": "markdown",
   "metadata": {},
   "source": [
    "Because of the code change, it outputs the different results even though its inputs (parameters) are unchanged. `daskperiment` shows the warning."
   ]
  },
  {
   "cell_type": "code",
   "execution_count": 30,
   "metadata": {
    "collapsed": false
   },
   "outputs": [
    {
     "name": "stderr",
     "output_type": "stream",
     "text": [
      "2019-04-24 06:19:01,796 [daskperiment.core.trial.base] [INFO] Started Experiment (trial id=8)\n",
      "2019-04-24 06:19:01,797 [daskperiment.core.trial.base] [INFO] Parameters: a=3<class 'int'>, b=4<class 'int'>\n",
      "2019-04-24 06:19:01,799 [daskperiment.core.code] [INFO] Saving code context: daskperiment_cache/quickstart_pj/code/quickstart_pj_8.py\n",
      "2019-04-24 06:19:01,807 [daskperiment.core.trial.base] [INFO] Random seed is not provided, initialized with generated seed: 3237287406\n",
      "2019-04-24 06:19:01,812 [daskperiment.core.trial.base] [WARNING] Experiment step result is changed with the same input: (step: calculate_score, args: (7,), kwargs: {})\n",
      "2019-04-24 06:19:01,815 [daskperiment.core.trial.base] [INFO] Finished Experiment (trial id=8)\n",
      "2019-04-24 06:19:01,817 [daskperiment.backend.local] [INFO] Saving Experiment to file: daskperiment_cache/quickstart_pj/quickstart_pj.pkl\n"
     ]
    },
    {
     "data": {
      "text/plain": [
       "1.8932060246285598"
      ]
     },
     "execution_count": 30,
     "metadata": {},
     "output_type": "execute_result"
    }
   ],
   "source": [
    "s.compute()"
   ]
  },
  {
   "cell_type": "markdown",
   "metadata": {},
   "source": [
    "The function outputs different result in every trial because of the randomness.\n",
    "To make the function reproducible, random seed should be provided.\n",
    "\n",
    "To do this, pass `seed` argument to `compute` method. Note that this trial shows the warning because its result is changed comparing to the previous result (no seed)."
   ]
  },
  {
   "cell_type": "code",
   "execution_count": 31,
   "metadata": {
    "collapsed": false,
    "scrolled": true
   },
   "outputs": [
    {
     "name": "stderr",
     "output_type": "stream",
     "text": [
      "2019-04-24 06:19:01,860 [daskperiment.core.trial.base] [INFO] Started Experiment (trial id=9)\n",
      "2019-04-24 06:19:01,862 [daskperiment.core.trial.base] [INFO] Parameters: a=3<class 'int'>, b=4<class 'int'>\n",
      "2019-04-24 06:19:01,864 [daskperiment.core.code] [INFO] Saving code context: daskperiment_cache/quickstart_pj/code/quickstart_pj_9.py\n",
      "2019-04-24 06:19:01,874 [daskperiment.core.trial.base] [INFO] Random seed is initialized with given seed: 1\n",
      "2019-04-24 06:19:01,879 [daskperiment.core.trial.base] [WARNING] Experiment step result is changed with the same input: (step: calculate_score, args: (7,), kwargs: {})\n",
      "2019-04-24 06:19:01,882 [daskperiment.core.trial.base] [INFO] Finished Experiment (trial id=9)\n",
      "2019-04-24 06:19:01,885 [daskperiment.backend.local] [INFO] Saving Experiment to file: daskperiment_cache/quickstart_pj/quickstart_pj.pkl\n"
     ]
    },
    {
     "data": {
      "text/plain": [
       "1.7552163303435249"
      ]
     },
     "execution_count": 31,
     "metadata": {},
     "output_type": "execute_result"
    }
   ],
   "source": [
    "s.compute(seed=1)"
   ]
  },
  {
   "cell_type": "markdown",
   "metadata": {},
   "source": [
    "Another trial with the same seed doesn't show the warning, because the result is unchanged."
   ]
  },
  {
   "cell_type": "code",
   "execution_count": 32,
   "metadata": {
    "collapsed": false
   },
   "outputs": [
    {
     "name": "stderr",
     "output_type": "stream",
     "text": [
      "2019-04-24 06:19:01,937 [daskperiment.core.trial.base] [INFO] Started Experiment (trial id=10)\n",
      "2019-04-24 06:19:01,941 [daskperiment.core.trial.base] [INFO] Parameters: a=3<class 'int'>, b=4<class 'int'>\n",
      "2019-04-24 06:19:01,943 [daskperiment.core.code] [INFO] Saving code context: daskperiment_cache/quickstart_pj/code/quickstart_pj_10.py\n",
      "2019-04-24 06:19:01,954 [daskperiment.core.trial.base] [INFO] Random seed is initialized with given seed: 1\n",
      "2019-04-24 06:19:01,962 [daskperiment.core.trial.base] [INFO] Finished Experiment (trial id=10)\n",
      "2019-04-24 06:19:01,963 [daskperiment.backend.local] [INFO] Saving Experiment to file: daskperiment_cache/quickstart_pj/quickstart_pj.pkl\n"
     ]
    },
    {
     "data": {
      "text/plain": [
       "1.7552163303435249"
      ]
     },
     "execution_count": 32,
     "metadata": {},
     "output_type": "execute_result"
    }
   ],
   "source": [
    "s.compute(seed=1)"
   ]
  },
  {
   "cell_type": "markdown",
   "metadata": {},
   "source": [
    "Calling `Experiment.get_history` specifying `verbose=True` returns detailed info including seed value per trials."
   ]
  },
  {
   "cell_type": "code",
   "execution_count": 33,
   "metadata": {
    "collapsed": false
   },
   "outputs": [
    {
     "data": {
      "text/html": [
       "<div>\n",
       "<style scoped>\n",
       "    .dataframe tbody tr th:only-of-type {\n",
       "        vertical-align: middle;\n",
       "    }\n",
       "\n",
       "    .dataframe tbody tr th {\n",
       "        vertical-align: top;\n",
       "    }\n",
       "\n",
       "    .dataframe thead th {\n",
       "        text-align: right;\n",
       "    }\n",
       "</style>\n",
       "<table border=\"1\" class=\"dataframe\">\n",
       "  <thead>\n",
       "    <tr style=\"text-align: right;\">\n",
       "      <th></th>\n",
       "      <th>a</th>\n",
       "      <th>b</th>\n",
       "      <th>Seed</th>\n",
       "      <th>Result</th>\n",
       "      <th>Result Type</th>\n",
       "      <th>Success</th>\n",
       "      <th>Finished</th>\n",
       "      <th>Process Time</th>\n",
       "      <th>Description</th>\n",
       "    </tr>\n",
       "    <tr>\n",
       "      <th>Trial ID</th>\n",
       "      <th></th>\n",
       "      <th></th>\n",
       "      <th></th>\n",
       "      <th></th>\n",
       "      <th></th>\n",
       "      <th></th>\n",
       "      <th></th>\n",
       "      <th></th>\n",
       "      <th></th>\n",
       "    </tr>\n",
       "  </thead>\n",
       "  <tbody>\n",
       "    <tr>\n",
       "      <th>1</th>\n",
       "      <td>1</td>\n",
       "      <td>2</td>\n",
       "      <td>2028578286</td>\n",
       "      <td>3.333333</td>\n",
       "      <td>&lt;class 'float'&gt;</td>\n",
       "      <td>True</td>\n",
       "      <td>2019-04-24 06:18:59.932019</td>\n",
       "      <td>00:00:00.046128</td>\n",
       "      <td>NaN</td>\n",
       "    </tr>\n",
       "    <tr>\n",
       "      <th>2</th>\n",
       "      <td>1</td>\n",
       "      <td>3</td>\n",
       "      <td>2078759740</td>\n",
       "      <td>2.500000</td>\n",
       "      <td>&lt;class 'float'&gt;</td>\n",
       "      <td>True</td>\n",
       "      <td>2019-04-24 06:18:59.993738</td>\n",
       "      <td>00:00:00.037286</td>\n",
       "      <td>NaN</td>\n",
       "    </tr>\n",
       "    <tr>\n",
       "      <th>3</th>\n",
       "      <td>1</td>\n",
       "      <td>-1</td>\n",
       "      <td>4062272305</td>\n",
       "      <td>NaN</td>\n",
       "      <td>None</td>\n",
       "      <td>False</td>\n",
       "      <td>2019-04-24 06:19:00.231209</td>\n",
       "      <td>00:00:00.018889</td>\n",
       "      <td>ZeroDivisionError(division by zero)</td>\n",
       "    </tr>\n",
       "    <tr>\n",
       "      <th>4</th>\n",
       "      <td>1</td>\n",
       "      <td>2</td>\n",
       "      <td>2421174391</td>\n",
       "      <td>3.333333</td>\n",
       "      <td>&lt;class 'float'&gt;</td>\n",
       "      <td>True</td>\n",
       "      <td>2019-04-24 06:19:00.400394</td>\n",
       "      <td>00:00:00.042101</td>\n",
       "      <td>NaN</td>\n",
       "    </tr>\n",
       "    <tr>\n",
       "      <th>5</th>\n",
       "      <td>3</td>\n",
       "      <td>2</td>\n",
       "      <td>816656897</td>\n",
       "      <td>2.000000</td>\n",
       "      <td>&lt;class 'float'&gt;</td>\n",
       "      <td>True</td>\n",
       "      <td>2019-04-24 06:19:00.456321</td>\n",
       "      <td>00:00:00.028360</td>\n",
       "      <td>NaN</td>\n",
       "    </tr>\n",
       "    <tr>\n",
       "      <th>6</th>\n",
       "      <td>1</td>\n",
       "      <td>2</td>\n",
       "      <td>922220462</td>\n",
       "      <td>3.333333</td>\n",
       "      <td>&lt;class 'float'&gt;</td>\n",
       "      <td>True</td>\n",
       "      <td>2019-04-24 06:19:00.559652</td>\n",
       "      <td>00:00:00.022449</td>\n",
       "      <td>NaN</td>\n",
       "    </tr>\n",
       "    <tr>\n",
       "      <th>7</th>\n",
       "      <td>3</td>\n",
       "      <td>4</td>\n",
       "      <td>2182320626</td>\n",
       "      <td>1.428571</td>\n",
       "      <td>&lt;class 'float'&gt;</td>\n",
       "      <td>True</td>\n",
       "      <td>2019-04-24 06:19:01.149631</td>\n",
       "      <td>00:00:00.018768</td>\n",
       "      <td>NaN</td>\n",
       "    </tr>\n",
       "    <tr>\n",
       "      <th>8</th>\n",
       "      <td>3</td>\n",
       "      <td>4</td>\n",
       "      <td>3237287406</td>\n",
       "      <td>1.893206</td>\n",
       "      <td>&lt;class 'float'&gt;</td>\n",
       "      <td>True</td>\n",
       "      <td>2019-04-24 06:19:01.814539</td>\n",
       "      <td>00:00:00.018613</td>\n",
       "      <td>NaN</td>\n",
       "    </tr>\n",
       "    <tr>\n",
       "      <th>9</th>\n",
       "      <td>3</td>\n",
       "      <td>4</td>\n",
       "      <td>1</td>\n",
       "      <td>1.755216</td>\n",
       "      <td>&lt;class 'float'&gt;</td>\n",
       "      <td>True</td>\n",
       "      <td>2019-04-24 06:19:01.882377</td>\n",
       "      <td>00:00:00.022353</td>\n",
       "      <td>NaN</td>\n",
       "    </tr>\n",
       "    <tr>\n",
       "      <th>10</th>\n",
       "      <td>3</td>\n",
       "      <td>4</td>\n",
       "      <td>1</td>\n",
       "      <td>1.755216</td>\n",
       "      <td>&lt;class 'float'&gt;</td>\n",
       "      <td>True</td>\n",
       "      <td>2019-04-24 06:19:01.962744</td>\n",
       "      <td>00:00:00.025399</td>\n",
       "      <td>NaN</td>\n",
       "    </tr>\n",
       "  </tbody>\n",
       "</table>\n",
       "</div>"
      ],
      "text/plain": [
       "          a  b        Seed    Result      Result Type  Success  \\\n",
       "Trial ID                                                         \n",
       "1         1  2  2028578286  3.333333  <class 'float'>     True   \n",
       "2         1  3  2078759740  2.500000  <class 'float'>     True   \n",
       "3         1 -1  4062272305       NaN             None    False   \n",
       "4         1  2  2421174391  3.333333  <class 'float'>     True   \n",
       "5         3  2   816656897  2.000000  <class 'float'>     True   \n",
       "6         1  2   922220462  3.333333  <class 'float'>     True   \n",
       "7         3  4  2182320626  1.428571  <class 'float'>     True   \n",
       "8         3  4  3237287406  1.893206  <class 'float'>     True   \n",
       "9         3  4           1  1.755216  <class 'float'>     True   \n",
       "10        3  4           1  1.755216  <class 'float'>     True   \n",
       "\n",
       "                           Finished    Process Time  \\\n",
       "Trial ID                                              \n",
       "1        2019-04-24 06:18:59.932019 00:00:00.046128   \n",
       "2        2019-04-24 06:18:59.993738 00:00:00.037286   \n",
       "3        2019-04-24 06:19:00.231209 00:00:00.018889   \n",
       "4        2019-04-24 06:19:00.400394 00:00:00.042101   \n",
       "5        2019-04-24 06:19:00.456321 00:00:00.028360   \n",
       "6        2019-04-24 06:19:00.559652 00:00:00.022449   \n",
       "7        2019-04-24 06:19:01.149631 00:00:00.018768   \n",
       "8        2019-04-24 06:19:01.814539 00:00:00.018613   \n",
       "9        2019-04-24 06:19:01.882377 00:00:00.022353   \n",
       "10       2019-04-24 06:19:01.962744 00:00:00.025399   \n",
       "\n",
       "                                  Description  \n",
       "Trial ID                                       \n",
       "1                                         NaN  \n",
       "2                                         NaN  \n",
       "3         ZeroDivisionError(division by zero)  \n",
       "4                                         NaN  \n",
       "5                                         NaN  \n",
       "6                                         NaN  \n",
       "7                                         NaN  \n",
       "8                                         NaN  \n",
       "9                                         NaN  \n",
       "10                                        NaN  "
      ]
     },
     "execution_count": 33,
     "metadata": {},
     "output_type": "execute_result"
    }
   ],
   "source": [
    "ex.get_history(verbose=True)"
   ]
  },
  {
   "cell_type": "markdown",
   "metadata": {},
   "source": [
    "# Save experiment result\n",
    "\n",
    "`daskperiment` automatically saves its internal state when the experiment result is computed (when `.compute` is called). Also, `Experiment` instance automatically recover previous state when it is instanciated.\n",
    "\n",
    "Following example instanciates `Experiment` instance using the same id as above. Thus, the created `Experiment` automatically recovers its state. "
   ]
  },
  {
   "cell_type": "code",
   "execution_count": 34,
   "metadata": {
    "collapsed": false
   },
   "outputs": [
    {
     "name": "stderr",
     "output_type": "stream",
     "text": [
      "2019-04-24 06:19:02,139 [daskperiment.backend.local] [INFO] Loading Experiment from file: daskperiment_cache/quickstart_pj/quickstart_pj.pkl\n",
      "2019-04-24 06:19:02,165 [daskperiment.core.experiment] [INFO] Loaded existing experiment: Experiment(id: quickstart_pj, trial_id: 10, backend: LocalBackend('daskperiment_cache/quickstart_pj'))\n",
      "2019-04-24 06:19:02,242 [daskperiment.environment.environment] [INFO] Platform Information: Darwin-17.7.0-x86_64-i386-64bit\n",
      "2019-04-24 06:19:02,246 [daskperiment.environment.environment] [INFO] Device CPU Count: 4\n",
      "2019-04-24 06:19:02,248 [daskperiment.environment.environment] [INFO] Python Implementation: CPython\n",
      "2019-04-24 06:19:02,250 [daskperiment.environment.environment] [INFO] Python Version: 3.6.8\n",
      "2019-04-24 06:19:02,252 [daskperiment.environment.environment] [INFO] Python Shell Mode: Jupyter Notebook\n",
      "2019-04-24 06:19:02,254 [daskperiment.environment.environment] [INFO] Python venv: False\n",
      "2019-04-24 06:19:02,256 [daskperiment.environment.environment] [INFO] Daskperiment Version: 0.4.0\n",
      "2019-04-24 06:19:02,258 [daskperiment.environment.environment] [INFO] Git Repository: /Users/sinhrks/Git/daskperiment\n",
      "2019-04-24 06:19:02,261 [daskperiment.environment.environment] [INFO] Git Active Branch: master\n",
      "2019-04-24 06:19:02,262 [daskperiment.environment.environment] [INFO] Git HEAD Commit: ac7a6ea40476ea21b4c4b98232ef35200561bfe4 (DIRTY)\n",
      "2019-04-24 06:19:02,265 [daskperiment.environment.environment] [INFO] Number of Installed Python Packages: 368\n"
     ]
    }
   ],
   "source": [
    "ex_new = daskperiment.Experiment(id='quickstart_pj')"
   ]
  },
  {
   "cell_type": "markdown",
   "metadata": {},
   "source": [
    "Calling `.get_history` returns information of previous trials."
   ]
  },
  {
   "cell_type": "code",
   "execution_count": 35,
   "metadata": {
    "collapsed": false
   },
   "outputs": [
    {
     "data": {
      "text/html": [
       "<div>\n",
       "<style scoped>\n",
       "    .dataframe tbody tr th:only-of-type {\n",
       "        vertical-align: middle;\n",
       "    }\n",
       "\n",
       "    .dataframe tbody tr th {\n",
       "        vertical-align: top;\n",
       "    }\n",
       "\n",
       "    .dataframe thead th {\n",
       "        text-align: right;\n",
       "    }\n",
       "</style>\n",
       "<table border=\"1\" class=\"dataframe\">\n",
       "  <thead>\n",
       "    <tr style=\"text-align: right;\">\n",
       "      <th></th>\n",
       "      <th>a</th>\n",
       "      <th>b</th>\n",
       "      <th>Result</th>\n",
       "      <th>Success</th>\n",
       "      <th>Finished</th>\n",
       "      <th>Process Time</th>\n",
       "      <th>Description</th>\n",
       "    </tr>\n",
       "    <tr>\n",
       "      <th>Trial ID</th>\n",
       "      <th></th>\n",
       "      <th></th>\n",
       "      <th></th>\n",
       "      <th></th>\n",
       "      <th></th>\n",
       "      <th></th>\n",
       "      <th></th>\n",
       "    </tr>\n",
       "  </thead>\n",
       "  <tbody>\n",
       "    <tr>\n",
       "      <th>1</th>\n",
       "      <td>1</td>\n",
       "      <td>2</td>\n",
       "      <td>3.333333</td>\n",
       "      <td>True</td>\n",
       "      <td>2019-04-24 06:18:59.932019</td>\n",
       "      <td>00:00:00.046128</td>\n",
       "      <td>NaN</td>\n",
       "    </tr>\n",
       "    <tr>\n",
       "      <th>2</th>\n",
       "      <td>1</td>\n",
       "      <td>3</td>\n",
       "      <td>2.500000</td>\n",
       "      <td>True</td>\n",
       "      <td>2019-04-24 06:18:59.993738</td>\n",
       "      <td>00:00:00.037286</td>\n",
       "      <td>NaN</td>\n",
       "    </tr>\n",
       "    <tr>\n",
       "      <th>3</th>\n",
       "      <td>1</td>\n",
       "      <td>-1</td>\n",
       "      <td>NaN</td>\n",
       "      <td>False</td>\n",
       "      <td>2019-04-24 06:19:00.231209</td>\n",
       "      <td>00:00:00.018889</td>\n",
       "      <td>ZeroDivisionError(division by zero)</td>\n",
       "    </tr>\n",
       "    <tr>\n",
       "      <th>4</th>\n",
       "      <td>1</td>\n",
       "      <td>2</td>\n",
       "      <td>3.333333</td>\n",
       "      <td>True</td>\n",
       "      <td>2019-04-24 06:19:00.400394</td>\n",
       "      <td>00:00:00.042101</td>\n",
       "      <td>NaN</td>\n",
       "    </tr>\n",
       "    <tr>\n",
       "      <th>5</th>\n",
       "      <td>3</td>\n",
       "      <td>2</td>\n",
       "      <td>2.000000</td>\n",
       "      <td>True</td>\n",
       "      <td>2019-04-24 06:19:00.456321</td>\n",
       "      <td>00:00:00.028360</td>\n",
       "      <td>NaN</td>\n",
       "    </tr>\n",
       "    <tr>\n",
       "      <th>6</th>\n",
       "      <td>1</td>\n",
       "      <td>2</td>\n",
       "      <td>3.333333</td>\n",
       "      <td>True</td>\n",
       "      <td>2019-04-24 06:19:00.559652</td>\n",
       "      <td>00:00:00.022449</td>\n",
       "      <td>NaN</td>\n",
       "    </tr>\n",
       "    <tr>\n",
       "      <th>7</th>\n",
       "      <td>3</td>\n",
       "      <td>4</td>\n",
       "      <td>1.428571</td>\n",
       "      <td>True</td>\n",
       "      <td>2019-04-24 06:19:01.149631</td>\n",
       "      <td>00:00:00.018768</td>\n",
       "      <td>NaN</td>\n",
       "    </tr>\n",
       "    <tr>\n",
       "      <th>8</th>\n",
       "      <td>3</td>\n",
       "      <td>4</td>\n",
       "      <td>1.893206</td>\n",
       "      <td>True</td>\n",
       "      <td>2019-04-24 06:19:01.814539</td>\n",
       "      <td>00:00:00.018613</td>\n",
       "      <td>NaN</td>\n",
       "    </tr>\n",
       "    <tr>\n",
       "      <th>9</th>\n",
       "      <td>3</td>\n",
       "      <td>4</td>\n",
       "      <td>1.755216</td>\n",
       "      <td>True</td>\n",
       "      <td>2019-04-24 06:19:01.882377</td>\n",
       "      <td>00:00:00.022353</td>\n",
       "      <td>NaN</td>\n",
       "    </tr>\n",
       "    <tr>\n",
       "      <th>10</th>\n",
       "      <td>3</td>\n",
       "      <td>4</td>\n",
       "      <td>1.755216</td>\n",
       "      <td>True</td>\n",
       "      <td>2019-04-24 06:19:01.962744</td>\n",
       "      <td>00:00:00.025399</td>\n",
       "      <td>NaN</td>\n",
       "    </tr>\n",
       "  </tbody>\n",
       "</table>\n",
       "</div>"
      ],
      "text/plain": [
       "          a  b    Result  Success                   Finished    Process Time  \\\n",
       "Trial ID                                                                       \n",
       "1         1  2  3.333333     True 2019-04-24 06:18:59.932019 00:00:00.046128   \n",
       "2         1  3  2.500000     True 2019-04-24 06:18:59.993738 00:00:00.037286   \n",
       "3         1 -1       NaN    False 2019-04-24 06:19:00.231209 00:00:00.018889   \n",
       "4         1  2  3.333333     True 2019-04-24 06:19:00.400394 00:00:00.042101   \n",
       "5         3  2  2.000000     True 2019-04-24 06:19:00.456321 00:00:00.028360   \n",
       "6         1  2  3.333333     True 2019-04-24 06:19:00.559652 00:00:00.022449   \n",
       "7         3  4  1.428571     True 2019-04-24 06:19:01.149631 00:00:00.018768   \n",
       "8         3  4  1.893206     True 2019-04-24 06:19:01.814539 00:00:00.018613   \n",
       "9         3  4  1.755216     True 2019-04-24 06:19:01.882377 00:00:00.022353   \n",
       "10        3  4  1.755216     True 2019-04-24 06:19:01.962744 00:00:00.025399   \n",
       "\n",
       "                                  Description  \n",
       "Trial ID                                       \n",
       "1                                         NaN  \n",
       "2                                         NaN  \n",
       "3         ZeroDivisionError(division by zero)  \n",
       "4                                         NaN  \n",
       "5                                         NaN  \n",
       "6                                         NaN  \n",
       "7                                         NaN  \n",
       "8                                         NaN  \n",
       "9                                         NaN  \n",
       "10                                        NaN  "
      ]
     },
     "execution_count": 35,
     "metadata": {},
     "output_type": "execute_result"
    }
   ],
   "source": [
    "ex_new.get_history()"
   ]
  },
  {
   "cell_type": "markdown",
   "metadata": {},
   "source": [
    "Also, `Experiment` instance automatically detects the environment change from its previous trial. Following is a sample log when package update is detected (pandas 0.23.4 -> 0.24.0).\n",
    "\n",
    "    2019-01-29 00:22:35,357 [daskperiment.io.serialize] [INFO] Loaded Experiment(id: quickstart_pj, trial_id: 14) from path=daskperiment_cache/quickstart_pj/quickstart_pj.pkl\n",
    "    2019-01-29 00:22:35,404 [daskperiment.core.environment] [WARNING] Installed Python packages have been changed\n",
    "    2019-01-29 00:22:35,408 [daskperiment.core.environment] [WARNING] @@ -142 +142 @@\n",
    "    2019-01-29 00:22:35,411 [daskperiment.core.environment] [WARNING] -pandas 0.23.4 (/Users/sinhrks/anaconda/lib/python3.6/site-packages)\n",
    "    2019-01-29 00:22:35,412 [daskperiment.core.environment] [WARNING] +pandas 0.24.0 (/Users/sinhrks/anaconda/lib/python3.6/site-packages)"
   ]
  },
  {
   "cell_type": "markdown",
   "metadata": {},
   "source": [
    "# Web Dashboard\n",
    "\n",
    "`Experiment.start_dashboard` starts web dashboard to check its history."
   ]
  },
  {
   "cell_type": "code",
   "execution_count": 36,
   "metadata": {
    "collapsed": false
   },
   "outputs": [],
   "source": [
    "ex.start_dashboard()"
   ]
  },
  {
   "cell_type": "markdown",
   "metadata": {
    "collapsed": true
   },
   "source": [
    "# Run as CLI\n",
    "\n",
    "`daskperiment` also supports execution from command line. First, prepare a `Python` script to define experiment. The usage of `Experiment` class is all the same as Jupyter example. `daskperiment` regards a result of a function decorated with `Experiment.result` (`calculate_score` function in below case) as experiment output."
   ]
  },
  {
   "cell_type": "code",
   "execution_count": 37,
   "metadata": {
    "collapsed": false
   },
   "outputs": [
    {
     "name": "stderr",
     "output_type": "stream",
     "text": [
      " * Running on http://0.0.0.0:5000/ (Press CTRL+C to quit)\n"
     ]
    },
    {
     "name": "stdout",
     "output_type": "stream",
     "text": [
      "import daskperiment\r\n",
      "\r\n",
      "ex = daskperiment.Experiment(id='simple_experiment_pj')\r\n",
      "\r\n",
      "a = ex.parameter('a')\r\n",
      "b = ex.parameter('b')\r\n",
      "\r\n",
      "\r\n",
      "@ex\r\n",
      "def prepare_data(a, b):\r\n",
      "    return a + b\r\n",
      "\r\n",
      "\r\n",
      "@ex.result\r\n",
      "def calculate_score(s):\r\n",
      "    return s + 1\r\n",
      "\r\n",
      "\r\n",
      "d = prepare_data(a, b)\r\n",
      "calculate_score(d)\r\n"
     ]
    }
   ],
   "source": [
    "%cat ../scripts/simple_experiment.py"
   ]
  },
  {
   "cell_type": "markdown",
   "metadata": {},
   "source": [
    "You can provide parameter values from command line options using `key=value` format. `daskperinemt` automatically parse parameters and perform computation."
   ]
  },
  {
   "cell_type": "code",
   "execution_count": 38,
   "metadata": {
    "collapsed": false
   },
   "outputs": [
    {
     "name": "stdout",
     "output_type": "stream",
     "text": [
      "2019-04-24 06:19:07,003 [daskperiment.core.experiment] [INFO] Initialized new experiment: Experiment(id: simple_experiment_pj, trial_id: 0, backend: LocalBackend('daskperiment_cache/simple_experiment_pj'))\n",
      "2019-04-24 06:19:07,160 [daskperiment.environment.environment] [INFO] Platform Information: Darwin-17.7.0-x86_64-i386-64bit\n",
      "2019-04-24 06:19:07,161 [daskperiment.environment.environment] [INFO] Device CPU Count: 4\n",
      "2019-04-24 06:19:07,161 [daskperiment.environment.environment] [INFO] Python Implementation: CPython\n",
      "2019-04-24 06:19:07,161 [daskperiment.environment.environment] [INFO] Python Version: 3.6.8\n",
      "2019-04-24 06:19:07,161 [daskperiment.environment.environment] [INFO] Python Shell Mode: File\n",
      "2019-04-24 06:19:07,161 [daskperiment.environment.environment] [INFO] Python venv: False\n",
      "2019-04-24 06:19:07,161 [daskperiment.environment.environment] [INFO] Daskperiment Version: 0.4.0\n",
      "2019-04-24 06:19:07,161 [daskperiment.environment.environment] [INFO] Git Repository: /Users/sinhrks/Git/daskperiment\n",
      "2019-04-24 06:19:07,161 [daskperiment.environment.environment] [INFO] Git Active Branch: master\n",
      "2019-04-24 06:19:07,162 [daskperiment.environment.environment] [INFO] Git HEAD Commit: ac7a6ea40476ea21b4c4b98232ef35200561bfe4 (DIRTY)\n",
      "2019-04-24 06:19:07,162 [daskperiment.environment.environment] [INFO] Number of Installed Python Packages: 368\n",
      "2019-04-24 06:19:07,167 [daskperiment.core.parameter] [INFO] Updated parameters: a=1<class 'int'>, b=2<class 'int'>\n",
      "2019-04-24 06:19:07,168 [daskperiment.core.trial.base] [INFO] Started Experiment (trial id=1)\n",
      "2019-04-24 06:19:07,168 [daskperiment.core.trial.base] [INFO] Parameters: a=1<class 'int'>, b=2<class 'int'>\n",
      "2019-04-24 06:19:07,168 [daskperiment.core.code] [INFO] Saving code context: daskperiment_cache/simple_experiment_pj/code/simple_experiment_pj_1.py\n",
      "2019-04-24 06:19:07,175 [daskperiment.core.trial.base] [INFO] Random seed is not provided, initialized with generated seed: 1696488264\n",
      "2019-04-24 06:19:07,180 [daskperiment.core.trial.base] [INFO] Finished Experiment (trial id=1)\n",
      "2019-04-24 06:19:07,181 [daskperiment.backend.local] [INFO] Saving Experiment to file: daskperiment_cache/simple_experiment_pj/simple_experiment_pj.pkl\n"
     ]
    }
   ],
   "source": [
    "!python ../scripts/simple_experiment.py a=1 b=2"
   ]
  },
  {
   "cell_type": "markdown",
   "metadata": {},
   "source": [
    "Let's perform multiple trials using different parameters. `daskperiment` automatically saves trial history as the same as Jupyter example (see trial id is incremented)."
   ]
  },
  {
   "cell_type": "code",
   "execution_count": 39,
   "metadata": {
    "collapsed": false
   },
   "outputs": [
    {
     "name": "stdout",
     "output_type": "stream",
     "text": [
      "2019-04-24 06:19:11,778 [daskperiment.backend.local] [INFO] Loading Experiment from file: daskperiment_cache/simple_experiment_pj/simple_experiment_pj.pkl\n",
      "2019-04-24 06:19:11,779 [daskperiment.core.experiment] [INFO] Loaded existing experiment: Experiment(id: simple_experiment_pj, trial_id: 1, backend: LocalBackend('daskperiment_cache/simple_experiment_pj'))\n",
      "2019-04-24 06:19:11,921 [daskperiment.environment.environment] [INFO] Platform Information: Darwin-17.7.0-x86_64-i386-64bit\n",
      "2019-04-24 06:19:11,921 [daskperiment.environment.environment] [INFO] Device CPU Count: 4\n",
      "2019-04-24 06:19:11,921 [daskperiment.environment.environment] [INFO] Python Implementation: CPython\n",
      "2019-04-24 06:19:11,922 [daskperiment.environment.environment] [INFO] Python Version: 3.6.8\n",
      "2019-04-24 06:19:11,922 [daskperiment.environment.environment] [INFO] Python Shell Mode: File\n",
      "2019-04-24 06:19:11,922 [daskperiment.environment.environment] [INFO] Python venv: False\n",
      "2019-04-24 06:19:11,922 [daskperiment.environment.environment] [INFO] Daskperiment Version: 0.4.0\n",
      "2019-04-24 06:19:11,922 [daskperiment.environment.environment] [INFO] Git Repository: /Users/sinhrks/Git/daskperiment\n",
      "2019-04-24 06:19:11,922 [daskperiment.environment.environment] [INFO] Git Active Branch: master\n",
      "2019-04-24 06:19:11,922 [daskperiment.environment.environment] [INFO] Git HEAD Commit: ac7a6ea40476ea21b4c4b98232ef35200561bfe4 (DIRTY)\n",
      "2019-04-24 06:19:11,923 [daskperiment.environment.environment] [INFO] Number of Installed Python Packages: 368\n",
      "2019-04-24 06:19:11,932 [daskperiment.core.parameter] [INFO] Updated parameters: a=3<class 'int'>, b=2<class 'int'>\n",
      "2019-04-24 06:19:11,932 [daskperiment.core.trial.base] [INFO] Started Experiment (trial id=2)\n",
      "2019-04-24 06:19:11,932 [daskperiment.core.trial.base] [INFO] Parameters: a=3<class 'int'>, b=2<class 'int'>\n",
      "2019-04-24 06:19:11,933 [daskperiment.core.code] [INFO] Saving code context: daskperiment_cache/simple_experiment_pj/code/simple_experiment_pj_2.py\n",
      "2019-04-24 06:19:11,940 [daskperiment.core.trial.base] [INFO] Random seed is not provided, initialized with generated seed: 2199246619\n",
      "2019-04-24 06:19:11,947 [daskperiment.core.trial.base] [INFO] Finished Experiment (trial id=2)\n",
      "2019-04-24 06:19:11,947 [daskperiment.backend.local] [INFO] Saving Experiment to file: daskperiment_cache/simple_experiment_pj/simple_experiment_pj.pkl\n"
     ]
    }
   ],
   "source": [
    "!python ../scripts/simple_experiment.py a=3 b=2"
   ]
  },
  {
   "cell_type": "markdown",
   "metadata": {},
   "source": [
    "To confirm the experiment results, instanciate Experiment specifying the same id as the script and use Experiment.get_history."
   ]
  },
  {
   "cell_type": "code",
   "execution_count": 40,
   "metadata": {
    "collapsed": false
   },
   "outputs": [
    {
     "name": "stderr",
     "output_type": "stream",
     "text": [
      "2019-04-24 06:19:12,509 [daskperiment.backend.local] [INFO] Loading Experiment from file: daskperiment_cache/simple_experiment_pj/simple_experiment_pj.pkl\n",
      "2019-04-24 06:19:12,514 [daskperiment.core.experiment] [INFO] Loaded existing experiment: Experiment(id: simple_experiment_pj, trial_id: 2, backend: LocalBackend('daskperiment_cache/simple_experiment_pj'))\n",
      "2019-04-24 06:19:12,599 [daskperiment.environment.environment] [INFO] Platform Information: Darwin-17.7.0-x86_64-i386-64bit\n",
      "2019-04-24 06:19:12,601 [daskperiment.environment.environment] [INFO] Device CPU Count: 4\n",
      "2019-04-24 06:19:12,603 [daskperiment.environment.environment] [INFO] Python Implementation: CPython\n",
      "2019-04-24 06:19:12,606 [daskperiment.environment.environment] [INFO] Python Version: 3.6.8\n",
      "2019-04-24 06:19:12,606 [daskperiment.environment.environment] [INFO] Python Shell Mode: Jupyter Notebook\n",
      "2019-04-24 06:19:12,608 [daskperiment.environment.environment] [INFO] Python venv: False\n",
      "2019-04-24 06:19:12,609 [daskperiment.environment.environment] [INFO] Daskperiment Version: 0.4.0\n",
      "2019-04-24 06:19:12,611 [daskperiment.environment.environment] [INFO] Git Repository: /Users/sinhrks/Git/daskperiment\n",
      "2019-04-24 06:19:12,613 [daskperiment.environment.environment] [INFO] Git Active Branch: master\n",
      "2019-04-24 06:19:12,616 [daskperiment.environment.environment] [INFO] Git HEAD Commit: ac7a6ea40476ea21b4c4b98232ef35200561bfe4 (DIRTY)\n",
      "2019-04-24 06:19:12,618 [daskperiment.environment.environment] [INFO] Number of Installed Python Packages: 368\n",
      "2019-04-24 06:19:12,622 [daskperiment.environment.environment] [WARNING] Environment information has been changed: cpu\n",
      "2019-04-24 06:19:12,624 [daskperiment.environment.environment] [WARNING] @@ -17,2 +17,2 @@\n",
      "\n",
      "2019-04-24 06:19:12,626 [daskperiment.environment.environment] [WARNING] -L2 Cache Line Size: 6\n",
      "2019-04-24 06:19:12,628 [daskperiment.environment.environment] [WARNING] -L2 Cache Associativity: 0x100\n",
      "2019-04-24 06:19:12,630 [daskperiment.environment.environment] [WARNING] +L2 Cache Line Size: \n",
      "2019-04-24 06:19:12,632 [daskperiment.environment.environment] [WARNING] +L2 Cache Associativity: \n",
      "2019-04-24 06:19:12,634 [daskperiment.environment.environment] [WARNING] @@ -24 +24 @@\n",
      "\n",
      "2019-04-24 06:19:12,636 [daskperiment.environment.environment] [WARNING] -Extended Model: 3\n",
      "2019-04-24 06:19:12,642 [daskperiment.environment.environment] [WARNING] +Extended Model: \n",
      "2019-04-24 06:19:12,645 [daskperiment.environment.environment] [WARNING] @@ -26 +26 @@\n",
      "\n",
      "2019-04-24 06:19:12,646 [daskperiment.environment.environment] [WARNING] -Flags: 1gbpage,3dnowprefetch,abm,acpi,adx,aes,apic,avx,avx1.0,avx2,bmi1,bmi2,clflush,clfsh,cmov,cx16,cx8,de,ds,ds_cpl,dscpl,dtes64,dts,em64t,erms,est,f16c,fma,fpu,fpu_csds,fxsr,ht,htt,intel_pt,invpcid,ipt,lahf,lahf_lm,lzcnt,mca,mce,mmx,mon,monitor,movbe,msr,mtrr,osxsave,pae,pat,pbe,pcid,pclmulqdq,pdcm,pge,pni,popcnt,prefetchw,pse,pse36,rdrand,rdrnd,rdseed,rdtscp,rdwrfsgs,seglim64,sep,smap,smep,ss,sse,sse2,sse3,sse4.1,sse4.2,sse4_1,sse4_2,ssse3,syscall,tm,tm2,tpr,tsc,tsc_thread_offset,tscdeadline,tsci,tsctmr,vme,vmx,x2apic,xd,xsave,xtpr\n",
      "2019-04-24 06:19:12,648 [daskperiment.environment.environment] [WARNING] +Flags: 1gbpage,acpi,adx,aes,apic,avx1.0,avx2,bmi1,bmi2,clfsh,cmov,cx16,cx8,de,ds,dscpl,dtes64,em64t,erms,est,f16c,fma,fpu,fpu_csds,fxsr,htt,invpcid,ipt,lahf,lzcnt,mca,mce,mmx,mon,movbe,msr,mtrr,osxsave,pae,pat,pbe,pcid,pclmulqdq,pdcm,pge,popcnt,prefetchw,pse,pse36,rdrand,rdseed,rdtscp,rdwrfsgs,seglim64,sep,smap,smep,ss,sse,sse2,sse3,sse4.1,sse4.2,ssse3,syscall,tm,tm2,tpr,tsc,tsc_thread_offset,tsci,tsctmr,vme,vmx,x2apic,xd,xsave\n",
      "2019-04-24 06:19:12,650 [daskperiment.environment.environment] [WARNING] Environment information has been changed: python\n",
      "2019-04-24 06:19:12,651 [daskperiment.environment.environment] [WARNING] @@ -3 +3 @@\n",
      "\n",
      "2019-04-24 06:19:12,653 [daskperiment.environment.environment] [WARNING] -Python Shell Mode: File\n",
      "2019-04-24 06:19:12,655 [daskperiment.environment.environment] [WARNING] +Python Shell Mode: Jupyter Notebook\n"
     ]
    },
    {
     "data": {
      "text/html": [
       "<div>\n",
       "<style scoped>\n",
       "    .dataframe tbody tr th:only-of-type {\n",
       "        vertical-align: middle;\n",
       "    }\n",
       "\n",
       "    .dataframe tbody tr th {\n",
       "        vertical-align: top;\n",
       "    }\n",
       "\n",
       "    .dataframe thead th {\n",
       "        text-align: right;\n",
       "    }\n",
       "</style>\n",
       "<table border=\"1\" class=\"dataframe\">\n",
       "  <thead>\n",
       "    <tr style=\"text-align: right;\">\n",
       "      <th></th>\n",
       "      <th>a</th>\n",
       "      <th>b</th>\n",
       "      <th>Result</th>\n",
       "      <th>Success</th>\n",
       "      <th>Finished</th>\n",
       "      <th>Process Time</th>\n",
       "      <th>Description</th>\n",
       "    </tr>\n",
       "    <tr>\n",
       "      <th>Trial ID</th>\n",
       "      <th></th>\n",
       "      <th></th>\n",
       "      <th></th>\n",
       "      <th></th>\n",
       "      <th></th>\n",
       "      <th></th>\n",
       "      <th></th>\n",
       "    </tr>\n",
       "  </thead>\n",
       "  <tbody>\n",
       "    <tr>\n",
       "      <th>1</th>\n",
       "      <td>1</td>\n",
       "      <td>2</td>\n",
       "      <td>4</td>\n",
       "      <td>True</td>\n",
       "      <td>2019-04-24 06:19:07.180671</td>\n",
       "      <td>00:00:00.012448</td>\n",
       "      <td>NaN</td>\n",
       "    </tr>\n",
       "    <tr>\n",
       "      <th>2</th>\n",
       "      <td>3</td>\n",
       "      <td>2</td>\n",
       "      <td>6</td>\n",
       "      <td>True</td>\n",
       "      <td>2019-04-24 06:19:11.947036</td>\n",
       "      <td>00:00:00.014329</td>\n",
       "      <td>NaN</td>\n",
       "    </tr>\n",
       "  </tbody>\n",
       "</table>\n",
       "</div>"
      ],
      "text/plain": [
       "          a  b  Result  Success                   Finished    Process Time  \\\n",
       "Trial ID                                                                     \n",
       "1         1  2       4     True 2019-04-24 06:19:07.180671 00:00:00.012448   \n",
       "2         3  2       6     True 2019-04-24 06:19:11.947036 00:00:00.014329   \n",
       "\n",
       "          Description  \n",
       "Trial ID               \n",
       "1                 NaN  \n",
       "2                 NaN  "
      ]
     },
     "execution_count": 40,
     "metadata": {},
     "output_type": "execute_result"
    }
   ],
   "source": [
    "import daskperiment\n",
    "\n",
    "ex = daskperiment.Experiment(id='simple_experiment_pj')\n",
    "ex.get_history()"
   ]
  },
  {
   "cell_type": "code",
   "execution_count": null,
   "metadata": {
    "collapsed": true
   },
   "outputs": [],
   "source": []
  }
 ],
 "metadata": {
  "kernelspec": {
   "display_name": "Python 3",
   "language": "python",
   "name": "python3"
  },
  "language_info": {
   "codemirror_mode": {
    "name": "ipython",
    "version": 3
   },
   "file_extension": ".py",
   "mimetype": "text/x-python",
   "name": "python",
   "nbconvert_exporter": "python",
   "pygments_lexer": "ipython3",
   "version": "3.6.8"
  }
 },
 "nbformat": 4,
 "nbformat_minor": 2
}
