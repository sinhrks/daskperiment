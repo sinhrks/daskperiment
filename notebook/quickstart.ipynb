{
 "cells": [
  {
   "cell_type": "markdown",
   "metadata": {},
   "source": [
    "# Quickstart\n",
    "\n",
    "This notebook describes a minimal example. First, create `daskperiment.Experiment` instance. This instance controlls an experiment, a chain of functions to output value and a collection of input variables."
   ]
  },
  {
   "cell_type": "code",
   "execution_count": 1,
   "metadata": {
    "collapsed": false
   },
   "outputs": [],
   "source": [
    "%matplotlib inline\n",
    "import numpy as np\n",
    "import daskperiment"
   ]
  },
  {
   "cell_type": "markdown",
   "metadata": {},
   "source": [
    "First, create `daskperiment.Experiment` instance. This instance controlls an experiment, a chain of functions to output value and a collection of input variables."
   ]
  },
  {
   "cell_type": "code",
   "execution_count": 2,
   "metadata": {
    "collapsed": false,
    "scrolled": true
   },
   "outputs": [
    {
     "name": "stderr",
     "output_type": "stream",
     "text": [
      "2019-02-09 23:13:20,666 [daskperiment.io.pickle] [INFO] Use existing cache directory: /Users/sinhrks/Git/daskperiment/notebook/daskperiment_cache/quickstart_pj\n",
      "2019-02-09 23:13:20,672 [daskperiment.backend.local] [INFO] Loading Experiment from file: daskperiment_cache/quickstart_pj/quickstart_pj.pkl\n",
      "2019-02-09 23:13:20,674 [daskperiment.io.pickle] [INFO] Loaded LocalBackend('daskperiment_cache/quickstart_pj') from path=daskperiment_cache/quickstart_pj/quickstart_pj.pkl\n",
      "2019-02-09 23:13:20,676 [daskperiment.core.experiment] [INFO] Loaded existing experiment: Experiment(id: quickstart_pj, trial_id: 7, backend: LocalBackend('daskperiment_cache/quickstart_pj'))\n",
      "2019-02-09 23:13:21,036 [daskperiment.core.environment] [INFO] Platform: Darwin-17.7.0-x86_64-i386-64bit\n",
      "2019-02-09 23:13:21,037 [daskperiment.core.environment] [INFO] Python: CPython 3.6.6 (Jupyter Notebook)\n",
      "2019-02-09 23:13:21,038 [daskperiment.core.environment] [INFO] daskperiment version: 0.2.1.dev0\n",
      "2019-02-09 23:13:21,039 [daskperiment.core.environment] [INFO] daskperiment path: /Users/sinhrks/Git/daskperiment/daskperiment\n",
      "2019-02-09 23:13:21,041 [daskperiment.core.environment] [INFO] Working directory: /Users/sinhrks/Git/daskperiment/notebook\n",
      "2019-02-09 23:13:21,042 [daskperiment.core.environment] [INFO] Number of installed Python packages: 339\n"
     ]
    },
    {
     "data": {
      "text/plain": [
       "Experiment(id: quickstart_pj, trial_id: 7, backend: LocalBackend('daskperiment_cache/quickstart_pj'))"
      ]
     },
     "execution_count": 2,
     "metadata": {},
     "output_type": "execute_result"
    }
   ],
   "source": [
    "ex = daskperiment.Experiment(id='quickstart_pj')\n",
    "ex"
   ]
  },
  {
   "cell_type": "markdown",
   "metadata": {},
   "source": [
    "Then, use `Experiment.parameter` method to define parameters (input variables for the experiment). The actual value of each parameter can be changed in every trial."
   ]
  },
  {
   "cell_type": "code",
   "execution_count": 3,
   "metadata": {
    "collapsed": false
   },
   "outputs": [
    {
     "data": {
      "text/plain": [
       "Parameter(a: Undefined)"
      ]
     },
     "execution_count": 3,
     "metadata": {},
     "output_type": "execute_result"
    }
   ],
   "source": [
    "a = ex.parameter('a')\n",
    "b = ex.parameter('b')\n",
    "a"
   ]
  },
  {
   "cell_type": "markdown",
   "metadata": {},
   "source": [
    "Next, you can define each experiment step (function) by decorating with `Experiment` instance (`@ex`).\n",
    "\n",
    "Note that the function to output the final result (mostly objective value to be minimized or maximized) must be decorated with `Experiment.result`. The chain of these functions are expressed as `Dask.Delayed` instance."
   ]
  },
  {
   "cell_type": "code",
   "execution_count": 4,
   "metadata": {
    "collapsed": false,
    "scrolled": false
   },
   "outputs": [
    {
     "data": {
      "text/plain": [
       "Delayed('calculate_score-248b2d7d-ae20-4b55-ab1d-8641a1ba7a74')"
      ]
     },
     "execution_count": 4,
     "metadata": {},
     "output_type": "execute_result"
    }
   ],
   "source": [
    "@ex\n",
    "def prepare_data(a, b):\n",
    "    return a + b \n",
    "\n",
    "@ex.result\n",
    "def calculate_score(s):\n",
    "    return 10 / s\n",
    "\n",
    "d = prepare_data(a, b)\n",
    "s = calculate_score(d)\n",
    "s"
   ]
  },
  {
   "cell_type": "markdown",
   "metadata": {},
   "source": [
    "Thus, you can visualize computation graph via `.visualize` method."
   ]
  },
  {
   "cell_type": "code",
   "execution_count": 5,
   "metadata": {
    "collapsed": false
   },
   "outputs": [
    {
     "data": {
      "image/png": "[encoded data removed]",
      "text/plain": [
       "<IPython.core.display.Image object>"
      ]
     },
     "execution_count": 5,
     "metadata": {},
     "output_type": "execute_result"
    }
   ],
   "source": [
    "s.visualize()"
   ]
  },
  {
   "cell_type": "markdown",
   "metadata": {},
   "source": [
    "Use `Experiment.set_parameters` method to set parameters for a trial. After setting parameters, `Parameter` variable and experiment result will be computable.\n",
    "\n",
    "Parameters are recommended to be a scalar (or lightweight value) because these are stored as history (for example, passing filename as a parameter is　preffered rather than passing `DataFrame`)."
   ]
  },
  {
   "cell_type": "code",
   "execution_count": 6,
   "metadata": {
    "collapsed": false,
    "scrolled": false
   },
   "outputs": [
    {
     "name": "stderr",
     "output_type": "stream",
     "text": [
      "2019-02-09 23:13:21,692 [daskperiment.core.parameter] [INFO] Updated parameters: a=1<class 'int'>, b=2<class 'int'>\n"
     ]
    },
    {
     "data": {
      "text/plain": [
       "1"
      ]
     },
     "execution_count": 6,
     "metadata": {},
     "output_type": "execute_result"
    }
   ],
   "source": [
    "ex.set_parameters(a=1, b=2)\n",
    "a.compute()"
   ]
  },
  {
   "cell_type": "code",
   "execution_count": 7,
   "metadata": {
    "collapsed": false
   },
   "outputs": [
    {
     "name": "stderr",
     "output_type": "stream",
     "text": [
      "2019-02-09 23:13:21,712 [daskperiment.core.trial] [INFO] Started Experiment (trial id=8)\n",
      "2019-02-09 23:13:21,715 [daskperiment.core.experiment] [INFO] Target: calculate_score-248b2d7d-ae20-4b55-ab1d-8641a1ba7a74\n",
      "2019-02-09 23:13:21,720 [daskperiment.core.experiment] [INFO] Random seed is not provided. Initializing with generated seed: 4119651207\n",
      "2019-02-09 23:13:21,723 [daskperiment.core.trial] [INFO] Parameters: a=1<class 'int'>, b=2<class 'int'>\n",
      "2019-02-09 23:13:21,726 [daskperiment.core.code] [INFO] Saving code context: daskperiment_cache/quickstart_pj/code/quickstart_pj_8.py\n",
      "2019-02-09 23:13:21,728 [daskperiment.core.environment] [INFO] Saving device info: daskperiment_cache/quickstart_pj/environment/device_quickstart_pj_8.txt\n",
      "2019-02-09 23:13:21,731 [daskperiment.core.environment] [INFO] Saving python packages: daskperiment_cache/quickstart_pj/environment/requirements_quickstart_pj_8.txt\n",
      "2019-02-09 23:13:21,736 [daskperiment.core.trial] [INFO] Finished Experiment (trial id=8)\n",
      "2019-02-09 23:13:21,738 [daskperiment.backend.local] [INFO] Saving Experiment to file: daskperiment_cache/quickstart_pj/quickstart_pj.pkl\n",
      "2019-02-09 23:13:21,740 [daskperiment.io.pickle] [INFO] Saving LocalBackend('daskperiment_cache/quickstart_pj') to path=daskperiment_cache/quickstart_pj/quickstart_pj.pkl\n"
     ]
    },
    {
     "data": {
      "text/plain": [
       "3.3333333333333335"
      ]
     },
     "execution_count": 7,
     "metadata": {},
     "output_type": "execute_result"
    }
   ],
   "source": [
    "s.compute()"
   ]
  },
  {
   "cell_type": "markdown",
   "metadata": {},
   "source": [
    "You can update any parameters for next trial. Every trials can be distinguished by trial id."
   ]
  },
  {
   "cell_type": "code",
   "execution_count": 8,
   "metadata": {
    "collapsed": false,
    "scrolled": false
   },
   "outputs": [
    {
     "name": "stderr",
     "output_type": "stream",
     "text": [
      "2019-02-09 23:13:21,778 [daskperiment.core.parameter] [INFO] Updated parameters: a=1<class 'int'>, b=3<class 'int'>\n",
      "2019-02-09 23:13:21,799 [daskperiment.core.trial] [INFO] Started Experiment (trial id=9)\n",
      "2019-02-09 23:13:21,806 [daskperiment.core.experiment] [INFO] Target: calculate_score-248b2d7d-ae20-4b55-ab1d-8641a1ba7a74\n",
      "2019-02-09 23:13:21,810 [daskperiment.core.experiment] [INFO] Random seed is not provided. Initializing with generated seed: 2786204846\n",
      "2019-02-09 23:13:21,811 [daskperiment.core.trial] [INFO] Parameters: a=1<class 'int'>, b=3<class 'int'>\n",
      "2019-02-09 23:13:21,812 [daskperiment.core.code] [INFO] Saving code context: daskperiment_cache/quickstart_pj/code/quickstart_pj_9.py\n",
      "2019-02-09 23:13:21,817 [daskperiment.core.environment] [INFO] Saving device info: daskperiment_cache/quickstart_pj/environment/device_quickstart_pj_9.txt\n",
      "2019-02-09 23:13:21,818 [daskperiment.core.environment] [INFO] Saving python packages: daskperiment_cache/quickstart_pj/environment/requirements_quickstart_pj_9.txt\n",
      "2019-02-09 23:13:21,822 [daskperiment.core.trial] [INFO] Finished Experiment (trial id=9)\n",
      "2019-02-09 23:13:21,823 [daskperiment.backend.local] [INFO] Saving Experiment to file: daskperiment_cache/quickstart_pj/quickstart_pj.pkl\n",
      "2019-02-09 23:13:21,824 [daskperiment.io.pickle] [INFO] Saving LocalBackend('daskperiment_cache/quickstart_pj') to path=daskperiment_cache/quickstart_pj/quickstart_pj.pkl\n"
     ]
    },
    {
     "data": {
      "text/plain": [
       "2.5"
      ]
     },
     "execution_count": 8,
     "metadata": {},
     "output_type": "execute_result"
    }
   ],
   "source": [
    "ex.set_parameters(b=3)\n",
    "s.compute()"
   ]
  },
  {
   "cell_type": "code",
   "execution_count": 9,
   "metadata": {
    "collapsed": false
   },
   "outputs": [
    {
     "data": {
      "text/html": [
       "<div>\n",
       "<style scoped>\n",
       "    .dataframe tbody tr th:only-of-type {\n",
       "        vertical-align: middle;\n",
       "    }\n",
       "\n",
       "    .dataframe tbody tr th {\n",
       "        vertical-align: top;\n",
       "    }\n",
       "\n",
       "    .dataframe thead th {\n",
       "        text-align: right;\n",
       "    }\n",
       "</style>\n",
       "<table border=\"1\" class=\"dataframe\">\n",
       "  <thead>\n",
       "    <tr style=\"text-align: right;\">\n",
       "      <th></th>\n",
       "      <th>a</th>\n",
       "      <th>b</th>\n",
       "      <th>Seed</th>\n",
       "      <th>Result</th>\n",
       "      <th>Result Type</th>\n",
       "      <th>Success</th>\n",
       "      <th>Finished</th>\n",
       "      <th>Process Time</th>\n",
       "      <th>Description</th>\n",
       "    </tr>\n",
       "    <tr>\n",
       "      <th>Trial ID</th>\n",
       "      <th></th>\n",
       "      <th></th>\n",
       "      <th></th>\n",
       "      <th></th>\n",
       "      <th></th>\n",
       "      <th></th>\n",
       "      <th></th>\n",
       "      <th></th>\n",
       "      <th></th>\n",
       "    </tr>\n",
       "  </thead>\n",
       "  <tbody>\n",
       "    <tr>\n",
       "      <th>1</th>\n",
       "      <td>1</td>\n",
       "      <td>2</td>\n",
       "      <td>3621047138</td>\n",
       "      <td>3.333333</td>\n",
       "      <td>&lt;class 'float'&gt;</td>\n",
       "      <td>True</td>\n",
       "      <td>2019-02-09 23:12:17.823271</td>\n",
       "      <td>00:00:00.020709</td>\n",
       "      <td>NaN</td>\n",
       "    </tr>\n",
       "    <tr>\n",
       "      <th>2</th>\n",
       "      <td>1</td>\n",
       "      <td>3</td>\n",
       "      <td>3028304101</td>\n",
       "      <td>2.500000</td>\n",
       "      <td>&lt;class 'float'&gt;</td>\n",
       "      <td>True</td>\n",
       "      <td>2019-02-09 23:12:17.862060</td>\n",
       "      <td>00:00:00.019239</td>\n",
       "      <td>NaN</td>\n",
       "    </tr>\n",
       "    <tr>\n",
       "      <th>3</th>\n",
       "      <td>1</td>\n",
       "      <td>-1</td>\n",
       "      <td>3427595011</td>\n",
       "      <td>NaN</td>\n",
       "      <td>None</td>\n",
       "      <td>False</td>\n",
       "      <td>2019-02-09 23:12:18.120727</td>\n",
       "      <td>00:00:00.036386</td>\n",
       "      <td>ZeroDivisionError(division by zero)</td>\n",
       "    </tr>\n",
       "    <tr>\n",
       "      <th>4</th>\n",
       "      <td>1</td>\n",
       "      <td>2</td>\n",
       "      <td>3074590505</td>\n",
       "      <td>3.333333</td>\n",
       "      <td>&lt;class 'float'&gt;</td>\n",
       "      <td>True</td>\n",
       "      <td>2019-02-09 23:12:18.274840</td>\n",
       "      <td>00:00:00.019795</td>\n",
       "      <td>NaN</td>\n",
       "    </tr>\n",
       "    <tr>\n",
       "      <th>5</th>\n",
       "      <td>3</td>\n",
       "      <td>2</td>\n",
       "      <td>188388652</td>\n",
       "      <td>2.000000</td>\n",
       "      <td>&lt;class 'float'&gt;</td>\n",
       "      <td>True</td>\n",
       "      <td>2019-02-09 23:12:18.316023</td>\n",
       "      <td>00:00:00.020726</td>\n",
       "      <td>NaN</td>\n",
       "    </tr>\n",
       "    <tr>\n",
       "      <th>6</th>\n",
       "      <td>1</td>\n",
       "      <td>2</td>\n",
       "      <td>2062562240</td>\n",
       "      <td>3.333333</td>\n",
       "      <td>&lt;class 'float'&gt;</td>\n",
       "      <td>True</td>\n",
       "      <td>2019-02-09 23:12:18.440663</td>\n",
       "      <td>00:00:00.024480</td>\n",
       "      <td>NaN</td>\n",
       "    </tr>\n",
       "    <tr>\n",
       "      <th>7</th>\n",
       "      <td>3</td>\n",
       "      <td>4</td>\n",
       "      <td>2263352391</td>\n",
       "      <td>1.428571</td>\n",
       "      <td>&lt;class 'float'&gt;</td>\n",
       "      <td>True</td>\n",
       "      <td>2019-02-09 23:12:18.957242</td>\n",
       "      <td>00:00:00.024543</td>\n",
       "      <td>NaN</td>\n",
       "    </tr>\n",
       "    <tr>\n",
       "      <th>8</th>\n",
       "      <td>1</td>\n",
       "      <td>2</td>\n",
       "      <td>4119651207</td>\n",
       "      <td>3.333333</td>\n",
       "      <td>&lt;class 'float'&gt;</td>\n",
       "      <td>True</td>\n",
       "      <td>2019-02-09 23:13:21.735993</td>\n",
       "      <td>00:00:00.023776</td>\n",
       "      <td>NaN</td>\n",
       "    </tr>\n",
       "    <tr>\n",
       "      <th>9</th>\n",
       "      <td>1</td>\n",
       "      <td>3</td>\n",
       "      <td>2786204846</td>\n",
       "      <td>2.500000</td>\n",
       "      <td>&lt;class 'float'&gt;</td>\n",
       "      <td>True</td>\n",
       "      <td>2019-02-09 23:13:21.822778</td>\n",
       "      <td>00:00:00.023758</td>\n",
       "      <td>NaN</td>\n",
       "    </tr>\n",
       "  </tbody>\n",
       "</table>\n",
       "</div>"
      ],
      "text/plain": [
       "          a  b        Seed    Result      Result Type  Success  \\\n",
       "Trial ID                                                         \n",
       "1         1  2  3621047138  3.333333  <class 'float'>     True   \n",
       "2         1  3  3028304101  2.500000  <class 'float'>     True   \n",
       "3         1 -1  3427595011       NaN             None    False   \n",
       "4         1  2  3074590505  3.333333  <class 'float'>     True   \n",
       "5         3  2   188388652  2.000000  <class 'float'>     True   \n",
       "6         1  2  2062562240  3.333333  <class 'float'>     True   \n",
       "7         3  4  2263352391  1.428571  <class 'float'>     True   \n",
       "8         1  2  4119651207  3.333333  <class 'float'>     True   \n",
       "9         1  3  2786204846  2.500000  <class 'float'>     True   \n",
       "\n",
       "                           Finished    Process Time  \\\n",
       "Trial ID                                              \n",
       "1        2019-02-09 23:12:17.823271 00:00:00.020709   \n",
       "2        2019-02-09 23:12:17.862060 00:00:00.019239   \n",
       "3        2019-02-09 23:12:18.120727 00:00:00.036386   \n",
       "4        2019-02-09 23:12:18.274840 00:00:00.019795   \n",
       "5        2019-02-09 23:12:18.316023 00:00:00.020726   \n",
       "6        2019-02-09 23:12:18.440663 00:00:00.024480   \n",
       "7        2019-02-09 23:12:18.957242 00:00:00.024543   \n",
       "8        2019-02-09 23:13:21.735993 00:00:00.023776   \n",
       "9        2019-02-09 23:13:21.822778 00:00:00.023758   \n",
       "\n",
       "                                  Description  \n",
       "Trial ID                                       \n",
       "1                                         NaN  \n",
       "2                                         NaN  \n",
       "3         ZeroDivisionError(division by zero)  \n",
       "4                                         NaN  \n",
       "5                                         NaN  \n",
       "6                                         NaN  \n",
       "7                                         NaN  \n",
       "8                                         NaN  \n",
       "9                                         NaN  "
      ]
     },
     "execution_count": 9,
     "metadata": {},
     "output_type": "execute_result"
    }
   ],
   "source": [
    "ex.get_history()"
   ]
  },
  {
   "cell_type": "markdown",
   "metadata": {},
   "source": [
    "After some trials, you can retrieve parameter values specifying trial id."
   ]
  },
  {
   "cell_type": "code",
   "execution_count": 10,
   "metadata": {
    "collapsed": false,
    "scrolled": true
   },
   "outputs": [
    {
     "data": {
      "text/plain": [
       "{'a': 1, 'b': 2}"
      ]
     },
     "execution_count": 10,
     "metadata": {},
     "output_type": "execute_result"
    }
   ],
   "source": [
    "ex.get_parameters(trial_id=1)"
   ]
  },
  {
   "cell_type": "code",
   "execution_count": 11,
   "metadata": {
    "collapsed": false
   },
   "outputs": [
    {
     "data": {
      "text/plain": [
       "{'a': 1, 'b': 3}"
      ]
     },
     "execution_count": 11,
     "metadata": {},
     "output_type": "execute_result"
    }
   ],
   "source": [
    "ex.get_parameters(trial_id=2)"
   ]
  },
  {
   "cell_type": "markdown",
   "metadata": {},
   "source": [
    "`Experiment.get_history` will return a `DataFrame` which stores a history of trial parameters and its results. You can select desirable trial using `pandas` basic operation."
   ]
  },
  {
   "cell_type": "code",
   "execution_count": 12,
   "metadata": {
    "collapsed": false,
    "scrolled": false
   },
   "outputs": [
    {
     "data": {
      "text/html": [
       "<div>\n",
       "<style scoped>\n",
       "    .dataframe tbody tr th:only-of-type {\n",
       "        vertical-align: middle;\n",
       "    }\n",
       "\n",
       "    .dataframe tbody tr th {\n",
       "        vertical-align: top;\n",
       "    }\n",
       "\n",
       "    .dataframe thead th {\n",
       "        text-align: right;\n",
       "    }\n",
       "</style>\n",
       "<table border=\"1\" class=\"dataframe\">\n",
       "  <thead>\n",
       "    <tr style=\"text-align: right;\">\n",
       "      <th></th>\n",
       "      <th>a</th>\n",
       "      <th>b</th>\n",
       "      <th>Seed</th>\n",
       "      <th>Result</th>\n",
       "      <th>Result Type</th>\n",
       "      <th>Success</th>\n",
       "      <th>Finished</th>\n",
       "      <th>Process Time</th>\n",
       "      <th>Description</th>\n",
       "    </tr>\n",
       "    <tr>\n",
       "      <th>Trial ID</th>\n",
       "      <th></th>\n",
       "      <th></th>\n",
       "      <th></th>\n",
       "      <th></th>\n",
       "      <th></th>\n",
       "      <th></th>\n",
       "      <th></th>\n",
       "      <th></th>\n",
       "      <th></th>\n",
       "    </tr>\n",
       "  </thead>\n",
       "  <tbody>\n",
       "    <tr>\n",
       "      <th>1</th>\n",
       "      <td>1</td>\n",
       "      <td>2</td>\n",
       "      <td>3621047138</td>\n",
       "      <td>3.333333</td>\n",
       "      <td>&lt;class 'float'&gt;</td>\n",
       "      <td>True</td>\n",
       "      <td>2019-02-09 23:12:17.823271</td>\n",
       "      <td>00:00:00.020709</td>\n",
       "      <td>NaN</td>\n",
       "    </tr>\n",
       "    <tr>\n",
       "      <th>2</th>\n",
       "      <td>1</td>\n",
       "      <td>3</td>\n",
       "      <td>3028304101</td>\n",
       "      <td>2.500000</td>\n",
       "      <td>&lt;class 'float'&gt;</td>\n",
       "      <td>True</td>\n",
       "      <td>2019-02-09 23:12:17.862060</td>\n",
       "      <td>00:00:00.019239</td>\n",
       "      <td>NaN</td>\n",
       "    </tr>\n",
       "    <tr>\n",
       "      <th>3</th>\n",
       "      <td>1</td>\n",
       "      <td>-1</td>\n",
       "      <td>3427595011</td>\n",
       "      <td>NaN</td>\n",
       "      <td>None</td>\n",
       "      <td>False</td>\n",
       "      <td>2019-02-09 23:12:18.120727</td>\n",
       "      <td>00:00:00.036386</td>\n",
       "      <td>ZeroDivisionError(division by zero)</td>\n",
       "    </tr>\n",
       "    <tr>\n",
       "      <th>4</th>\n",
       "      <td>1</td>\n",
       "      <td>2</td>\n",
       "      <td>3074590505</td>\n",
       "      <td>3.333333</td>\n",
       "      <td>&lt;class 'float'&gt;</td>\n",
       "      <td>True</td>\n",
       "      <td>2019-02-09 23:12:18.274840</td>\n",
       "      <td>00:00:00.019795</td>\n",
       "      <td>NaN</td>\n",
       "    </tr>\n",
       "    <tr>\n",
       "      <th>5</th>\n",
       "      <td>3</td>\n",
       "      <td>2</td>\n",
       "      <td>188388652</td>\n",
       "      <td>2.000000</td>\n",
       "      <td>&lt;class 'float'&gt;</td>\n",
       "      <td>True</td>\n",
       "      <td>2019-02-09 23:12:18.316023</td>\n",
       "      <td>00:00:00.020726</td>\n",
       "      <td>NaN</td>\n",
       "    </tr>\n",
       "    <tr>\n",
       "      <th>6</th>\n",
       "      <td>1</td>\n",
       "      <td>2</td>\n",
       "      <td>2062562240</td>\n",
       "      <td>3.333333</td>\n",
       "      <td>&lt;class 'float'&gt;</td>\n",
       "      <td>True</td>\n",
       "      <td>2019-02-09 23:12:18.440663</td>\n",
       "      <td>00:00:00.024480</td>\n",
       "      <td>NaN</td>\n",
       "    </tr>\n",
       "    <tr>\n",
       "      <th>7</th>\n",
       "      <td>3</td>\n",
       "      <td>4</td>\n",
       "      <td>2263352391</td>\n",
       "      <td>1.428571</td>\n",
       "      <td>&lt;class 'float'&gt;</td>\n",
       "      <td>True</td>\n",
       "      <td>2019-02-09 23:12:18.957242</td>\n",
       "      <td>00:00:00.024543</td>\n",
       "      <td>NaN</td>\n",
       "    </tr>\n",
       "    <tr>\n",
       "      <th>8</th>\n",
       "      <td>1</td>\n",
       "      <td>2</td>\n",
       "      <td>4119651207</td>\n",
       "      <td>3.333333</td>\n",
       "      <td>&lt;class 'float'&gt;</td>\n",
       "      <td>True</td>\n",
       "      <td>2019-02-09 23:13:21.735993</td>\n",
       "      <td>00:00:00.023776</td>\n",
       "      <td>NaN</td>\n",
       "    </tr>\n",
       "    <tr>\n",
       "      <th>9</th>\n",
       "      <td>1</td>\n",
       "      <td>3</td>\n",
       "      <td>2786204846</td>\n",
       "      <td>2.500000</td>\n",
       "      <td>&lt;class 'float'&gt;</td>\n",
       "      <td>True</td>\n",
       "      <td>2019-02-09 23:13:21.822778</td>\n",
       "      <td>00:00:00.023758</td>\n",
       "      <td>NaN</td>\n",
       "    </tr>\n",
       "  </tbody>\n",
       "</table>\n",
       "</div>"
      ],
      "text/plain": [
       "          a  b        Seed    Result      Result Type  Success  \\\n",
       "Trial ID                                                         \n",
       "1         1  2  3621047138  3.333333  <class 'float'>     True   \n",
       "2         1  3  3028304101  2.500000  <class 'float'>     True   \n",
       "3         1 -1  3427595011       NaN             None    False   \n",
       "4         1  2  3074590505  3.333333  <class 'float'>     True   \n",
       "5         3  2   188388652  2.000000  <class 'float'>     True   \n",
       "6         1  2  2062562240  3.333333  <class 'float'>     True   \n",
       "7         3  4  2263352391  1.428571  <class 'float'>     True   \n",
       "8         1  2  4119651207  3.333333  <class 'float'>     True   \n",
       "9         1  3  2786204846  2.500000  <class 'float'>     True   \n",
       "\n",
       "                           Finished    Process Time  \\\n",
       "Trial ID                                              \n",
       "1        2019-02-09 23:12:17.823271 00:00:00.020709   \n",
       "2        2019-02-09 23:12:17.862060 00:00:00.019239   \n",
       "3        2019-02-09 23:12:18.120727 00:00:00.036386   \n",
       "4        2019-02-09 23:12:18.274840 00:00:00.019795   \n",
       "5        2019-02-09 23:12:18.316023 00:00:00.020726   \n",
       "6        2019-02-09 23:12:18.440663 00:00:00.024480   \n",
       "7        2019-02-09 23:12:18.957242 00:00:00.024543   \n",
       "8        2019-02-09 23:13:21.735993 00:00:00.023776   \n",
       "9        2019-02-09 23:13:21.822778 00:00:00.023758   \n",
       "\n",
       "                                  Description  \n",
       "Trial ID                                       \n",
       "1                                         NaN  \n",
       "2                                         NaN  \n",
       "3         ZeroDivisionError(division by zero)  \n",
       "4                                         NaN  \n",
       "5                                         NaN  \n",
       "6                                         NaN  \n",
       "7                                         NaN  \n",
       "8                                         NaN  \n",
       "9                                         NaN  "
      ]
     },
     "execution_count": 12,
     "metadata": {},
     "output_type": "execute_result"
    }
   ],
   "source": [
    "ex.get_history()"
   ]
  },
  {
   "cell_type": "markdown",
   "metadata": {},
   "source": [
    "When any error occurs during the trial, `Experiment` instance stores the log as failed trial. The \"Description\" column contains the error detail."
   ]
  },
  {
   "cell_type": "code",
   "execution_count": 13,
   "metadata": {
    "collapsed": false
   },
   "outputs": [
    {
     "name": "stderr",
     "output_type": "stream",
     "text": [
      "2019-02-09 23:13:22,007 [daskperiment.core.parameter] [INFO] Updated parameters: a=1<class 'int'>, b=-1<class 'int'>\n",
      "2019-02-09 23:13:22,010 [daskperiment.core.trial] [INFO] Started Experiment (trial id=10)\n",
      "2019-02-09 23:13:22,015 [daskperiment.core.experiment] [INFO] Target: calculate_score-248b2d7d-ae20-4b55-ab1d-8641a1ba7a74\n",
      "2019-02-09 23:13:22,018 [daskperiment.core.experiment] [INFO] Random seed is not provided. Initializing with generated seed: 3106430529\n",
      "2019-02-09 23:13:22,022 [daskperiment.core.trial] [INFO] Parameters: a=1<class 'int'>, b=-1<class 'int'>\n",
      "2019-02-09 23:13:22,024 [daskperiment.core.code] [INFO] Saving code context: daskperiment_cache/quickstart_pj/code/quickstart_pj_10.py\n",
      "2019-02-09 23:13:22,029 [daskperiment.core.environment] [INFO] Saving device info: daskperiment_cache/quickstart_pj/environment/device_quickstart_pj_10.txt\n",
      "2019-02-09 23:13:22,034 [daskperiment.core.environment] [INFO] Saving python packages: daskperiment_cache/quickstart_pj/environment/requirements_quickstart_pj_10.txt\n",
      "2019-02-09 23:13:22,051 [daskperiment.core.experiment] [ERROR] Experiment failed: ZeroDivisionError(division by zero)\n",
      "2019-02-09 23:13:22,054 [daskperiment.core.trial] [INFO] Finished Experiment (trial id=10)\n",
      "2019-02-09 23:13:22,056 [daskperiment.backend.local] [INFO] Saving Experiment to file: daskperiment_cache/quickstart_pj/quickstart_pj.pkl\n",
      "2019-02-09 23:13:22,065 [daskperiment.io.pickle] [INFO] Saving LocalBackend('daskperiment_cache/quickstart_pj') to path=daskperiment_cache/quickstart_pj/quickstart_pj.pkl\n"
     ]
    },
    {
     "name": "stdout",
     "output_type": "stream",
     "text": [
      "ZeroDivisionError(division by zero)\n"
     ]
    }
   ],
   "source": [
    "ex.set_parameters(a=1, b=-1)\n",
    "try:\n",
    "    s.compute()\n",
    "    \n",
    "except ZeroDivisionError as e:\n",
    "    # To hide stack trace\n",
    "    print('{}({})'.format(e.__class__.__name__, e))"
   ]
  },
  {
   "cell_type": "code",
   "execution_count": 14,
   "metadata": {
    "collapsed": false
   },
   "outputs": [
    {
     "data": {
      "text/html": [
       "<div>\n",
       "<style scoped>\n",
       "    .dataframe tbody tr th:only-of-type {\n",
       "        vertical-align: middle;\n",
       "    }\n",
       "\n",
       "    .dataframe tbody tr th {\n",
       "        vertical-align: top;\n",
       "    }\n",
       "\n",
       "    .dataframe thead th {\n",
       "        text-align: right;\n",
       "    }\n",
       "</style>\n",
       "<table border=\"1\" class=\"dataframe\">\n",
       "  <thead>\n",
       "    <tr style=\"text-align: right;\">\n",
       "      <th></th>\n",
       "      <th>a</th>\n",
       "      <th>b</th>\n",
       "      <th>Seed</th>\n",
       "      <th>Result</th>\n",
       "      <th>Result Type</th>\n",
       "      <th>Success</th>\n",
       "      <th>Finished</th>\n",
       "      <th>Process Time</th>\n",
       "      <th>Description</th>\n",
       "    </tr>\n",
       "    <tr>\n",
       "      <th>Trial ID</th>\n",
       "      <th></th>\n",
       "      <th></th>\n",
       "      <th></th>\n",
       "      <th></th>\n",
       "      <th></th>\n",
       "      <th></th>\n",
       "      <th></th>\n",
       "      <th></th>\n",
       "      <th></th>\n",
       "    </tr>\n",
       "  </thead>\n",
       "  <tbody>\n",
       "    <tr>\n",
       "      <th>1</th>\n",
       "      <td>1</td>\n",
       "      <td>2</td>\n",
       "      <td>3621047138</td>\n",
       "      <td>3.333333</td>\n",
       "      <td>&lt;class 'float'&gt;</td>\n",
       "      <td>True</td>\n",
       "      <td>2019-02-09 23:12:17.823271</td>\n",
       "      <td>00:00:00.020709</td>\n",
       "      <td>NaN</td>\n",
       "    </tr>\n",
       "    <tr>\n",
       "      <th>2</th>\n",
       "      <td>1</td>\n",
       "      <td>3</td>\n",
       "      <td>3028304101</td>\n",
       "      <td>2.500000</td>\n",
       "      <td>&lt;class 'float'&gt;</td>\n",
       "      <td>True</td>\n",
       "      <td>2019-02-09 23:12:17.862060</td>\n",
       "      <td>00:00:00.019239</td>\n",
       "      <td>NaN</td>\n",
       "    </tr>\n",
       "    <tr>\n",
       "      <th>3</th>\n",
       "      <td>1</td>\n",
       "      <td>-1</td>\n",
       "      <td>3427595011</td>\n",
       "      <td>NaN</td>\n",
       "      <td>None</td>\n",
       "      <td>False</td>\n",
       "      <td>2019-02-09 23:12:18.120727</td>\n",
       "      <td>00:00:00.036386</td>\n",
       "      <td>ZeroDivisionError(division by zero)</td>\n",
       "    </tr>\n",
       "    <tr>\n",
       "      <th>4</th>\n",
       "      <td>1</td>\n",
       "      <td>2</td>\n",
       "      <td>3074590505</td>\n",
       "      <td>3.333333</td>\n",
       "      <td>&lt;class 'float'&gt;</td>\n",
       "      <td>True</td>\n",
       "      <td>2019-02-09 23:12:18.274840</td>\n",
       "      <td>00:00:00.019795</td>\n",
       "      <td>NaN</td>\n",
       "    </tr>\n",
       "    <tr>\n",
       "      <th>5</th>\n",
       "      <td>3</td>\n",
       "      <td>2</td>\n",
       "      <td>188388652</td>\n",
       "      <td>2.000000</td>\n",
       "      <td>&lt;class 'float'&gt;</td>\n",
       "      <td>True</td>\n",
       "      <td>2019-02-09 23:12:18.316023</td>\n",
       "      <td>00:00:00.020726</td>\n",
       "      <td>NaN</td>\n",
       "    </tr>\n",
       "    <tr>\n",
       "      <th>6</th>\n",
       "      <td>1</td>\n",
       "      <td>2</td>\n",
       "      <td>2062562240</td>\n",
       "      <td>3.333333</td>\n",
       "      <td>&lt;class 'float'&gt;</td>\n",
       "      <td>True</td>\n",
       "      <td>2019-02-09 23:12:18.440663</td>\n",
       "      <td>00:00:00.024480</td>\n",
       "      <td>NaN</td>\n",
       "    </tr>\n",
       "    <tr>\n",
       "      <th>7</th>\n",
       "      <td>3</td>\n",
       "      <td>4</td>\n",
       "      <td>2263352391</td>\n",
       "      <td>1.428571</td>\n",
       "      <td>&lt;class 'float'&gt;</td>\n",
       "      <td>True</td>\n",
       "      <td>2019-02-09 23:12:18.957242</td>\n",
       "      <td>00:00:00.024543</td>\n",
       "      <td>NaN</td>\n",
       "    </tr>\n",
       "    <tr>\n",
       "      <th>8</th>\n",
       "      <td>1</td>\n",
       "      <td>2</td>\n",
       "      <td>4119651207</td>\n",
       "      <td>3.333333</td>\n",
       "      <td>&lt;class 'float'&gt;</td>\n",
       "      <td>True</td>\n",
       "      <td>2019-02-09 23:13:21.735993</td>\n",
       "      <td>00:00:00.023776</td>\n",
       "      <td>NaN</td>\n",
       "    </tr>\n",
       "    <tr>\n",
       "      <th>9</th>\n",
       "      <td>1</td>\n",
       "      <td>3</td>\n",
       "      <td>2786204846</td>\n",
       "      <td>2.500000</td>\n",
       "      <td>&lt;class 'float'&gt;</td>\n",
       "      <td>True</td>\n",
       "      <td>2019-02-09 23:13:21.822778</td>\n",
       "      <td>00:00:00.023758</td>\n",
       "      <td>NaN</td>\n",
       "    </tr>\n",
       "    <tr>\n",
       "      <th>10</th>\n",
       "      <td>1</td>\n",
       "      <td>-1</td>\n",
       "      <td>3106430529</td>\n",
       "      <td>NaN</td>\n",
       "      <td>None</td>\n",
       "      <td>False</td>\n",
       "      <td>2019-02-09 23:13:22.053935</td>\n",
       "      <td>00:00:00.043551</td>\n",
       "      <td>ZeroDivisionError(division by zero)</td>\n",
       "    </tr>\n",
       "  </tbody>\n",
       "</table>\n",
       "</div>"
      ],
      "text/plain": [
       "          a  b        Seed    Result      Result Type  Success  \\\n",
       "Trial ID                                                         \n",
       "1         1  2  3621047138  3.333333  <class 'float'>     True   \n",
       "2         1  3  3028304101  2.500000  <class 'float'>     True   \n",
       "3         1 -1  3427595011       NaN             None    False   \n",
       "4         1  2  3074590505  3.333333  <class 'float'>     True   \n",
       "5         3  2   188388652  2.000000  <class 'float'>     True   \n",
       "6         1  2  2062562240  3.333333  <class 'float'>     True   \n",
       "7         3  4  2263352391  1.428571  <class 'float'>     True   \n",
       "8         1  2  4119651207  3.333333  <class 'float'>     True   \n",
       "9         1  3  2786204846  2.500000  <class 'float'>     True   \n",
       "10        1 -1  3106430529       NaN             None    False   \n",
       "\n",
       "                           Finished    Process Time  \\\n",
       "Trial ID                                              \n",
       "1        2019-02-09 23:12:17.823271 00:00:00.020709   \n",
       "2        2019-02-09 23:12:17.862060 00:00:00.019239   \n",
       "3        2019-02-09 23:12:18.120727 00:00:00.036386   \n",
       "4        2019-02-09 23:12:18.274840 00:00:00.019795   \n",
       "5        2019-02-09 23:12:18.316023 00:00:00.020726   \n",
       "6        2019-02-09 23:12:18.440663 00:00:00.024480   \n",
       "7        2019-02-09 23:12:18.957242 00:00:00.024543   \n",
       "8        2019-02-09 23:13:21.735993 00:00:00.023776   \n",
       "9        2019-02-09 23:13:21.822778 00:00:00.023758   \n",
       "10       2019-02-09 23:13:22.053935 00:00:00.043551   \n",
       "\n",
       "                                  Description  \n",
       "Trial ID                                       \n",
       "1                                         NaN  \n",
       "2                                         NaN  \n",
       "3         ZeroDivisionError(division by zero)  \n",
       "4                                         NaN  \n",
       "5                                         NaN  \n",
       "6                                         NaN  \n",
       "7                                         NaN  \n",
       "8                                         NaN  \n",
       "9                                         NaN  \n",
       "10        ZeroDivisionError(division by zero)  "
      ]
     },
     "execution_count": 14,
     "metadata": {},
     "output_type": "execute_result"
    }
   ],
   "source": [
    "ex.get_history()"
   ]
  },
  {
   "cell_type": "markdown",
   "metadata": {},
   "source": [
    "Every time the computation performed, `Experiment` instance is automatically saved to specified cache directory. When `Experiment` instance is initialized, it automatically load previous trials (check trial id in the log)."
   ]
  },
  {
   "cell_type": "markdown",
   "metadata": {},
   "source": [
    "# Handling intermediate result"
   ]
  },
  {
   "cell_type": "markdown",
   "metadata": {},
   "source": [
    "Next example shows how to retrieve an intermediate result of the chain.\n",
    "\n",
    "The only difference is using `Experiment.persist` decorator. It makes `Experiment` instance to keep the decorated function's intermediate result. After definition, rebuilt the same workflow using the persisted function. \n",
    "\n",
    "Note that an intermediate result is saved as a pickle file named with its function name, function name must be unique in the experiment."
   ]
  },
  {
   "cell_type": "code",
   "execution_count": 15,
   "metadata": {
    "collapsed": false,
    "scrolled": true
   },
   "outputs": [
    {
     "name": "stderr",
     "output_type": "stream",
     "text": [
      "2019-02-09 23:13:22,171 [daskperiment.core.code] [WARNING] Code context has been changed: prepare_data\n",
      "2019-02-09 23:13:22,172 [daskperiment.core.code] [WARNING] @@ -1,3 +1,3 @@\n",
      "\n",
      "2019-02-09 23:13:22,173 [daskperiment.core.code] [WARNING] -@ex\n",
      "2019-02-09 23:13:22,175 [daskperiment.core.code] [WARNING] +@ex.persist\n",
      "2019-02-09 23:13:22,176 [daskperiment.core.code] [WARNING]  def prepare_data(a, b):\n",
      "2019-02-09 23:13:22,177 [daskperiment.core.code] [WARNING] -    return a + b \n",
      "2019-02-09 23:13:22,178 [daskperiment.core.code] [WARNING] +    return a + b\n"
     ]
    }
   ],
   "source": [
    "@ex.persist\n",
    "def prepare_data(a, b):\n",
    "    return a + b\n",
    "\n",
    "d = prepare_data(a, b)\n",
    "s = calculate_score(d)"
   ]
  },
  {
   "cell_type": "markdown",
   "metadata": {},
   "source": [
    "NOTE: Also, you can notice that `daskperiment` outputs some \"WARNING\" indicating code contexts has been changed. It's because `daskperiment` automatically tracks code context to guarantee reproducibility.\n",
    "\n",
    "Let's perform some trials."
   ]
  },
  {
   "cell_type": "code",
   "execution_count": 16,
   "metadata": {
    "collapsed": false
   },
   "outputs": [
    {
     "name": "stderr",
     "output_type": "stream",
     "text": [
      "2019-02-09 23:13:22,185 [daskperiment.core.parameter] [INFO] Updated parameters: a=1<class 'int'>, b=2<class 'int'>\n",
      "2019-02-09 23:13:22,187 [daskperiment.core.trial] [INFO] Started Experiment (trial id=11)\n",
      "2019-02-09 23:13:22,189 [daskperiment.core.experiment] [INFO] Target: calculate_score-9d4da45f-d7a4-4945-a6ba-1f08445efbed\n",
      "2019-02-09 23:13:22,190 [daskperiment.core.experiment] [INFO] Random seed is not provided. Initializing with generated seed: 4165599119\n",
      "2019-02-09 23:13:22,190 [daskperiment.core.trial] [INFO] Parameters: a=1<class 'int'>, b=2<class 'int'>\n",
      "2019-02-09 23:13:22,191 [daskperiment.core.code] [INFO] Saving code context: daskperiment_cache/quickstart_pj/code/quickstart_pj_11.py\n",
      "2019-02-09 23:13:22,193 [daskperiment.core.environment] [INFO] Saving device info: daskperiment_cache/quickstart_pj/environment/device_quickstart_pj_11.txt\n",
      "2019-02-09 23:13:22,196 [daskperiment.core.environment] [INFO] Saving python packages: daskperiment_cache/quickstart_pj/environment/requirements_quickstart_pj_11.txt\n",
      "2019-02-09 23:13:22,204 [daskperiment.io.pickle] [INFO] Saving 3 to path=daskperiment_cache/quickstart_pj/persist/quickstart_pj_prepare_data_11.pkl\n",
      "2019-02-09 23:13:22,207 [daskperiment.core.trial] [INFO] Finished Experiment (trial id=11)\n",
      "2019-02-09 23:13:22,208 [daskperiment.backend.local] [INFO] Saving Experiment to file: daskperiment_cache/quickstart_pj/quickstart_pj.pkl\n",
      "2019-02-09 23:13:22,211 [daskperiment.io.pickle] [INFO] Saving LocalBackend('daskperiment_cache/quickstart_pj') to path=daskperiment_cache/quickstart_pj/quickstart_pj.pkl\n"
     ]
    },
    {
     "data": {
      "text/plain": [
       "3.3333333333333335"
      ]
     },
     "execution_count": 16,
     "metadata": {},
     "output_type": "execute_result"
    }
   ],
   "source": [
    "ex.set_parameters(a=1, b=2)\n",
    "s.compute()"
   ]
  },
  {
   "cell_type": "code",
   "execution_count": 17,
   "metadata": {
    "collapsed": false
   },
   "outputs": [
    {
     "name": "stderr",
     "output_type": "stream",
     "text": [
      "2019-02-09 23:13:22,226 [daskperiment.core.parameter] [INFO] Updated parameters: a=3<class 'int'>, b=2<class 'int'>\n",
      "2019-02-09 23:13:22,232 [daskperiment.core.trial] [INFO] Started Experiment (trial id=12)\n",
      "2019-02-09 23:13:22,236 [daskperiment.core.experiment] [INFO] Target: calculate_score-9d4da45f-d7a4-4945-a6ba-1f08445efbed\n",
      "2019-02-09 23:13:22,238 [daskperiment.core.experiment] [INFO] Random seed is not provided. Initializing with generated seed: 523177816\n",
      "2019-02-09 23:13:22,238 [daskperiment.core.trial] [INFO] Parameters: a=3<class 'int'>, b=2<class 'int'>\n",
      "2019-02-09 23:13:22,240 [daskperiment.core.code] [INFO] Saving code context: daskperiment_cache/quickstart_pj/code/quickstart_pj_12.py\n",
      "2019-02-09 23:13:22,245 [daskperiment.core.environment] [INFO] Saving device info: daskperiment_cache/quickstart_pj/environment/device_quickstart_pj_12.txt\n",
      "2019-02-09 23:13:22,248 [daskperiment.core.environment] [INFO] Saving python packages: daskperiment_cache/quickstart_pj/environment/requirements_quickstart_pj_12.txt\n",
      "2019-02-09 23:13:22,256 [daskperiment.io.pickle] [INFO] Saving 5 to path=daskperiment_cache/quickstart_pj/persist/quickstart_pj_prepare_data_12.pkl\n",
      "2019-02-09 23:13:22,261 [daskperiment.core.trial] [INFO] Finished Experiment (trial id=12)\n",
      "2019-02-09 23:13:22,263 [daskperiment.backend.local] [INFO] Saving Experiment to file: daskperiment_cache/quickstart_pj/quickstart_pj.pkl\n",
      "2019-02-09 23:13:22,267 [daskperiment.io.pickle] [INFO] Saving LocalBackend('daskperiment_cache/quickstart_pj') to path=daskperiment_cache/quickstart_pj/quickstart_pj.pkl\n"
     ]
    },
    {
     "data": {
      "text/plain": [
       "2.0"
      ]
     },
     "execution_count": 17,
     "metadata": {},
     "output_type": "execute_result"
    }
   ],
   "source": [
    "ex.set_parameters(a=3, b=2)\n",
    "s.compute()"
   ]
  },
  {
   "cell_type": "markdown",
   "metadata": {},
   "source": [
    "You can retrieve intermediate results via `Experiment.get_persisted` method by specifying function name and trial id."
   ]
  },
  {
   "cell_type": "code",
   "execution_count": 18,
   "metadata": {
    "collapsed": false
   },
   "outputs": [
    {
     "name": "stderr",
     "output_type": "stream",
     "text": [
      "2019-02-09 23:13:22,292 [daskperiment.io.pickle] [INFO] Loaded 3 from path=daskperiment_cache/quickstart_pj/persist/quickstart_pj_prepare_data_4.pkl\n"
     ]
    },
    {
     "data": {
      "text/plain": [
       "3"
      ]
     },
     "execution_count": 18,
     "metadata": {},
     "output_type": "execute_result"
    }
   ],
   "source": [
    "ex.get_persisted('prepare_data', trial_id=4)"
   ]
  },
  {
   "cell_type": "code",
   "execution_count": 19,
   "metadata": {
    "collapsed": false
   },
   "outputs": [
    {
     "name": "stderr",
     "output_type": "stream",
     "text": [
      "2019-02-09 23:13:22,318 [daskperiment.io.pickle] [INFO] Loaded 5 from path=daskperiment_cache/quickstart_pj/persist/quickstart_pj_prepare_data_5.pkl\n"
     ]
    },
    {
     "data": {
      "text/plain": [
       "5"
      ]
     },
     "execution_count": 19,
     "metadata": {},
     "output_type": "execute_result"
    }
   ],
   "source": [
    "ex.get_persisted('prepare_data', trial_id=5)"
   ]
  },
  {
   "cell_type": "markdown",
   "metadata": {},
   "source": [
    "# Monitoring metrics"
   ]
  },
  {
   "cell_type": "markdown",
   "metadata": {},
   "source": [
    "You may need to monitor transition of some metrics during each trial. In each experiment function, you can call `Experiment.save_metric` to save metric with its key (name) and epoch."
   ]
  },
  {
   "cell_type": "code",
   "execution_count": 20,
   "metadata": {
    "collapsed": false,
    "scrolled": true
   },
   "outputs": [
    {
     "name": "stderr",
     "output_type": "stream",
     "text": [
      "2019-02-09 23:13:22,331 [daskperiment.core.code] [WARNING] Code context has been changed: calculate_score\n",
      "2019-02-09 23:13:22,334 [daskperiment.core.code] [WARNING] @@ -1,3 +1,6 @@\n",
      "\n",
      "2019-02-09 23:13:22,335 [daskperiment.core.code] [WARNING]  @ex.result\n",
      "2019-02-09 23:13:22,336 [daskperiment.core.code] [WARNING]  def calculate_score(s):\n",
      "2019-02-09 23:13:22,339 [daskperiment.core.code] [WARNING] +    for i in range(100):\n",
      "2019-02-09 23:13:22,348 [daskperiment.core.code] [WARNING] +        ex.save_metric('dummy_score', epoch=i, value=100 - np.random.random() * i)\n",
      "2019-02-09 23:13:22,351 [daskperiment.core.code] [WARNING] +        \n",
      "2019-02-09 23:13:22,355 [daskperiment.core.code] [WARNING]      return 10 / s\n"
     ]
    }
   ],
   "source": [
    "@ex.result\n",
    "def calculate_score(s):\n",
    "    for i in range(100):\n",
    "        ex.save_metric('dummy_score', epoch=i, value=100 - np.random.random() * i)\n",
    "        \n",
    "    return 10 / s\n",
    "\n",
    "d = prepare_data(a, b)\n",
    "s = calculate_score(d)"
   ]
  },
  {
   "cell_type": "code",
   "execution_count": 21,
   "metadata": {
    "collapsed": false,
    "scrolled": false
   },
   "outputs": [
    {
     "name": "stderr",
     "output_type": "stream",
     "text": [
      "2019-02-09 23:13:22,371 [daskperiment.core.parameter] [INFO] Updated parameters: a=1<class 'int'>, b=2<class 'int'>\n",
      "2019-02-09 23:13:22,376 [daskperiment.core.trial] [INFO] Started Experiment (trial id=13)\n",
      "2019-02-09 23:13:22,380 [daskperiment.core.experiment] [INFO] Target: calculate_score-f407db73-6a67-4d0b-9fb7-024577dea63f\n",
      "2019-02-09 23:13:22,382 [daskperiment.core.experiment] [INFO] Random seed is not provided. Initializing with generated seed: 2994940965\n",
      "2019-02-09 23:13:22,384 [daskperiment.core.trial] [INFO] Parameters: a=1<class 'int'>, b=2<class 'int'>\n",
      "2019-02-09 23:13:22,385 [daskperiment.core.code] [INFO] Saving code context: daskperiment_cache/quickstart_pj/code/quickstart_pj_13.py\n",
      "2019-02-09 23:13:22,387 [daskperiment.core.environment] [INFO] Saving device info: daskperiment_cache/quickstart_pj/environment/device_quickstart_pj_13.txt\n",
      "2019-02-09 23:13:22,389 [daskperiment.core.environment] [INFO] Saving python packages: daskperiment_cache/quickstart_pj/environment/requirements_quickstart_pj_13.txt\n",
      "2019-02-09 23:13:22,395 [daskperiment.io.pickle] [INFO] Saving 3 to path=daskperiment_cache/quickstart_pj/persist/quickstart_pj_prepare_data_13.pkl\n",
      "2019-02-09 23:13:22,398 [daskperiment.core.trial] [INFO] Finished Experiment (trial id=13)\n",
      "2019-02-09 23:13:22,400 [daskperiment.backend.local] [INFO] Saving Experiment to file: daskperiment_cache/quickstart_pj/quickstart_pj.pkl\n",
      "2019-02-09 23:13:22,401 [daskperiment.io.pickle] [INFO] Saving LocalBackend('daskperiment_cache/quickstart_pj') to path=daskperiment_cache/quickstart_pj/quickstart_pj.pkl\n"
     ]
    },
    {
     "data": {
      "text/plain": [
       "3.3333333333333335"
      ]
     },
     "execution_count": 21,
     "metadata": {},
     "output_type": "execute_result"
    }
   ],
   "source": [
    "ex.set_parameters(a=1, b=2)\n",
    "s.compute()"
   ]
  },
  {
   "cell_type": "markdown",
   "metadata": {},
   "source": [
    "After a trial, you can load saved metric using `Experiment.load_metric` specifying its name and trial_id. As it is returned as `DataFrame`, you can easily investigate it."
   ]
  },
  {
   "cell_type": "code",
   "execution_count": 22,
   "metadata": {
    "collapsed": false
   },
   "outputs": [
    {
     "name": "stdout",
     "output_type": "stream",
     "text": [
      "Trial ID           6\n",
      "Epoch               \n",
      "0         100.000000\n",
      "1          99.392376\n",
      "2          98.554050\n",
      "3          97.016682\n",
      "4          96.922172\n"
     ]
    }
   ],
   "source": [
    "dummy_score = ex.load_metric('dummy_score', trial_id=6)\n",
    "print(dummy_score.head())"
   ]
  },
  {
   "cell_type": "code",
   "execution_count": 23,
   "metadata": {
    "collapsed": false
   },
   "outputs": [
    {
     "data": {
      "text/plain": [
       "<matplotlib.axes._subplots.AxesSubplot at 0x1212c3748>"
      ]
     },
     "execution_count": 23,
     "metadata": {},
     "output_type": "execute_result"
    },
    {
     "data": {
      "image/png": "[encoded data removed]",
      "text/plain": [
       "<Figure size 432x288 with 1 Axes>"
      ]
     },
     "metadata": {
      "needs_background": "light"
     },
     "output_type": "display_data"
    }
   ],
   "source": [
    "dummy_score.plot()"
   ]
  },
  {
   "cell_type": "markdown",
   "metadata": {},
   "source": [
    "Perform another trial."
   ]
  },
  {
   "cell_type": "code",
   "execution_count": 24,
   "metadata": {
    "collapsed": false
   },
   "outputs": [
    {
     "name": "stderr",
     "output_type": "stream",
     "text": [
      "2019-02-09 23:13:22,780 [daskperiment.core.parameter] [INFO] Updated parameters: a=3<class 'int'>, b=4<class 'int'>\n",
      "2019-02-09 23:13:22,782 [daskperiment.core.trial] [INFO] Started Experiment (trial id=14)\n",
      "2019-02-09 23:13:22,783 [daskperiment.core.experiment] [INFO] Target: calculate_score-f407db73-6a67-4d0b-9fb7-024577dea63f\n",
      "2019-02-09 23:13:22,784 [daskperiment.core.experiment] [INFO] Random seed is not provided. Initializing with generated seed: 2164296497\n",
      "2019-02-09 23:13:22,785 [daskperiment.core.trial] [INFO] Parameters: a=3<class 'int'>, b=4<class 'int'>\n",
      "2019-02-09 23:13:22,786 [daskperiment.core.code] [INFO] Saving code context: daskperiment_cache/quickstart_pj/code/quickstart_pj_14.py\n",
      "2019-02-09 23:13:22,787 [daskperiment.core.environment] [INFO] Saving device info: daskperiment_cache/quickstart_pj/environment/device_quickstart_pj_14.txt\n",
      "2019-02-09 23:13:22,789 [daskperiment.core.environment] [INFO] Saving python packages: daskperiment_cache/quickstart_pj/environment/requirements_quickstart_pj_14.txt\n",
      "2019-02-09 23:13:22,792 [daskperiment.io.pickle] [INFO] Saving 7 to path=daskperiment_cache/quickstart_pj/persist/quickstart_pj_prepare_data_14.pkl\n",
      "2019-02-09 23:13:22,795 [daskperiment.core.trial] [INFO] Finished Experiment (trial id=14)\n",
      "2019-02-09 23:13:22,796 [daskperiment.backend.local] [INFO] Saving Experiment to file: daskperiment_cache/quickstart_pj/quickstart_pj.pkl\n",
      "2019-02-09 23:13:22,797 [daskperiment.io.pickle] [INFO] Saving LocalBackend('daskperiment_cache/quickstart_pj') to path=daskperiment_cache/quickstart_pj/quickstart_pj.pkl\n"
     ]
    },
    {
     "data": {
      "text/plain": [
       "1.4285714285714286"
      ]
     },
     "execution_count": 24,
     "metadata": {},
     "output_type": "execute_result"
    }
   ],
   "source": [
    "ex.set_parameters(a=3, b=4)\n",
    "s.compute()"
   ]
  },
  {
   "cell_type": "markdown",
   "metadata": {},
   "source": [
    "To compare metrics between trials, pass multiple trial ids to `Experiment.load_metric`."
   ]
  },
  {
   "cell_type": "code",
   "execution_count": 25,
   "metadata": {
    "collapsed": false
   },
   "outputs": [
    {
     "data": {
      "text/plain": [
       "<matplotlib.axes._subplots.AxesSubplot at 0x1215e3390>"
      ]
     },
     "execution_count": 25,
     "metadata": {},
     "output_type": "execute_result"
    },
    {
     "data": {
      "image/png": "[encoded data removed]",
      "text/plain": [
       "<Figure size 432x288 with 1 Axes>"
      ]
     },
     "metadata": {
      "needs_background": "light"
     },
     "output_type": "display_data"
    }
   ],
   "source": [
    "ex.load_metric('dummy_score', trial_id=[6, 7]).plot()"
   ]
  },
  {
   "cell_type": "markdown",
   "metadata": {},
   "source": [
    "# Check code context"
   ]
  },
  {
   "cell_type": "markdown",
   "metadata": {},
   "source": [
    "The above example illustrated `daskperiment` tracks code contexts decorated with `Experiment` decorators. \n",
    "\n",
    "To check the tracked code contexts, use `Experiment.get_code` specifying trial id (shows current code if trial id is not provided)."
   ]
  },
  {
   "cell_type": "code",
   "execution_count": 26,
   "metadata": {
    "collapsed": false,
    "scrolled": false
   },
   "outputs": [
    {
     "name": "stdout",
     "output_type": "stream",
     "text": [
      "@ex.persist\n",
      "def prepare_data(a, b):\n",
      "    return a + b\n",
      "\n",
      "\n",
      "@ex.result\n",
      "def calculate_score(s):\n",
      "    for i in range(100):\n",
      "        ex.save_metric('dummy_score', epoch=i, value=100 - np.random.random() * i)\n",
      "        \n",
      "    return 10 / s\n",
      "\n"
     ]
    }
   ],
   "source": [
    "print(ex.get_code())"
   ]
  },
  {
   "cell_type": "code",
   "execution_count": 27,
   "metadata": {
    "collapsed": false,
    "scrolled": true
   },
   "outputs": [
    {
     "name": "stdout",
     "output_type": "stream",
     "text": [
      "@ex\n",
      "def prepare_data(a, b):\n",
      "    return a + b \n",
      "\n",
      "\n",
      "@ex.result\n",
      "def calculate_score(s):\n",
      "    return 10 / s\n",
      "\n"
     ]
    }
   ],
   "source": [
    "print(ex.get_code(trial_id=1))"
   ]
  },
  {
   "cell_type": "markdown",
   "metadata": {},
   "source": [
    "Each code context is also saved as a text file per trial id. Thus, these are easily handled by diff tools and  Git."
   ]
  },
  {
   "cell_type": "code",
   "execution_count": 28,
   "metadata": {
    "collapsed": false
   },
   "outputs": [
    {
     "name": "stdout",
     "output_type": "stream",
     "text": [
      "# Code output saved in trial_id=1\r\n",
      "@ex\r\n",
      "def prepare_data(a, b):\r\n",
      "    return a + b \r\n",
      "\r\n",
      "\r\n",
      "@ex.result\r\n",
      "def calculate_score(s):\r\n",
      "    return 10 / s\r\n"
     ]
    }
   ],
   "source": [
    "%cat daskperiment_cache/quickstart_pj/code/quickstart_pj_1.py"
   ]
  },
  {
   "cell_type": "markdown",
   "metadata": {},
   "source": [
    "# Save experiment result\n",
    "\n",
    "`daskperiment` automatically saves its internal state when the experiment result is computed (when `.compute` is called). Also, `Experiment` instance automatically recover previous state when it is instanciated.\n",
    "\n",
    "Following example instanciates `Experiment` instance using the same id as above. Thus, the created `Experiment` automatically recovers its state. "
   ]
  },
  {
   "cell_type": "code",
   "execution_count": 29,
   "metadata": {
    "collapsed": false
   },
   "outputs": [
    {
     "name": "stderr",
     "output_type": "stream",
     "text": [
      "2019-02-09 23:13:23,331 [daskperiment.io.pickle] [INFO] Use existing cache directory: /Users/sinhrks/Git/daskperiment/notebook/daskperiment_cache/quickstart_pj\n",
      "2019-02-09 23:13:23,336 [daskperiment.backend.local] [INFO] Loading Experiment from file: daskperiment_cache/quickstart_pj/quickstart_pj.pkl\n",
      "2019-02-09 23:13:23,339 [daskperiment.io.pickle] [INFO] Loaded LocalBackend('daskperiment_cache/quickstart_pj') from path=daskperiment_cache/quickstart_pj/quickstart_pj.pkl\n",
      "2019-02-09 23:13:23,341 [daskperiment.core.experiment] [INFO] Loaded existing experiment: Experiment(id: quickstart_pj, trial_id: 14, backend: LocalBackend('daskperiment_cache/quickstart_pj'))\n",
      "2019-02-09 23:13:23,348 [daskperiment.core.environment] [INFO] Platform: Darwin-17.7.0-x86_64-i386-64bit\n",
      "2019-02-09 23:13:23,350 [daskperiment.core.environment] [INFO] Python: CPython 3.6.6 (Jupyter Notebook)\n",
      "2019-02-09 23:13:23,354 [daskperiment.core.environment] [INFO] daskperiment version: 0.2.1.dev0\n",
      "2019-02-09 23:13:23,355 [daskperiment.core.environment] [INFO] daskperiment path: /Users/sinhrks/Git/daskperiment/daskperiment\n",
      "2019-02-09 23:13:23,359 [daskperiment.core.environment] [INFO] Working directory: /Users/sinhrks/Git/daskperiment/notebook\n",
      "2019-02-09 23:13:23,361 [daskperiment.core.environment] [INFO] Number of installed Python packages: 339\n"
     ]
    }
   ],
   "source": [
    "ex_new = daskperiment.Experiment(id='quickstart_pj')"
   ]
  },
  {
   "cell_type": "markdown",
   "metadata": {},
   "source": [
    "Calling `.get_history` returns information of previous trials."
   ]
  },
  {
   "cell_type": "code",
   "execution_count": 30,
   "metadata": {
    "collapsed": false
   },
   "outputs": [
    {
     "data": {
      "text/html": [
       "<div>\n",
       "<style scoped>\n",
       "    .dataframe tbody tr th:only-of-type {\n",
       "        vertical-align: middle;\n",
       "    }\n",
       "\n",
       "    .dataframe tbody tr th {\n",
       "        vertical-align: top;\n",
       "    }\n",
       "\n",
       "    .dataframe thead th {\n",
       "        text-align: right;\n",
       "    }\n",
       "</style>\n",
       "<table border=\"1\" class=\"dataframe\">\n",
       "  <thead>\n",
       "    <tr style=\"text-align: right;\">\n",
       "      <th></th>\n",
       "      <th>a</th>\n",
       "      <th>b</th>\n",
       "      <th>Seed</th>\n",
       "      <th>Result</th>\n",
       "      <th>Result Type</th>\n",
       "      <th>Success</th>\n",
       "      <th>Finished</th>\n",
       "      <th>Process Time</th>\n",
       "      <th>Description</th>\n",
       "    </tr>\n",
       "    <tr>\n",
       "      <th>Trial ID</th>\n",
       "      <th></th>\n",
       "      <th></th>\n",
       "      <th></th>\n",
       "      <th></th>\n",
       "      <th></th>\n",
       "      <th></th>\n",
       "      <th></th>\n",
       "      <th></th>\n",
       "      <th></th>\n",
       "    </tr>\n",
       "  </thead>\n",
       "  <tbody>\n",
       "    <tr>\n",
       "      <th>1</th>\n",
       "      <td>1</td>\n",
       "      <td>2</td>\n",
       "      <td>3621047138</td>\n",
       "      <td>3.333333</td>\n",
       "      <td>&lt;class 'float'&gt;</td>\n",
       "      <td>True</td>\n",
       "      <td>2019-02-09 23:12:17.823271</td>\n",
       "      <td>00:00:00.020709</td>\n",
       "      <td>NaN</td>\n",
       "    </tr>\n",
       "    <tr>\n",
       "      <th>2</th>\n",
       "      <td>1</td>\n",
       "      <td>3</td>\n",
       "      <td>3028304101</td>\n",
       "      <td>2.500000</td>\n",
       "      <td>&lt;class 'float'&gt;</td>\n",
       "      <td>True</td>\n",
       "      <td>2019-02-09 23:12:17.862060</td>\n",
       "      <td>00:00:00.019239</td>\n",
       "      <td>NaN</td>\n",
       "    </tr>\n",
       "    <tr>\n",
       "      <th>3</th>\n",
       "      <td>1</td>\n",
       "      <td>-1</td>\n",
       "      <td>3427595011</td>\n",
       "      <td>NaN</td>\n",
       "      <td>None</td>\n",
       "      <td>False</td>\n",
       "      <td>2019-02-09 23:12:18.120727</td>\n",
       "      <td>00:00:00.036386</td>\n",
       "      <td>ZeroDivisionError(division by zero)</td>\n",
       "    </tr>\n",
       "    <tr>\n",
       "      <th>4</th>\n",
       "      <td>1</td>\n",
       "      <td>2</td>\n",
       "      <td>3074590505</td>\n",
       "      <td>3.333333</td>\n",
       "      <td>&lt;class 'float'&gt;</td>\n",
       "      <td>True</td>\n",
       "      <td>2019-02-09 23:12:18.274840</td>\n",
       "      <td>00:00:00.019795</td>\n",
       "      <td>NaN</td>\n",
       "    </tr>\n",
       "    <tr>\n",
       "      <th>5</th>\n",
       "      <td>3</td>\n",
       "      <td>2</td>\n",
       "      <td>188388652</td>\n",
       "      <td>2.000000</td>\n",
       "      <td>&lt;class 'float'&gt;</td>\n",
       "      <td>True</td>\n",
       "      <td>2019-02-09 23:12:18.316023</td>\n",
       "      <td>00:00:00.020726</td>\n",
       "      <td>NaN</td>\n",
       "    </tr>\n",
       "    <tr>\n",
       "      <th>6</th>\n",
       "      <td>1</td>\n",
       "      <td>2</td>\n",
       "      <td>2062562240</td>\n",
       "      <td>3.333333</td>\n",
       "      <td>&lt;class 'float'&gt;</td>\n",
       "      <td>True</td>\n",
       "      <td>2019-02-09 23:12:18.440663</td>\n",
       "      <td>00:00:00.024480</td>\n",
       "      <td>NaN</td>\n",
       "    </tr>\n",
       "    <tr>\n",
       "      <th>7</th>\n",
       "      <td>3</td>\n",
       "      <td>4</td>\n",
       "      <td>2263352391</td>\n",
       "      <td>1.428571</td>\n",
       "      <td>&lt;class 'float'&gt;</td>\n",
       "      <td>True</td>\n",
       "      <td>2019-02-09 23:12:18.957242</td>\n",
       "      <td>00:00:00.024543</td>\n",
       "      <td>NaN</td>\n",
       "    </tr>\n",
       "    <tr>\n",
       "      <th>8</th>\n",
       "      <td>1</td>\n",
       "      <td>2</td>\n",
       "      <td>4119651207</td>\n",
       "      <td>3.333333</td>\n",
       "      <td>&lt;class 'float'&gt;</td>\n",
       "      <td>True</td>\n",
       "      <td>2019-02-09 23:13:21.735993</td>\n",
       "      <td>00:00:00.023776</td>\n",
       "      <td>NaN</td>\n",
       "    </tr>\n",
       "    <tr>\n",
       "      <th>9</th>\n",
       "      <td>1</td>\n",
       "      <td>3</td>\n",
       "      <td>2786204846</td>\n",
       "      <td>2.500000</td>\n",
       "      <td>&lt;class 'float'&gt;</td>\n",
       "      <td>True</td>\n",
       "      <td>2019-02-09 23:13:21.822778</td>\n",
       "      <td>00:00:00.023758</td>\n",
       "      <td>NaN</td>\n",
       "    </tr>\n",
       "    <tr>\n",
       "      <th>10</th>\n",
       "      <td>1</td>\n",
       "      <td>-1</td>\n",
       "      <td>3106430529</td>\n",
       "      <td>NaN</td>\n",
       "      <td>None</td>\n",
       "      <td>False</td>\n",
       "      <td>2019-02-09 23:13:22.053935</td>\n",
       "      <td>00:00:00.043551</td>\n",
       "      <td>ZeroDivisionError(division by zero)</td>\n",
       "    </tr>\n",
       "    <tr>\n",
       "      <th>11</th>\n",
       "      <td>1</td>\n",
       "      <td>2</td>\n",
       "      <td>4165599119</td>\n",
       "      <td>3.333333</td>\n",
       "      <td>&lt;class 'float'&gt;</td>\n",
       "      <td>True</td>\n",
       "      <td>2019-02-09 23:13:22.207408</td>\n",
       "      <td>00:00:00.019582</td>\n",
       "      <td>NaN</td>\n",
       "    </tr>\n",
       "    <tr>\n",
       "      <th>12</th>\n",
       "      <td>3</td>\n",
       "      <td>2</td>\n",
       "      <td>523177816</td>\n",
       "      <td>2.000000</td>\n",
       "      <td>&lt;class 'float'&gt;</td>\n",
       "      <td>True</td>\n",
       "      <td>2019-02-09 23:13:22.261509</td>\n",
       "      <td>00:00:00.028843</td>\n",
       "      <td>NaN</td>\n",
       "    </tr>\n",
       "    <tr>\n",
       "      <th>13</th>\n",
       "      <td>1</td>\n",
       "      <td>2</td>\n",
       "      <td>2994940965</td>\n",
       "      <td>3.333333</td>\n",
       "      <td>&lt;class 'float'&gt;</td>\n",
       "      <td>True</td>\n",
       "      <td>2019-02-09 23:13:22.398251</td>\n",
       "      <td>00:00:00.022148</td>\n",
       "      <td>NaN</td>\n",
       "    </tr>\n",
       "    <tr>\n",
       "      <th>14</th>\n",
       "      <td>3</td>\n",
       "      <td>4</td>\n",
       "      <td>2164296497</td>\n",
       "      <td>1.428571</td>\n",
       "      <td>&lt;class 'float'&gt;</td>\n",
       "      <td>True</td>\n",
       "      <td>2019-02-09 23:13:22.795748</td>\n",
       "      <td>00:00:00.013622</td>\n",
       "      <td>NaN</td>\n",
       "    </tr>\n",
       "  </tbody>\n",
       "</table>\n",
       "</div>"
      ],
      "text/plain": [
       "          a  b        Seed    Result      Result Type  Success  \\\n",
       "Trial ID                                                         \n",
       "1         1  2  3621047138  3.333333  <class 'float'>     True   \n",
       "2         1  3  3028304101  2.500000  <class 'float'>     True   \n",
       "3         1 -1  3427595011       NaN             None    False   \n",
       "4         1  2  3074590505  3.333333  <class 'float'>     True   \n",
       "5         3  2   188388652  2.000000  <class 'float'>     True   \n",
       "6         1  2  2062562240  3.333333  <class 'float'>     True   \n",
       "7         3  4  2263352391  1.428571  <class 'float'>     True   \n",
       "8         1  2  4119651207  3.333333  <class 'float'>     True   \n",
       "9         1  3  2786204846  2.500000  <class 'float'>     True   \n",
       "10        1 -1  3106430529       NaN             None    False   \n",
       "11        1  2  4165599119  3.333333  <class 'float'>     True   \n",
       "12        3  2   523177816  2.000000  <class 'float'>     True   \n",
       "13        1  2  2994940965  3.333333  <class 'float'>     True   \n",
       "14        3  4  2164296497  1.428571  <class 'float'>     True   \n",
       "\n",
       "                           Finished    Process Time  \\\n",
       "Trial ID                                              \n",
       "1        2019-02-09 23:12:17.823271 00:00:00.020709   \n",
       "2        2019-02-09 23:12:17.862060 00:00:00.019239   \n",
       "3        2019-02-09 23:12:18.120727 00:00:00.036386   \n",
       "4        2019-02-09 23:12:18.274840 00:00:00.019795   \n",
       "5        2019-02-09 23:12:18.316023 00:00:00.020726   \n",
       "6        2019-02-09 23:12:18.440663 00:00:00.024480   \n",
       "7        2019-02-09 23:12:18.957242 00:00:00.024543   \n",
       "8        2019-02-09 23:13:21.735993 00:00:00.023776   \n",
       "9        2019-02-09 23:13:21.822778 00:00:00.023758   \n",
       "10       2019-02-09 23:13:22.053935 00:00:00.043551   \n",
       "11       2019-02-09 23:13:22.207408 00:00:00.019582   \n",
       "12       2019-02-09 23:13:22.261509 00:00:00.028843   \n",
       "13       2019-02-09 23:13:22.398251 00:00:00.022148   \n",
       "14       2019-02-09 23:13:22.795748 00:00:00.013622   \n",
       "\n",
       "                                  Description  \n",
       "Trial ID                                       \n",
       "1                                         NaN  \n",
       "2                                         NaN  \n",
       "3         ZeroDivisionError(division by zero)  \n",
       "4                                         NaN  \n",
       "5                                         NaN  \n",
       "6                                         NaN  \n",
       "7                                         NaN  \n",
       "8                                         NaN  \n",
       "9                                         NaN  \n",
       "10        ZeroDivisionError(division by zero)  \n",
       "11                                        NaN  \n",
       "12                                        NaN  \n",
       "13                                        NaN  \n",
       "14                                        NaN  "
      ]
     },
     "execution_count": 30,
     "metadata": {},
     "output_type": "execute_result"
    }
   ],
   "source": [
    "ex_new.get_history()"
   ]
  },
  {
   "cell_type": "markdown",
   "metadata": {},
   "source": [
    "Also, `Experiment` instance automatically detects the environment change from its previous trial. Following is a sample log when package update is detected (pandas 0.23.4 -> 0.24.0).\n",
    "\n",
    "    2019-01-29 00:22:35,357 [daskperiment.io.serialize] [INFO] Loaded Experiment(id: quickstart_pj, trial_id: 14) from path=daskperiment_cache/quickstart_pj/quickstart_pj.pkl\n",
    "    2019-01-29 00:22:35,404 [daskperiment.core.environment] [WARNING] Installed Python packages have been changed\n",
    "    2019-01-29 00:22:35,408 [daskperiment.core.environment] [WARNING] @@ -142 +142 @@\n",
    "    2019-01-29 00:22:35,411 [daskperiment.core.environment] [WARNING] -pandas 0.23.4 (/Users/sinhrks/anaconda/lib/python3.6/site-packages)\n",
    "    2019-01-29 00:22:35,412 [daskperiment.core.environment] [WARNING] +pandas 0.24.0 (/Users/sinhrks/anaconda/lib/python3.6/site-packages)"
   ]
  },
  {
   "cell_type": "markdown",
   "metadata": {
    "collapsed": true
   },
   "source": [
    "# Run as CLI\n",
    "\n",
    "`daskperiment` also supports execution from command line. First, prepare a `Python` script to define experiment. The usage of `Experiment` class is all the same as Jupyter example. `daskperiment` regards a result of a function decorated with `Experiment.result` (`calculate_score` function in below case) as experiment output."
   ]
  },
  {
   "cell_type": "code",
   "execution_count": 31,
   "metadata": {
    "collapsed": false
   },
   "outputs": [
    {
     "name": "stdout",
     "output_type": "stream",
     "text": [
      "import daskperiment\r\n",
      "\r\n",
      "ex = daskperiment.Experiment(id='simple_experiment_pj')\r\n",
      "\r\n",
      "a = ex.parameter('a')\r\n",
      "b = ex.parameter('b')\r\n",
      "\r\n",
      "\r\n",
      "@ex\r\n",
      "def prepare_data(a, b):\r\n",
      "    return a + b\r\n",
      "\r\n",
      "\r\n",
      "@ex.result\r\n",
      "def calculate_score(s):\r\n",
      "    return s + 1\r\n",
      "\r\n",
      "\r\n",
      "d = prepare_data(a, b)\r\n",
      "calculate_score(d)\r\n"
     ]
    }
   ],
   "source": [
    "%cat ../scripts/simple_experiment.py"
   ]
  },
  {
   "cell_type": "markdown",
   "metadata": {},
   "source": [
    "You can provide parameter values from command line options using `key=value` format. `daskperinemt` automatically parse parameters and perform computation."
   ]
  },
  {
   "cell_type": "code",
   "execution_count": 32,
   "metadata": {
    "collapsed": false
   },
   "outputs": [
    {
     "name": "stdout",
     "output_type": "stream",
     "text": [
      "2019-02-09 23:13:24,233 [daskperiment.io.pickle] [INFO] Use existing cache directory: /Users/sinhrks/Git/daskperiment/notebook/daskperiment_cache/simple_experiment_pj\n",
      "2019-02-09 23:13:24,235 [daskperiment.backend.local] [INFO] Loading Experiment from file: daskperiment_cache/simple_experiment_pj/simple_experiment_pj.pkl\n",
      "2019-02-09 23:13:24,236 [daskperiment.io.pickle] [INFO] Loaded LocalBackend('daskperiment_cache/simple_experiment_pj') from path=daskperiment_cache/simple_experiment_pj/simple_experiment_pj.pkl\n",
      "2019-02-09 23:13:24,236 [daskperiment.core.experiment] [INFO] Loaded existing experiment: Experiment(id: simple_experiment_pj, trial_id: 2, backend: LocalBackend('daskperiment_cache/simple_experiment_pj'))\n",
      "2019-02-09 23:13:24,605 [daskperiment.core.environment] [INFO] Platform: Darwin-17.7.0-x86_64-i386-64bit\n",
      "2019-02-09 23:13:24,605 [daskperiment.core.environment] [INFO] Python: CPython 3.6.6 (File)\n",
      "2019-02-09 23:13:24,605 [daskperiment.core.environment] [INFO] daskperiment version: 0.2.1.dev0\n",
      "2019-02-09 23:13:24,605 [daskperiment.core.environment] [INFO] daskperiment path: /Users/sinhrks/Git/daskperiment/daskperiment\n",
      "2019-02-09 23:13:24,605 [daskperiment.core.environment] [INFO] Working directory: /Users/sinhrks/Git/daskperiment/notebook\n",
      "2019-02-09 23:13:24,606 [daskperiment.core.environment] [INFO] Number of installed Python packages: 339\n",
      "2019-02-09 23:13:24,614 [daskperiment.core.parameter] [INFO] Updated parameters: a=1<class 'int'>, b=2<class 'int'>\n",
      "2019-02-09 23:13:24,614 [daskperiment.core.trial] [INFO] Started Experiment (trial id=3)\n",
      "2019-02-09 23:13:24,614 [daskperiment.core.experiment] [INFO] Target: calculate_score-bb6dcdf0-9dfd-418d-811b-f6391c3cfd89\n",
      "2019-02-09 23:13:24,614 [daskperiment.core.experiment] [INFO] Random seed is not provided. Initializing with generated seed: 1234361236\n",
      "2019-02-09 23:13:24,614 [daskperiment.core.trial] [INFO] Parameters: a=1<class 'int'>, b=2<class 'int'>\n",
      "2019-02-09 23:13:24,615 [daskperiment.core.code] [INFO] Saving code context: daskperiment_cache/simple_experiment_pj/code/simple_experiment_pj_3.py\n",
      "2019-02-09 23:13:24,615 [daskperiment.core.environment] [INFO] Saving device info: daskperiment_cache/simple_experiment_pj/environment/device_simple_experiment_pj_3.txt\n",
      "2019-02-09 23:13:24,616 [daskperiment.core.environment] [INFO] Saving python packages: daskperiment_cache/simple_experiment_pj/environment/requirements_simple_experiment_pj_3.txt\n",
      "2019-02-09 23:13:24,620 [daskperiment.core.trial] [INFO] Finished Experiment (trial id=3)\n",
      "2019-02-09 23:13:24,620 [daskperiment.backend.local] [INFO] Saving Experiment to file: daskperiment_cache/simple_experiment_pj/simple_experiment_pj.pkl\n",
      "2019-02-09 23:13:24,620 [daskperiment.io.pickle] [INFO] Saving LocalBackend('daskperiment_cache/simple_experiment_pj') to path=daskperiment_cache/simple_experiment_pj/simple_experiment_pj.pkl\n"
     ]
    }
   ],
   "source": [
    "!python ../scripts/simple_experiment.py a=1 b=2"
   ]
  },
  {
   "cell_type": "markdown",
   "metadata": {},
   "source": [
    "Let's perform multiple trials using different parameters. `daskperiment` automatically saves trial history as the same as Jupyter example (see trial id is incremented)."
   ]
  },
  {
   "cell_type": "code",
   "execution_count": 33,
   "metadata": {
    "collapsed": false
   },
   "outputs": [
    {
     "name": "stdout",
     "output_type": "stream",
     "text": [
      "2019-02-09 23:13:25,578 [daskperiment.io.pickle] [INFO] Use existing cache directory: /Users/sinhrks/Git/daskperiment/notebook/daskperiment_cache/simple_experiment_pj\n",
      "2019-02-09 23:13:25,580 [daskperiment.backend.local] [INFO] Loading Experiment from file: daskperiment_cache/simple_experiment_pj/simple_experiment_pj.pkl\n",
      "2019-02-09 23:13:25,581 [daskperiment.io.pickle] [INFO] Loaded LocalBackend('daskperiment_cache/simple_experiment_pj') from path=daskperiment_cache/simple_experiment_pj/simple_experiment_pj.pkl\n",
      "2019-02-09 23:13:25,581 [daskperiment.core.experiment] [INFO] Loaded existing experiment: Experiment(id: simple_experiment_pj, trial_id: 3, backend: LocalBackend('daskperiment_cache/simple_experiment_pj'))\n",
      "2019-02-09 23:13:25,924 [daskperiment.core.environment] [INFO] Platform: Darwin-17.7.0-x86_64-i386-64bit\n",
      "2019-02-09 23:13:25,924 [daskperiment.core.environment] [INFO] Python: CPython 3.6.6 (File)\n",
      "2019-02-09 23:13:25,924 [daskperiment.core.environment] [INFO] daskperiment version: 0.2.1.dev0\n",
      "2019-02-09 23:13:25,925 [daskperiment.core.environment] [INFO] daskperiment path: /Users/sinhrks/Git/daskperiment/daskperiment\n",
      "2019-02-09 23:13:25,925 [daskperiment.core.environment] [INFO] Working directory: /Users/sinhrks/Git/daskperiment/notebook\n",
      "2019-02-09 23:13:25,925 [daskperiment.core.environment] [INFO] Number of installed Python packages: 339\n",
      "2019-02-09 23:13:25,933 [daskperiment.core.parameter] [INFO] Updated parameters: a=3<class 'int'>, b=2<class 'int'>\n",
      "2019-02-09 23:13:25,933 [daskperiment.core.trial] [INFO] Started Experiment (trial id=4)\n",
      "2019-02-09 23:13:25,933 [daskperiment.core.experiment] [INFO] Target: calculate_score-780211e8-ca2d-46fc-bb5a-ca5da40b05d2\n",
      "2019-02-09 23:13:25,933 [daskperiment.core.experiment] [INFO] Random seed is not provided. Initializing with generated seed: 1357069363\n",
      "2019-02-09 23:13:25,933 [daskperiment.core.trial] [INFO] Parameters: a=3<class 'int'>, b=2<class 'int'>\n",
      "2019-02-09 23:13:25,933 [daskperiment.core.code] [INFO] Saving code context: daskperiment_cache/simple_experiment_pj/code/simple_experiment_pj_4.py\n",
      "2019-02-09 23:13:25,934 [daskperiment.core.environment] [INFO] Saving device info: daskperiment_cache/simple_experiment_pj/environment/device_simple_experiment_pj_4.txt\n",
      "2019-02-09 23:13:25,934 [daskperiment.core.environment] [INFO] Saving python packages: daskperiment_cache/simple_experiment_pj/environment/requirements_simple_experiment_pj_4.txt\n",
      "2019-02-09 23:13:25,938 [daskperiment.core.trial] [INFO] Finished Experiment (trial id=4)\n",
      "2019-02-09 23:13:25,938 [daskperiment.backend.local] [INFO] Saving Experiment to file: daskperiment_cache/simple_experiment_pj/simple_experiment_pj.pkl\n",
      "2019-02-09 23:13:25,938 [daskperiment.io.pickle] [INFO] Saving LocalBackend('daskperiment_cache/simple_experiment_pj') to path=daskperiment_cache/simple_experiment_pj/simple_experiment_pj.pkl\n"
     ]
    }
   ],
   "source": [
    "!python ../scripts/simple_experiment.py a=3 b=2"
   ]
  },
  {
   "cell_type": "markdown",
   "metadata": {},
   "source": [
    "To confirm the experiment results, instanciate Experiment specifying the same id as the script and use Experiment.get_history."
   ]
  },
  {
   "cell_type": "code",
   "execution_count": 34,
   "metadata": {
    "collapsed": false
   },
   "outputs": [
    {
     "name": "stderr",
     "output_type": "stream",
     "text": [
      "2019-02-09 23:13:26,259 [daskperiment.io.pickle] [INFO] Use existing cache directory: /Users/sinhrks/Git/daskperiment/notebook/daskperiment_cache/simple_experiment_pj\n",
      "2019-02-09 23:13:26,263 [daskperiment.backend.local] [INFO] Loading Experiment from file: daskperiment_cache/simple_experiment_pj/simple_experiment_pj.pkl\n",
      "2019-02-09 23:13:26,267 [daskperiment.io.pickle] [INFO] Loaded LocalBackend('daskperiment_cache/simple_experiment_pj') from path=daskperiment_cache/simple_experiment_pj/simple_experiment_pj.pkl\n",
      "2019-02-09 23:13:26,271 [daskperiment.core.experiment] [INFO] Loaded existing experiment: Experiment(id: simple_experiment_pj, trial_id: 4, backend: LocalBackend('daskperiment_cache/simple_experiment_pj'))\n",
      "2019-02-09 23:13:26,279 [daskperiment.core.environment] [INFO] Platform: Darwin-17.7.0-x86_64-i386-64bit\n",
      "2019-02-09 23:13:26,282 [daskperiment.core.environment] [INFO] Python: CPython 3.6.6 (Jupyter Notebook)\n",
      "2019-02-09 23:13:26,286 [daskperiment.core.environment] [INFO] daskperiment version: 0.2.1.dev0\n",
      "2019-02-09 23:13:26,289 [daskperiment.core.environment] [INFO] daskperiment path: /Users/sinhrks/Git/daskperiment/daskperiment\n",
      "2019-02-09 23:13:26,291 [daskperiment.core.environment] [INFO] Working directory: /Users/sinhrks/Git/daskperiment/notebook\n",
      "2019-02-09 23:13:26,293 [daskperiment.core.environment] [INFO] Number of installed Python packages: 339\n",
      "2019-02-09 23:13:26,297 [daskperiment.core.environment] [WARNING] Environment information has been changed\n",
      "2019-02-09 23:13:26,298 [daskperiment.core.environment] [WARNING] @@ -2 +2 @@\n",
      "\n",
      "2019-02-09 23:13:26,299 [daskperiment.core.environment] [WARNING] -Python: CPython 3.6.6 (File)\n",
      "2019-02-09 23:13:26,301 [daskperiment.core.environment] [WARNING] +Python: CPython 3.6.6 (Jupyter Notebook)\n"
     ]
    },
    {
     "data": {
      "text/html": [
       "<div>\n",
       "<style scoped>\n",
       "    .dataframe tbody tr th:only-of-type {\n",
       "        vertical-align: middle;\n",
       "    }\n",
       "\n",
       "    .dataframe tbody tr th {\n",
       "        vertical-align: top;\n",
       "    }\n",
       "\n",
       "    .dataframe thead th {\n",
       "        text-align: right;\n",
       "    }\n",
       "</style>\n",
       "<table border=\"1\" class=\"dataframe\">\n",
       "  <thead>\n",
       "    <tr style=\"text-align: right;\">\n",
       "      <th></th>\n",
       "      <th>a</th>\n",
       "      <th>b</th>\n",
       "      <th>Seed</th>\n",
       "      <th>Result</th>\n",
       "      <th>Result Type</th>\n",
       "      <th>Success</th>\n",
       "      <th>Finished</th>\n",
       "      <th>Process Time</th>\n",
       "      <th>Description</th>\n",
       "    </tr>\n",
       "    <tr>\n",
       "      <th>Trial ID</th>\n",
       "      <th></th>\n",
       "      <th></th>\n",
       "      <th></th>\n",
       "      <th></th>\n",
       "      <th></th>\n",
       "      <th></th>\n",
       "      <th></th>\n",
       "      <th></th>\n",
       "      <th></th>\n",
       "    </tr>\n",
       "  </thead>\n",
       "  <tbody>\n",
       "    <tr>\n",
       "      <th>1</th>\n",
       "      <td>1</td>\n",
       "      <td>2</td>\n",
       "      <td>579607806</td>\n",
       "      <td>4</td>\n",
       "      <td>&lt;class 'int'&gt;</td>\n",
       "      <td>True</td>\n",
       "      <td>2019-02-09 23:12:20.970940</td>\n",
       "      <td>00:00:00.005830</td>\n",
       "      <td>NaN</td>\n",
       "    </tr>\n",
       "    <tr>\n",
       "      <th>2</th>\n",
       "      <td>3</td>\n",
       "      <td>2</td>\n",
       "      <td>275887783</td>\n",
       "      <td>6</td>\n",
       "      <td>&lt;class 'int'&gt;</td>\n",
       "      <td>True</td>\n",
       "      <td>2019-02-09 23:12:22.352482</td>\n",
       "      <td>00:00:00.005989</td>\n",
       "      <td>NaN</td>\n",
       "    </tr>\n",
       "    <tr>\n",
       "      <th>3</th>\n",
       "      <td>1</td>\n",
       "      <td>2</td>\n",
       "      <td>1234361236</td>\n",
       "      <td>4</td>\n",
       "      <td>&lt;class 'int'&gt;</td>\n",
       "      <td>True</td>\n",
       "      <td>2019-02-09 23:13:24.620345</td>\n",
       "      <td>00:00:00.005838</td>\n",
       "      <td>NaN</td>\n",
       "    </tr>\n",
       "    <tr>\n",
       "      <th>4</th>\n",
       "      <td>3</td>\n",
       "      <td>2</td>\n",
       "      <td>1357069363</td>\n",
       "      <td>6</td>\n",
       "      <td>&lt;class 'int'&gt;</td>\n",
       "      <td>True</td>\n",
       "      <td>2019-02-09 23:13:25.938545</td>\n",
       "      <td>00:00:00.005306</td>\n",
       "      <td>NaN</td>\n",
       "    </tr>\n",
       "  </tbody>\n",
       "</table>\n",
       "</div>"
      ],
      "text/plain": [
       "          a  b        Seed  Result    Result Type  Success  \\\n",
       "Trial ID                                                     \n",
       "1         1  2   579607806       4  <class 'int'>     True   \n",
       "2         3  2   275887783       6  <class 'int'>     True   \n",
       "3         1  2  1234361236       4  <class 'int'>     True   \n",
       "4         3  2  1357069363       6  <class 'int'>     True   \n",
       "\n",
       "                           Finished    Process Time  Description  \n",
       "Trial ID                                                          \n",
       "1        2019-02-09 23:12:20.970940 00:00:00.005830          NaN  \n",
       "2        2019-02-09 23:12:22.352482 00:00:00.005989          NaN  \n",
       "3        2019-02-09 23:13:24.620345 00:00:00.005838          NaN  \n",
       "4        2019-02-09 23:13:25.938545 00:00:00.005306          NaN  "
      ]
     },
     "execution_count": 34,
     "metadata": {},
     "output_type": "execute_result"
    }
   ],
   "source": [
    "import daskperiment\n",
    "\n",
    "ex = daskperiment.Experiment(id='simple_experiment_pj')\n",
    "ex.get_history()"
   ]
  },
  {
   "cell_type": "code",
   "execution_count": null,
   "metadata": {
    "collapsed": true
   },
   "outputs": [],
   "source": []
  }
 ],
 "metadata": {
  "kernelspec": {
   "display_name": "Python 3",
   "language": "python",
   "name": "python3"
  },
  "language_info": {
   "codemirror_mode": {
    "name": "ipython",
    "version": 3
   },
   "file_extension": ".py",
   "mimetype": "text/x-python",
   "name": "python",
   "nbconvert_exporter": "python",
   "pygments_lexer": "ipython3",
   "version": "3.6.6"
  }
 },
 "nbformat": 4,
 "nbformat_minor": 2
}
