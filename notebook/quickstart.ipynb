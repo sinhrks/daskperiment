{
 "cells": [
  {
   "cell_type": "markdown",
   "metadata": {},
   "source": [
    "# Quickstart\n",
    "\n",
    "This notebook describes a minimal example. First, create `daskperiment.Experiment` instance. This instance controlls an experiment, a chain of functions to output value and a collection of input variables."
   ]
  },
  {
   "cell_type": "code",
   "execution_count": 1,
   "metadata": {
    "collapsed": false
   },
   "outputs": [],
   "source": [
    "%matplotlib inline\n",
    "import numpy as np\n",
    "import daskperiment"
   ]
  },
  {
   "cell_type": "markdown",
   "metadata": {},
   "source": [
    "First, create `daskperiment.Experiment` instance. This instance controlls an experiment, a chain of functions to output value and a collection of input variables."
   ]
  },
  {
   "cell_type": "code",
   "execution_count": 2,
   "metadata": {
    "collapsed": false,
    "scrolled": true
   },
   "outputs": [
    {
     "name": "stderr",
     "output_type": "stream",
     "text": [
      "2019-02-13 11:18:23,668 [daskperiment.core.experiment] [INFO] Initialized new experiment: Experiment(id: quickstart_pj, trial_id: 0, backend: LocalBackend('daskperiment_cache/quickstart_pj'))\n",
      "2019-02-13 11:18:24,146 [daskperiment.core.environment] [INFO] Platform Information: Darwin-17.7.0-x86_64-i386-64bit\n",
      "2019-02-13 11:18:24,147 [daskperiment.core.environment] [INFO] Device CPU Count: 4\n",
      "2019-02-13 11:18:24,150 [daskperiment.core.environment] [INFO] Python Implementation: CPython\n",
      "2019-02-13 11:18:24,151 [daskperiment.core.environment] [INFO] Python Version: 3.6.6\n",
      "2019-02-13 11:18:24,152 [daskperiment.core.environment] [INFO] Python Shell Mode: Jupyter Notebook\n",
      "2019-02-13 11:18:24,154 [daskperiment.core.environment] [INFO] Daskperiment Version: 0.2.1.dev0\n",
      "2019-02-13 11:18:24,155 [daskperiment.core.environment] [INFO] Daskperiment Path: /Users/sinhrks/Git/daskperiment/daskperiment\n",
      "2019-02-13 11:18:24,157 [daskperiment.core.environment] [INFO] Working Directory: /Users/sinhrks/Git/daskperiment/notebook\n",
      "2019-02-13 11:18:24,159 [daskperiment.core.environment] [INFO] Git Repository: /Users/sinhrks/Git/daskperiment\n",
      "2019-02-13 11:18:24,160 [daskperiment.core.environment] [INFO] Git Active Branch: randomness\n",
      "2019-02-13 11:18:24,161 [daskperiment.core.environment] [INFO] Git HEAD Commit: 5a5163a8822d509f5fcea72fb4cd453e18423f2d\n",
      "2019-02-13 11:18:24,162 [daskperiment.core.environment] [INFO] Number of installed Python packages: 5852\n"
     ]
    },
    {
     "data": {
      "text/plain": [
       "Experiment(id: quickstart_pj, trial_id: 0, backend: LocalBackend('daskperiment_cache/quickstart_pj'))"
      ]
     },
     "execution_count": 2,
     "metadata": {},
     "output_type": "execute_result"
    }
   ],
   "source": [
    "ex = daskperiment.Experiment(id='quickstart_pj')\n",
    "ex"
   ]
  },
  {
   "cell_type": "markdown",
   "metadata": {},
   "source": [
    "Then, use `Experiment.parameter` method to define parameters (input variables for the experiment). The actual value of each parameter can be changed in every trial."
   ]
  },
  {
   "cell_type": "code",
   "execution_count": 3,
   "metadata": {
    "collapsed": false
   },
   "outputs": [
    {
     "data": {
      "text/plain": [
       "Parameter(a: Undefined)"
      ]
     },
     "execution_count": 3,
     "metadata": {},
     "output_type": "execute_result"
    }
   ],
   "source": [
    "a = ex.parameter('a')\n",
    "b = ex.parameter('b')\n",
    "a"
   ]
  },
  {
   "cell_type": "markdown",
   "metadata": {},
   "source": [
    "Next, you can define each experiment step (function) by decorating with `Experiment` instance (`@ex`).\n",
    "\n",
    "Note that the function to output the final result (mostly objective value to be minimized or maximized) must be decorated with `Experiment.result`. The chain of these functions are expressed as `Dask.Delayed` instance."
   ]
  },
  {
   "cell_type": "code",
   "execution_count": 4,
   "metadata": {
    "collapsed": false,
    "scrolled": false
   },
   "outputs": [
    {
     "data": {
      "text/plain": [
       "Delayed('calculate_score-fb9bec51-654a-4f00-bc57-c950d88a359e')"
      ]
     },
     "execution_count": 4,
     "metadata": {},
     "output_type": "execute_result"
    }
   ],
   "source": [
    "@ex\n",
    "def prepare_data(a, b):\n",
    "    return a + b \n",
    "\n",
    "@ex.result\n",
    "def calculate_score(s):\n",
    "    return 10 / s\n",
    "\n",
    "d = prepare_data(a, b)\n",
    "s = calculate_score(d)\n",
    "s"
   ]
  },
  {
   "cell_type": "markdown",
   "metadata": {},
   "source": [
    "Thus, you can visualize computation graph via `.visualize` method."
   ]
  },
  {
   "cell_type": "code",
   "execution_count": 5,
   "metadata": {
    "collapsed": false
   },
   "outputs": [
    {
     "data": {
      "image/png": "[encoded data removed]",
      "text/plain": [
       "<IPython.core.display.Image object>"
      ]
     },
     "execution_count": 5,
     "metadata": {},
     "output_type": "execute_result"
    }
   ],
   "source": [
    "s.visualize()"
   ]
  },
  {
   "cell_type": "markdown",
   "metadata": {},
   "source": [
    "Use `Experiment.set_parameters` method to set parameters for a trial. After setting parameters, `Parameter` variable and experiment result will be computable.\n",
    "\n",
    "Parameters are recommended to be a scalar (or lightweight value) because these are stored as history (for example, passing filename as a parameter is　preffered rather than passing `DataFrame`)."
   ]
  },
  {
   "cell_type": "code",
   "execution_count": 6,
   "metadata": {
    "collapsed": false,
    "scrolled": false
   },
   "outputs": [
    {
     "name": "stderr",
     "output_type": "stream",
     "text": [
      "2019-02-13 11:18:41,872 [daskperiment.core.parameter] [INFO] Updated parameters: a=1<class 'int'>, b=2<class 'int'>\n"
     ]
    },
    {
     "data": {
      "text/plain": [
       "1"
      ]
     },
     "execution_count": 6,
     "metadata": {},
     "output_type": "execute_result"
    }
   ],
   "source": [
    "ex.set_parameters(a=1, b=2)\n",
    "a.compute()"
   ]
  },
  {
   "cell_type": "code",
   "execution_count": 7,
   "metadata": {
    "collapsed": false
   },
   "outputs": [
    {
     "name": "stderr",
     "output_type": "stream",
     "text": [
      "2019-02-13 11:18:42,168 [daskperiment.core.trial] [INFO] Started Experiment (trial id=1)\n",
      "2019-02-13 11:18:42,170 [daskperiment.core.experiment] [INFO] Target: calculate_score-fb9bec51-654a-4f00-bc57-c950d88a359e\n",
      "2019-02-13 11:18:42,172 [daskperiment.core.experiment] [INFO] Random seed is not provided, initialized with generated seed: 168040459\n",
      "2019-02-13 11:18:42,174 [daskperiment.core.trial] [INFO] Parameters: a=1<class 'int'>, b=2<class 'int'>\n",
      "2019-02-13 11:18:42,175 [daskperiment.core.code] [INFO] Saving code context: daskperiment_cache/quickstart_pj/code/quickstart_pj_1.py\n",
      "2019-02-13 11:18:42,177 [daskperiment.core.environment] [INFO] Saving platform info: daskperiment_cache/quickstart_pj/environment/device_quickstart_pj_1.json\n",
      "2019-02-13 11:18:42,179 [daskperiment.core.environment] [INFO] Saving Python info: daskperiment_cache/quickstart_pj/environment/python_quickstart_pj_1.json\n",
      "2019-02-13 11:18:42,182 [daskperiment.core.environment] [INFO] Saving Git info: daskperiment_cache/quickstart_pj/environment/git_quickstart_pj_1.json\n",
      "2019-02-13 11:18:42,184 [daskperiment.core.environment] [INFO] Saving python packages: daskperiment_cache/quickstart_pj/environment/requirements_quickstart_pj_1.txt\n",
      "2019-02-13 11:18:42,190 [daskperiment.core.trial] [INFO] Finished Experiment (trial id=1)\n",
      "2019-02-13 11:18:42,192 [daskperiment.backend.local] [INFO] Saving Experiment to file: daskperiment_cache/quickstart_pj/quickstart_pj.pkl\n"
     ]
    },
    {
     "data": {
      "text/plain": [
       "3.3333333333333335"
      ]
     },
     "execution_count": 7,
     "metadata": {},
     "output_type": "execute_result"
    }
   ],
   "source": [
    "s.compute()"
   ]
  },
  {
   "cell_type": "markdown",
   "metadata": {},
   "source": [
    "You can update any parameters for next trial. Every trials can be distinguished by trial id."
   ]
  },
  {
   "cell_type": "code",
   "execution_count": 8,
   "metadata": {
    "collapsed": false,
    "scrolled": false
   },
   "outputs": [
    {
     "name": "stderr",
     "output_type": "stream",
     "text": [
      "2019-02-13 09:11:05,900 [daskperiment.core.parameter] [INFO] Updated parameters: a=1<class 'int'>, b=3<class 'int'>\n",
      "2019-02-13 09:11:05,915 [daskperiment.core.trial] [INFO] Started Experiment (trial id=2)\n",
      "2019-02-13 09:11:05,919 [daskperiment.core.experiment] [INFO] Target: calculate_score-9e365ab2-e52a-4c38-b9c8-bc098049b023\n",
      "2019-02-13 09:11:05,922 [daskperiment.core.experiment] [INFO] Random seed is not provided, initialized with generated seed: 4235079221\n",
      "2019-02-13 09:11:05,924 [daskperiment.core.trial] [INFO] Parameters: a=1<class 'int'>, b=3<class 'int'>\n",
      "2019-02-13 09:11:05,927 [daskperiment.core.code] [INFO] Saving code context: daskperiment_cache/quickstart_pj/code/quickstart_pj_2.py\n",
      "2019-02-13 09:11:05,930 [daskperiment.core.environment] [INFO] Saving platform info: daskperiment_cache/quickstart_pj/environment/device_quickstart_pj_2.json\n",
      "2019-02-13 09:11:05,935 [daskperiment.core.environment] [INFO] Saving Python info: daskperiment_cache/quickstart_pj/environment/python_quickstart_pj_2.json\n",
      "2019-02-13 09:11:05,938 [daskperiment.core.environment] [INFO] Saving Git info: daskperiment_cache/quickstart_pj/environment/git_quickstart_pj_2.json\n",
      "2019-02-13 09:11:05,941 [daskperiment.core.environment] [INFO] Saving python packages: daskperiment_cache/quickstart_pj/environment/requirements_quickstart_pj_2.txt\n",
      "2019-02-13 09:11:05,949 [daskperiment.core.trial] [INFO] Finished Experiment (trial id=2)\n",
      "2019-02-13 09:11:05,951 [daskperiment.backend.local] [INFO] Saving Experiment to file: daskperiment_cache/quickstart_pj/quickstart_pj.pkl\n"
     ]
    },
    {
     "data": {
      "text/plain": [
       "2.5"
      ]
     },
     "execution_count": 8,
     "metadata": {},
     "output_type": "execute_result"
    }
   ],
   "source": [
    "ex.set_parameters(b=3)\n",
    "s.compute()"
   ]
  },
  {
   "cell_type": "code",
   "execution_count": 9,
   "metadata": {
    "collapsed": false
   },
   "outputs": [
    {
     "data": {
      "text/html": [
       "<div>\n",
       "<style scoped>\n",
       "    .dataframe tbody tr th:only-of-type {\n",
       "        vertical-align: middle;\n",
       "    }\n",
       "\n",
       "    .dataframe tbody tr th {\n",
       "        vertical-align: top;\n",
       "    }\n",
       "\n",
       "    .dataframe thead th {\n",
       "        text-align: right;\n",
       "    }\n",
       "</style>\n",
       "<table border=\"1\" class=\"dataframe\">\n",
       "  <thead>\n",
       "    <tr style=\"text-align: right;\">\n",
       "      <th></th>\n",
       "      <th>a</th>\n",
       "      <th>b</th>\n",
       "      <th>Seed</th>\n",
       "      <th>Result</th>\n",
       "      <th>Result Type</th>\n",
       "      <th>Success</th>\n",
       "      <th>Finished</th>\n",
       "      <th>Process Time</th>\n",
       "      <th>Description</th>\n",
       "    </tr>\n",
       "    <tr>\n",
       "      <th>Trial ID</th>\n",
       "      <th></th>\n",
       "      <th></th>\n",
       "      <th></th>\n",
       "      <th></th>\n",
       "      <th></th>\n",
       "      <th></th>\n",
       "      <th></th>\n",
       "      <th></th>\n",
       "      <th></th>\n",
       "    </tr>\n",
       "  </thead>\n",
       "  <tbody>\n",
       "    <tr>\n",
       "      <th>1</th>\n",
       "      <td>1</td>\n",
       "      <td>2</td>\n",
       "      <td>759268851</td>\n",
       "      <td>3.333333</td>\n",
       "      <td>&lt;class 'float'&gt;</td>\n",
       "      <td>True</td>\n",
       "      <td>2019-02-13 09:11:05.875408</td>\n",
       "      <td>00:00:00.028267</td>\n",
       "      <td>NaN</td>\n",
       "    </tr>\n",
       "    <tr>\n",
       "      <th>2</th>\n",
       "      <td>1</td>\n",
       "      <td>3</td>\n",
       "      <td>4235079221</td>\n",
       "      <td>2.500000</td>\n",
       "      <td>&lt;class 'float'&gt;</td>\n",
       "      <td>True</td>\n",
       "      <td>2019-02-13 09:11:05.949726</td>\n",
       "      <td>00:00:00.034305</td>\n",
       "      <td>NaN</td>\n",
       "    </tr>\n",
       "  </tbody>\n",
       "</table>\n",
       "</div>"
      ],
      "text/plain": [
       "          a  b        Seed    Result      Result Type  Success  \\\n",
       "Trial ID                                                         \n",
       "1         1  2   759268851  3.333333  <class 'float'>     True   \n",
       "2         1  3  4235079221  2.500000  <class 'float'>     True   \n",
       "\n",
       "                           Finished    Process Time  Description  \n",
       "Trial ID                                                          \n",
       "1        2019-02-13 09:11:05.875408 00:00:00.028267          NaN  \n",
       "2        2019-02-13 09:11:05.949726 00:00:00.034305          NaN  "
      ]
     },
     "execution_count": 9,
     "metadata": {},
     "output_type": "execute_result"
    }
   ],
   "source": [
    "ex.get_history()"
   ]
  },
  {
   "cell_type": "markdown",
   "metadata": {},
   "source": [
    "After some trials, you can retrieve parameter values specifying trial id."
   ]
  },
  {
   "cell_type": "code",
   "execution_count": 10,
   "metadata": {
    "collapsed": false,
    "scrolled": true
   },
   "outputs": [
    {
     "data": {
      "text/plain": [
       "{'a': 1, 'b': 2}"
      ]
     },
     "execution_count": 10,
     "metadata": {},
     "output_type": "execute_result"
    }
   ],
   "source": [
    "ex.get_parameters(trial_id=1)"
   ]
  },
  {
   "cell_type": "code",
   "execution_count": 11,
   "metadata": {
    "collapsed": false
   },
   "outputs": [
    {
     "data": {
      "text/plain": [
       "{'a': 1, 'b': 3}"
      ]
     },
     "execution_count": 11,
     "metadata": {},
     "output_type": "execute_result"
    }
   ],
   "source": [
    "ex.get_parameters(trial_id=2)"
   ]
  },
  {
   "cell_type": "markdown",
   "metadata": {},
   "source": [
    "`Experiment.get_history` will return a `DataFrame` which stores a history of trial parameters and its results. You can select desirable trial using `pandas` basic operation."
   ]
  },
  {
   "cell_type": "code",
   "execution_count": 12,
   "metadata": {
    "collapsed": false,
    "scrolled": false
   },
   "outputs": [
    {
     "data": {
      "text/html": [
       "<div>\n",
       "<style scoped>\n",
       "    .dataframe tbody tr th:only-of-type {\n",
       "        vertical-align: middle;\n",
       "    }\n",
       "\n",
       "    .dataframe tbody tr th {\n",
       "        vertical-align: top;\n",
       "    }\n",
       "\n",
       "    .dataframe thead th {\n",
       "        text-align: right;\n",
       "    }\n",
       "</style>\n",
       "<table border=\"1\" class=\"dataframe\">\n",
       "  <thead>\n",
       "    <tr style=\"text-align: right;\">\n",
       "      <th></th>\n",
       "      <th>a</th>\n",
       "      <th>b</th>\n",
       "      <th>Seed</th>\n",
       "      <th>Result</th>\n",
       "      <th>Result Type</th>\n",
       "      <th>Success</th>\n",
       "      <th>Finished</th>\n",
       "      <th>Process Time</th>\n",
       "      <th>Description</th>\n",
       "    </tr>\n",
       "    <tr>\n",
       "      <th>Trial ID</th>\n",
       "      <th></th>\n",
       "      <th></th>\n",
       "      <th></th>\n",
       "      <th></th>\n",
       "      <th></th>\n",
       "      <th></th>\n",
       "      <th></th>\n",
       "      <th></th>\n",
       "      <th></th>\n",
       "    </tr>\n",
       "  </thead>\n",
       "  <tbody>\n",
       "    <tr>\n",
       "      <th>1</th>\n",
       "      <td>1</td>\n",
       "      <td>2</td>\n",
       "      <td>759268851</td>\n",
       "      <td>3.333333</td>\n",
       "      <td>&lt;class 'float'&gt;</td>\n",
       "      <td>True</td>\n",
       "      <td>2019-02-13 09:11:05.875408</td>\n",
       "      <td>00:00:00.028267</td>\n",
       "      <td>NaN</td>\n",
       "    </tr>\n",
       "    <tr>\n",
       "      <th>2</th>\n",
       "      <td>1</td>\n",
       "      <td>3</td>\n",
       "      <td>4235079221</td>\n",
       "      <td>2.500000</td>\n",
       "      <td>&lt;class 'float'&gt;</td>\n",
       "      <td>True</td>\n",
       "      <td>2019-02-13 09:11:05.949726</td>\n",
       "      <td>00:00:00.034305</td>\n",
       "      <td>NaN</td>\n",
       "    </tr>\n",
       "  </tbody>\n",
       "</table>\n",
       "</div>"
      ],
      "text/plain": [
       "          a  b        Seed    Result      Result Type  Success  \\\n",
       "Trial ID                                                         \n",
       "1         1  2   759268851  3.333333  <class 'float'>     True   \n",
       "2         1  3  4235079221  2.500000  <class 'float'>     True   \n",
       "\n",
       "                           Finished    Process Time  Description  \n",
       "Trial ID                                                          \n",
       "1        2019-02-13 09:11:05.875408 00:00:00.028267          NaN  \n",
       "2        2019-02-13 09:11:05.949726 00:00:00.034305          NaN  "
      ]
     },
     "execution_count": 12,
     "metadata": {},
     "output_type": "execute_result"
    }
   ],
   "source": [
    "ex.get_history()"
   ]
  },
  {
   "cell_type": "markdown",
   "metadata": {},
   "source": [
    "When any error occurs during the trial, `Experiment` instance stores the log as failed trial. The \"Description\" column contains the error detail."
   ]
  },
  {
   "cell_type": "code",
   "execution_count": 13,
   "metadata": {
    "collapsed": false
   },
   "outputs": [
    {
     "name": "stderr",
     "output_type": "stream",
     "text": [
      "2019-02-13 09:11:06,193 [daskperiment.core.parameter] [INFO] Updated parameters: a=1<class 'int'>, b=-1<class 'int'>\n",
      "2019-02-13 09:11:06,207 [daskperiment.core.trial] [INFO] Started Experiment (trial id=3)\n",
      "2019-02-13 09:11:06,209 [daskperiment.core.experiment] [INFO] Target: calculate_score-9e365ab2-e52a-4c38-b9c8-bc098049b023\n",
      "2019-02-13 09:11:06,210 [daskperiment.core.experiment] [INFO] Random seed is not provided, initialized with generated seed: 3947397468\n",
      "2019-02-13 09:11:06,212 [daskperiment.core.trial] [INFO] Parameters: a=1<class 'int'>, b=-1<class 'int'>\n",
      "2019-02-13 09:11:06,235 [daskperiment.core.code] [INFO] Saving code context: daskperiment_cache/quickstart_pj/code/quickstart_pj_3.py\n",
      "2019-02-13 09:11:06,238 [daskperiment.core.environment] [INFO] Saving platform info: daskperiment_cache/quickstart_pj/environment/device_quickstart_pj_3.json\n",
      "2019-02-13 09:11:06,248 [daskperiment.core.environment] [INFO] Saving Python info: daskperiment_cache/quickstart_pj/environment/python_quickstart_pj_3.json\n",
      "2019-02-13 09:11:06,252 [daskperiment.core.environment] [INFO] Saving Git info: daskperiment_cache/quickstart_pj/environment/git_quickstart_pj_3.json\n",
      "2019-02-13 09:11:06,257 [daskperiment.core.environment] [INFO] Saving python packages: daskperiment_cache/quickstart_pj/environment/requirements_quickstart_pj_3.txt\n",
      "2019-02-13 09:11:06,265 [daskperiment.core.experiment] [ERROR] Experiment failed: ZeroDivisionError(division by zero)\n",
      "2019-02-13 09:11:06,266 [daskperiment.core.trial] [INFO] Finished Experiment (trial id=3)\n",
      "2019-02-13 09:11:06,272 [daskperiment.backend.local] [INFO] Saving Experiment to file: daskperiment_cache/quickstart_pj/quickstart_pj.pkl\n"
     ]
    },
    {
     "name": "stdout",
     "output_type": "stream",
     "text": [
      "ZeroDivisionError(division by zero)\n"
     ]
    }
   ],
   "source": [
    "ex.set_parameters(a=1, b=-1)\n",
    "try:\n",
    "    s.compute()\n",
    "    \n",
    "except ZeroDivisionError as e:\n",
    "    # To hide stack trace\n",
    "    print('{}({})'.format(e.__class__.__name__, e))"
   ]
  },
  {
   "cell_type": "code",
   "execution_count": 14,
   "metadata": {
    "collapsed": false
   },
   "outputs": [
    {
     "data": {
      "text/html": [
       "<div>\n",
       "<style scoped>\n",
       "    .dataframe tbody tr th:only-of-type {\n",
       "        vertical-align: middle;\n",
       "    }\n",
       "\n",
       "    .dataframe tbody tr th {\n",
       "        vertical-align: top;\n",
       "    }\n",
       "\n",
       "    .dataframe thead th {\n",
       "        text-align: right;\n",
       "    }\n",
       "</style>\n",
       "<table border=\"1\" class=\"dataframe\">\n",
       "  <thead>\n",
       "    <tr style=\"text-align: right;\">\n",
       "      <th></th>\n",
       "      <th>a</th>\n",
       "      <th>b</th>\n",
       "      <th>Seed</th>\n",
       "      <th>Result</th>\n",
       "      <th>Result Type</th>\n",
       "      <th>Success</th>\n",
       "      <th>Finished</th>\n",
       "      <th>Process Time</th>\n",
       "      <th>Description</th>\n",
       "    </tr>\n",
       "    <tr>\n",
       "      <th>Trial ID</th>\n",
       "      <th></th>\n",
       "      <th></th>\n",
       "      <th></th>\n",
       "      <th></th>\n",
       "      <th></th>\n",
       "      <th></th>\n",
       "      <th></th>\n",
       "      <th></th>\n",
       "      <th></th>\n",
       "    </tr>\n",
       "  </thead>\n",
       "  <tbody>\n",
       "    <tr>\n",
       "      <th>1</th>\n",
       "      <td>1</td>\n",
       "      <td>2</td>\n",
       "      <td>759268851</td>\n",
       "      <td>3.333333</td>\n",
       "      <td>&lt;class 'float'&gt;</td>\n",
       "      <td>True</td>\n",
       "      <td>2019-02-13 09:11:05.875408</td>\n",
       "      <td>00:00:00.028267</td>\n",
       "      <td>NaN</td>\n",
       "    </tr>\n",
       "    <tr>\n",
       "      <th>2</th>\n",
       "      <td>1</td>\n",
       "      <td>3</td>\n",
       "      <td>4235079221</td>\n",
       "      <td>2.500000</td>\n",
       "      <td>&lt;class 'float'&gt;</td>\n",
       "      <td>True</td>\n",
       "      <td>2019-02-13 09:11:05.949726</td>\n",
       "      <td>00:00:00.034305</td>\n",
       "      <td>NaN</td>\n",
       "    </tr>\n",
       "    <tr>\n",
       "      <th>3</th>\n",
       "      <td>1</td>\n",
       "      <td>-1</td>\n",
       "      <td>3947397468</td>\n",
       "      <td>NaN</td>\n",
       "      <td>None</td>\n",
       "      <td>False</td>\n",
       "      <td>2019-02-13 09:11:06.266213</td>\n",
       "      <td>00:00:00.058732</td>\n",
       "      <td>ZeroDivisionError(division by zero)</td>\n",
       "    </tr>\n",
       "  </tbody>\n",
       "</table>\n",
       "</div>"
      ],
      "text/plain": [
       "          a  b        Seed    Result      Result Type  Success  \\\n",
       "Trial ID                                                         \n",
       "1         1  2   759268851  3.333333  <class 'float'>     True   \n",
       "2         1  3  4235079221  2.500000  <class 'float'>     True   \n",
       "3         1 -1  3947397468       NaN             None    False   \n",
       "\n",
       "                           Finished    Process Time  \\\n",
       "Trial ID                                              \n",
       "1        2019-02-13 09:11:05.875408 00:00:00.028267   \n",
       "2        2019-02-13 09:11:05.949726 00:00:00.034305   \n",
       "3        2019-02-13 09:11:06.266213 00:00:00.058732   \n",
       "\n",
       "                                  Description  \n",
       "Trial ID                                       \n",
       "1                                         NaN  \n",
       "2                                         NaN  \n",
       "3         ZeroDivisionError(division by zero)  "
      ]
     },
     "execution_count": 14,
     "metadata": {},
     "output_type": "execute_result"
    }
   ],
   "source": [
    "ex.get_history()"
   ]
  },
  {
   "cell_type": "markdown",
   "metadata": {},
   "source": [
    "Every time the computation performed, `Experiment` instance is automatically saved to specified cache directory. When `Experiment` instance is initialized, it automatically load previous trials (check trial id in the log)."
   ]
  },
  {
   "cell_type": "markdown",
   "metadata": {},
   "source": [
    "# Handling intermediate result"
   ]
  },
  {
   "cell_type": "markdown",
   "metadata": {},
   "source": [
    "Next example shows how to retrieve an intermediate result of the chain.\n",
    "\n",
    "The only difference is using `Experiment.persist` decorator. It makes `Experiment` instance to keep the decorated function's intermediate result. After definition, rebuilt the same workflow using the persisted function. \n",
    "\n",
    "Note that an intermediate result is saved as a pickle file named with its function name, function name must be unique in the experiment."
   ]
  },
  {
   "cell_type": "code",
   "execution_count": 15,
   "metadata": {
    "collapsed": false,
    "scrolled": true
   },
   "outputs": [
    {
     "name": "stderr",
     "output_type": "stream",
     "text": [
      "2019-02-13 09:11:06,403 [daskperiment.core.code] [WARNING] Code context has been changed: prepare_data\n",
      "2019-02-13 09:11:06,405 [daskperiment.core.code] [WARNING] @@ -1,3 +1,3 @@\n",
      "\n",
      "2019-02-13 09:11:06,407 [daskperiment.core.code] [WARNING] -@ex\n",
      "2019-02-13 09:11:06,409 [daskperiment.core.code] [WARNING] +@ex.persist\n",
      "2019-02-13 09:11:06,411 [daskperiment.core.code] [WARNING]  def prepare_data(a, b):\n",
      "2019-02-13 09:11:06,412 [daskperiment.core.code] [WARNING] -    return a + b \n",
      "2019-02-13 09:11:06,414 [daskperiment.core.code] [WARNING] +    return a + b\n"
     ]
    }
   ],
   "source": [
    "@ex.persist\n",
    "def prepare_data(a, b):\n",
    "    return a + b\n",
    "\n",
    "d = prepare_data(a, b)\n",
    "s = calculate_score(d)"
   ]
  },
  {
   "cell_type": "markdown",
   "metadata": {},
   "source": [
    "NOTE: Also, you can notice that `daskperiment` outputs some \"WARNING\" indicating code contexts has been changed. It's because `daskperiment` automatically tracks code context to guarantee reproducibility.\n",
    "\n",
    "Let's perform some trials."
   ]
  },
  {
   "cell_type": "code",
   "execution_count": 16,
   "metadata": {
    "collapsed": false
   },
   "outputs": [
    {
     "name": "stderr",
     "output_type": "stream",
     "text": [
      "2019-02-13 09:11:06,424 [daskperiment.core.parameter] [INFO] Updated parameters: a=1<class 'int'>, b=2<class 'int'>\n",
      "2019-02-13 09:11:06,427 [daskperiment.core.trial] [INFO] Started Experiment (trial id=4)\n",
      "2019-02-13 09:11:06,429 [daskperiment.core.experiment] [INFO] Target: calculate_score-7facd21c-917f-46f4-aadd-a4cc14e561f1\n",
      "2019-02-13 09:11:06,431 [daskperiment.core.experiment] [INFO] Random seed is not provided, initialized with generated seed: 1890136735\n",
      "2019-02-13 09:11:06,433 [daskperiment.core.trial] [INFO] Parameters: a=1<class 'int'>, b=2<class 'int'>\n",
      "2019-02-13 09:11:06,434 [daskperiment.core.code] [INFO] Saving code context: daskperiment_cache/quickstart_pj/code/quickstart_pj_4.py\n",
      "2019-02-13 09:11:06,438 [daskperiment.core.environment] [INFO] Saving platform info: daskperiment_cache/quickstart_pj/environment/device_quickstart_pj_4.json\n",
      "2019-02-13 09:11:06,440 [daskperiment.core.environment] [INFO] Saving Python info: daskperiment_cache/quickstart_pj/environment/python_quickstart_pj_4.json\n",
      "2019-02-13 09:11:06,443 [daskperiment.core.environment] [INFO] Saving Git info: daskperiment_cache/quickstart_pj/environment/git_quickstart_pj_4.json\n",
      "2019-02-13 09:11:06,446 [daskperiment.core.environment] [INFO] Saving python packages: daskperiment_cache/quickstart_pj/environment/requirements_quickstart_pj_4.txt\n",
      "2019-02-13 09:11:06,453 [daskperiment.core.trial] [INFO] Finished Experiment (trial id=4)\n",
      "2019-02-13 09:11:06,454 [daskperiment.backend.local] [INFO] Saving Experiment to file: daskperiment_cache/quickstart_pj/quickstart_pj.pkl\n"
     ]
    },
    {
     "data": {
      "text/plain": [
       "3.3333333333333335"
      ]
     },
     "execution_count": 16,
     "metadata": {},
     "output_type": "execute_result"
    }
   ],
   "source": [
    "ex.set_parameters(a=1, b=2)\n",
    "s.compute()"
   ]
  },
  {
   "cell_type": "code",
   "execution_count": 17,
   "metadata": {
    "collapsed": false
   },
   "outputs": [
    {
     "name": "stderr",
     "output_type": "stream",
     "text": [
      "2019-02-13 09:11:06,468 [daskperiment.core.parameter] [INFO] Updated parameters: a=3<class 'int'>, b=2<class 'int'>\n",
      "2019-02-13 09:11:06,470 [daskperiment.core.trial] [INFO] Started Experiment (trial id=5)\n",
      "2019-02-13 09:11:06,471 [daskperiment.core.experiment] [INFO] Target: calculate_score-7facd21c-917f-46f4-aadd-a4cc14e561f1\n",
      "2019-02-13 09:11:06,474 [daskperiment.core.experiment] [INFO] Random seed is not provided, initialized with generated seed: 2249402925\n",
      "2019-02-13 09:11:06,475 [daskperiment.core.trial] [INFO] Parameters: a=3<class 'int'>, b=2<class 'int'>\n",
      "2019-02-13 09:11:06,482 [daskperiment.core.code] [INFO] Saving code context: daskperiment_cache/quickstart_pj/code/quickstart_pj_5.py\n",
      "2019-02-13 09:11:06,487 [daskperiment.core.environment] [INFO] Saving platform info: daskperiment_cache/quickstart_pj/environment/device_quickstart_pj_5.json\n",
      "2019-02-13 09:11:06,489 [daskperiment.core.environment] [INFO] Saving Python info: daskperiment_cache/quickstart_pj/environment/python_quickstart_pj_5.json\n",
      "2019-02-13 09:11:06,491 [daskperiment.core.environment] [INFO] Saving Git info: daskperiment_cache/quickstart_pj/environment/git_quickstart_pj_5.json\n",
      "2019-02-13 09:11:06,494 [daskperiment.core.environment] [INFO] Saving python packages: daskperiment_cache/quickstart_pj/environment/requirements_quickstart_pj_5.txt\n",
      "2019-02-13 09:11:06,507 [daskperiment.core.trial] [INFO] Finished Experiment (trial id=5)\n",
      "2019-02-13 09:11:06,509 [daskperiment.backend.local] [INFO] Saving Experiment to file: daskperiment_cache/quickstart_pj/quickstart_pj.pkl\n"
     ]
    },
    {
     "data": {
      "text/plain": [
       "2.0"
      ]
     },
     "execution_count": 17,
     "metadata": {},
     "output_type": "execute_result"
    }
   ],
   "source": [
    "ex.set_parameters(a=3, b=2)\n",
    "s.compute()"
   ]
  },
  {
   "cell_type": "markdown",
   "metadata": {},
   "source": [
    "You can retrieve intermediate results via `Experiment.get_persisted` method by specifying function name and trial id."
   ]
  },
  {
   "cell_type": "code",
   "execution_count": 18,
   "metadata": {
    "collapsed": false
   },
   "outputs": [
    {
     "data": {
      "text/plain": [
       "3"
      ]
     },
     "execution_count": 18,
     "metadata": {},
     "output_type": "execute_result"
    }
   ],
   "source": [
    "ex.get_persisted('prepare_data', trial_id=4)"
   ]
  },
  {
   "cell_type": "code",
   "execution_count": 19,
   "metadata": {
    "collapsed": false
   },
   "outputs": [
    {
     "data": {
      "text/plain": [
       "5"
      ]
     },
     "execution_count": 19,
     "metadata": {},
     "output_type": "execute_result"
    }
   ],
   "source": [
    "ex.get_persisted('prepare_data', trial_id=5)"
   ]
  },
  {
   "cell_type": "markdown",
   "metadata": {},
   "source": [
    "# Monitoring metrics"
   ]
  },
  {
   "cell_type": "markdown",
   "metadata": {},
   "source": [
    "You may need to monitor transition of some metrics during each trial. In each experiment function, you can call `Experiment.save_metric` to save metric with its key (name) and epoch."
   ]
  },
  {
   "cell_type": "code",
   "execution_count": 20,
   "metadata": {
    "collapsed": false,
    "scrolled": true
   },
   "outputs": [
    {
     "name": "stderr",
     "output_type": "stream",
     "text": [
      "2019-02-13 09:11:06,548 [daskperiment.core.code] [WARNING] Code context has been changed: calculate_score\n",
      "2019-02-13 09:11:06,553 [daskperiment.core.code] [WARNING] @@ -1,3 +1,6 @@\n",
      "\n",
      "2019-02-13 09:11:06,556 [daskperiment.core.code] [WARNING]  @ex.result\n",
      "2019-02-13 09:11:06,557 [daskperiment.core.code] [WARNING]  def calculate_score(s):\n",
      "2019-02-13 09:11:06,562 [daskperiment.core.code] [WARNING] +    for i in range(100):\n",
      "2019-02-13 09:11:06,565 [daskperiment.core.code] [WARNING] +        ex.save_metric('dummy_score', epoch=i, value=100 - np.random.random() * i)\n",
      "2019-02-13 09:11:06,566 [daskperiment.core.code] [WARNING] +        \n",
      "2019-02-13 09:11:06,568 [daskperiment.core.code] [WARNING]      return 10 / s\n"
     ]
    }
   ],
   "source": [
    "@ex.result\n",
    "def calculate_score(s):\n",
    "    for i in range(100):\n",
    "        ex.save_metric('dummy_score', epoch=i, value=100 - np.random.random() * i)\n",
    "        \n",
    "    return 10 / s\n",
    "\n",
    "d = prepare_data(a, b)\n",
    "s = calculate_score(d)"
   ]
  },
  {
   "cell_type": "code",
   "execution_count": 21,
   "metadata": {
    "collapsed": false,
    "scrolled": false
   },
   "outputs": [
    {
     "name": "stderr",
     "output_type": "stream",
     "text": [
      "2019-02-13 09:11:06,579 [daskperiment.core.parameter] [INFO] Updated parameters: a=1<class 'int'>, b=2<class 'int'>\n",
      "2019-02-13 09:11:06,582 [daskperiment.core.trial] [INFO] Started Experiment (trial id=6)\n",
      "2019-02-13 09:11:06,584 [daskperiment.core.experiment] [INFO] Target: calculate_score-2497b3b5-0cb9-4d25-8753-cec0f465f945\n",
      "2019-02-13 09:11:06,586 [daskperiment.core.experiment] [INFO] Random seed is not provided, initialized with generated seed: 2458525815\n",
      "2019-02-13 09:11:06,588 [daskperiment.core.trial] [INFO] Parameters: a=1<class 'int'>, b=2<class 'int'>\n",
      "2019-02-13 09:11:06,591 [daskperiment.core.code] [INFO] Saving code context: daskperiment_cache/quickstart_pj/code/quickstart_pj_6.py\n",
      "2019-02-13 09:11:06,594 [daskperiment.core.environment] [INFO] Saving platform info: daskperiment_cache/quickstart_pj/environment/device_quickstart_pj_6.json\n",
      "2019-02-13 09:11:06,597 [daskperiment.core.environment] [INFO] Saving Python info: daskperiment_cache/quickstart_pj/environment/python_quickstart_pj_6.json\n",
      "2019-02-13 09:11:06,600 [daskperiment.core.environment] [INFO] Saving Git info: daskperiment_cache/quickstart_pj/environment/git_quickstart_pj_6.json\n",
      "2019-02-13 09:11:06,602 [daskperiment.core.environment] [INFO] Saving python packages: daskperiment_cache/quickstart_pj/environment/requirements_quickstart_pj_6.txt\n",
      "2019-02-13 09:11:06,612 [daskperiment.core.trial] [INFO] Finished Experiment (trial id=6)\n",
      "2019-02-13 09:11:06,615 [daskperiment.backend.local] [INFO] Saving Experiment to file: daskperiment_cache/quickstart_pj/quickstart_pj.pkl\n"
     ]
    },
    {
     "data": {
      "text/plain": [
       "3.3333333333333335"
      ]
     },
     "execution_count": 21,
     "metadata": {},
     "output_type": "execute_result"
    }
   ],
   "source": [
    "ex.set_parameters(a=1, b=2)\n",
    "s.compute()"
   ]
  },
  {
   "cell_type": "markdown",
   "metadata": {},
   "source": [
    "After a trial, you can load saved metric using `Experiment.load_metric` specifying its name and trial_id. As it is returned as `DataFrame`, you can easily investigate it."
   ]
  },
  {
   "cell_type": "code",
   "execution_count": 22,
   "metadata": {
    "collapsed": false
   },
   "outputs": [
    {
     "name": "stdout",
     "output_type": "stream",
     "text": [
      "Trial ID           6\n",
      "Epoch               \n",
      "0         100.000000\n",
      "1          99.445892\n",
      "2          99.544163\n",
      "3          99.501453\n",
      "4          99.265980\n"
     ]
    }
   ],
   "source": [
    "dummy_score = ex.load_metric('dummy_score', trial_id=6)\n",
    "print(dummy_score.head())"
   ]
  },
  {
   "cell_type": "code",
   "execution_count": 23,
   "metadata": {
    "collapsed": false
   },
   "outputs": [
    {
     "data": {
      "text/plain": [
       "<matplotlib.axes._subplots.AxesSubplot at 0x11cb70470>"
      ]
     },
     "execution_count": 23,
     "metadata": {},
     "output_type": "execute_result"
    },
    {
     "data": {
      "image/png": "[encoded data removed]",
      "text/plain": [
       "<Figure size 432x288 with 1 Axes>"
      ]
     },
     "metadata": {
      "needs_background": "light"
     },
     "output_type": "display_data"
    }
   ],
   "source": [
    "dummy_score.plot()"
   ]
  },
  {
   "cell_type": "markdown",
   "metadata": {},
   "source": [
    "Perform another trial."
   ]
  },
  {
   "cell_type": "code",
   "execution_count": 24,
   "metadata": {
    "collapsed": false
   },
   "outputs": [
    {
     "name": "stderr",
     "output_type": "stream",
     "text": [
      "2019-02-13 09:11:07,519 [daskperiment.core.parameter] [INFO] Updated parameters: a=3<class 'int'>, b=4<class 'int'>\n",
      "2019-02-13 09:11:07,521 [daskperiment.core.trial] [INFO] Started Experiment (trial id=7)\n",
      "2019-02-13 09:11:07,522 [daskperiment.core.experiment] [INFO] Target: calculate_score-2497b3b5-0cb9-4d25-8753-cec0f465f945\n",
      "2019-02-13 09:11:07,525 [daskperiment.core.experiment] [INFO] Random seed is not provided, initialized with generated seed: 4000874638\n",
      "2019-02-13 09:11:07,531 [daskperiment.core.trial] [INFO] Parameters: a=3<class 'int'>, b=4<class 'int'>\n",
      "2019-02-13 09:11:07,534 [daskperiment.core.code] [INFO] Saving code context: daskperiment_cache/quickstart_pj/code/quickstart_pj_7.py\n",
      "2019-02-13 09:11:07,540 [daskperiment.core.environment] [INFO] Saving platform info: daskperiment_cache/quickstart_pj/environment/device_quickstart_pj_7.json\n",
      "2019-02-13 09:11:07,542 [daskperiment.core.environment] [INFO] Saving Python info: daskperiment_cache/quickstart_pj/environment/python_quickstart_pj_7.json\n",
      "2019-02-13 09:11:07,545 [daskperiment.core.environment] [INFO] Saving Git info: daskperiment_cache/quickstart_pj/environment/git_quickstart_pj_7.json\n",
      "2019-02-13 09:11:07,548 [daskperiment.core.environment] [INFO] Saving python packages: daskperiment_cache/quickstart_pj/environment/requirements_quickstart_pj_7.txt\n",
      "2019-02-13 09:11:07,558 [daskperiment.core.trial] [INFO] Finished Experiment (trial id=7)\n",
      "2019-02-13 09:11:07,561 [daskperiment.backend.local] [INFO] Saving Experiment to file: daskperiment_cache/quickstart_pj/quickstart_pj.pkl\n"
     ]
    },
    {
     "data": {
      "text/plain": [
       "1.4285714285714286"
      ]
     },
     "execution_count": 24,
     "metadata": {},
     "output_type": "execute_result"
    }
   ],
   "source": [
    "ex.set_parameters(a=3, b=4)\n",
    "s.compute()"
   ]
  },
  {
   "cell_type": "markdown",
   "metadata": {},
   "source": [
    "To compare metrics between trials, pass multiple trial ids to `Experiment.load_metric`."
   ]
  },
  {
   "cell_type": "code",
   "execution_count": 25,
   "metadata": {
    "collapsed": false
   },
   "outputs": [
    {
     "data": {
      "text/plain": [
       "<matplotlib.axes._subplots.AxesSubplot at 0x11cb70b00>"
      ]
     },
     "execution_count": 25,
     "metadata": {},
     "output_type": "execute_result"
    },
    {
     "data": {
      "image/png": "[encoded data removed]",
      "text/plain": [
       "<Figure size 432x288 with 1 Axes>"
      ]
     },
     "metadata": {
      "needs_background": "light"
     },
     "output_type": "display_data"
    }
   ],
   "source": [
    "ex.load_metric('dummy_score', trial_id=[6, 7]).plot()"
   ]
  },
  {
   "cell_type": "markdown",
   "metadata": {},
   "source": [
    "# Check code context"
   ]
  },
  {
   "cell_type": "markdown",
   "metadata": {},
   "source": [
    "The above example illustrated `daskperiment` tracks code contexts decorated with `Experiment` decorators. \n",
    "\n",
    "To check the tracked code contexts, use `Experiment.get_code` specifying trial id (shows current code if trial id is not provided)."
   ]
  },
  {
   "cell_type": "code",
   "execution_count": 26,
   "metadata": {
    "collapsed": false,
    "scrolled": false
   },
   "outputs": [
    {
     "name": "stdout",
     "output_type": "stream",
     "text": [
      "@ex.persist\n",
      "def prepare_data(a, b):\n",
      "    return a + b\n",
      "\n",
      "\n",
      "@ex.result\n",
      "def calculate_score(s):\n",
      "    for i in range(100):\n",
      "        ex.save_metric('dummy_score', epoch=i, value=100 - np.random.random() * i)\n",
      "        \n",
      "    return 10 / s\n",
      "\n"
     ]
    }
   ],
   "source": [
    "print(ex.get_code())"
   ]
  },
  {
   "cell_type": "code",
   "execution_count": 27,
   "metadata": {
    "collapsed": false,
    "scrolled": true
   },
   "outputs": [
    {
     "name": "stdout",
     "output_type": "stream",
     "text": [
      "@ex\n",
      "def prepare_data(a, b):\n",
      "    return a + b \n",
      "\n",
      "\n",
      "@ex.result\n",
      "def calculate_score(s):\n",
      "    return 10 / s\n",
      "\n"
     ]
    }
   ],
   "source": [
    "print(ex.get_code(trial_id=1))"
   ]
  },
  {
   "cell_type": "markdown",
   "metadata": {},
   "source": [
    "Each code context is also saved as a text file per trial id. Thus, these are easily handled by diff tools and  Git."
   ]
  },
  {
   "cell_type": "code",
   "execution_count": 28,
   "metadata": {
    "collapsed": false
   },
   "outputs": [
    {
     "name": "stdout",
     "output_type": "stream",
     "text": [
      "# Code output saved in trial_id=1\r\n",
      "@ex\r\n",
      "def prepare_data(a, b):\r\n",
      "    return a + b \r\n",
      "\r\n",
      "\r\n",
      "@ex.result\r\n",
      "def calculate_score(s):\r\n",
      "    return 10 / s\r\n"
     ]
    }
   ],
   "source": [
    "%cat daskperiment_cache/quickstart_pj/code/quickstart_pj_1.py"
   ]
  },
  {
   "cell_type": "markdown",
   "metadata": {},
   "source": [
    "# Function purity and handling randomness"
   ]
  },
  {
   "cell_type": "markdown",
   "metadata": {},
   "source": [
    "To make the experiment reproducible, all the experiment step should be \"pure\" function (it the inputs are the same, output shouldn't be changed). In other words, the function should not have internal state nor randomness.\n",
    "\n",
    "`daskperiment` checks whether each experiment step is pure. It internally stores the hash of inputs and output, and shows a warning if its output is changed even though the inputs are unchanged.　\n",
    "\n",
    "To illustrate this, add randomness to the example code."
   ]
  },
  {
   "cell_type": "code",
   "execution_count": 29,
   "metadata": {
    "collapsed": false,
    "scrolled": true
   },
   "outputs": [
    {
     "name": "stderr",
     "output_type": "stream",
     "text": [
      "2019-02-13 09:11:08,234 [daskperiment.core.code] [WARNING] Code context has been changed: calculate_score\n",
      "2019-02-13 09:11:08,238 [daskperiment.core.code] [WARNING] @@ -3,4 +3,4 @@\n",
      "\n",
      "2019-02-13 09:11:08,239 [daskperiment.core.code] [WARNING]      for i in range(100):\n",
      "2019-02-13 09:11:08,240 [daskperiment.core.code] [WARNING]          ex.save_metric('dummy_score', epoch=i, value=100 - np.random.random() * i)\n",
      "2019-02-13 09:11:08,242 [daskperiment.core.code] [WARNING]          \n",
      "2019-02-13 09:11:08,244 [daskperiment.core.code] [WARNING] -    return 10 / s\n",
      "2019-02-13 09:11:08,249 [daskperiment.core.code] [WARNING] +    return 10 / s + np.random.random()\n"
     ]
    }
   ],
   "source": [
    "@ex.result\n",
    "def calculate_score(s):\n",
    "    for i in range(100):\n",
    "        ex.save_metric('dummy_score', epoch=i, value=100 - np.random.random() * i)\n",
    "        \n",
    "    return 10 / s + np.random.random()\n",
    "\n",
    "d = prepare_data(a, b)\n",
    "s = calculate_score(d)"
   ]
  },
  {
   "cell_type": "markdown",
   "metadata": {},
   "source": [
    "Because of the code change, it outputs the different results even though its inputs (parameters) are unchanged. `daskperiment` shows the warning."
   ]
  },
  {
   "cell_type": "code",
   "execution_count": 30,
   "metadata": {
    "collapsed": false
   },
   "outputs": [
    {
     "name": "stderr",
     "output_type": "stream",
     "text": [
      "2019-02-13 09:11:08,264 [daskperiment.core.trial] [INFO] Started Experiment (trial id=8)\n",
      "2019-02-13 09:11:08,266 [daskperiment.core.experiment] [INFO] Target: calculate_score-68bc6a19-94e3-4f00-bf55-25cefb3e9f72\n",
      "2019-02-13 09:11:08,268 [daskperiment.core.experiment] [INFO] Random seed is not provided, initialized with generated seed: 1336143935\n",
      "2019-02-13 09:11:08,271 [daskperiment.core.trial] [INFO] Parameters: a=3<class 'int'>, b=4<class 'int'>\n",
      "2019-02-13 09:11:08,274 [daskperiment.core.code] [INFO] Saving code context: daskperiment_cache/quickstart_pj/code/quickstart_pj_8.py\n",
      "2019-02-13 09:11:08,277 [daskperiment.core.environment] [INFO] Saving platform info: daskperiment_cache/quickstart_pj/environment/device_quickstart_pj_8.json\n",
      "2019-02-13 09:11:08,279 [daskperiment.core.environment] [INFO] Saving Python info: daskperiment_cache/quickstart_pj/environment/python_quickstart_pj_8.json\n",
      "2019-02-13 09:11:08,283 [daskperiment.core.environment] [INFO] Saving Git info: daskperiment_cache/quickstart_pj/environment/git_quickstart_pj_8.json\n",
      "2019-02-13 09:11:08,288 [daskperiment.core.environment] [INFO] Saving python packages: daskperiment_cache/quickstart_pj/environment/requirements_quickstart_pj_8.txt\n",
      "2019-02-13 09:11:08,295 [daskperiment.core.trial] [WARNING] Experiment step result is changed with the same input: (step: calculate_score, args: (7,), kwargs: {})\n",
      "2019-02-13 09:11:08,298 [daskperiment.core.trial] [INFO] Finished Experiment (trial id=8)\n",
      "2019-02-13 09:11:08,303 [daskperiment.backend.local] [INFO] Saving Experiment to file: daskperiment_cache/quickstart_pj/quickstart_pj.pkl\n"
     ]
    },
    {
     "data": {
      "text/plain": [
       "1.5539284837091387"
      ]
     },
     "execution_count": 30,
     "metadata": {},
     "output_type": "execute_result"
    }
   ],
   "source": [
    "s.compute()"
   ]
  },
  {
   "cell_type": "markdown",
   "metadata": {},
   "source": [
    "The function outputs different result in every trial because of the randomness.\n",
    "To make the function reproducible, random seed should be provided.\n",
    "\n",
    "To do this, pass `seed` argument to `compute` method. Note that this trial shows the warning because its result is changed comparing to the previous result (no seed)."
   ]
  },
  {
   "cell_type": "code",
   "execution_count": 31,
   "metadata": {
    "collapsed": false,
    "scrolled": true
   },
   "outputs": [
    {
     "name": "stderr",
     "output_type": "stream",
     "text": [
      "2019-02-13 09:11:08,320 [daskperiment.core.trial] [INFO] Started Experiment (trial id=9)\n",
      "2019-02-13 09:11:08,324 [daskperiment.core.experiment] [INFO] Target: calculate_score-68bc6a19-94e3-4f00-bf55-25cefb3e9f72\n",
      "2019-02-13 09:11:08,326 [daskperiment.core.experiment] [INFO] Random seed is initialized with given seed: 1\n",
      "2019-02-13 09:11:08,328 [daskperiment.core.trial] [INFO] Parameters: a=3<class 'int'>, b=4<class 'int'>\n",
      "2019-02-13 09:11:08,329 [daskperiment.core.code] [INFO] Saving code context: daskperiment_cache/quickstart_pj/code/quickstart_pj_9.py\n",
      "2019-02-13 09:11:08,332 [daskperiment.core.environment] [INFO] Saving platform info: daskperiment_cache/quickstart_pj/environment/device_quickstart_pj_9.json\n",
      "2019-02-13 09:11:08,339 [daskperiment.core.environment] [INFO] Saving Python info: daskperiment_cache/quickstart_pj/environment/python_quickstart_pj_9.json\n",
      "2019-02-13 09:11:08,342 [daskperiment.core.environment] [INFO] Saving Git info: daskperiment_cache/quickstart_pj/environment/git_quickstart_pj_9.json\n",
      "2019-02-13 09:11:08,346 [daskperiment.core.environment] [INFO] Saving python packages: daskperiment_cache/quickstart_pj/environment/requirements_quickstart_pj_9.txt\n",
      "2019-02-13 09:11:08,352 [daskperiment.core.trial] [WARNING] Experiment step result is changed with the same input: (step: calculate_score, args: (7,), kwargs: {})\n",
      "2019-02-13 09:11:08,354 [daskperiment.core.trial] [INFO] Finished Experiment (trial id=9)\n",
      "2019-02-13 09:11:08,355 [daskperiment.backend.local] [INFO] Saving Experiment to file: daskperiment_cache/quickstart_pj/quickstart_pj.pkl\n"
     ]
    },
    {
     "data": {
      "text/plain": [
       "1.7552163303435249"
      ]
     },
     "execution_count": 31,
     "metadata": {},
     "output_type": "execute_result"
    }
   ],
   "source": [
    "s.compute(seed=1)"
   ]
  },
  {
   "cell_type": "markdown",
   "metadata": {},
   "source": [
    "Another trial with the same seed doesn't show the warning, because the result is unchanged."
   ]
  },
  {
   "cell_type": "code",
   "execution_count": 32,
   "metadata": {
    "collapsed": false
   },
   "outputs": [
    {
     "name": "stderr",
     "output_type": "stream",
     "text": [
      "2019-02-13 09:11:08,376 [daskperiment.core.trial] [INFO] Started Experiment (trial id=10)\n",
      "2019-02-13 09:11:08,381 [daskperiment.core.experiment] [INFO] Target: calculate_score-68bc6a19-94e3-4f00-bf55-25cefb3e9f72\n",
      "2019-02-13 09:11:08,382 [daskperiment.core.experiment] [INFO] Random seed is initialized with given seed: 1\n",
      "2019-02-13 09:11:08,384 [daskperiment.core.trial] [INFO] Parameters: a=3<class 'int'>, b=4<class 'int'>\n",
      "2019-02-13 09:11:08,391 [daskperiment.core.code] [INFO] Saving code context: daskperiment_cache/quickstart_pj/code/quickstart_pj_10.py\n",
      "2019-02-13 09:11:08,393 [daskperiment.core.environment] [INFO] Saving platform info: daskperiment_cache/quickstart_pj/environment/device_quickstart_pj_10.json\n",
      "2019-02-13 09:11:08,395 [daskperiment.core.environment] [INFO] Saving Python info: daskperiment_cache/quickstart_pj/environment/python_quickstart_pj_10.json\n",
      "2019-02-13 09:11:08,397 [daskperiment.core.environment] [INFO] Saving Git info: daskperiment_cache/quickstart_pj/environment/git_quickstart_pj_10.json\n",
      "2019-02-13 09:11:08,399 [daskperiment.core.environment] [INFO] Saving python packages: daskperiment_cache/quickstart_pj/environment/requirements_quickstart_pj_10.txt\n",
      "2019-02-13 09:11:08,408 [daskperiment.core.trial] [INFO] Finished Experiment (trial id=10)\n",
      "2019-02-13 09:11:08,410 [daskperiment.backend.local] [INFO] Saving Experiment to file: daskperiment_cache/quickstart_pj/quickstart_pj.pkl\n"
     ]
    },
    {
     "data": {
      "text/plain": [
       "1.7552163303435249"
      ]
     },
     "execution_count": 32,
     "metadata": {},
     "output_type": "execute_result"
    }
   ],
   "source": [
    "s.compute(seed=1)"
   ]
  },
  {
   "cell_type": "markdown",
   "metadata": {},
   "source": [
    "# Save experiment result\n",
    "\n",
    "`daskperiment` automatically saves its internal state when the experiment result is computed (when `.compute` is called). Also, `Experiment` instance automatically recover previous state when it is instanciated.\n",
    "\n",
    "Following example instanciates `Experiment` instance using the same id as above. Thus, the created `Experiment` automatically recovers its state. "
   ]
  },
  {
   "cell_type": "code",
   "execution_count": 33,
   "metadata": {
    "collapsed": false
   },
   "outputs": [
    {
     "name": "stderr",
     "output_type": "stream",
     "text": [
      "2019-02-13 09:11:08,424 [daskperiment.backend.local] [INFO] Loading Experiment from file: daskperiment_cache/quickstart_pj/quickstart_pj.pkl\n",
      "2019-02-13 09:11:08,429 [daskperiment.core.experiment] [INFO] Loaded existing experiment: Experiment(id: quickstart_pj, trial_id: 10, backend: LocalBackend('daskperiment_cache/quickstart_pj'))\n",
      "2019-02-13 09:11:08,433 [daskperiment.core.environment] [INFO] Platform Information: Darwin-17.7.0-x86_64-i386-64bit\n",
      "2019-02-13 09:11:08,434 [daskperiment.core.environment] [INFO] Device CPU Count: 4\n",
      "2019-02-13 09:11:08,435 [daskperiment.core.environment] [INFO] Python Implementation: CPython\n",
      "2019-02-13 09:11:08,437 [daskperiment.core.environment] [INFO] Python Version: 3.6.6\n",
      "2019-02-13 09:11:08,438 [daskperiment.core.environment] [INFO] Python Shell Mode: Jupyter Notebook\n",
      "2019-02-13 09:11:08,439 [daskperiment.core.environment] [INFO] Daskperiment Version: 0.2.1.dev0\n",
      "2019-02-13 09:11:08,441 [daskperiment.core.environment] [INFO] Daskperiment Path: /Users/sinhrks/Git/daskperiment/daskperiment\n",
      "2019-02-13 09:11:08,448 [daskperiment.core.environment] [INFO] Working Directory: /Users/sinhrks/Git/daskperiment/notebook\n",
      "2019-02-13 09:11:08,452 [daskperiment.core.environment] [INFO] Git Repository: /Users/sinhrks/Git/daskperiment\n",
      "2019-02-13 09:11:08,453 [daskperiment.core.environment] [INFO] Git Active Branch: randomness\n",
      "2019-02-13 09:11:08,456 [daskperiment.core.environment] [INFO] Number of installed Python packages: 5869\n"
     ]
    }
   ],
   "source": [
    "ex_new = daskperiment.Experiment(id='quickstart_pj')"
   ]
  },
  {
   "cell_type": "markdown",
   "metadata": {},
   "source": [
    "Calling `.get_history` returns information of previous trials."
   ]
  },
  {
   "cell_type": "code",
   "execution_count": 34,
   "metadata": {
    "collapsed": false
   },
   "outputs": [
    {
     "data": {
      "text/html": [
       "<div>\n",
       "<style scoped>\n",
       "    .dataframe tbody tr th:only-of-type {\n",
       "        vertical-align: middle;\n",
       "    }\n",
       "\n",
       "    .dataframe tbody tr th {\n",
       "        vertical-align: top;\n",
       "    }\n",
       "\n",
       "    .dataframe thead th {\n",
       "        text-align: right;\n",
       "    }\n",
       "</style>\n",
       "<table border=\"1\" class=\"dataframe\">\n",
       "  <thead>\n",
       "    <tr style=\"text-align: right;\">\n",
       "      <th></th>\n",
       "      <th>a</th>\n",
       "      <th>b</th>\n",
       "      <th>Seed</th>\n",
       "      <th>Result</th>\n",
       "      <th>Result Type</th>\n",
       "      <th>Success</th>\n",
       "      <th>Finished</th>\n",
       "      <th>Process Time</th>\n",
       "      <th>Description</th>\n",
       "    </tr>\n",
       "    <tr>\n",
       "      <th>Trial ID</th>\n",
       "      <th></th>\n",
       "      <th></th>\n",
       "      <th></th>\n",
       "      <th></th>\n",
       "      <th></th>\n",
       "      <th></th>\n",
       "      <th></th>\n",
       "      <th></th>\n",
       "      <th></th>\n",
       "    </tr>\n",
       "  </thead>\n",
       "  <tbody>\n",
       "    <tr>\n",
       "      <th>1</th>\n",
       "      <td>1</td>\n",
       "      <td>2</td>\n",
       "      <td>759268851</td>\n",
       "      <td>3.333333</td>\n",
       "      <td>&lt;class 'float'&gt;</td>\n",
       "      <td>True</td>\n",
       "      <td>2019-02-13 09:11:05.875408</td>\n",
       "      <td>00:00:00.028267</td>\n",
       "      <td>NaN</td>\n",
       "    </tr>\n",
       "    <tr>\n",
       "      <th>2</th>\n",
       "      <td>1</td>\n",
       "      <td>3</td>\n",
       "      <td>4235079221</td>\n",
       "      <td>2.500000</td>\n",
       "      <td>&lt;class 'float'&gt;</td>\n",
       "      <td>True</td>\n",
       "      <td>2019-02-13 09:11:05.949726</td>\n",
       "      <td>00:00:00.034305</td>\n",
       "      <td>NaN</td>\n",
       "    </tr>\n",
       "    <tr>\n",
       "      <th>3</th>\n",
       "      <td>1</td>\n",
       "      <td>-1</td>\n",
       "      <td>3947397468</td>\n",
       "      <td>NaN</td>\n",
       "      <td>None</td>\n",
       "      <td>False</td>\n",
       "      <td>2019-02-13 09:11:06.266213</td>\n",
       "      <td>00:00:00.058732</td>\n",
       "      <td>ZeroDivisionError(division by zero)</td>\n",
       "    </tr>\n",
       "    <tr>\n",
       "      <th>4</th>\n",
       "      <td>1</td>\n",
       "      <td>2</td>\n",
       "      <td>1890136735</td>\n",
       "      <td>3.333333</td>\n",
       "      <td>&lt;class 'float'&gt;</td>\n",
       "      <td>True</td>\n",
       "      <td>2019-02-13 09:11:06.453161</td>\n",
       "      <td>00:00:00.025615</td>\n",
       "      <td>NaN</td>\n",
       "    </tr>\n",
       "    <tr>\n",
       "      <th>5</th>\n",
       "      <td>3</td>\n",
       "      <td>2</td>\n",
       "      <td>2249402925</td>\n",
       "      <td>2.000000</td>\n",
       "      <td>&lt;class 'float'&gt;</td>\n",
       "      <td>True</td>\n",
       "      <td>2019-02-13 09:11:06.507495</td>\n",
       "      <td>00:00:00.037357</td>\n",
       "      <td>NaN</td>\n",
       "    </tr>\n",
       "    <tr>\n",
       "      <th>6</th>\n",
       "      <td>1</td>\n",
       "      <td>2</td>\n",
       "      <td>2458525815</td>\n",
       "      <td>3.333333</td>\n",
       "      <td>&lt;class 'float'&gt;</td>\n",
       "      <td>True</td>\n",
       "      <td>2019-02-13 09:11:06.612139</td>\n",
       "      <td>00:00:00.029660</td>\n",
       "      <td>NaN</td>\n",
       "    </tr>\n",
       "    <tr>\n",
       "      <th>7</th>\n",
       "      <td>3</td>\n",
       "      <td>4</td>\n",
       "      <td>4000874638</td>\n",
       "      <td>1.428571</td>\n",
       "      <td>&lt;class 'float'&gt;</td>\n",
       "      <td>True</td>\n",
       "      <td>2019-02-13 09:11:07.558399</td>\n",
       "      <td>00:00:00.037273</td>\n",
       "      <td>NaN</td>\n",
       "    </tr>\n",
       "    <tr>\n",
       "      <th>8</th>\n",
       "      <td>3</td>\n",
       "      <td>4</td>\n",
       "      <td>1336143935</td>\n",
       "      <td>1.553928</td>\n",
       "      <td>&lt;class 'float'&gt;</td>\n",
       "      <td>True</td>\n",
       "      <td>2019-02-13 09:11:08.298068</td>\n",
       "      <td>00:00:00.034053</td>\n",
       "      <td>NaN</td>\n",
       "    </tr>\n",
       "    <tr>\n",
       "      <th>9</th>\n",
       "      <td>3</td>\n",
       "      <td>4</td>\n",
       "      <td>1</td>\n",
       "      <td>1.755216</td>\n",
       "      <td>&lt;class 'float'&gt;</td>\n",
       "      <td>True</td>\n",
       "      <td>2019-02-13 09:11:08.354485</td>\n",
       "      <td>00:00:00.033818</td>\n",
       "      <td>NaN</td>\n",
       "    </tr>\n",
       "    <tr>\n",
       "      <th>10</th>\n",
       "      <td>3</td>\n",
       "      <td>4</td>\n",
       "      <td>1</td>\n",
       "      <td>1.755216</td>\n",
       "      <td>&lt;class 'float'&gt;</td>\n",
       "      <td>True</td>\n",
       "      <td>2019-02-13 09:11:08.408785</td>\n",
       "      <td>00:00:00.032295</td>\n",
       "      <td>NaN</td>\n",
       "    </tr>\n",
       "  </tbody>\n",
       "</table>\n",
       "</div>"
      ],
      "text/plain": [
       "          a  b        Seed    Result      Result Type  Success  \\\n",
       "Trial ID                                                         \n",
       "1         1  2   759268851  3.333333  <class 'float'>     True   \n",
       "2         1  3  4235079221  2.500000  <class 'float'>     True   \n",
       "3         1 -1  3947397468       NaN             None    False   \n",
       "4         1  2  1890136735  3.333333  <class 'float'>     True   \n",
       "5         3  2  2249402925  2.000000  <class 'float'>     True   \n",
       "6         1  2  2458525815  3.333333  <class 'float'>     True   \n",
       "7         3  4  4000874638  1.428571  <class 'float'>     True   \n",
       "8         3  4  1336143935  1.553928  <class 'float'>     True   \n",
       "9         3  4           1  1.755216  <class 'float'>     True   \n",
       "10        3  4           1  1.755216  <class 'float'>     True   \n",
       "\n",
       "                           Finished    Process Time  \\\n",
       "Trial ID                                              \n",
       "1        2019-02-13 09:11:05.875408 00:00:00.028267   \n",
       "2        2019-02-13 09:11:05.949726 00:00:00.034305   \n",
       "3        2019-02-13 09:11:06.266213 00:00:00.058732   \n",
       "4        2019-02-13 09:11:06.453161 00:00:00.025615   \n",
       "5        2019-02-13 09:11:06.507495 00:00:00.037357   \n",
       "6        2019-02-13 09:11:06.612139 00:00:00.029660   \n",
       "7        2019-02-13 09:11:07.558399 00:00:00.037273   \n",
       "8        2019-02-13 09:11:08.298068 00:00:00.034053   \n",
       "9        2019-02-13 09:11:08.354485 00:00:00.033818   \n",
       "10       2019-02-13 09:11:08.408785 00:00:00.032295   \n",
       "\n",
       "                                  Description  \n",
       "Trial ID                                       \n",
       "1                                         NaN  \n",
       "2                                         NaN  \n",
       "3         ZeroDivisionError(division by zero)  \n",
       "4                                         NaN  \n",
       "5                                         NaN  \n",
       "6                                         NaN  \n",
       "7                                         NaN  \n",
       "8                                         NaN  \n",
       "9                                         NaN  \n",
       "10                                        NaN  "
      ]
     },
     "execution_count": 34,
     "metadata": {},
     "output_type": "execute_result"
    }
   ],
   "source": [
    "ex_new.get_history()"
   ]
  },
  {
   "cell_type": "markdown",
   "metadata": {},
   "source": [
    "Also, `Experiment` instance automatically detects the environment change from its previous trial. Following is a sample log when package update is detected (pandas 0.23.4 -> 0.24.0).\n",
    "\n",
    "    2019-01-29 00:22:35,357 [daskperiment.io.serialize] [INFO] Loaded Experiment(id: quickstart_pj, trial_id: 14) from path=daskperiment_cache/quickstart_pj/quickstart_pj.pkl\n",
    "    2019-01-29 00:22:35,404 [daskperiment.core.environment] [WARNING] Installed Python packages have been changed\n",
    "    2019-01-29 00:22:35,408 [daskperiment.core.environment] [WARNING] @@ -142 +142 @@\n",
    "    2019-01-29 00:22:35,411 [daskperiment.core.environment] [WARNING] -pandas 0.23.4 (/Users/sinhrks/anaconda/lib/python3.6/site-packages)\n",
    "    2019-01-29 00:22:35,412 [daskperiment.core.environment] [WARNING] +pandas 0.24.0 (/Users/sinhrks/anaconda/lib/python3.6/site-packages)"
   ]
  },
  {
   "cell_type": "markdown",
   "metadata": {
    "collapsed": true
   },
   "source": [
    "# Run as CLI\n",
    "\n",
    "`daskperiment` also supports execution from command line. First, prepare a `Python` script to define experiment. The usage of `Experiment` class is all the same as Jupyter example. `daskperiment` regards a result of a function decorated with `Experiment.result` (`calculate_score` function in below case) as experiment output."
   ]
  },
  {
   "cell_type": "code",
   "execution_count": 35,
   "metadata": {
    "collapsed": false
   },
   "outputs": [
    {
     "name": "stdout",
     "output_type": "stream",
     "text": [
      "import daskperiment\r\n",
      "\r\n",
      "ex = daskperiment.Experiment(id='simple_experiment_pj')\r\n",
      "\r\n",
      "a = ex.parameter('a')\r\n",
      "b = ex.parameter('b')\r\n",
      "\r\n",
      "\r\n",
      "@ex\r\n",
      "def prepare_data(a, b):\r\n",
      "    return a + b\r\n",
      "\r\n",
      "\r\n",
      "@ex.result\r\n",
      "def calculate_score(s):\r\n",
      "    return s + 1\r\n",
      "\r\n",
      "\r\n",
      "d = prepare_data(a, b)\r\n",
      "calculate_score(d)\r\n"
     ]
    }
   ],
   "source": [
    "%cat ../scripts/simple_experiment.py"
   ]
  },
  {
   "cell_type": "markdown",
   "metadata": {},
   "source": [
    "You can provide parameter values from command line options using `key=value` format. `daskperinemt` automatically parse parameters and perform computation."
   ]
  },
  {
   "cell_type": "code",
   "execution_count": 36,
   "metadata": {
    "collapsed": false
   },
   "outputs": [
    {
     "name": "stdout",
     "output_type": "stream",
     "text": [
      "2019-02-13 09:11:09,793 [daskperiment.core.experiment] [INFO] Initialized new experiment: Experiment(id: simple_experiment_pj, trial_id: 0, backend: LocalBackend('daskperiment_cache/simple_experiment_pj'))\n",
      "2019-02-13 09:11:10,425 [daskperiment.core.environment] [INFO] Platform Information: Darwin-17.7.0-x86_64-i386-64bit\n",
      "2019-02-13 09:11:10,425 [daskperiment.core.environment] [INFO] Device CPU Count: 4\n",
      "2019-02-13 09:11:10,425 [daskperiment.core.environment] [INFO] Python Implementation: CPython\n",
      "2019-02-13 09:11:10,425 [daskperiment.core.environment] [INFO] Python Version: 3.6.6\n",
      "2019-02-13 09:11:10,425 [daskperiment.core.environment] [INFO] Python Shell Mode: File\n",
      "2019-02-13 09:11:10,425 [daskperiment.core.environment] [INFO] Daskperiment Version: 0.2.1.dev0\n",
      "2019-02-13 09:11:10,425 [daskperiment.core.environment] [INFO] Daskperiment Path: /Users/sinhrks/Git/daskperiment/daskperiment\n",
      "2019-02-13 09:11:10,425 [daskperiment.core.environment] [INFO] Working Directory: /Users/sinhrks/Git/daskperiment/notebook\n",
      "2019-02-13 09:11:10,425 [daskperiment.core.environment] [INFO] Git Repository: /Users/sinhrks/Git/daskperiment\n",
      "2019-02-13 09:11:10,426 [daskperiment.core.environment] [INFO] Git Active Branch: randomness\n",
      "2019-02-13 09:11:10,426 [daskperiment.core.environment] [INFO] Number of installed Python packages: 5869\n",
      "2019-02-13 09:11:10,434 [daskperiment.core.parameter] [INFO] Updated parameters: a=1<class 'int'>, b=2<class 'int'>\n",
      "2019-02-13 09:11:10,434 [daskperiment.core.trial] [INFO] Started Experiment (trial id=1)\n",
      "2019-02-13 09:11:10,434 [daskperiment.core.experiment] [INFO] Target: calculate_score-84579915-e579-46a2-9041-204cff342061\n",
      "2019-02-13 09:11:10,434 [daskperiment.core.experiment] [INFO] Random seed is not provided, initialized with generated seed: 277821585\n",
      "2019-02-13 09:11:10,435 [daskperiment.core.trial] [INFO] Parameters: a=1<class 'int'>, b=2<class 'int'>\n",
      "2019-02-13 09:11:10,435 [daskperiment.core.code] [INFO] Saving code context: daskperiment_cache/simple_experiment_pj/code/simple_experiment_pj_1.py\n",
      "2019-02-13 09:11:10,435 [daskperiment.core.environment] [INFO] Saving platform info: daskperiment_cache/simple_experiment_pj/environment/device_simple_experiment_pj_1.json\n",
      "2019-02-13 09:11:10,436 [daskperiment.core.environment] [INFO] Saving Python info: daskperiment_cache/simple_experiment_pj/environment/python_simple_experiment_pj_1.json\n",
      "2019-02-13 09:11:10,436 [daskperiment.core.environment] [INFO] Saving Git info: daskperiment_cache/simple_experiment_pj/environment/git_simple_experiment_pj_1.json\n",
      "2019-02-13 09:11:10,437 [daskperiment.core.environment] [INFO] Saving python packages: daskperiment_cache/simple_experiment_pj/environment/requirements_simple_experiment_pj_1.txt\n",
      "2019-02-13 09:11:10,441 [daskperiment.core.trial] [INFO] Finished Experiment (trial id=1)\n",
      "2019-02-13 09:11:10,441 [daskperiment.backend.local] [INFO] Saving Experiment to file: daskperiment_cache/simple_experiment_pj/simple_experiment_pj.pkl\n"
     ]
    }
   ],
   "source": [
    "!python ../scripts/simple_experiment.py a=1 b=2"
   ]
  },
  {
   "cell_type": "markdown",
   "metadata": {},
   "source": [
    "Let's perform multiple trials using different parameters. `daskperiment` automatically saves trial history as the same as Jupyter example (see trial id is incremented)."
   ]
  },
  {
   "cell_type": "code",
   "execution_count": 37,
   "metadata": {
    "collapsed": false
   },
   "outputs": [
    {
     "name": "stdout",
     "output_type": "stream",
     "text": [
      "2019-02-13 09:11:11,829 [daskperiment.backend.local] [INFO] Loading Experiment from file: daskperiment_cache/simple_experiment_pj/simple_experiment_pj.pkl\n",
      "2019-02-13 09:11:11,829 [daskperiment.core.experiment] [INFO] Loaded existing experiment: Experiment(id: simple_experiment_pj, trial_id: 1, backend: LocalBackend('daskperiment_cache/simple_experiment_pj'))\n",
      "2019-02-13 09:11:12,369 [daskperiment.core.environment] [INFO] Platform Information: Darwin-17.7.0-x86_64-i386-64bit\n",
      "2019-02-13 09:11:12,369 [daskperiment.core.environment] [INFO] Device CPU Count: 4\n",
      "2019-02-13 09:11:12,369 [daskperiment.core.environment] [INFO] Python Implementation: CPython\n",
      "2019-02-13 09:11:12,369 [daskperiment.core.environment] [INFO] Python Version: 3.6.6\n",
      "2019-02-13 09:11:12,369 [daskperiment.core.environment] [INFO] Python Shell Mode: File\n",
      "2019-02-13 09:11:12,369 [daskperiment.core.environment] [INFO] Daskperiment Version: 0.2.1.dev0\n",
      "2019-02-13 09:11:12,370 [daskperiment.core.environment] [INFO] Daskperiment Path: /Users/sinhrks/Git/daskperiment/daskperiment\n",
      "2019-02-13 09:11:12,370 [daskperiment.core.environment] [INFO] Working Directory: /Users/sinhrks/Git/daskperiment/notebook\n",
      "2019-02-13 09:11:12,370 [daskperiment.core.environment] [INFO] Git Repository: /Users/sinhrks/Git/daskperiment\n",
      "2019-02-13 09:11:12,370 [daskperiment.core.environment] [INFO] Git Active Branch: randomness\n",
      "2019-02-13 09:11:12,370 [daskperiment.core.environment] [INFO] Number of installed Python packages: 5869\n",
      "2019-02-13 09:11:12,382 [daskperiment.core.parameter] [INFO] Updated parameters: a=3<class 'int'>, b=2<class 'int'>\n",
      "2019-02-13 09:11:12,382 [daskperiment.core.trial] [INFO] Started Experiment (trial id=2)\n",
      "2019-02-13 09:11:12,383 [daskperiment.core.experiment] [INFO] Target: calculate_score-d9163d48-f1c5-4d06-8da0-85b81010342f\n",
      "2019-02-13 09:11:12,383 [daskperiment.core.experiment] [INFO] Random seed is not provided, initialized with generated seed: 3997591392\n",
      "2019-02-13 09:11:12,383 [daskperiment.core.trial] [INFO] Parameters: a=3<class 'int'>, b=2<class 'int'>\n",
      "2019-02-13 09:11:12,384 [daskperiment.core.code] [INFO] Saving code context: daskperiment_cache/simple_experiment_pj/code/simple_experiment_pj_2.py\n",
      "2019-02-13 09:11:12,385 [daskperiment.core.environment] [INFO] Saving platform info: daskperiment_cache/simple_experiment_pj/environment/device_simple_experiment_pj_2.json\n",
      "2019-02-13 09:11:12,385 [daskperiment.core.environment] [INFO] Saving Python info: daskperiment_cache/simple_experiment_pj/environment/python_simple_experiment_pj_2.json\n",
      "2019-02-13 09:11:12,386 [daskperiment.core.environment] [INFO] Saving Git info: daskperiment_cache/simple_experiment_pj/environment/git_simple_experiment_pj_2.json\n",
      "2019-02-13 09:11:12,387 [daskperiment.core.environment] [INFO] Saving python packages: daskperiment_cache/simple_experiment_pj/environment/requirements_simple_experiment_pj_2.txt\n",
      "2019-02-13 09:11:12,392 [daskperiment.core.trial] [INFO] Finished Experiment (trial id=2)\n",
      "2019-02-13 09:11:12,392 [daskperiment.backend.local] [INFO] Saving Experiment to file: daskperiment_cache/simple_experiment_pj/simple_experiment_pj.pkl\n"
     ]
    }
   ],
   "source": [
    "!python ../scripts/simple_experiment.py a=3 b=2"
   ]
  },
  {
   "cell_type": "markdown",
   "metadata": {},
   "source": [
    "To confirm the experiment results, instanciate Experiment specifying the same id as the script and use Experiment.get_history."
   ]
  },
  {
   "cell_type": "code",
   "execution_count": 38,
   "metadata": {
    "collapsed": false
   },
   "outputs": [
    {
     "name": "stderr",
     "output_type": "stream",
     "text": [
      "2019-02-13 09:11:12,717 [daskperiment.backend.local] [INFO] Loading Experiment from file: daskperiment_cache/simple_experiment_pj/simple_experiment_pj.pkl\n",
      "2019-02-13 09:11:12,720 [daskperiment.core.experiment] [INFO] Loaded existing experiment: Experiment(id: simple_experiment_pj, trial_id: 2, backend: LocalBackend('daskperiment_cache/simple_experiment_pj'))\n",
      "2019-02-13 09:11:12,726 [daskperiment.core.environment] [INFO] Platform Information: Darwin-17.7.0-x86_64-i386-64bit\n",
      "2019-02-13 09:11:12,731 [daskperiment.core.environment] [INFO] Device CPU Count: 4\n",
      "2019-02-13 09:11:12,735 [daskperiment.core.environment] [INFO] Python Implementation: CPython\n",
      "2019-02-13 09:11:12,740 [daskperiment.core.environment] [INFO] Python Version: 3.6.6\n",
      "2019-02-13 09:11:12,743 [daskperiment.core.environment] [INFO] Python Shell Mode: Jupyter Notebook\n",
      "2019-02-13 09:11:12,746 [daskperiment.core.environment] [INFO] Daskperiment Version: 0.2.1.dev0\n",
      "2019-02-13 09:11:12,748 [daskperiment.core.environment] [INFO] Daskperiment Path: /Users/sinhrks/Git/daskperiment/daskperiment\n",
      "2019-02-13 09:11:12,750 [daskperiment.core.environment] [INFO] Working Directory: /Users/sinhrks/Git/daskperiment/notebook\n",
      "2019-02-13 09:11:12,753 [daskperiment.core.environment] [INFO] Git Repository: /Users/sinhrks/Git/daskperiment\n",
      "2019-02-13 09:11:12,755 [daskperiment.core.environment] [INFO] Git Active Branch: randomness\n",
      "2019-02-13 09:11:12,759 [daskperiment.core.environment] [INFO] Number of installed Python packages: 5869\n",
      "2019-02-13 09:11:12,764 [daskperiment.core.environment] [WARNING] Environment has been changed\n",
      "2019-02-13 09:11:12,765 [daskperiment.core.environment] [WARNING] @@ -5 +5 @@\n",
      "\n",
      "2019-02-13 09:11:12,767 [daskperiment.core.environment] [WARNING] -Python Shell Mode: File\n",
      "2019-02-13 09:11:12,769 [daskperiment.core.environment] [WARNING] +Python Shell Mode: Jupyter Notebook\n"
     ]
    },
    {
     "data": {
      "text/html": [
       "<div>\n",
       "<style scoped>\n",
       "    .dataframe tbody tr th:only-of-type {\n",
       "        vertical-align: middle;\n",
       "    }\n",
       "\n",
       "    .dataframe tbody tr th {\n",
       "        vertical-align: top;\n",
       "    }\n",
       "\n",
       "    .dataframe thead th {\n",
       "        text-align: right;\n",
       "    }\n",
       "</style>\n",
       "<table border=\"1\" class=\"dataframe\">\n",
       "  <thead>\n",
       "    <tr style=\"text-align: right;\">\n",
       "      <th></th>\n",
       "      <th>a</th>\n",
       "      <th>b</th>\n",
       "      <th>Seed</th>\n",
       "      <th>Result</th>\n",
       "      <th>Result Type</th>\n",
       "      <th>Success</th>\n",
       "      <th>Finished</th>\n",
       "      <th>Process Time</th>\n",
       "      <th>Description</th>\n",
       "    </tr>\n",
       "    <tr>\n",
       "      <th>Trial ID</th>\n",
       "      <th></th>\n",
       "      <th></th>\n",
       "      <th></th>\n",
       "      <th></th>\n",
       "      <th></th>\n",
       "      <th></th>\n",
       "      <th></th>\n",
       "      <th></th>\n",
       "      <th></th>\n",
       "    </tr>\n",
       "  </thead>\n",
       "  <tbody>\n",
       "    <tr>\n",
       "      <th>1</th>\n",
       "      <td>1</td>\n",
       "      <td>2</td>\n",
       "      <td>277821585</td>\n",
       "      <td>4</td>\n",
       "      <td>&lt;class 'int'&gt;</td>\n",
       "      <td>True</td>\n",
       "      <td>2019-02-13 09:11:10.441374</td>\n",
       "      <td>00:00:00.006873</td>\n",
       "      <td>NaN</td>\n",
       "    </tr>\n",
       "    <tr>\n",
       "      <th>2</th>\n",
       "      <td>3</td>\n",
       "      <td>2</td>\n",
       "      <td>3997591392</td>\n",
       "      <td>6</td>\n",
       "      <td>&lt;class 'int'&gt;</td>\n",
       "      <td>True</td>\n",
       "      <td>2019-02-13 09:11:12.392264</td>\n",
       "      <td>00:00:00.009510</td>\n",
       "      <td>NaN</td>\n",
       "    </tr>\n",
       "  </tbody>\n",
       "</table>\n",
       "</div>"
      ],
      "text/plain": [
       "          a  b        Seed  Result    Result Type  Success  \\\n",
       "Trial ID                                                     \n",
       "1         1  2   277821585       4  <class 'int'>     True   \n",
       "2         3  2  3997591392       6  <class 'int'>     True   \n",
       "\n",
       "                           Finished    Process Time  Description  \n",
       "Trial ID                                                          \n",
       "1        2019-02-13 09:11:10.441374 00:00:00.006873          NaN  \n",
       "2        2019-02-13 09:11:12.392264 00:00:00.009510          NaN  "
      ]
     },
     "execution_count": 38,
     "metadata": {},
     "output_type": "execute_result"
    }
   ],
   "source": [
    "import daskperiment\n",
    "\n",
    "ex = daskperiment.Experiment(id='simple_experiment_pj')\n",
    "ex.get_history()"
   ]
  },
  {
   "cell_type": "code",
   "execution_count": null,
   "metadata": {
    "collapsed": true
   },
   "outputs": [],
   "source": []
  }
 ],
 "metadata": {
  "kernelspec": {
   "display_name": "Python 3",
   "language": "python",
   "name": "python3"
  },
  "language_info": {
   "codemirror_mode": {
    "name": "ipython",
    "version": 3
   },
   "file_extension": ".py",
   "mimetype": "text/x-python",
   "name": "python",
   "nbconvert_exporter": "python",
   "pygments_lexer": "ipython3",
   "version": "3.6.6"
  }
 },
 "nbformat": 4,
 "nbformat_minor": 2
}
