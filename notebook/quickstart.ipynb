{
 "cells": [
  {
   "cell_type": "markdown",
   "metadata": {},
   "source": [
    "# Quickstart\n",
    "\n",
    "This notebook describes a minimal example. First, create `daskperiment.Experiment` instance. This instance controlls an experiment, a chain of functions to output value and a collection of input variables."
   ]
  },
  {
   "cell_type": "code",
   "execution_count": 41,
   "metadata": {
    "collapsed": false
   },
   "outputs": [],
   "source": [
    "%matplotlib inline\n",
    "import numpy as np\n",
    "import daskperiment"
   ]
  },
  {
   "cell_type": "markdown",
   "metadata": {},
   "source": [
    "First, create `daskperiment.Experiment` instance. This instance controlls an experiment, a chain of functions to output value and a collection of input variables."
   ]
  },
  {
   "cell_type": "code",
   "execution_count": 2,
   "metadata": {
    "collapsed": false,
    "scrolled": true
   },
   "outputs": [
    {
     "name": "stderr",
     "output_type": "stream",
     "text": [
      "2019-02-28 08:08:39,752 [daskperiment.core.experiment] [INFO] Initialized new experiment: Experiment(id: quickstart_pj, trial_id: 0, backend: LocalBackend('daskperiment_cache/quickstart_pj'))\n",
      "2019-02-28 08:08:39,912 [daskperiment.environment.environment] [INFO] Platform Information: Darwin-17.7.0-x86_64-i386-64bit\n",
      "2019-02-28 08:08:39,915 [daskperiment.environment.environment] [INFO] Device CPU Count: 4\n",
      "2019-02-28 08:08:39,916 [daskperiment.environment.environment] [INFO] Python Implementation: CPython\n",
      "2019-02-28 08:08:39,920 [daskperiment.environment.environment] [INFO] Python Version: 3.6.6\n",
      "2019-02-28 08:08:39,922 [daskperiment.environment.environment] [INFO] Python Shell Mode: Jupyter Notebook\n",
      "2019-02-28 08:08:39,924 [daskperiment.environment.environment] [INFO] Python venv: False\n",
      "2019-02-28 08:08:39,926 [daskperiment.environment.environment] [INFO] Daskperiment Version: 0.3.0\n",
      "2019-02-28 08:08:39,930 [daskperiment.environment.environment] [INFO] Git Repository: /Users/sinhrks/Git/daskperiment\n",
      "2019-02-28 08:08:39,931 [daskperiment.environment.environment] [INFO] Git Active Branch: dashboard\n",
      "2019-02-28 08:08:39,933 [daskperiment.environment.environment] [INFO] Git HEAD Commit: 634b69f863a7696299cf1241c0dea42a9693db80\n",
      "2019-02-28 08:08:39,935 [daskperiment.environment.environment] [INFO] Number of Installed Python Packages: 352\n"
     ]
    },
    {
     "data": {
      "text/plain": [
       "Experiment(id: quickstart_pj, trial_id: 0, backend: LocalBackend('daskperiment_cache/quickstart_pj'))"
      ]
     },
     "execution_count": 2,
     "metadata": {},
     "output_type": "execute_result"
    }
   ],
   "source": [
    "ex = daskperiment.Experiment(id='quickstart_pj')\n",
    "ex"
   ]
  },
  {
   "cell_type": "markdown",
   "metadata": {},
   "source": [
    "Then, use `Experiment.parameter` method to define parameters (input variables for the experiment). The actual value of each parameter can be changed in every trial."
   ]
  },
  {
   "cell_type": "code",
   "execution_count": 3,
   "metadata": {
    "collapsed": false
   },
   "outputs": [
    {
     "data": {
      "text/plain": [
       "Parameter(a: Undefined)"
      ]
     },
     "execution_count": 3,
     "metadata": {},
     "output_type": "execute_result"
    }
   ],
   "source": [
    "a = ex.parameter('a')\n",
    "b = ex.parameter('b')\n",
    "a"
   ]
  },
  {
   "cell_type": "markdown",
   "metadata": {},
   "source": [
    "Next, you can define each experiment step (function) by decorating with `Experiment` instance (`@ex`).\n",
    "\n",
    "Note that the function to output the final result (mostly objective value to be minimized or maximized) must be decorated with `Experiment.result`. The chain of these functions are expressed as `Dask.Delayed` instance."
   ]
  },
  {
   "cell_type": "code",
   "execution_count": 4,
   "metadata": {
    "collapsed": false,
    "scrolled": false
   },
   "outputs": [
    {
     "data": {
      "text/plain": [
       "Delayed('calculate_score-82f78baa-1d89-4662-854d-163348d0f0a1')"
      ]
     },
     "execution_count": 4,
     "metadata": {},
     "output_type": "execute_result"
    }
   ],
   "source": [
    "@ex\n",
    "def prepare_data(a, b):\n",
    "    return a + b \n",
    "\n",
    "@ex.result\n",
    "def calculate_score(s):\n",
    "    return 10 / s\n",
    "\n",
    "d = prepare_data(a, b)\n",
    "s = calculate_score(d)\n",
    "s"
   ]
  },
  {
   "cell_type": "markdown",
   "metadata": {},
   "source": [
    "Thus, you can visualize computation graph via `.visualize` method."
   ]
  },
  {
   "cell_type": "code",
   "execution_count": 5,
   "metadata": {
    "collapsed": false
   },
   "outputs": [
    {
     "data": {
      "image/png": "[encoded data removed]",
      "text/plain": [
       "<IPython.core.display.Image object>"
      ]
     },
     "execution_count": 5,
     "metadata": {},
     "output_type": "execute_result"
    }
   ],
   "source": [
    "s.visualize()"
   ]
  },
  {
   "cell_type": "markdown",
   "metadata": {},
   "source": [
    "Use `Experiment.set_parameters` method to set parameters for a trial. After setting parameters, `Parameter` variable and experiment result will be computable.\n",
    "\n",
    "Parameters are recommended to be a scalar (or lightweight value) because these are stored as history (for example, passing filename as a parameter is　preffered rather than passing `DataFrame`)."
   ]
  },
  {
   "cell_type": "code",
   "execution_count": 6,
   "metadata": {
    "collapsed": false,
    "scrolled": false
   },
   "outputs": [
    {
     "name": "stderr",
     "output_type": "stream",
     "text": [
      "2019-02-28 08:08:40,687 [daskperiment.core.parameter] [INFO] Updated parameters: a=1<class 'int'>, b=2<class 'int'>\n"
     ]
    },
    {
     "data": {
      "text/plain": [
       "1"
      ]
     },
     "execution_count": 6,
     "metadata": {},
     "output_type": "execute_result"
    }
   ],
   "source": [
    "ex.set_parameters(a=1, b=2)\n",
    "a.compute()"
   ]
  },
  {
   "cell_type": "code",
   "execution_count": 7,
   "metadata": {
    "collapsed": false
   },
   "outputs": [
    {
     "name": "stderr",
     "output_type": "stream",
     "text": [
      "2019-02-28 08:08:40,732 [daskperiment.core.trial] [INFO] Started Experiment (trial id=1)\n",
      "2019-02-28 08:08:40,735 [daskperiment.core.experiment] [INFO] Target: calculate_score-82f78baa-1d89-4662-854d-163348d0f0a1\n",
      "2019-02-28 08:08:40,737 [daskperiment.core.experiment] [INFO] Random seed is not provided, initialized with generated seed: 2387108513\n",
      "2019-02-28 08:08:40,739 [daskperiment.core.trial] [INFO] Parameters: a=1<class 'int'>, b=2<class 'int'>\n",
      "2019-02-28 08:08:40,742 [daskperiment.core.code] [INFO] Saving code context: daskperiment_cache/quickstart_pj/code/quickstart_pj_1.py\n",
      "2019-02-28 08:08:40,752 [daskperiment.core.trial] [INFO] Finished Experiment (trial id=1)\n",
      "2019-02-28 08:08:40,753 [daskperiment.backend.local] [INFO] Saving Experiment to file: daskperiment_cache/quickstart_pj/quickstart_pj.pkl\n"
     ]
    },
    {
     "data": {
      "text/plain": [
       "3.3333333333333335"
      ]
     },
     "execution_count": 7,
     "metadata": {},
     "output_type": "execute_result"
    }
   ],
   "source": [
    "s.compute()"
   ]
  },
  {
   "cell_type": "markdown",
   "metadata": {},
   "source": [
    "You can update any parameters for next trial. Every trials can be distinguished by trial id."
   ]
  },
  {
   "cell_type": "code",
   "execution_count": 8,
   "metadata": {
    "collapsed": false,
    "scrolled": false
   },
   "outputs": [
    {
     "name": "stderr",
     "output_type": "stream",
     "text": [
      "2019-02-28 08:08:40,768 [daskperiment.core.parameter] [INFO] Updated parameters: a=1<class 'int'>, b=3<class 'int'>\n",
      "2019-02-28 08:08:40,772 [daskperiment.core.trial] [INFO] Started Experiment (trial id=2)\n",
      "2019-02-28 08:08:40,774 [daskperiment.core.experiment] [INFO] Target: calculate_score-82f78baa-1d89-4662-854d-163348d0f0a1\n",
      "2019-02-28 08:08:40,782 [daskperiment.core.experiment] [INFO] Random seed is not provided, initialized with generated seed: 722428913\n",
      "2019-02-28 08:08:40,784 [daskperiment.core.trial] [INFO] Parameters: a=1<class 'int'>, b=3<class 'int'>\n",
      "2019-02-28 08:08:40,790 [daskperiment.core.code] [INFO] Saving code context: daskperiment_cache/quickstart_pj/code/quickstart_pj_2.py\n",
      "2019-02-28 08:08:40,814 [daskperiment.core.trial] [INFO] Finished Experiment (trial id=2)\n",
      "2019-02-28 08:08:40,819 [daskperiment.backend.local] [INFO] Saving Experiment to file: daskperiment_cache/quickstart_pj/quickstart_pj.pkl\n"
     ]
    },
    {
     "data": {
      "text/plain": [
       "2.5"
      ]
     },
     "execution_count": 8,
     "metadata": {},
     "output_type": "execute_result"
    }
   ],
   "source": [
    "ex.set_parameters(b=3)\n",
    "s.compute()"
   ]
  },
  {
   "cell_type": "code",
   "execution_count": 9,
   "metadata": {
    "collapsed": false
   },
   "outputs": [
    {
     "data": {
      "text/html": [
       "<div>\n",
       "<style scoped>\n",
       "    .dataframe tbody tr th:only-of-type {\n",
       "        vertical-align: middle;\n",
       "    }\n",
       "\n",
       "    .dataframe tbody tr th {\n",
       "        vertical-align: top;\n",
       "    }\n",
       "\n",
       "    .dataframe thead th {\n",
       "        text-align: right;\n",
       "    }\n",
       "</style>\n",
       "<table border=\"1\" class=\"dataframe\">\n",
       "  <thead>\n",
       "    <tr style=\"text-align: right;\">\n",
       "      <th></th>\n",
       "      <th>a</th>\n",
       "      <th>b</th>\n",
       "      <th>Result</th>\n",
       "      <th>Success</th>\n",
       "      <th>Finished</th>\n",
       "      <th>Process Time</th>\n",
       "      <th>Description</th>\n",
       "    </tr>\n",
       "    <tr>\n",
       "      <th>Trial ID</th>\n",
       "      <th></th>\n",
       "      <th></th>\n",
       "      <th></th>\n",
       "      <th></th>\n",
       "      <th></th>\n",
       "      <th></th>\n",
       "      <th></th>\n",
       "    </tr>\n",
       "  </thead>\n",
       "  <tbody>\n",
       "    <tr>\n",
       "      <th>1</th>\n",
       "      <td>1</td>\n",
       "      <td>2</td>\n",
       "      <td>3.333333</td>\n",
       "      <td>True</td>\n",
       "      <td>2019-02-28 08:08:40.751676</td>\n",
       "      <td>00:00:00.019652</td>\n",
       "      <td>NaN</td>\n",
       "    </tr>\n",
       "    <tr>\n",
       "      <th>2</th>\n",
       "      <td>1</td>\n",
       "      <td>3</td>\n",
       "      <td>2.500000</td>\n",
       "      <td>True</td>\n",
       "      <td>2019-02-28 08:08:40.814038</td>\n",
       "      <td>00:00:00.042162</td>\n",
       "      <td>NaN</td>\n",
       "    </tr>\n",
       "  </tbody>\n",
       "</table>\n",
       "</div>"
      ],
      "text/plain": [
       "          a  b    Result  Success                   Finished    Process Time  \\\n",
       "Trial ID                                                                       \n",
       "1         1  2  3.333333     True 2019-02-28 08:08:40.751676 00:00:00.019652   \n",
       "2         1  3  2.500000     True 2019-02-28 08:08:40.814038 00:00:00.042162   \n",
       "\n",
       "          Description  \n",
       "Trial ID               \n",
       "1                 NaN  \n",
       "2                 NaN  "
      ]
     },
     "execution_count": 9,
     "metadata": {},
     "output_type": "execute_result"
    }
   ],
   "source": [
    "ex.get_history()"
   ]
  },
  {
   "cell_type": "markdown",
   "metadata": {},
   "source": [
    "After some trials, you can retrieve parameter values specifying trial id."
   ]
  },
  {
   "cell_type": "code",
   "execution_count": 10,
   "metadata": {
    "collapsed": false,
    "scrolled": true
   },
   "outputs": [
    {
     "data": {
      "text/plain": [
       "{'a': 1, 'b': 2}"
      ]
     },
     "execution_count": 10,
     "metadata": {},
     "output_type": "execute_result"
    }
   ],
   "source": [
    "ex.get_parameters(trial_id=1)"
   ]
  },
  {
   "cell_type": "code",
   "execution_count": 11,
   "metadata": {
    "collapsed": false
   },
   "outputs": [
    {
     "data": {
      "text/plain": [
       "{'a': 1, 'b': 3}"
      ]
     },
     "execution_count": 11,
     "metadata": {},
     "output_type": "execute_result"
    }
   ],
   "source": [
    "ex.get_parameters(trial_id=2)"
   ]
  },
  {
   "cell_type": "markdown",
   "metadata": {},
   "source": [
    "`Experiment.get_history` will return a `DataFrame` which stores a history of trial parameters and its results. You can select desirable trial using `pandas` basic operation."
   ]
  },
  {
   "cell_type": "code",
   "execution_count": 12,
   "metadata": {
    "collapsed": false,
    "scrolled": false
   },
   "outputs": [
    {
     "data": {
      "text/html": [
       "<div>\n",
       "<style scoped>\n",
       "    .dataframe tbody tr th:only-of-type {\n",
       "        vertical-align: middle;\n",
       "    }\n",
       "\n",
       "    .dataframe tbody tr th {\n",
       "        vertical-align: top;\n",
       "    }\n",
       "\n",
       "    .dataframe thead th {\n",
       "        text-align: right;\n",
       "    }\n",
       "</style>\n",
       "<table border=\"1\" class=\"dataframe\">\n",
       "  <thead>\n",
       "    <tr style=\"text-align: right;\">\n",
       "      <th></th>\n",
       "      <th>a</th>\n",
       "      <th>b</th>\n",
       "      <th>Result</th>\n",
       "      <th>Success</th>\n",
       "      <th>Finished</th>\n",
       "      <th>Process Time</th>\n",
       "      <th>Description</th>\n",
       "    </tr>\n",
       "    <tr>\n",
       "      <th>Trial ID</th>\n",
       "      <th></th>\n",
       "      <th></th>\n",
       "      <th></th>\n",
       "      <th></th>\n",
       "      <th></th>\n",
       "      <th></th>\n",
       "      <th></th>\n",
       "    </tr>\n",
       "  </thead>\n",
       "  <tbody>\n",
       "    <tr>\n",
       "      <th>1</th>\n",
       "      <td>1</td>\n",
       "      <td>2</td>\n",
       "      <td>3.333333</td>\n",
       "      <td>True</td>\n",
       "      <td>2019-02-28 08:08:40.751676</td>\n",
       "      <td>00:00:00.019652</td>\n",
       "      <td>NaN</td>\n",
       "    </tr>\n",
       "    <tr>\n",
       "      <th>2</th>\n",
       "      <td>1</td>\n",
       "      <td>3</td>\n",
       "      <td>2.500000</td>\n",
       "      <td>True</td>\n",
       "      <td>2019-02-28 08:08:40.814038</td>\n",
       "      <td>00:00:00.042162</td>\n",
       "      <td>NaN</td>\n",
       "    </tr>\n",
       "  </tbody>\n",
       "</table>\n",
       "</div>"
      ],
      "text/plain": [
       "          a  b    Result  Success                   Finished    Process Time  \\\n",
       "Trial ID                                                                       \n",
       "1         1  2  3.333333     True 2019-02-28 08:08:40.751676 00:00:00.019652   \n",
       "2         1  3  2.500000     True 2019-02-28 08:08:40.814038 00:00:00.042162   \n",
       "\n",
       "          Description  \n",
       "Trial ID               \n",
       "1                 NaN  \n",
       "2                 NaN  "
      ]
     },
     "execution_count": 12,
     "metadata": {},
     "output_type": "execute_result"
    }
   ],
   "source": [
    "ex.get_history()"
   ]
  },
  {
   "cell_type": "markdown",
   "metadata": {},
   "source": [
    "When any error occurs during the trial, `Experiment` instance stores the log as failed trial. The \"Description\" column contains the error detail."
   ]
  },
  {
   "cell_type": "code",
   "execution_count": 13,
   "metadata": {
    "collapsed": false
   },
   "outputs": [
    {
     "name": "stderr",
     "output_type": "stream",
     "text": [
      "2019-02-28 08:08:41,018 [daskperiment.core.parameter] [INFO] Updated parameters: a=1<class 'int'>, b=-1<class 'int'>\n",
      "2019-02-28 08:08:41,026 [daskperiment.core.trial] [INFO] Started Experiment (trial id=3)\n",
      "2019-02-28 08:08:41,031 [daskperiment.core.experiment] [INFO] Target: calculate_score-82f78baa-1d89-4662-854d-163348d0f0a1\n",
      "2019-02-28 08:08:41,034 [daskperiment.core.experiment] [INFO] Random seed is not provided, initialized with generated seed: 921008217\n",
      "2019-02-28 08:08:41,037 [daskperiment.core.trial] [INFO] Parameters: a=1<class 'int'>, b=-1<class 'int'>\n",
      "2019-02-28 08:08:41,039 [daskperiment.core.code] [INFO] Saving code context: daskperiment_cache/quickstart_pj/code/quickstart_pj_3.py\n",
      "2019-02-28 08:08:41,065 [daskperiment.core.experiment] [ERROR] Experiment failed: ZeroDivisionError(division by zero)\n",
      "2019-02-28 08:08:41,068 [daskperiment.core.trial] [INFO] Finished Experiment (trial id=3)\n",
      "2019-02-28 08:08:41,070 [daskperiment.backend.local] [INFO] Saving Experiment to file: daskperiment_cache/quickstart_pj/quickstart_pj.pkl\n"
     ]
    },
    {
     "name": "stdout",
     "output_type": "stream",
     "text": [
      "ZeroDivisionError(division by zero)\n"
     ]
    }
   ],
   "source": [
    "ex.set_parameters(a=1, b=-1)\n",
    "try:\n",
    "    s.compute()\n",
    "    \n",
    "except ZeroDivisionError as e:\n",
    "    # To hide stack trace\n",
    "    print('{}({})'.format(e.__class__.__name__, e))"
   ]
  },
  {
   "cell_type": "code",
   "execution_count": 14,
   "metadata": {
    "collapsed": false
   },
   "outputs": [
    {
     "data": {
      "text/html": [
       "<div>\n",
       "<style scoped>\n",
       "    .dataframe tbody tr th:only-of-type {\n",
       "        vertical-align: middle;\n",
       "    }\n",
       "\n",
       "    .dataframe tbody tr th {\n",
       "        vertical-align: top;\n",
       "    }\n",
       "\n",
       "    .dataframe thead th {\n",
       "        text-align: right;\n",
       "    }\n",
       "</style>\n",
       "<table border=\"1\" class=\"dataframe\">\n",
       "  <thead>\n",
       "    <tr style=\"text-align: right;\">\n",
       "      <th></th>\n",
       "      <th>a</th>\n",
       "      <th>b</th>\n",
       "      <th>Result</th>\n",
       "      <th>Success</th>\n",
       "      <th>Finished</th>\n",
       "      <th>Process Time</th>\n",
       "      <th>Description</th>\n",
       "    </tr>\n",
       "    <tr>\n",
       "      <th>Trial ID</th>\n",
       "      <th></th>\n",
       "      <th></th>\n",
       "      <th></th>\n",
       "      <th></th>\n",
       "      <th></th>\n",
       "      <th></th>\n",
       "      <th></th>\n",
       "    </tr>\n",
       "  </thead>\n",
       "  <tbody>\n",
       "    <tr>\n",
       "      <th>1</th>\n",
       "      <td>1</td>\n",
       "      <td>2</td>\n",
       "      <td>3.333333</td>\n",
       "      <td>True</td>\n",
       "      <td>2019-02-28 08:08:40.751676</td>\n",
       "      <td>00:00:00.019652</td>\n",
       "      <td>NaN</td>\n",
       "    </tr>\n",
       "    <tr>\n",
       "      <th>2</th>\n",
       "      <td>1</td>\n",
       "      <td>3</td>\n",
       "      <td>2.500000</td>\n",
       "      <td>True</td>\n",
       "      <td>2019-02-28 08:08:40.814038</td>\n",
       "      <td>00:00:00.042162</td>\n",
       "      <td>NaN</td>\n",
       "    </tr>\n",
       "    <tr>\n",
       "      <th>3</th>\n",
       "      <td>1</td>\n",
       "      <td>-1</td>\n",
       "      <td>NaN</td>\n",
       "      <td>False</td>\n",
       "      <td>2019-02-28 08:08:41.068351</td>\n",
       "      <td>00:00:00.042146</td>\n",
       "      <td>ZeroDivisionError(division by zero)</td>\n",
       "    </tr>\n",
       "  </tbody>\n",
       "</table>\n",
       "</div>"
      ],
      "text/plain": [
       "          a  b    Result  Success                   Finished    Process Time  \\\n",
       "Trial ID                                                                       \n",
       "1         1  2  3.333333     True 2019-02-28 08:08:40.751676 00:00:00.019652   \n",
       "2         1  3  2.500000     True 2019-02-28 08:08:40.814038 00:00:00.042162   \n",
       "3         1 -1       NaN    False 2019-02-28 08:08:41.068351 00:00:00.042146   \n",
       "\n",
       "                                  Description  \n",
       "Trial ID                                       \n",
       "1                                         NaN  \n",
       "2                                         NaN  \n",
       "3         ZeroDivisionError(division by zero)  "
      ]
     },
     "execution_count": 14,
     "metadata": {},
     "output_type": "execute_result"
    }
   ],
   "source": [
    "ex.get_history()"
   ]
  },
  {
   "cell_type": "markdown",
   "metadata": {},
   "source": [
    "Every time the computation performed, `Experiment` instance is automatically saved to specified cache directory. When `Experiment` instance is initialized, it automatically load previous trials (check trial id in the log)."
   ]
  },
  {
   "cell_type": "markdown",
   "metadata": {},
   "source": [
    "# Handling intermediate result"
   ]
  },
  {
   "cell_type": "markdown",
   "metadata": {},
   "source": [
    "Next example shows how to retrieve an intermediate result of the chain.\n",
    "\n",
    "The only difference is using `Experiment.persist` decorator. It makes `Experiment` instance to keep the decorated function's intermediate result. After definition, rebuilt the same workflow using the persisted function. \n",
    "\n",
    "Note that an intermediate result is saved as a pickle file named with its function name, function name must be unique in the experiment."
   ]
  },
  {
   "cell_type": "code",
   "execution_count": 15,
   "metadata": {
    "collapsed": false,
    "scrolled": true
   },
   "outputs": [
    {
     "name": "stderr",
     "output_type": "stream",
     "text": [
      "2019-02-28 08:08:41,132 [daskperiment.core.code] [WARNING] Code context has been changed: prepare_data\n",
      "2019-02-28 08:08:41,136 [daskperiment.core.code] [WARNING] @@ -1,3 +1,3 @@\n",
      "\n",
      "2019-02-28 08:08:41,139 [daskperiment.core.code] [WARNING] -@ex\n",
      "2019-02-28 08:08:41,146 [daskperiment.core.code] [WARNING] +@ex.persist\n",
      "2019-02-28 08:08:41,154 [daskperiment.core.code] [WARNING]  def prepare_data(a, b):\n",
      "2019-02-28 08:08:41,158 [daskperiment.core.code] [WARNING] -    return a + b \n",
      "2019-02-28 08:08:41,160 [daskperiment.core.code] [WARNING] +    return a + b\n"
     ]
    }
   ],
   "source": [
    "@ex.persist\n",
    "def prepare_data(a, b):\n",
    "    return a + b\n",
    "\n",
    "d = prepare_data(a, b)\n",
    "s = calculate_score(d)"
   ]
  },
  {
   "cell_type": "markdown",
   "metadata": {},
   "source": [
    "NOTE: Also, you can notice that `daskperiment` outputs some \"WARNING\" indicating code contexts has been changed. It's because `daskperiment` automatically tracks code context to guarantee reproducibility.\n",
    "\n",
    "Let's perform some trials."
   ]
  },
  {
   "cell_type": "code",
   "execution_count": 16,
   "metadata": {
    "collapsed": false
   },
   "outputs": [
    {
     "name": "stderr",
     "output_type": "stream",
     "text": [
      "2019-02-28 08:08:41,179 [daskperiment.core.parameter] [INFO] Updated parameters: a=1<class 'int'>, b=2<class 'int'>\n",
      "2019-02-28 08:08:41,187 [daskperiment.core.trial] [INFO] Started Experiment (trial id=4)\n",
      "2019-02-28 08:08:41,191 [daskperiment.core.experiment] [INFO] Target: calculate_score-a30aa1e4-4fb0-48fe-a199-cc23b737be64\n",
      "2019-02-28 08:08:41,194 [daskperiment.core.experiment] [INFO] Random seed is not provided, initialized with generated seed: 725401846\n",
      "2019-02-28 08:08:41,198 [daskperiment.core.trial] [INFO] Parameters: a=1<class 'int'>, b=2<class 'int'>\n",
      "2019-02-28 08:08:41,200 [daskperiment.core.code] [INFO] Saving code context: daskperiment_cache/quickstart_pj/code/quickstart_pj_4.py\n",
      "2019-02-28 08:08:41,240 [daskperiment.core.trial] [INFO] Finished Experiment (trial id=4)\n",
      "2019-02-28 08:08:41,245 [daskperiment.backend.local] [INFO] Saving Experiment to file: daskperiment_cache/quickstart_pj/quickstart_pj.pkl\n"
     ]
    },
    {
     "data": {
      "text/plain": [
       "3.3333333333333335"
      ]
     },
     "execution_count": 16,
     "metadata": {},
     "output_type": "execute_result"
    }
   ],
   "source": [
    "ex.set_parameters(a=1, b=2)\n",
    "s.compute()"
   ]
  },
  {
   "cell_type": "code",
   "execution_count": 17,
   "metadata": {
    "collapsed": false
   },
   "outputs": [
    {
     "name": "stderr",
     "output_type": "stream",
     "text": [
      "2019-02-28 08:08:41,263 [daskperiment.core.parameter] [INFO] Updated parameters: a=3<class 'int'>, b=2<class 'int'>\n",
      "2019-02-28 08:08:41,268 [daskperiment.core.trial] [INFO] Started Experiment (trial id=5)\n",
      "2019-02-28 08:08:41,270 [daskperiment.core.experiment] [INFO] Target: calculate_score-a30aa1e4-4fb0-48fe-a199-cc23b737be64\n",
      "2019-02-28 08:08:41,272 [daskperiment.core.experiment] [INFO] Random seed is not provided, initialized with generated seed: 938377576\n",
      "2019-02-28 08:08:41,276 [daskperiment.core.trial] [INFO] Parameters: a=3<class 'int'>, b=2<class 'int'>\n",
      "2019-02-28 08:08:41,279 [daskperiment.core.code] [INFO] Saving code context: daskperiment_cache/quickstart_pj/code/quickstart_pj_5.py\n",
      "2019-02-28 08:08:41,295 [daskperiment.core.trial] [INFO] Finished Experiment (trial id=5)\n",
      "2019-02-28 08:08:41,297 [daskperiment.backend.local] [INFO] Saving Experiment to file: daskperiment_cache/quickstart_pj/quickstart_pj.pkl\n"
     ]
    },
    {
     "data": {
      "text/plain": [
       "2.0"
      ]
     },
     "execution_count": 17,
     "metadata": {},
     "output_type": "execute_result"
    }
   ],
   "source": [
    "ex.set_parameters(a=3, b=2)\n",
    "s.compute()"
   ]
  },
  {
   "cell_type": "markdown",
   "metadata": {},
   "source": [
    "You can retrieve intermediate results via `Experiment.get_persisted` method by specifying function name and trial id."
   ]
  },
  {
   "cell_type": "code",
   "execution_count": 18,
   "metadata": {
    "collapsed": false
   },
   "outputs": [
    {
     "data": {
      "text/plain": [
       "3"
      ]
     },
     "execution_count": 18,
     "metadata": {},
     "output_type": "execute_result"
    }
   ],
   "source": [
    "ex.get_persisted('prepare_data', trial_id=4)"
   ]
  },
  {
   "cell_type": "code",
   "execution_count": 19,
   "metadata": {
    "collapsed": false
   },
   "outputs": [
    {
     "data": {
      "text/plain": [
       "5"
      ]
     },
     "execution_count": 19,
     "metadata": {},
     "output_type": "execute_result"
    }
   ],
   "source": [
    "ex.get_persisted('prepare_data', trial_id=5)"
   ]
  },
  {
   "cell_type": "markdown",
   "metadata": {},
   "source": [
    "# Monitoring metrics"
   ]
  },
  {
   "cell_type": "markdown",
   "metadata": {},
   "source": [
    "You may need to monitor transition of some metrics during each trial. In each experiment function, you can call `Experiment.save_metric` to save metric with its key (name) and epoch."
   ]
  },
  {
   "cell_type": "code",
   "execution_count": 20,
   "metadata": {
    "collapsed": false,
    "scrolled": true
   },
   "outputs": [
    {
     "name": "stderr",
     "output_type": "stream",
     "text": [
      "2019-02-28 08:08:41,349 [daskperiment.core.code] [WARNING] Code context has been changed: calculate_score\n",
      "2019-02-28 08:08:41,350 [daskperiment.core.code] [WARNING] @@ -1,3 +1,7 @@\n",
      "\n",
      "2019-02-28 08:08:41,353 [daskperiment.core.code] [WARNING]  @ex.result\n",
      "2019-02-28 08:08:41,355 [daskperiment.core.code] [WARNING]  def calculate_score(s):\n",
      "2019-02-28 08:08:41,357 [daskperiment.core.code] [WARNING] +    for i in range(100):\n",
      "2019-02-28 08:08:41,358 [daskperiment.core.code] [WARNING] +        ex.save_metric('dummy_score', epoch=i, value=100 - np.random.random() * i)\n",
      "2019-02-28 08:08:41,361 [daskperiment.core.code] [WARNING] +        ex.save_metric('dummy_score2', epoch=i, value=10)\n",
      "2019-02-28 08:08:41,363 [daskperiment.core.code] [WARNING] +        \n",
      "2019-02-28 08:08:41,365 [daskperiment.core.code] [WARNING]      return 10 / s\n"
     ]
    }
   ],
   "source": [
    "@ex.result\n",
    "def calculate_score(s):\n",
    "    for i in range(100):\n",
    "        ex.save_metric('dummy_score', epoch=i, value=100 - np.random.random() * i)\n",
    "        ex.save_metric('dummy_score2', epoch=i, value=10)\n",
    "        \n",
    "    return 10 / s\n",
    "\n",
    "d = prepare_data(a, b)\n",
    "s = calculate_score(d)"
   ]
  },
  {
   "cell_type": "code",
   "execution_count": 21,
   "metadata": {
    "collapsed": false
   },
   "outputs": [
    {
     "data": {
      "text/plain": [
       "<bokeh.server.server.Server at 0x1242ef400>"
      ]
     },
     "execution_count": 21,
     "metadata": {},
     "output_type": "execute_result"
    }
   ],
   "source": [
    "ex.start_dashboard()"
   ]
  },
  {
   "cell_type": "code",
   "execution_count": 22,
   "metadata": {
    "collapsed": false,
    "scrolled": false
   },
   "outputs": [
    {
     "name": "stderr",
     "output_type": "stream",
     "text": [
      "2019-02-28 08:08:41,882 [daskperiment.core.parameter] [INFO] Updated parameters: a=1<class 'int'>, b=2<class 'int'>\n",
      "2019-02-28 08:08:41,891 [daskperiment.core.trial] [INFO] Started Experiment (trial id=6)\n",
      "2019-02-28 08:08:41,893 [daskperiment.core.experiment] [INFO] Target: calculate_score-b69159d5-fbbe-4bef-8326-8e9467e3d203\n",
      "2019-02-28 08:08:41,897 [daskperiment.core.experiment] [INFO] Random seed is not provided, initialized with generated seed: 3099483958\n",
      "2019-02-28 08:08:41,900 [daskperiment.core.trial] [INFO] Parameters: a=1<class 'int'>, b=2<class 'int'>\n",
      "2019-02-28 08:08:41,901 [daskperiment.core.code] [INFO] Saving code context: daskperiment_cache/quickstart_pj/code/quickstart_pj_6.py\n",
      "2019-02-28 08:08:41,921 [daskperiment.core.trial] [INFO] Finished Experiment (trial id=6)\n",
      "2019-02-28 08:08:41,922 [daskperiment.backend.local] [INFO] Saving Experiment to file: daskperiment_cache/quickstart_pj/quickstart_pj.pkl\n"
     ]
    },
    {
     "data": {
      "text/plain": [
       "3.3333333333333335"
      ]
     },
     "execution_count": 22,
     "metadata": {},
     "output_type": "execute_result"
    }
   ],
   "source": [
    "ex.set_parameters(a=1, b=2)\n",
    "s.compute()"
   ]
  },
  {
   "cell_type": "markdown",
   "metadata": {},
   "source": [
    "After a trial, you can load saved metric using `Experiment.load_metric` specifying its name and trial_id. As it is returned as `DataFrame`, you can easily investigate it."
   ]
  },
  {
   "cell_type": "code",
   "execution_count": 23,
   "metadata": {
    "collapsed": false
   },
   "outputs": [
    {
     "name": "stdout",
     "output_type": "stream",
     "text": [
      "Trial ID           6\n",
      "Epoch               \n",
      "0         100.000000\n",
      "1          99.132407\n",
      "2          98.403238\n",
      "3          98.528721\n",
      "4          98.144355\n"
     ]
    }
   ],
   "source": [
    "dummy_score = ex.load_metric('dummy_score', trial_id=6)\n",
    "print(dummy_score.head())"
   ]
  },
  {
   "cell_type": "code",
   "execution_count": 24,
   "metadata": {
    "collapsed": false
   },
   "outputs": [
    {
     "data": {
      "text/plain": [
       "<matplotlib.axes._subplots.AxesSubplot at 0x124306588>"
      ]
     },
     "execution_count": 24,
     "metadata": {},
     "output_type": "execute_result"
    },
    {
     "data": {
      "image/png": "[encoded data removed]",
      "text/plain": [
       "<Figure size 432x288 with 1 Axes>"
      ]
     },
     "metadata": {
      "needs_background": "light"
     },
     "output_type": "display_data"
    }
   ],
   "source": [
    "dummy_score.plot()"
   ]
  },
  {
   "cell_type": "markdown",
   "metadata": {},
   "source": [
    "Perform another trial."
   ]
  },
  {
   "cell_type": "code",
   "execution_count": 25,
   "metadata": {
    "collapsed": false
   },
   "outputs": [
    {
     "name": "stderr",
     "output_type": "stream",
     "text": [
      "2019-02-28 08:08:42,434 [daskperiment.core.parameter] [INFO] Updated parameters: a=3<class 'int'>, b=4<class 'int'>\n",
      "2019-02-28 08:08:42,439 [daskperiment.core.trial] [INFO] Started Experiment (trial id=7)\n",
      "2019-02-28 08:08:42,445 [daskperiment.core.experiment] [INFO] Target: calculate_score-b69159d5-fbbe-4bef-8326-8e9467e3d203\n",
      "2019-02-28 08:08:42,447 [daskperiment.core.experiment] [INFO] Random seed is not provided, initialized with generated seed: 2339343345\n",
      "2019-02-28 08:08:42,451 [daskperiment.core.trial] [INFO] Parameters: a=3<class 'int'>, b=4<class 'int'>\n",
      "2019-02-28 08:08:42,454 [daskperiment.core.code] [INFO] Saving code context: daskperiment_cache/quickstart_pj/code/quickstart_pj_7.py\n",
      "2019-02-28 08:08:42,476 [daskperiment.core.trial] [INFO] Finished Experiment (trial id=7)\n",
      "2019-02-28 08:08:42,478 [daskperiment.backend.local] [INFO] Saving Experiment to file: daskperiment_cache/quickstart_pj/quickstart_pj.pkl\n"
     ]
    },
    {
     "data": {
      "text/plain": [
       "1.4285714285714286"
      ]
     },
     "execution_count": 25,
     "metadata": {},
     "output_type": "execute_result"
    }
   ],
   "source": [
    "ex.set_parameters(a=3, b=4)\n",
    "s.compute()"
   ]
  },
  {
   "cell_type": "markdown",
   "metadata": {},
   "source": [
    "To compare metrics between trials, pass multiple trial ids to `Experiment.load_metric`."
   ]
  },
  {
   "cell_type": "code",
   "execution_count": 26,
   "metadata": {
    "collapsed": false
   },
   "outputs": [
    {
     "data": {
      "text/plain": [
       "<matplotlib.axes._subplots.AxesSubplot at 0x1246b6828>"
      ]
     },
     "execution_count": 26,
     "metadata": {},
     "output_type": "execute_result"
    },
    {
     "data": {
      "image/png": "[encoded data removed]",
      "text/plain": [
       "<Figure size 432x288 with 1 Axes>"
      ]
     },
     "metadata": {
      "needs_background": "light"
     },
     "output_type": "display_data"
    }
   ],
   "source": [
    "ex.load_metric('dummy_score', trial_id=[6, 7]).plot()"
   ]
  },
  {
   "cell_type": "markdown",
   "metadata": {},
   "source": [
    "# Check code context"
   ]
  },
  {
   "cell_type": "markdown",
   "metadata": {},
   "source": [
    "The above example illustrated `daskperiment` tracks code contexts decorated with `Experiment` decorators. \n",
    "\n",
    "To check the tracked code contexts, use `Experiment.get_code` specifying trial id (shows current code if trial id is not provided)."
   ]
  },
  {
   "cell_type": "code",
   "execution_count": 27,
   "metadata": {
    "collapsed": false,
    "scrolled": false
   },
   "outputs": [
    {
     "name": "stdout",
     "output_type": "stream",
     "text": [
      "@ex.persist\n",
      "def prepare_data(a, b):\n",
      "    return a + b\n",
      "\n",
      "\n",
      "@ex.result\n",
      "def calculate_score(s):\n",
      "    for i in range(100):\n",
      "        ex.save_metric('dummy_score', epoch=i, value=100 - np.random.random() * i)\n",
      "        ex.save_metric('dummy_score2', epoch=i, value=10)\n",
      "        \n",
      "    return 10 / s\n",
      "\n"
     ]
    }
   ],
   "source": [
    "print(ex.get_code())"
   ]
  },
  {
   "cell_type": "code",
   "execution_count": 28,
   "metadata": {
    "collapsed": false,
    "scrolled": true
   },
   "outputs": [
    {
     "name": "stdout",
     "output_type": "stream",
     "text": [
      "@ex\n",
      "def prepare_data(a, b):\n",
      "    return a + b \n",
      "\n",
      "\n",
      "@ex.result\n",
      "def calculate_score(s):\n",
      "    return 10 / s\n",
      "\n"
     ]
    }
   ],
   "source": [
    "print(ex.get_code(trial_id=1))"
   ]
  },
  {
   "cell_type": "markdown",
   "metadata": {},
   "source": [
    "Each code context is also saved as a text file per trial id. Thus, these are easily handled by diff tools and  Git."
   ]
  },
  {
   "cell_type": "code",
   "execution_count": 29,
   "metadata": {
    "collapsed": false
   },
   "outputs": [
    {
     "name": "stdout",
     "output_type": "stream",
     "text": [
      "# Code output saved in trial_id=1\r\n",
      "@ex\r\n",
      "def prepare_data(a, b):\r\n",
      "    return a + b \r\n",
      "\r\n",
      "\r\n",
      "@ex.result\r\n",
      "def calculate_score(s):\r\n",
      "    return 10 / s\r\n"
     ]
    }
   ],
   "source": [
    "%cat daskperiment_cache/quickstart_pj/code/quickstart_pj_1.py"
   ]
  },
  {
   "cell_type": "markdown",
   "metadata": {},
   "source": [
    "# Function purity and handling randomness"
   ]
  },
  {
   "cell_type": "markdown",
   "metadata": {},
   "source": [
    "To make the experiment reproducible, all the experiment step should be \"pure\" function (it the inputs are the same, output shouldn't be changed). In other words, the function should not have internal state nor randomness.\n",
    "\n",
    "`daskperiment` checks whether each experiment step is pure. It internally stores the hash of inputs and output, and shows a warning if its output is changed even though the inputs are unchanged.　\n",
    "\n",
    "To illustrate this, add randomness to the example code."
   ]
  },
  {
   "cell_type": "code",
   "execution_count": 30,
   "metadata": {
    "collapsed": false,
    "scrolled": true
   },
   "outputs": [
    {
     "name": "stderr",
     "output_type": "stream",
     "text": [
      "2019-02-28 08:08:43,100 [daskperiment.core.code] [WARNING] Code context has been changed: calculate_score\n",
      "2019-02-28 08:08:43,104 [daskperiment.core.code] [WARNING] @@ -2,6 +2,5 @@\n",
      "\n",
      "2019-02-28 08:08:43,106 [daskperiment.core.code] [WARNING]  def calculate_score(s):\n",
      "2019-02-28 08:08:43,108 [daskperiment.core.code] [WARNING]      for i in range(100):\n",
      "2019-02-28 08:08:43,114 [daskperiment.core.code] [WARNING]          ex.save_metric('dummy_score', epoch=i, value=100 - np.random.random() * i)\n",
      "2019-02-28 08:08:43,116 [daskperiment.core.code] [WARNING] -        ex.save_metric('dummy_score2', epoch=i, value=10)\n",
      "2019-02-28 08:08:43,119 [daskperiment.core.code] [WARNING]          \n",
      "2019-02-28 08:08:43,122 [daskperiment.core.code] [WARNING] -    return 10 / s\n",
      "2019-02-28 08:08:43,123 [daskperiment.core.code] [WARNING] +    return 10 / s + np.random.random()\n"
     ]
    }
   ],
   "source": [
    "@ex.result\n",
    "def calculate_score(s):\n",
    "    for i in range(100):\n",
    "        ex.save_metric('dummy_score', epoch=i, value=100 - np.random.random() * i)\n",
    "        \n",
    "    return 10 / s + np.random.random()\n",
    "\n",
    "d = prepare_data(a, b)\n",
    "s = calculate_score(d)"
   ]
  },
  {
   "cell_type": "markdown",
   "metadata": {},
   "source": [
    "Because of the code change, it outputs the different results even though its inputs (parameters) are unchanged. `daskperiment` shows the warning."
   ]
  },
  {
   "cell_type": "code",
   "execution_count": 31,
   "metadata": {
    "collapsed": false
   },
   "outputs": [
    {
     "name": "stderr",
     "output_type": "stream",
     "text": [
      "2019-02-28 08:08:43,136 [daskperiment.core.trial] [INFO] Started Experiment (trial id=8)\n",
      "2019-02-28 08:08:43,139 [daskperiment.core.experiment] [INFO] Target: calculate_score-ab876a38-fb06-45a9-adcc-26e95cbf32e8\n",
      "2019-02-28 08:08:43,140 [daskperiment.core.experiment] [INFO] Random seed is not provided, initialized with generated seed: 3874382806\n",
      "2019-02-28 08:08:43,142 [daskperiment.core.trial] [INFO] Parameters: a=3<class 'int'>, b=4<class 'int'>\n",
      "2019-02-28 08:08:43,143 [daskperiment.core.code] [INFO] Saving code context: daskperiment_cache/quickstart_pj/code/quickstart_pj_8.py\n",
      "2019-02-28 08:08:43,164 [daskperiment.core.trial] [WARNING] Experiment step result is changed with the same input: (step: calculate_score, args: (7,), kwargs: {})\n",
      "2019-02-28 08:08:43,167 [daskperiment.core.trial] [INFO] Finished Experiment (trial id=8)\n",
      "2019-02-28 08:08:43,169 [daskperiment.backend.local] [INFO] Saving Experiment to file: daskperiment_cache/quickstart_pj/quickstart_pj.pkl\n"
     ]
    },
    {
     "data": {
      "text/plain": [
       "2.2891619854069374"
      ]
     },
     "execution_count": 31,
     "metadata": {},
     "output_type": "execute_result"
    }
   ],
   "source": [
    "s.compute()"
   ]
  },
  {
   "cell_type": "markdown",
   "metadata": {},
   "source": [
    "The function outputs different result in every trial because of the randomness.\n",
    "To make the function reproducible, random seed should be provided.\n",
    "\n",
    "To do this, pass `seed` argument to `compute` method. Note that this trial shows the warning because its result is changed comparing to the previous result (no seed)."
   ]
  },
  {
   "cell_type": "code",
   "execution_count": 32,
   "metadata": {
    "collapsed": false,
    "scrolled": true
   },
   "outputs": [
    {
     "name": "stderr",
     "output_type": "stream",
     "text": [
      "2019-02-28 08:08:43,239 [daskperiment.core.trial] [INFO] Started Experiment (trial id=9)\n",
      "2019-02-28 08:08:43,243 [daskperiment.core.experiment] [INFO] Target: calculate_score-ab876a38-fb06-45a9-adcc-26e95cbf32e8\n",
      "2019-02-28 08:08:43,247 [daskperiment.core.experiment] [INFO] Random seed is initialized with given seed: 1\n",
      "2019-02-28 08:08:43,249 [daskperiment.core.trial] [INFO] Parameters: a=3<class 'int'>, b=4<class 'int'>\n",
      "2019-02-28 08:08:43,252 [daskperiment.core.code] [INFO] Saving code context: daskperiment_cache/quickstart_pj/code/quickstart_pj_9.py\n",
      "2019-02-28 08:08:43,278 [daskperiment.core.trial] [WARNING] Experiment step result is changed with the same input: (step: calculate_score, args: (7,), kwargs: {})\n",
      "2019-02-28 08:08:43,282 [daskperiment.core.trial] [INFO] Finished Experiment (trial id=9)\n",
      "2019-02-28 08:08:43,285 [daskperiment.backend.local] [INFO] Saving Experiment to file: daskperiment_cache/quickstart_pj/quickstart_pj.pkl\n"
     ]
    },
    {
     "data": {
      "text/plain": [
       "1.7552163303435249"
      ]
     },
     "execution_count": 32,
     "metadata": {},
     "output_type": "execute_result"
    }
   ],
   "source": [
    "s.compute(seed=1)"
   ]
  },
  {
   "cell_type": "markdown",
   "metadata": {},
   "source": [
    "Another trial with the same seed doesn't show the warning, because the result is unchanged."
   ]
  },
  {
   "cell_type": "code",
   "execution_count": 33,
   "metadata": {
    "collapsed": false
   },
   "outputs": [
    {
     "name": "stderr",
     "output_type": "stream",
     "text": [
      "2019-02-28 08:08:43,348 [daskperiment.core.trial] [INFO] Started Experiment (trial id=10)\n",
      "2019-02-28 08:08:43,352 [daskperiment.core.experiment] [INFO] Target: calculate_score-ab876a38-fb06-45a9-adcc-26e95cbf32e8\n",
      "2019-02-28 08:08:43,354 [daskperiment.core.experiment] [INFO] Random seed is initialized with given seed: 1\n",
      "2019-02-28 08:08:43,356 [daskperiment.core.trial] [INFO] Parameters: a=3<class 'int'>, b=4<class 'int'>\n",
      "2019-02-28 08:08:43,358 [daskperiment.core.code] [INFO] Saving code context: daskperiment_cache/quickstart_pj/code/quickstart_pj_10.py\n",
      "2019-02-28 08:08:43,382 [daskperiment.core.trial] [INFO] Finished Experiment (trial id=10)\n",
      "2019-02-28 08:08:43,383 [daskperiment.backend.local] [INFO] Saving Experiment to file: daskperiment_cache/quickstart_pj/quickstart_pj.pkl\n"
     ]
    },
    {
     "data": {
      "text/plain": [
       "1.7552163303435249"
      ]
     },
     "execution_count": 33,
     "metadata": {},
     "output_type": "execute_result"
    }
   ],
   "source": [
    "s.compute(seed=1)"
   ]
  },
  {
   "cell_type": "markdown",
   "metadata": {},
   "source": [
    "Calling `Experiment.get_history` specifying `verbose=True` returns detailed info including seed value per trials."
   ]
  },
  {
   "cell_type": "code",
   "execution_count": 34,
   "metadata": {
    "collapsed": false
   },
   "outputs": [
    {
     "data": {
      "text/html": [
       "<div>\n",
       "<style scoped>\n",
       "    .dataframe tbody tr th:only-of-type {\n",
       "        vertical-align: middle;\n",
       "    }\n",
       "\n",
       "    .dataframe tbody tr th {\n",
       "        vertical-align: top;\n",
       "    }\n",
       "\n",
       "    .dataframe thead th {\n",
       "        text-align: right;\n",
       "    }\n",
       "</style>\n",
       "<table border=\"1\" class=\"dataframe\">\n",
       "  <thead>\n",
       "    <tr style=\"text-align: right;\">\n",
       "      <th></th>\n",
       "      <th>a</th>\n",
       "      <th>b</th>\n",
       "      <th>Seed</th>\n",
       "      <th>Result</th>\n",
       "      <th>Result Type</th>\n",
       "      <th>Success</th>\n",
       "      <th>Finished</th>\n",
       "      <th>Process Time</th>\n",
       "      <th>Description</th>\n",
       "    </tr>\n",
       "    <tr>\n",
       "      <th>Trial ID</th>\n",
       "      <th></th>\n",
       "      <th></th>\n",
       "      <th></th>\n",
       "      <th></th>\n",
       "      <th></th>\n",
       "      <th></th>\n",
       "      <th></th>\n",
       "      <th></th>\n",
       "      <th></th>\n",
       "    </tr>\n",
       "  </thead>\n",
       "  <tbody>\n",
       "    <tr>\n",
       "      <th>1</th>\n",
       "      <td>1</td>\n",
       "      <td>2</td>\n",
       "      <td>2387108513</td>\n",
       "      <td>3.333333</td>\n",
       "      <td>&lt;class 'float'&gt;</td>\n",
       "      <td>True</td>\n",
       "      <td>2019-02-28 08:08:40.751676</td>\n",
       "      <td>00:00:00.019652</td>\n",
       "      <td>NaN</td>\n",
       "    </tr>\n",
       "    <tr>\n",
       "      <th>2</th>\n",
       "      <td>1</td>\n",
       "      <td>3</td>\n",
       "      <td>722428913</td>\n",
       "      <td>2.500000</td>\n",
       "      <td>&lt;class 'float'&gt;</td>\n",
       "      <td>True</td>\n",
       "      <td>2019-02-28 08:08:40.814038</td>\n",
       "      <td>00:00:00.042162</td>\n",
       "      <td>NaN</td>\n",
       "    </tr>\n",
       "    <tr>\n",
       "      <th>3</th>\n",
       "      <td>1</td>\n",
       "      <td>-1</td>\n",
       "      <td>921008217</td>\n",
       "      <td>NaN</td>\n",
       "      <td>None</td>\n",
       "      <td>False</td>\n",
       "      <td>2019-02-28 08:08:41.068351</td>\n",
       "      <td>00:00:00.042146</td>\n",
       "      <td>ZeroDivisionError(division by zero)</td>\n",
       "    </tr>\n",
       "    <tr>\n",
       "      <th>4</th>\n",
       "      <td>1</td>\n",
       "      <td>2</td>\n",
       "      <td>725401846</td>\n",
       "      <td>3.333333</td>\n",
       "      <td>&lt;class 'float'&gt;</td>\n",
       "      <td>True</td>\n",
       "      <td>2019-02-28 08:08:41.240667</td>\n",
       "      <td>00:00:00.053151</td>\n",
       "      <td>NaN</td>\n",
       "    </tr>\n",
       "    <tr>\n",
       "      <th>5</th>\n",
       "      <td>3</td>\n",
       "      <td>2</td>\n",
       "      <td>938377576</td>\n",
       "      <td>2.000000</td>\n",
       "      <td>&lt;class 'float'&gt;</td>\n",
       "      <td>True</td>\n",
       "      <td>2019-02-28 08:08:41.294752</td>\n",
       "      <td>00:00:00.026353</td>\n",
       "      <td>NaN</td>\n",
       "    </tr>\n",
       "    <tr>\n",
       "      <th>6</th>\n",
       "      <td>1</td>\n",
       "      <td>2</td>\n",
       "      <td>3099483958</td>\n",
       "      <td>3.333333</td>\n",
       "      <td>&lt;class 'float'&gt;</td>\n",
       "      <td>True</td>\n",
       "      <td>2019-02-28 08:08:41.920907</td>\n",
       "      <td>00:00:00.030488</td>\n",
       "      <td>NaN</td>\n",
       "    </tr>\n",
       "    <tr>\n",
       "      <th>7</th>\n",
       "      <td>3</td>\n",
       "      <td>4</td>\n",
       "      <td>2339343345</td>\n",
       "      <td>1.428571</td>\n",
       "      <td>&lt;class 'float'&gt;</td>\n",
       "      <td>True</td>\n",
       "      <td>2019-02-28 08:08:42.476069</td>\n",
       "      <td>00:00:00.037098</td>\n",
       "      <td>NaN</td>\n",
       "    </tr>\n",
       "    <tr>\n",
       "      <th>8</th>\n",
       "      <td>3</td>\n",
       "      <td>4</td>\n",
       "      <td>3874382806</td>\n",
       "      <td>2.289162</td>\n",
       "      <td>&lt;class 'float'&gt;</td>\n",
       "      <td>True</td>\n",
       "      <td>2019-02-28 08:08:43.167281</td>\n",
       "      <td>00:00:00.030379</td>\n",
       "      <td>NaN</td>\n",
       "    </tr>\n",
       "    <tr>\n",
       "      <th>9</th>\n",
       "      <td>3</td>\n",
       "      <td>4</td>\n",
       "      <td>1</td>\n",
       "      <td>1.755216</td>\n",
       "      <td>&lt;class 'float'&gt;</td>\n",
       "      <td>True</td>\n",
       "      <td>2019-02-28 08:08:43.282044</td>\n",
       "      <td>00:00:00.042990</td>\n",
       "      <td>NaN</td>\n",
       "    </tr>\n",
       "    <tr>\n",
       "      <th>10</th>\n",
       "      <td>3</td>\n",
       "      <td>4</td>\n",
       "      <td>1</td>\n",
       "      <td>1.755216</td>\n",
       "      <td>&lt;class 'float'&gt;</td>\n",
       "      <td>True</td>\n",
       "      <td>2019-02-28 08:08:43.381823</td>\n",
       "      <td>00:00:00.032945</td>\n",
       "      <td>NaN</td>\n",
       "    </tr>\n",
       "  </tbody>\n",
       "</table>\n",
       "</div>"
      ],
      "text/plain": [
       "          a  b        Seed    Result      Result Type  Success  \\\n",
       "Trial ID                                                         \n",
       "1         1  2  2387108513  3.333333  <class 'float'>     True   \n",
       "2         1  3   722428913  2.500000  <class 'float'>     True   \n",
       "3         1 -1   921008217       NaN             None    False   \n",
       "4         1  2   725401846  3.333333  <class 'float'>     True   \n",
       "5         3  2   938377576  2.000000  <class 'float'>     True   \n",
       "6         1  2  3099483958  3.333333  <class 'float'>     True   \n",
       "7         3  4  2339343345  1.428571  <class 'float'>     True   \n",
       "8         3  4  3874382806  2.289162  <class 'float'>     True   \n",
       "9         3  4           1  1.755216  <class 'float'>     True   \n",
       "10        3  4           1  1.755216  <class 'float'>     True   \n",
       "\n",
       "                           Finished    Process Time  \\\n",
       "Trial ID                                              \n",
       "1        2019-02-28 08:08:40.751676 00:00:00.019652   \n",
       "2        2019-02-28 08:08:40.814038 00:00:00.042162   \n",
       "3        2019-02-28 08:08:41.068351 00:00:00.042146   \n",
       "4        2019-02-28 08:08:41.240667 00:00:00.053151   \n",
       "5        2019-02-28 08:08:41.294752 00:00:00.026353   \n",
       "6        2019-02-28 08:08:41.920907 00:00:00.030488   \n",
       "7        2019-02-28 08:08:42.476069 00:00:00.037098   \n",
       "8        2019-02-28 08:08:43.167281 00:00:00.030379   \n",
       "9        2019-02-28 08:08:43.282044 00:00:00.042990   \n",
       "10       2019-02-28 08:08:43.381823 00:00:00.032945   \n",
       "\n",
       "                                  Description  \n",
       "Trial ID                                       \n",
       "1                                         NaN  \n",
       "2                                         NaN  \n",
       "3         ZeroDivisionError(division by zero)  \n",
       "4                                         NaN  \n",
       "5                                         NaN  \n",
       "6                                         NaN  \n",
       "7                                         NaN  \n",
       "8                                         NaN  \n",
       "9                                         NaN  \n",
       "10                                        NaN  "
      ]
     },
     "execution_count": 34,
     "metadata": {},
     "output_type": "execute_result"
    }
   ],
   "source": [
    "ex.get_history(verbose=True)"
   ]
  },
  {
   "cell_type": "markdown",
   "metadata": {},
   "source": [
    "# Save experiment result\n",
    "\n",
    "`daskperiment` automatically saves its internal state when the experiment result is computed (when `.compute` is called). Also, `Experiment` instance automatically recover previous state when it is instanciated.\n",
    "\n",
    "Following example instanciates `Experiment` instance using the same id as above. Thus, the created `Experiment` automatically recovers its state. "
   ]
  },
  {
   "cell_type": "code",
   "execution_count": 35,
   "metadata": {
    "collapsed": false
   },
   "outputs": [
    {
     "name": "stderr",
     "output_type": "stream",
     "text": [
      "2019-02-28 08:08:43,596 [daskperiment.backend.local] [INFO] Loading Experiment from file: daskperiment_cache/quickstart_pj/quickstart_pj.pkl\n",
      "2019-02-28 08:08:43,605 [daskperiment.core.experiment] [INFO] Loaded existing experiment: Experiment(id: quickstart_pj, trial_id: 10, backend: LocalBackend('daskperiment_cache/quickstart_pj'))\n",
      "2019-02-28 08:08:43,686 [daskperiment.environment.environment] [INFO] Platform Information: Darwin-17.7.0-x86_64-i386-64bit\n",
      "2019-02-28 08:08:43,689 [daskperiment.environment.environment] [INFO] Device CPU Count: 4\n",
      "2019-02-28 08:08:43,691 [daskperiment.environment.environment] [INFO] Python Implementation: CPython\n",
      "2019-02-28 08:08:43,694 [daskperiment.environment.environment] [INFO] Python Version: 3.6.6\n",
      "2019-02-28 08:08:43,695 [daskperiment.environment.environment] [INFO] Python Shell Mode: Jupyter Notebook\n",
      "2019-02-28 08:08:43,697 [daskperiment.environment.environment] [INFO] Python venv: False\n",
      "2019-02-28 08:08:43,699 [daskperiment.environment.environment] [INFO] Daskperiment Version: 0.3.0\n",
      "2019-02-28 08:08:43,703 [daskperiment.environment.environment] [INFO] Git Repository: /Users/sinhrks/Git/daskperiment\n",
      "2019-02-28 08:08:43,706 [daskperiment.environment.environment] [INFO] Git Active Branch: dashboard\n",
      "2019-02-28 08:08:43,708 [daskperiment.environment.environment] [INFO] Git HEAD Commit: 634b69f863a7696299cf1241c0dea42a9693db80\n",
      "2019-02-28 08:08:43,711 [daskperiment.environment.environment] [INFO] Number of Installed Python Packages: 352\n"
     ]
    }
   ],
   "source": [
    "ex_new = daskperiment.Experiment(id='quickstart_pj')"
   ]
  },
  {
   "cell_type": "markdown",
   "metadata": {},
   "source": [
    "Calling `.get_history` returns information of previous trials."
   ]
  },
  {
   "cell_type": "code",
   "execution_count": 36,
   "metadata": {
    "collapsed": false
   },
   "outputs": [
    {
     "data": {
      "text/html": [
       "<div>\n",
       "<style scoped>\n",
       "    .dataframe tbody tr th:only-of-type {\n",
       "        vertical-align: middle;\n",
       "    }\n",
       "\n",
       "    .dataframe tbody tr th {\n",
       "        vertical-align: top;\n",
       "    }\n",
       "\n",
       "    .dataframe thead th {\n",
       "        text-align: right;\n",
       "    }\n",
       "</style>\n",
       "<table border=\"1\" class=\"dataframe\">\n",
       "  <thead>\n",
       "    <tr style=\"text-align: right;\">\n",
       "      <th></th>\n",
       "      <th>a</th>\n",
       "      <th>b</th>\n",
       "      <th>Result</th>\n",
       "      <th>Success</th>\n",
       "      <th>Finished</th>\n",
       "      <th>Process Time</th>\n",
       "      <th>Description</th>\n",
       "    </tr>\n",
       "    <tr>\n",
       "      <th>Trial ID</th>\n",
       "      <th></th>\n",
       "      <th></th>\n",
       "      <th></th>\n",
       "      <th></th>\n",
       "      <th></th>\n",
       "      <th></th>\n",
       "      <th></th>\n",
       "    </tr>\n",
       "  </thead>\n",
       "  <tbody>\n",
       "    <tr>\n",
       "      <th>1</th>\n",
       "      <td>1</td>\n",
       "      <td>2</td>\n",
       "      <td>3.333333</td>\n",
       "      <td>True</td>\n",
       "      <td>2019-02-28 08:08:40.751676</td>\n",
       "      <td>00:00:00.019652</td>\n",
       "      <td>NaN</td>\n",
       "    </tr>\n",
       "    <tr>\n",
       "      <th>2</th>\n",
       "      <td>1</td>\n",
       "      <td>3</td>\n",
       "      <td>2.500000</td>\n",
       "      <td>True</td>\n",
       "      <td>2019-02-28 08:08:40.814038</td>\n",
       "      <td>00:00:00.042162</td>\n",
       "      <td>NaN</td>\n",
       "    </tr>\n",
       "    <tr>\n",
       "      <th>3</th>\n",
       "      <td>1</td>\n",
       "      <td>-1</td>\n",
       "      <td>NaN</td>\n",
       "      <td>False</td>\n",
       "      <td>2019-02-28 08:08:41.068351</td>\n",
       "      <td>00:00:00.042146</td>\n",
       "      <td>ZeroDivisionError(division by zero)</td>\n",
       "    </tr>\n",
       "    <tr>\n",
       "      <th>4</th>\n",
       "      <td>1</td>\n",
       "      <td>2</td>\n",
       "      <td>3.333333</td>\n",
       "      <td>True</td>\n",
       "      <td>2019-02-28 08:08:41.240667</td>\n",
       "      <td>00:00:00.053151</td>\n",
       "      <td>NaN</td>\n",
       "    </tr>\n",
       "    <tr>\n",
       "      <th>5</th>\n",
       "      <td>3</td>\n",
       "      <td>2</td>\n",
       "      <td>2.000000</td>\n",
       "      <td>True</td>\n",
       "      <td>2019-02-28 08:08:41.294752</td>\n",
       "      <td>00:00:00.026353</td>\n",
       "      <td>NaN</td>\n",
       "    </tr>\n",
       "    <tr>\n",
       "      <th>6</th>\n",
       "      <td>1</td>\n",
       "      <td>2</td>\n",
       "      <td>3.333333</td>\n",
       "      <td>True</td>\n",
       "      <td>2019-02-28 08:08:41.920907</td>\n",
       "      <td>00:00:00.030488</td>\n",
       "      <td>NaN</td>\n",
       "    </tr>\n",
       "    <tr>\n",
       "      <th>7</th>\n",
       "      <td>3</td>\n",
       "      <td>4</td>\n",
       "      <td>1.428571</td>\n",
       "      <td>True</td>\n",
       "      <td>2019-02-28 08:08:42.476069</td>\n",
       "      <td>00:00:00.037098</td>\n",
       "      <td>NaN</td>\n",
       "    </tr>\n",
       "    <tr>\n",
       "      <th>8</th>\n",
       "      <td>3</td>\n",
       "      <td>4</td>\n",
       "      <td>2.289162</td>\n",
       "      <td>True</td>\n",
       "      <td>2019-02-28 08:08:43.167281</td>\n",
       "      <td>00:00:00.030379</td>\n",
       "      <td>NaN</td>\n",
       "    </tr>\n",
       "    <tr>\n",
       "      <th>9</th>\n",
       "      <td>3</td>\n",
       "      <td>4</td>\n",
       "      <td>1.755216</td>\n",
       "      <td>True</td>\n",
       "      <td>2019-02-28 08:08:43.282044</td>\n",
       "      <td>00:00:00.042990</td>\n",
       "      <td>NaN</td>\n",
       "    </tr>\n",
       "    <tr>\n",
       "      <th>10</th>\n",
       "      <td>3</td>\n",
       "      <td>4</td>\n",
       "      <td>1.755216</td>\n",
       "      <td>True</td>\n",
       "      <td>2019-02-28 08:08:43.381823</td>\n",
       "      <td>00:00:00.032945</td>\n",
       "      <td>NaN</td>\n",
       "    </tr>\n",
       "  </tbody>\n",
       "</table>\n",
       "</div>"
      ],
      "text/plain": [
       "          a  b    Result  Success                   Finished    Process Time  \\\n",
       "Trial ID                                                                       \n",
       "1         1  2  3.333333     True 2019-02-28 08:08:40.751676 00:00:00.019652   \n",
       "2         1  3  2.500000     True 2019-02-28 08:08:40.814038 00:00:00.042162   \n",
       "3         1 -1       NaN    False 2019-02-28 08:08:41.068351 00:00:00.042146   \n",
       "4         1  2  3.333333     True 2019-02-28 08:08:41.240667 00:00:00.053151   \n",
       "5         3  2  2.000000     True 2019-02-28 08:08:41.294752 00:00:00.026353   \n",
       "6         1  2  3.333333     True 2019-02-28 08:08:41.920907 00:00:00.030488   \n",
       "7         3  4  1.428571     True 2019-02-28 08:08:42.476069 00:00:00.037098   \n",
       "8         3  4  2.289162     True 2019-02-28 08:08:43.167281 00:00:00.030379   \n",
       "9         3  4  1.755216     True 2019-02-28 08:08:43.282044 00:00:00.042990   \n",
       "10        3  4  1.755216     True 2019-02-28 08:08:43.381823 00:00:00.032945   \n",
       "\n",
       "                                  Description  \n",
       "Trial ID                                       \n",
       "1                                         NaN  \n",
       "2                                         NaN  \n",
       "3         ZeroDivisionError(division by zero)  \n",
       "4                                         NaN  \n",
       "5                                         NaN  \n",
       "6                                         NaN  \n",
       "7                                         NaN  \n",
       "8                                         NaN  \n",
       "9                                         NaN  \n",
       "10                                        NaN  "
      ]
     },
     "execution_count": 36,
     "metadata": {},
     "output_type": "execute_result"
    }
   ],
   "source": [
    "ex_new.get_history()"
   ]
  },
  {
   "cell_type": "markdown",
   "metadata": {},
   "source": [
    "Also, `Experiment` instance automatically detects the environment change from its previous trial. Following is a sample log when package update is detected (pandas 0.23.4 -> 0.24.0).\n",
    "\n",
    "    2019-01-29 00:22:35,357 [daskperiment.io.serialize] [INFO] Loaded Experiment(id: quickstart_pj, trial_id: 14) from path=daskperiment_cache/quickstart_pj/quickstart_pj.pkl\n",
    "    2019-01-29 00:22:35,404 [daskperiment.core.environment] [WARNING] Installed Python packages have been changed\n",
    "    2019-01-29 00:22:35,408 [daskperiment.core.environment] [WARNING] @@ -142 +142 @@\n",
    "    2019-01-29 00:22:35,411 [daskperiment.core.environment] [WARNING] -pandas 0.23.4 (/Users/sinhrks/anaconda/lib/python3.6/site-packages)\n",
    "    2019-01-29 00:22:35,412 [daskperiment.core.environment] [WARNING] +pandas 0.24.0 (/Users/sinhrks/anaconda/lib/python3.6/site-packages)"
   ]
  },
  {
   "cell_type": "markdown",
   "metadata": {
    "collapsed": true
   },
   "source": [
    "# Run as CLI\n",
    "\n",
    "`daskperiment` also supports execution from command line. First, prepare a `Python` script to define experiment. The usage of `Experiment` class is all the same as Jupyter example. `daskperiment` regards a result of a function decorated with `Experiment.result` (`calculate_score` function in below case) as experiment output."
   ]
  },
  {
   "cell_type": "code",
   "execution_count": 37,
   "metadata": {
    "collapsed": false
   },
   "outputs": [
    {
     "name": "stdout",
     "output_type": "stream",
     "text": [
      "import daskperiment\r\n",
      "\r\n",
      "ex = daskperiment.Experiment(id='simple_experiment_pj')\r\n",
      "\r\n",
      "a = ex.parameter('a')\r\n",
      "b = ex.parameter('b')\r\n",
      "\r\n",
      "\r\n",
      "@ex\r\n",
      "def prepare_data(a, b):\r\n",
      "    return a + b\r\n",
      "\r\n",
      "\r\n",
      "@ex.result\r\n",
      "def calculate_score(s):\r\n",
      "    return s + 1\r\n",
      "\r\n",
      "\r\n",
      "d = prepare_data(a, b)\r\n",
      "calculate_score(d)\r\n"
     ]
    }
   ],
   "source": [
    "%cat ../scripts/simple_experiment.py"
   ]
  },
  {
   "cell_type": "markdown",
   "metadata": {},
   "source": [
    "You can provide parameter values from command line options using `key=value` format. `daskperinemt` automatically parse parameters and perform computation."
   ]
  },
  {
   "cell_type": "code",
   "execution_count": 38,
   "metadata": {
    "collapsed": false
   },
   "outputs": [
    {
     "name": "stdout",
     "output_type": "stream",
     "text": [
      "/Users/masaaki.horikoshi/anaconda/lib/python3.6/importlib/_bootstrap.py:219: RuntimeWarning: numpy.dtype size changed, may indicate binary incompatibility. Expected 96, got 88\n",
      "  return f(*args, **kwds)\n",
      "2019-02-28 08:08:48,186 [daskperiment.core.experiment] [INFO] Initialized new experiment: Experiment(id: simple_experiment_pj, trial_id: 0, backend: LocalBackend('daskperiment_cache/simple_experiment_pj'))\n",
      "2019-02-28 08:08:48,322 [daskperiment.environment.environment] [INFO] Platform Information: Darwin-17.7.0-x86_64-i386-64bit\n",
      "2019-02-28 08:08:48,322 [daskperiment.environment.environment] [INFO] Device CPU Count: 4\n",
      "2019-02-28 08:08:48,323 [daskperiment.environment.environment] [INFO] Python Implementation: CPython\n",
      "2019-02-28 08:08:48,323 [daskperiment.environment.environment] [INFO] Python Version: 3.6.6\n",
      "2019-02-28 08:08:48,323 [daskperiment.environment.environment] [INFO] Python Shell Mode: File\n",
      "2019-02-28 08:08:48,323 [daskperiment.environment.environment] [INFO] Python venv: False\n",
      "2019-02-28 08:08:48,323 [daskperiment.environment.environment] [INFO] Daskperiment Version: 0.3.0\n",
      "2019-02-28 08:08:48,323 [daskperiment.environment.environment] [INFO] Git Repository: /Users/sinhrks/Git/daskperiment\n",
      "2019-02-28 08:08:48,324 [daskperiment.environment.environment] [INFO] Git Active Branch: dashboard\n",
      "2019-02-28 08:08:48,324 [daskperiment.environment.environment] [INFO] Git HEAD Commit: 634b69f863a7696299cf1241c0dea42a9693db80 (DIRTY)\n",
      "2019-02-28 08:08:48,324 [daskperiment.environment.environment] [INFO] Number of Installed Python Packages: 352\n",
      "2019-02-28 08:08:48,328 [daskperiment.core.parameter] [INFO] Updated parameters: a=1<class 'int'>, b=2<class 'int'>\n",
      "2019-02-28 08:08:48,328 [daskperiment.core.trial] [INFO] Started Experiment (trial id=1)\n",
      "2019-02-28 08:08:48,328 [daskperiment.core.experiment] [INFO] Target: calculate_score-de005757-bda6-4a36-b9c3-a0e337850214\n",
      "2019-02-28 08:08:48,329 [daskperiment.core.experiment] [INFO] Random seed is not provided, initialized with generated seed: 304634728\n",
      "2019-02-28 08:08:48,329 [daskperiment.core.trial] [INFO] Parameters: a=1<class 'int'>, b=2<class 'int'>\n",
      "2019-02-28 08:08:48,329 [daskperiment.core.code] [INFO] Saving code context: daskperiment_cache/simple_experiment_pj/code/simple_experiment_pj_1.py\n",
      "2019-02-28 08:08:48,339 [daskperiment.core.trial] [INFO] Finished Experiment (trial id=1)\n",
      "2019-02-28 08:08:48,340 [daskperiment.backend.local] [INFO] Saving Experiment to file: daskperiment_cache/simple_experiment_pj/simple_experiment_pj.pkl\n"
     ]
    }
   ],
   "source": [
    "!python ../scripts/simple_experiment.py a=1 b=2"
   ]
  },
  {
   "cell_type": "markdown",
   "metadata": {},
   "source": [
    "Let's perform multiple trials using different parameters. `daskperiment` automatically saves trial history as the same as Jupyter example (see trial id is incremented)."
   ]
  },
  {
   "cell_type": "code",
   "execution_count": 39,
   "metadata": {
    "collapsed": false
   },
   "outputs": [
    {
     "name": "stdout",
     "output_type": "stream",
     "text": [
      "/Users/masaaki.horikoshi/anaconda/lib/python3.6/importlib/_bootstrap.py:219: RuntimeWarning: numpy.dtype size changed, may indicate binary incompatibility. Expected 96, got 88\n",
      "  return f(*args, **kwds)\n",
      "2019-02-28 08:08:52,341 [daskperiment.backend.local] [INFO] Loading Experiment from file: daskperiment_cache/simple_experiment_pj/simple_experiment_pj.pkl\n",
      "2019-02-28 08:08:52,341 [daskperiment.core.experiment] [INFO] Loaded existing experiment: Experiment(id: simple_experiment_pj, trial_id: 1, backend: LocalBackend('daskperiment_cache/simple_experiment_pj'))\n",
      "2019-02-28 08:08:52,467 [daskperiment.environment.environment] [INFO] Platform Information: Darwin-17.7.0-x86_64-i386-64bit\n",
      "2019-02-28 08:08:52,468 [daskperiment.environment.environment] [INFO] Device CPU Count: 4\n",
      "2019-02-28 08:08:52,468 [daskperiment.environment.environment] [INFO] Python Implementation: CPython\n",
      "2019-02-28 08:08:52,468 [daskperiment.environment.environment] [INFO] Python Version: 3.6.6\n",
      "2019-02-28 08:08:52,468 [daskperiment.environment.environment] [INFO] Python Shell Mode: File\n",
      "2019-02-28 08:08:52,469 [daskperiment.environment.environment] [INFO] Python venv: False\n",
      "2019-02-28 08:08:52,469 [daskperiment.environment.environment] [INFO] Daskperiment Version: 0.3.0\n",
      "2019-02-28 08:08:52,469 [daskperiment.environment.environment] [INFO] Git Repository: /Users/sinhrks/Git/daskperiment\n",
      "2019-02-28 08:08:52,469 [daskperiment.environment.environment] [INFO] Git Active Branch: dashboard\n",
      "2019-02-28 08:08:52,469 [daskperiment.environment.environment] [INFO] Git HEAD Commit: 634b69f863a7696299cf1241c0dea42a9693db80 (DIRTY)\n",
      "2019-02-28 08:08:52,470 [daskperiment.environment.environment] [INFO] Number of Installed Python Packages: 352\n",
      "2019-02-28 08:08:52,484 [daskperiment.core.parameter] [INFO] Updated parameters: a=3<class 'int'>, b=2<class 'int'>\n",
      "2019-02-28 08:08:52,485 [daskperiment.core.trial] [INFO] Started Experiment (trial id=2)\n",
      "2019-02-28 08:08:52,486 [daskperiment.core.experiment] [INFO] Target: calculate_score-f48b98c6-091d-42f6-863e-826068332e3d\n",
      "2019-02-28 08:08:52,486 [daskperiment.core.experiment] [INFO] Random seed is not provided, initialized with generated seed: 2070114977\n",
      "2019-02-28 08:08:52,487 [daskperiment.core.trial] [INFO] Parameters: a=3<class 'int'>, b=2<class 'int'>\n",
      "2019-02-28 08:08:52,487 [daskperiment.core.code] [INFO] Saving code context: daskperiment_cache/simple_experiment_pj/code/simple_experiment_pj_2.py\n",
      "2019-02-28 08:08:52,509 [daskperiment.core.trial] [INFO] Finished Experiment (trial id=2)\n",
      "2019-02-28 08:08:52,509 [daskperiment.backend.local] [INFO] Saving Experiment to file: daskperiment_cache/simple_experiment_pj/simple_experiment_pj.pkl\n"
     ]
    }
   ],
   "source": [
    "!python ../scripts/simple_experiment.py a=3 b=2"
   ]
  },
  {
   "cell_type": "markdown",
   "metadata": {},
   "source": [
    "To confirm the experiment results, instanciate Experiment specifying the same id as the script and use Experiment.get_history."
   ]
  },
  {
   "cell_type": "code",
   "execution_count": 40,
   "metadata": {
    "collapsed": false
   },
   "outputs": [
    {
     "name": "stderr",
     "output_type": "stream",
     "text": [
      "2019-02-28 08:08:53,082 [daskperiment.backend.local] [INFO] Loading Experiment from file: daskperiment_cache/simple_experiment_pj/simple_experiment_pj.pkl\n",
      "2019-02-28 08:08:53,086 [daskperiment.core.experiment] [INFO] Loaded existing experiment: Experiment(id: simple_experiment_pj, trial_id: 2, backend: LocalBackend('daskperiment_cache/simple_experiment_pj'))\n",
      "2019-02-28 08:08:53,147 [daskperiment.environment.environment] [INFO] Platform Information: Darwin-17.7.0-x86_64-i386-64bit\n",
      "2019-02-28 08:08:53,150 [daskperiment.environment.environment] [INFO] Device CPU Count: 4\n",
      "2019-02-28 08:08:53,153 [daskperiment.environment.environment] [INFO] Python Implementation: CPython\n",
      "2019-02-28 08:08:53,155 [daskperiment.environment.environment] [INFO] Python Version: 3.6.6\n",
      "2019-02-28 08:08:53,161 [daskperiment.environment.environment] [INFO] Python Shell Mode: Jupyter Notebook\n",
      "2019-02-28 08:08:53,163 [daskperiment.environment.environment] [INFO] Python venv: False\n",
      "2019-02-28 08:08:53,167 [daskperiment.environment.environment] [INFO] Daskperiment Version: 0.3.0\n",
      "2019-02-28 08:08:53,168 [daskperiment.environment.environment] [INFO] Git Repository: /Users/sinhrks/Git/daskperiment\n",
      "2019-02-28 08:08:53,170 [daskperiment.environment.environment] [INFO] Git Active Branch: dashboard\n",
      "2019-02-28 08:08:53,172 [daskperiment.environment.environment] [INFO] Git HEAD Commit: 634b69f863a7696299cf1241c0dea42a9693db80 (DIRTY)\n",
      "2019-02-28 08:08:53,175 [daskperiment.environment.environment] [INFO] Number of Installed Python Packages: 352\n",
      "2019-02-28 08:08:53,181 [daskperiment.environment.environment] [WARNING] Environment information has been changed: python\n",
      "2019-02-28 08:08:53,183 [daskperiment.environment.environment] [WARNING] @@ -3 +3 @@\n",
      "\n",
      "2019-02-28 08:08:53,184 [daskperiment.environment.environment] [WARNING] -Python Shell Mode: File\n",
      "2019-02-28 08:08:53,185 [daskperiment.environment.environment] [WARNING] +Python Shell Mode: Jupyter Notebook\n"
     ]
    },
    {
     "data": {
      "text/html": [
       "<div>\n",
       "<style scoped>\n",
       "    .dataframe tbody tr th:only-of-type {\n",
       "        vertical-align: middle;\n",
       "    }\n",
       "\n",
       "    .dataframe tbody tr th {\n",
       "        vertical-align: top;\n",
       "    }\n",
       "\n",
       "    .dataframe thead th {\n",
       "        text-align: right;\n",
       "    }\n",
       "</style>\n",
       "<table border=\"1\" class=\"dataframe\">\n",
       "  <thead>\n",
       "    <tr style=\"text-align: right;\">\n",
       "      <th></th>\n",
       "      <th>a</th>\n",
       "      <th>b</th>\n",
       "      <th>Result</th>\n",
       "      <th>Success</th>\n",
       "      <th>Finished</th>\n",
       "      <th>Process Time</th>\n",
       "      <th>Description</th>\n",
       "    </tr>\n",
       "    <tr>\n",
       "      <th>Trial ID</th>\n",
       "      <th></th>\n",
       "      <th></th>\n",
       "      <th></th>\n",
       "      <th></th>\n",
       "      <th></th>\n",
       "      <th></th>\n",
       "      <th></th>\n",
       "    </tr>\n",
       "  </thead>\n",
       "  <tbody>\n",
       "    <tr>\n",
       "      <th>1</th>\n",
       "      <td>1</td>\n",
       "      <td>2</td>\n",
       "      <td>4</td>\n",
       "      <td>True</td>\n",
       "      <td>2019-02-28 08:08:48.339392</td>\n",
       "      <td>00:00:00.010890</td>\n",
       "      <td>NaN</td>\n",
       "    </tr>\n",
       "    <tr>\n",
       "      <th>2</th>\n",
       "      <td>3</td>\n",
       "      <td>2</td>\n",
       "      <td>6</td>\n",
       "      <td>True</td>\n",
       "      <td>2019-02-28 08:08:52.509214</td>\n",
       "      <td>00:00:00.023474</td>\n",
       "      <td>NaN</td>\n",
       "    </tr>\n",
       "  </tbody>\n",
       "</table>\n",
       "</div>"
      ],
      "text/plain": [
       "          a  b  Result  Success                   Finished    Process Time  \\\n",
       "Trial ID                                                                     \n",
       "1         1  2       4     True 2019-02-28 08:08:48.339392 00:00:00.010890   \n",
       "2         3  2       6     True 2019-02-28 08:08:52.509214 00:00:00.023474   \n",
       "\n",
       "          Description  \n",
       "Trial ID               \n",
       "1                 NaN  \n",
       "2                 NaN  "
      ]
     },
     "execution_count": 40,
     "metadata": {},
     "output_type": "execute_result"
    }
   ],
   "source": [
    "import daskperiment\n",
    "\n",
    "ex = daskperiment.Experiment(id='simple_experiment_pj')\n",
    "ex.get_history()"
   ]
  },
  {
   "cell_type": "code",
   "execution_count": null,
   "metadata": {
    "collapsed": true
   },
   "outputs": [],
   "source": []
  }
 ],
 "metadata": {
  "kernelspec": {
   "display_name": "Python 3",
   "language": "python",
   "name": "python3"
  },
  "language_info": {
   "codemirror_mode": {
    "name": "ipython",
    "version": 3
   },
   "file_extension": ".py",
   "mimetype": "text/x-python",
   "name": "python",
   "nbconvert_exporter": "python",
   "pygments_lexer": "ipython3",
   "version": "3.6.6"
  }
 },
 "nbformat": 4,
 "nbformat_minor": 2
}
