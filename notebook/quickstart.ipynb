{
 "cells": [
  {
   "cell_type": "markdown",
   "metadata": {},
   "source": [
    "# Quickstart\n",
    "\n",
    "This notebook describes a minimal example. First, create `daskperiment.Experiment` instance. This instance controlls an experiment, a chain of functions to output value and a collection of input variables."
   ]
  },
  {
   "cell_type": "code",
   "execution_count": 40,
   "metadata": {
    "collapsed": false
   },
   "outputs": [],
   "source": [
    "%matplotlib inline\n",
    "import numpy as np\n",
    "import daskperiment"
   ]
  },
  {
   "cell_type": "markdown",
   "metadata": {},
   "source": [
    "First, create `daskperiment.Experiment` instance. This instance controlls an experiment, a chain of functions to output value and a collection of input variables."
   ]
  },
  {
   "cell_type": "code",
   "execution_count": 2,
   "metadata": {
    "collapsed": false,
    "scrolled": true
   },
   "outputs": [
    {
     "name": "stderr",
     "output_type": "stream",
     "text": [
      "2019-02-26 06:26:15,069 [daskperiment.core.experiment] [INFO] Initialized new experiment: Experiment(id: quickstart_pj, trial_id: 0, backend: LocalBackend('daskperiment_cache/quickstart_pj'))\n",
      "2019-02-26 06:26:15,217 [daskperiment.environment.environment] [INFO] Platform Information: Darwin-17.7.0-x86_64-i386-64bit\n",
      "2019-02-26 06:26:15,224 [daskperiment.environment.environment] [INFO] Device CPU Count: 4\n",
      "2019-02-26 06:26:15,235 [daskperiment.environment.environment] [INFO] Python Implementation: CPython\n",
      "2019-02-26 06:26:15,237 [daskperiment.environment.environment] [INFO] Python Version: 3.6.6\n",
      "2019-02-26 06:26:15,242 [daskperiment.environment.environment] [INFO] Python Shell Mode: Jupyter Notebook\n",
      "2019-02-26 06:26:15,243 [daskperiment.environment.environment] [INFO] Daskperiment Version: 0.3.0\n",
      "2019-02-26 06:26:15,245 [daskperiment.environment.environment] [INFO] Daskperiment Path: /Users/sinhrks/Git/daskperiment/daskperiment\n",
      "2019-02-26 06:26:15,248 [daskperiment.environment.environment] [INFO] Working Directory: /Users/sinhrks/Git/daskperiment/notebook\n",
      "2019-02-26 06:26:15,250 [daskperiment.environment.environment] [INFO] Git Repository: /Users/sinhrks/Git/daskperiment\n",
      "2019-02-26 06:26:15,252 [daskperiment.environment.environment] [INFO] Git Active Branch: env_enh\n",
      "2019-02-26 06:26:15,253 [daskperiment.environment.environment] [INFO] Git HEAD Commit: 97bf82fd70ab657b5d54fe2f25aef10d57dce33a\n",
      "2019-02-26 06:26:15,256 [daskperiment.environment.environment] [INFO] Number of installed Python packages: 349\n"
     ]
    },
    {
     "data": {
      "text/plain": [
       "Experiment(id: quickstart_pj, trial_id: 0, backend: LocalBackend('daskperiment_cache/quickstart_pj'))"
      ]
     },
     "execution_count": 2,
     "metadata": {},
     "output_type": "execute_result"
    }
   ],
   "source": [
    "ex = daskperiment.Experiment(id='quickstart_pj')\n",
    "ex"
   ]
  },
  {
   "cell_type": "markdown",
   "metadata": {},
   "source": [
    "Then, use `Experiment.parameter` method to define parameters (input variables for the experiment). The actual value of each parameter can be changed in every trial."
   ]
  },
  {
   "cell_type": "code",
   "execution_count": 3,
   "metadata": {
    "collapsed": false
   },
   "outputs": [
    {
     "data": {
      "text/plain": [
       "Parameter(a: Undefined)"
      ]
     },
     "execution_count": 3,
     "metadata": {},
     "output_type": "execute_result"
    }
   ],
   "source": [
    "a = ex.parameter('a')\n",
    "b = ex.parameter('b')\n",
    "a"
   ]
  },
  {
   "cell_type": "markdown",
   "metadata": {},
   "source": [
    "Next, you can define each experiment step (function) by decorating with `Experiment` instance (`@ex`).\n",
    "\n",
    "Note that the function to output the final result (mostly objective value to be minimized or maximized) must be decorated with `Experiment.result`. The chain of these functions are expressed as `Dask.Delayed` instance."
   ]
  },
  {
   "cell_type": "code",
   "execution_count": 4,
   "metadata": {
    "collapsed": false,
    "scrolled": false
   },
   "outputs": [
    {
     "data": {
      "text/plain": [
       "Delayed('calculate_score-29c0b09f-f81b-4033-b63b-56dd27a5ddd5')"
      ]
     },
     "execution_count": 4,
     "metadata": {},
     "output_type": "execute_result"
    }
   ],
   "source": [
    "@ex\n",
    "def prepare_data(a, b):\n",
    "    return a + b \n",
    "\n",
    "@ex.result\n",
    "def calculate_score(s):\n",
    "    return 10 / s\n",
    "\n",
    "d = prepare_data(a, b)\n",
    "s = calculate_score(d)\n",
    "s"
   ]
  },
  {
   "cell_type": "markdown",
   "metadata": {},
   "source": [
    "Thus, you can visualize computation graph via `.visualize` method."
   ]
  },
  {
   "cell_type": "code",
   "execution_count": 5,
   "metadata": {
    "collapsed": false
   },
   "outputs": [
    {
     "data": {
      "image/png": "[encoded data removed]",
      "text/plain": [
       "<IPython.core.display.Image object>"
      ]
     },
     "execution_count": 5,
     "metadata": {},
     "output_type": "execute_result"
    }
   ],
   "source": [
    "s.visualize()"
   ]
  },
  {
   "cell_type": "markdown",
   "metadata": {},
   "source": [
    "Use `Experiment.set_parameters` method to set parameters for a trial. After setting parameters, `Parameter` variable and experiment result will be computable.\n",
    "\n",
    "Parameters are recommended to be a scalar (or lightweight value) because these are stored as history (for example, passing filename as a parameter is　preffered rather than passing `DataFrame`)."
   ]
  },
  {
   "cell_type": "code",
   "execution_count": 6,
   "metadata": {
    "collapsed": false,
    "scrolled": false
   },
   "outputs": [
    {
     "name": "stderr",
     "output_type": "stream",
     "text": [
      "2019-02-26 06:26:16,213 [daskperiment.core.parameter] [INFO] Updated parameters: a=1<class 'int'>, b=2<class 'int'>\n"
     ]
    },
    {
     "data": {
      "text/plain": [
       "1"
      ]
     },
     "execution_count": 6,
     "metadata": {},
     "output_type": "execute_result"
    }
   ],
   "source": [
    "ex.set_parameters(a=1, b=2)\n",
    "a.compute()"
   ]
  },
  {
   "cell_type": "code",
   "execution_count": 7,
   "metadata": {
    "collapsed": false
   },
   "outputs": [
    {
     "name": "stderr",
     "output_type": "stream",
     "text": [
      "2019-02-26 06:26:16,231 [daskperiment.core.trial] [INFO] Started Experiment (trial id=1)\n",
      "2019-02-26 06:26:16,234 [daskperiment.core.experiment] [INFO] Target: calculate_score-29c0b09f-f81b-4033-b63b-56dd27a5ddd5\n",
      "2019-02-26 06:26:16,249 [daskperiment.core.experiment] [INFO] Random seed is not provided, initialized with generated seed: 1401499599\n",
      "2019-02-26 06:26:16,250 [daskperiment.core.trial] [INFO] Parameters: a=1<class 'int'>, b=2<class 'int'>\n",
      "2019-02-26 06:26:16,254 [daskperiment.core.code] [INFO] Saving code context: daskperiment_cache/quickstart_pj/code/quickstart_pj_1.py\n",
      "2019-02-26 06:26:16,261 [daskperiment.environment.environment] [INFO] Saving platform info: daskperiment_cache/quickstart_pj/environment/platform_quickstart_pj_1.json\n",
      "2019-02-26 06:26:16,264 [daskperiment.environment.environment] [INFO] Saving cpu info: daskperiment_cache/quickstart_pj/environment/cpu_quickstart_pj_1.json\n",
      "2019-02-26 06:26:16,294 [daskperiment.environment.environment] [INFO] Saving python info: daskperiment_cache/quickstart_pj/environment/python_quickstart_pj_1.json\n",
      "2019-02-26 06:26:16,315 [daskperiment.environment.environment] [INFO] Saving numpy info: daskperiment_cache/quickstart_pj/environment/numpy_quickstart_pj_1.txt\n",
      "2019-02-26 06:26:16,327 [daskperiment.environment.environment] [INFO] Saving scipy info: daskperiment_cache/quickstart_pj/environment/scipy_quickstart_pj_1.txt\n",
      "2019-02-26 06:26:16,331 [daskperiment.environment.environment] [INFO] Saving pandas info: daskperiment_cache/quickstart_pj/environment/pandas_quickstart_pj_1.txt\n",
      "2019-02-26 06:26:16,335 [daskperiment.environment.environment] [INFO] Saving conda info: daskperiment_cache/quickstart_pj/environment/conda_quickstart_pj_1.txt\n",
      "2019-02-26 06:26:16,338 [daskperiment.environment.environment] [INFO] Saving git info: daskperiment_cache/quickstart_pj/environment/git_quickstart_pj_1.json\n",
      "2019-02-26 06:26:16,341 [daskperiment.environment.environment] [INFO] Saving requirements info: daskperiment_cache/quickstart_pj/environment/requirements_quickstart_pj_1.txt\n",
      "2019-02-26 06:26:16,353 [daskperiment.core.trial] [INFO] Finished Experiment (trial id=1)\n",
      "2019-02-26 06:26:16,358 [daskperiment.backend.local] [INFO] Saving Experiment to file: daskperiment_cache/quickstart_pj/quickstart_pj.pkl\n"
     ]
    },
    {
     "data": {
      "text/plain": [
       "3.3333333333333335"
      ]
     },
     "execution_count": 7,
     "metadata": {},
     "output_type": "execute_result"
    }
   ],
   "source": [
    "s.compute()"
   ]
  },
  {
   "cell_type": "markdown",
   "metadata": {},
   "source": [
    "You can update any parameters for next trial. Every trials can be distinguished by trial id."
   ]
  },
  {
   "cell_type": "code",
   "execution_count": 8,
   "metadata": {
    "collapsed": false,
    "scrolled": false
   },
   "outputs": [
    {
     "name": "stderr",
     "output_type": "stream",
     "text": [
      "2019-02-26 06:26:16,375 [daskperiment.core.parameter] [INFO] Updated parameters: a=1<class 'int'>, b=3<class 'int'>\n",
      "2019-02-26 06:26:16,379 [daskperiment.core.trial] [INFO] Started Experiment (trial id=2)\n",
      "2019-02-26 06:26:16,383 [daskperiment.core.experiment] [INFO] Target: calculate_score-29c0b09f-f81b-4033-b63b-56dd27a5ddd5\n",
      "2019-02-26 06:26:16,386 [daskperiment.core.experiment] [INFO] Random seed is not provided, initialized with generated seed: 59447886\n",
      "2019-02-26 06:26:16,389 [daskperiment.core.trial] [INFO] Parameters: a=1<class 'int'>, b=3<class 'int'>\n",
      "2019-02-26 06:26:16,392 [daskperiment.core.code] [INFO] Saving code context: daskperiment_cache/quickstart_pj/code/quickstart_pj_2.py\n",
      "2019-02-26 06:26:16,394 [daskperiment.environment.environment] [INFO] Saving platform info: daskperiment_cache/quickstart_pj/environment/platform_quickstart_pj_2.json\n",
      "2019-02-26 06:26:16,397 [daskperiment.environment.environment] [INFO] Saving cpu info: daskperiment_cache/quickstart_pj/environment/cpu_quickstart_pj_2.json\n",
      "2019-02-26 06:26:16,399 [daskperiment.environment.environment] [INFO] Saving python info: daskperiment_cache/quickstart_pj/environment/python_quickstart_pj_2.json\n",
      "2019-02-26 06:26:16,402 [daskperiment.environment.environment] [INFO] Saving numpy info: daskperiment_cache/quickstart_pj/environment/numpy_quickstart_pj_2.txt\n",
      "2019-02-26 06:26:16,405 [daskperiment.environment.environment] [INFO] Saving scipy info: daskperiment_cache/quickstart_pj/environment/scipy_quickstart_pj_2.txt\n",
      "2019-02-26 06:26:16,409 [daskperiment.environment.environment] [INFO] Saving pandas info: daskperiment_cache/quickstart_pj/environment/pandas_quickstart_pj_2.txt\n",
      "2019-02-26 06:26:16,411 [daskperiment.environment.environment] [INFO] Saving conda info: daskperiment_cache/quickstart_pj/environment/conda_quickstart_pj_2.txt\n",
      "2019-02-26 06:26:16,414 [daskperiment.environment.environment] [INFO] Saving git info: daskperiment_cache/quickstart_pj/environment/git_quickstart_pj_2.json\n",
      "2019-02-26 06:26:16,418 [daskperiment.environment.environment] [INFO] Saving requirements info: daskperiment_cache/quickstart_pj/environment/requirements_quickstart_pj_2.txt\n",
      "2019-02-26 06:26:16,422 [daskperiment.core.trial] [INFO] Finished Experiment (trial id=2)\n",
      "2019-02-26 06:26:16,423 [daskperiment.backend.local] [INFO] Saving Experiment to file: daskperiment_cache/quickstart_pj/quickstart_pj.pkl\n"
     ]
    },
    {
     "data": {
      "text/plain": [
       "2.5"
      ]
     },
     "execution_count": 8,
     "metadata": {},
     "output_type": "execute_result"
    }
   ],
   "source": [
    "ex.set_parameters(b=3)\n",
    "s.compute()"
   ]
  },
  {
   "cell_type": "code",
   "execution_count": 9,
   "metadata": {
    "collapsed": false
   },
   "outputs": [
    {
     "data": {
      "text/html": [
       "<div>\n",
       "<style scoped>\n",
       "    .dataframe tbody tr th:only-of-type {\n",
       "        vertical-align: middle;\n",
       "    }\n",
       "\n",
       "    .dataframe tbody tr th {\n",
       "        vertical-align: top;\n",
       "    }\n",
       "\n",
       "    .dataframe thead th {\n",
       "        text-align: right;\n",
       "    }\n",
       "</style>\n",
       "<table border=\"1\" class=\"dataframe\">\n",
       "  <thead>\n",
       "    <tr style=\"text-align: right;\">\n",
       "      <th></th>\n",
       "      <th>a</th>\n",
       "      <th>b</th>\n",
       "      <th>Result</th>\n",
       "      <th>Success</th>\n",
       "      <th>Finished</th>\n",
       "      <th>Process Time</th>\n",
       "      <th>Description</th>\n",
       "    </tr>\n",
       "    <tr>\n",
       "      <th>Trial ID</th>\n",
       "      <th></th>\n",
       "      <th></th>\n",
       "      <th></th>\n",
       "      <th></th>\n",
       "      <th></th>\n",
       "      <th></th>\n",
       "      <th></th>\n",
       "    </tr>\n",
       "  </thead>\n",
       "  <tbody>\n",
       "    <tr>\n",
       "      <th>1</th>\n",
       "      <td>1</td>\n",
       "      <td>2</td>\n",
       "      <td>3.333333</td>\n",
       "      <td>True</td>\n",
       "      <td>2019-02-26 06:26:16.353470</td>\n",
       "      <td>00:00:00.121565</td>\n",
       "      <td>NaN</td>\n",
       "    </tr>\n",
       "    <tr>\n",
       "      <th>2</th>\n",
       "      <td>1</td>\n",
       "      <td>3</td>\n",
       "      <td>2.500000</td>\n",
       "      <td>True</td>\n",
       "      <td>2019-02-26 06:26:16.422238</td>\n",
       "      <td>00:00:00.042741</td>\n",
       "      <td>NaN</td>\n",
       "    </tr>\n",
       "  </tbody>\n",
       "</table>\n",
       "</div>"
      ],
      "text/plain": [
       "          a  b    Result  Success                   Finished    Process Time  \\\n",
       "Trial ID                                                                       \n",
       "1         1  2  3.333333     True 2019-02-26 06:26:16.353470 00:00:00.121565   \n",
       "2         1  3  2.500000     True 2019-02-26 06:26:16.422238 00:00:00.042741   \n",
       "\n",
       "          Description  \n",
       "Trial ID               \n",
       "1                 NaN  \n",
       "2                 NaN  "
      ]
     },
     "execution_count": 9,
     "metadata": {},
     "output_type": "execute_result"
    }
   ],
   "source": [
    "ex.get_history()"
   ]
  },
  {
   "cell_type": "markdown",
   "metadata": {},
   "source": [
    "After some trials, you can retrieve parameter values specifying trial id."
   ]
  },
  {
   "cell_type": "code",
   "execution_count": 10,
   "metadata": {
    "collapsed": false,
    "scrolled": true
   },
   "outputs": [
    {
     "data": {
      "text/plain": [
       "{'a': 1, 'b': 2}"
      ]
     },
     "execution_count": 10,
     "metadata": {},
     "output_type": "execute_result"
    }
   ],
   "source": [
    "ex.get_parameters(trial_id=1)"
   ]
  },
  {
   "cell_type": "code",
   "execution_count": 11,
   "metadata": {
    "collapsed": false
   },
   "outputs": [
    {
     "data": {
      "text/plain": [
       "{'a': 1, 'b': 3}"
      ]
     },
     "execution_count": 11,
     "metadata": {},
     "output_type": "execute_result"
    }
   ],
   "source": [
    "ex.get_parameters(trial_id=2)"
   ]
  },
  {
   "cell_type": "markdown",
   "metadata": {},
   "source": [
    "`Experiment.get_history` will return a `DataFrame` which stores a history of trial parameters and its results. You can select desirable trial using `pandas` basic operation."
   ]
  },
  {
   "cell_type": "code",
   "execution_count": 12,
   "metadata": {
    "collapsed": false,
    "scrolled": false
   },
   "outputs": [
    {
     "data": {
      "text/html": [
       "<div>\n",
       "<style scoped>\n",
       "    .dataframe tbody tr th:only-of-type {\n",
       "        vertical-align: middle;\n",
       "    }\n",
       "\n",
       "    .dataframe tbody tr th {\n",
       "        vertical-align: top;\n",
       "    }\n",
       "\n",
       "    .dataframe thead th {\n",
       "        text-align: right;\n",
       "    }\n",
       "</style>\n",
       "<table border=\"1\" class=\"dataframe\">\n",
       "  <thead>\n",
       "    <tr style=\"text-align: right;\">\n",
       "      <th></th>\n",
       "      <th>a</th>\n",
       "      <th>b</th>\n",
       "      <th>Result</th>\n",
       "      <th>Success</th>\n",
       "      <th>Finished</th>\n",
       "      <th>Process Time</th>\n",
       "      <th>Description</th>\n",
       "    </tr>\n",
       "    <tr>\n",
       "      <th>Trial ID</th>\n",
       "      <th></th>\n",
       "      <th></th>\n",
       "      <th></th>\n",
       "      <th></th>\n",
       "      <th></th>\n",
       "      <th></th>\n",
       "      <th></th>\n",
       "    </tr>\n",
       "  </thead>\n",
       "  <tbody>\n",
       "    <tr>\n",
       "      <th>1</th>\n",
       "      <td>1</td>\n",
       "      <td>2</td>\n",
       "      <td>3.333333</td>\n",
       "      <td>True</td>\n",
       "      <td>2019-02-26 06:26:16.353470</td>\n",
       "      <td>00:00:00.121565</td>\n",
       "      <td>NaN</td>\n",
       "    </tr>\n",
       "    <tr>\n",
       "      <th>2</th>\n",
       "      <td>1</td>\n",
       "      <td>3</td>\n",
       "      <td>2.500000</td>\n",
       "      <td>True</td>\n",
       "      <td>2019-02-26 06:26:16.422238</td>\n",
       "      <td>00:00:00.042741</td>\n",
       "      <td>NaN</td>\n",
       "    </tr>\n",
       "  </tbody>\n",
       "</table>\n",
       "</div>"
      ],
      "text/plain": [
       "          a  b    Result  Success                   Finished    Process Time  \\\n",
       "Trial ID                                                                       \n",
       "1         1  2  3.333333     True 2019-02-26 06:26:16.353470 00:00:00.121565   \n",
       "2         1  3  2.500000     True 2019-02-26 06:26:16.422238 00:00:00.042741   \n",
       "\n",
       "          Description  \n",
       "Trial ID               \n",
       "1                 NaN  \n",
       "2                 NaN  "
      ]
     },
     "execution_count": 12,
     "metadata": {},
     "output_type": "execute_result"
    }
   ],
   "source": [
    "ex.get_history()"
   ]
  },
  {
   "cell_type": "markdown",
   "metadata": {},
   "source": [
    "When any error occurs during the trial, `Experiment` instance stores the log as failed trial. The \"Description\" column contains the error detail."
   ]
  },
  {
   "cell_type": "code",
   "execution_count": 13,
   "metadata": {
    "collapsed": false
   },
   "outputs": [
    {
     "name": "stderr",
     "output_type": "stream",
     "text": [
      "2019-02-26 06:26:16,648 [daskperiment.core.parameter] [INFO] Updated parameters: a=1<class 'int'>, b=-1<class 'int'>\n",
      "2019-02-26 06:26:16,653 [daskperiment.core.trial] [INFO] Started Experiment (trial id=3)\n",
      "2019-02-26 06:26:16,655 [daskperiment.core.experiment] [INFO] Target: calculate_score-29c0b09f-f81b-4033-b63b-56dd27a5ddd5\n",
      "2019-02-26 06:26:16,657 [daskperiment.core.experiment] [INFO] Random seed is not provided, initialized with generated seed: 2155996258\n",
      "2019-02-26 06:26:16,659 [daskperiment.core.trial] [INFO] Parameters: a=1<class 'int'>, b=-1<class 'int'>\n",
      "2019-02-26 06:26:16,664 [daskperiment.core.code] [INFO] Saving code context: daskperiment_cache/quickstart_pj/code/quickstart_pj_3.py\n",
      "2019-02-26 06:26:16,671 [daskperiment.environment.environment] [INFO] Saving platform info: daskperiment_cache/quickstart_pj/environment/platform_quickstart_pj_3.json\n",
      "2019-02-26 06:26:16,674 [daskperiment.environment.environment] [INFO] Saving cpu info: daskperiment_cache/quickstart_pj/environment/cpu_quickstart_pj_3.json\n",
      "2019-02-26 06:26:16,678 [daskperiment.environment.environment] [INFO] Saving python info: daskperiment_cache/quickstart_pj/environment/python_quickstart_pj_3.json\n",
      "2019-02-26 06:26:16,725 [daskperiment.environment.environment] [INFO] Saving numpy info: daskperiment_cache/quickstart_pj/environment/numpy_quickstart_pj_3.txt\n",
      "2019-02-26 06:26:16,728 [daskperiment.environment.environment] [INFO] Saving scipy info: daskperiment_cache/quickstart_pj/environment/scipy_quickstart_pj_3.txt\n",
      "2019-02-26 06:26:16,732 [daskperiment.environment.environment] [INFO] Saving pandas info: daskperiment_cache/quickstart_pj/environment/pandas_quickstart_pj_3.txt\n",
      "2019-02-26 06:26:16,736 [daskperiment.environment.environment] [INFO] Saving conda info: daskperiment_cache/quickstart_pj/environment/conda_quickstart_pj_3.txt\n",
      "2019-02-26 06:26:16,740 [daskperiment.environment.environment] [INFO] Saving git info: daskperiment_cache/quickstart_pj/environment/git_quickstart_pj_3.json\n",
      "2019-02-26 06:26:16,746 [daskperiment.environment.environment] [INFO] Saving requirements info: daskperiment_cache/quickstart_pj/environment/requirements_quickstart_pj_3.txt\n",
      "2019-02-26 06:26:16,755 [daskperiment.core.experiment] [ERROR] Experiment failed: ZeroDivisionError(division by zero)\n",
      "2019-02-26 06:26:16,757 [daskperiment.core.trial] [INFO] Finished Experiment (trial id=3)\n",
      "2019-02-26 06:26:16,761 [daskperiment.backend.local] [INFO] Saving Experiment to file: daskperiment_cache/quickstart_pj/quickstart_pj.pkl\n"
     ]
    },
    {
     "name": "stdout",
     "output_type": "stream",
     "text": [
      "ZeroDivisionError(division by zero)\n"
     ]
    }
   ],
   "source": [
    "ex.set_parameters(a=1, b=-1)\n",
    "try:\n",
    "    s.compute()\n",
    "    \n",
    "except ZeroDivisionError as e:\n",
    "    # To hide stack trace\n",
    "    print('{}({})'.format(e.__class__.__name__, e))"
   ]
  },
  {
   "cell_type": "code",
   "execution_count": 14,
   "metadata": {
    "collapsed": false
   },
   "outputs": [
    {
     "data": {
      "text/html": [
       "<div>\n",
       "<style scoped>\n",
       "    .dataframe tbody tr th:only-of-type {\n",
       "        vertical-align: middle;\n",
       "    }\n",
       "\n",
       "    .dataframe tbody tr th {\n",
       "        vertical-align: top;\n",
       "    }\n",
       "\n",
       "    .dataframe thead th {\n",
       "        text-align: right;\n",
       "    }\n",
       "</style>\n",
       "<table border=\"1\" class=\"dataframe\">\n",
       "  <thead>\n",
       "    <tr style=\"text-align: right;\">\n",
       "      <th></th>\n",
       "      <th>a</th>\n",
       "      <th>b</th>\n",
       "      <th>Result</th>\n",
       "      <th>Success</th>\n",
       "      <th>Finished</th>\n",
       "      <th>Process Time</th>\n",
       "      <th>Description</th>\n",
       "    </tr>\n",
       "    <tr>\n",
       "      <th>Trial ID</th>\n",
       "      <th></th>\n",
       "      <th></th>\n",
       "      <th></th>\n",
       "      <th></th>\n",
       "      <th></th>\n",
       "      <th></th>\n",
       "      <th></th>\n",
       "    </tr>\n",
       "  </thead>\n",
       "  <tbody>\n",
       "    <tr>\n",
       "      <th>1</th>\n",
       "      <td>1</td>\n",
       "      <td>2</td>\n",
       "      <td>3.333333</td>\n",
       "      <td>True</td>\n",
       "      <td>2019-02-26 06:26:16.353470</td>\n",
       "      <td>00:00:00.121565</td>\n",
       "      <td>NaN</td>\n",
       "    </tr>\n",
       "    <tr>\n",
       "      <th>2</th>\n",
       "      <td>1</td>\n",
       "      <td>3</td>\n",
       "      <td>2.500000</td>\n",
       "      <td>True</td>\n",
       "      <td>2019-02-26 06:26:16.422238</td>\n",
       "      <td>00:00:00.042741</td>\n",
       "      <td>NaN</td>\n",
       "    </tr>\n",
       "    <tr>\n",
       "      <th>3</th>\n",
       "      <td>1</td>\n",
       "      <td>-1</td>\n",
       "      <td>NaN</td>\n",
       "      <td>False</td>\n",
       "      <td>2019-02-26 06:26:16.757067</td>\n",
       "      <td>00:00:00.104169</td>\n",
       "      <td>ZeroDivisionError(division by zero)</td>\n",
       "    </tr>\n",
       "  </tbody>\n",
       "</table>\n",
       "</div>"
      ],
      "text/plain": [
       "          a  b    Result  Success                   Finished    Process Time  \\\n",
       "Trial ID                                                                       \n",
       "1         1  2  3.333333     True 2019-02-26 06:26:16.353470 00:00:00.121565   \n",
       "2         1  3  2.500000     True 2019-02-26 06:26:16.422238 00:00:00.042741   \n",
       "3         1 -1       NaN    False 2019-02-26 06:26:16.757067 00:00:00.104169   \n",
       "\n",
       "                                  Description  \n",
       "Trial ID                                       \n",
       "1                                         NaN  \n",
       "2                                         NaN  \n",
       "3         ZeroDivisionError(division by zero)  "
      ]
     },
     "execution_count": 14,
     "metadata": {},
     "output_type": "execute_result"
    }
   ],
   "source": [
    "ex.get_history()"
   ]
  },
  {
   "cell_type": "markdown",
   "metadata": {},
   "source": [
    "Every time the computation performed, `Experiment` instance is automatically saved to specified cache directory. When `Experiment` instance is initialized, it automatically load previous trials (check trial id in the log)."
   ]
  },
  {
   "cell_type": "markdown",
   "metadata": {},
   "source": [
    "# Handling intermediate result"
   ]
  },
  {
   "cell_type": "markdown",
   "metadata": {},
   "source": [
    "Next example shows how to retrieve an intermediate result of the chain.\n",
    "\n",
    "The only difference is using `Experiment.persist` decorator. It makes `Experiment` instance to keep the decorated function's intermediate result. After definition, rebuilt the same workflow using the persisted function. \n",
    "\n",
    "Note that an intermediate result is saved as a pickle file named with its function name, function name must be unique in the experiment."
   ]
  },
  {
   "cell_type": "code",
   "execution_count": 15,
   "metadata": {
    "collapsed": false,
    "scrolled": true
   },
   "outputs": [
    {
     "name": "stderr",
     "output_type": "stream",
     "text": [
      "2019-02-26 06:26:16,861 [daskperiment.core.code] [WARNING] Code context has been changed: prepare_data\n",
      "2019-02-26 06:26:16,865 [daskperiment.core.code] [WARNING] @@ -1,3 +1,3 @@\n",
      "\n",
      "2019-02-26 06:26:16,868 [daskperiment.core.code] [WARNING] -@ex\n",
      "2019-02-26 06:26:16,869 [daskperiment.core.code] [WARNING] +@ex.persist\n",
      "2019-02-26 06:26:16,874 [daskperiment.core.code] [WARNING]  def prepare_data(a, b):\n",
      "2019-02-26 06:26:16,877 [daskperiment.core.code] [WARNING] -    return a + b \n",
      "2019-02-26 06:26:16,879 [daskperiment.core.code] [WARNING] +    return a + b\n"
     ]
    }
   ],
   "source": [
    "@ex.persist\n",
    "def prepare_data(a, b):\n",
    "    return a + b\n",
    "\n",
    "d = prepare_data(a, b)\n",
    "s = calculate_score(d)"
   ]
  },
  {
   "cell_type": "markdown",
   "metadata": {},
   "source": [
    "NOTE: Also, you can notice that `daskperiment` outputs some \"WARNING\" indicating code contexts has been changed. It's because `daskperiment` automatically tracks code context to guarantee reproducibility.\n",
    "\n",
    "Let's perform some trials."
   ]
  },
  {
   "cell_type": "code",
   "execution_count": 16,
   "metadata": {
    "collapsed": false
   },
   "outputs": [
    {
     "name": "stderr",
     "output_type": "stream",
     "text": [
      "2019-02-26 06:26:16,893 [daskperiment.core.parameter] [INFO] Updated parameters: a=1<class 'int'>, b=2<class 'int'>\n",
      "2019-02-26 06:26:16,898 [daskperiment.core.trial] [INFO] Started Experiment (trial id=4)\n",
      "2019-02-26 06:26:16,899 [daskperiment.core.experiment] [INFO] Target: calculate_score-6ac15a34-0b41-4164-834c-6fa53a3550a2\n",
      "2019-02-26 06:26:16,902 [daskperiment.core.experiment] [INFO] Random seed is not provided, initialized with generated seed: 3007295486\n",
      "2019-02-26 06:26:16,904 [daskperiment.core.trial] [INFO] Parameters: a=1<class 'int'>, b=2<class 'int'>\n",
      "2019-02-26 06:26:16,907 [daskperiment.core.code] [INFO] Saving code context: daskperiment_cache/quickstart_pj/code/quickstart_pj_4.py\n",
      "2019-02-26 06:26:16,910 [daskperiment.environment.environment] [INFO] Saving platform info: daskperiment_cache/quickstart_pj/environment/platform_quickstart_pj_4.json\n",
      "2019-02-26 06:26:16,914 [daskperiment.environment.environment] [INFO] Saving cpu info: daskperiment_cache/quickstart_pj/environment/cpu_quickstart_pj_4.json\n",
      "2019-02-26 06:26:16,917 [daskperiment.environment.environment] [INFO] Saving python info: daskperiment_cache/quickstart_pj/environment/python_quickstart_pj_4.json\n",
      "2019-02-26 06:26:16,921 [daskperiment.environment.environment] [INFO] Saving numpy info: daskperiment_cache/quickstart_pj/environment/numpy_quickstart_pj_4.txt\n",
      "2019-02-26 06:26:16,924 [daskperiment.environment.environment] [INFO] Saving scipy info: daskperiment_cache/quickstart_pj/environment/scipy_quickstart_pj_4.txt\n",
      "2019-02-26 06:26:16,926 [daskperiment.environment.environment] [INFO] Saving pandas info: daskperiment_cache/quickstart_pj/environment/pandas_quickstart_pj_4.txt\n",
      "2019-02-26 06:26:16,930 [daskperiment.environment.environment] [INFO] Saving conda info: daskperiment_cache/quickstart_pj/environment/conda_quickstart_pj_4.txt\n",
      "2019-02-26 06:26:16,933 [daskperiment.environment.environment] [INFO] Saving git info: daskperiment_cache/quickstart_pj/environment/git_quickstart_pj_4.json\n",
      "2019-02-26 06:26:16,936 [daskperiment.environment.environment] [INFO] Saving requirements info: daskperiment_cache/quickstart_pj/environment/requirements_quickstart_pj_4.txt\n",
      "2019-02-26 06:26:16,944 [daskperiment.core.trial] [INFO] Finished Experiment (trial id=4)\n",
      "2019-02-26 06:26:16,946 [daskperiment.backend.local] [INFO] Saving Experiment to file: daskperiment_cache/quickstart_pj/quickstart_pj.pkl\n"
     ]
    },
    {
     "data": {
      "text/plain": [
       "3.3333333333333335"
      ]
     },
     "execution_count": 16,
     "metadata": {},
     "output_type": "execute_result"
    }
   ],
   "source": [
    "ex.set_parameters(a=1, b=2)\n",
    "s.compute()"
   ]
  },
  {
   "cell_type": "code",
   "execution_count": 17,
   "metadata": {
    "collapsed": false
   },
   "outputs": [
    {
     "name": "stderr",
     "output_type": "stream",
     "text": [
      "2019-02-26 06:26:16,973 [daskperiment.core.parameter] [INFO] Updated parameters: a=3<class 'int'>, b=2<class 'int'>\n",
      "2019-02-26 06:26:16,977 [daskperiment.core.trial] [INFO] Started Experiment (trial id=5)\n",
      "2019-02-26 06:26:16,979 [daskperiment.core.experiment] [INFO] Target: calculate_score-6ac15a34-0b41-4164-834c-6fa53a3550a2\n",
      "2019-02-26 06:26:16,983 [daskperiment.core.experiment] [INFO] Random seed is not provided, initialized with generated seed: 1867022954\n",
      "2019-02-26 06:26:16,988 [daskperiment.core.trial] [INFO] Parameters: a=3<class 'int'>, b=2<class 'int'>\n",
      "2019-02-26 06:26:16,990 [daskperiment.core.code] [INFO] Saving code context: daskperiment_cache/quickstart_pj/code/quickstart_pj_5.py\n",
      "2019-02-26 06:26:16,997 [daskperiment.environment.environment] [INFO] Saving platform info: daskperiment_cache/quickstart_pj/environment/platform_quickstart_pj_5.json\n",
      "2019-02-26 06:26:17,007 [daskperiment.environment.environment] [INFO] Saving cpu info: daskperiment_cache/quickstart_pj/environment/cpu_quickstart_pj_5.json\n",
      "2019-02-26 06:26:17,014 [daskperiment.environment.environment] [INFO] Saving python info: daskperiment_cache/quickstart_pj/environment/python_quickstart_pj_5.json\n",
      "2019-02-26 06:26:17,018 [daskperiment.environment.environment] [INFO] Saving numpy info: daskperiment_cache/quickstart_pj/environment/numpy_quickstart_pj_5.txt\n",
      "2019-02-26 06:26:17,024 [daskperiment.environment.environment] [INFO] Saving scipy info: daskperiment_cache/quickstart_pj/environment/scipy_quickstart_pj_5.txt\n",
      "2019-02-26 06:26:17,029 [daskperiment.environment.environment] [INFO] Saving pandas info: daskperiment_cache/quickstart_pj/environment/pandas_quickstart_pj_5.txt\n",
      "2019-02-26 06:26:17,032 [daskperiment.environment.environment] [INFO] Saving conda info: daskperiment_cache/quickstart_pj/environment/conda_quickstart_pj_5.txt\n",
      "2019-02-26 06:26:17,042 [daskperiment.environment.environment] [INFO] Saving git info: daskperiment_cache/quickstart_pj/environment/git_quickstart_pj_5.json\n",
      "2019-02-26 06:26:17,049 [daskperiment.environment.environment] [INFO] Saving requirements info: daskperiment_cache/quickstart_pj/environment/requirements_quickstart_pj_5.txt\n",
      "2019-02-26 06:26:17,079 [daskperiment.core.trial] [INFO] Finished Experiment (trial id=5)\n",
      "2019-02-26 06:26:17,084 [daskperiment.backend.local] [INFO] Saving Experiment to file: daskperiment_cache/quickstart_pj/quickstart_pj.pkl\n"
     ]
    },
    {
     "data": {
      "text/plain": [
       "2.0"
      ]
     },
     "execution_count": 17,
     "metadata": {},
     "output_type": "execute_result"
    }
   ],
   "source": [
    "ex.set_parameters(a=3, b=2)\n",
    "s.compute()"
   ]
  },
  {
   "cell_type": "markdown",
   "metadata": {},
   "source": [
    "You can retrieve intermediate results via `Experiment.get_persisted` method by specifying function name and trial id."
   ]
  },
  {
   "cell_type": "code",
   "execution_count": 18,
   "metadata": {
    "collapsed": false
   },
   "outputs": [
    {
     "data": {
      "text/plain": [
       "3"
      ]
     },
     "execution_count": 18,
     "metadata": {},
     "output_type": "execute_result"
    }
   ],
   "source": [
    "ex.get_persisted('prepare_data', trial_id=4)"
   ]
  },
  {
   "cell_type": "code",
   "execution_count": 19,
   "metadata": {
    "collapsed": false
   },
   "outputs": [
    {
     "data": {
      "text/plain": [
       "5"
      ]
     },
     "execution_count": 19,
     "metadata": {},
     "output_type": "execute_result"
    }
   ],
   "source": [
    "ex.get_persisted('prepare_data', trial_id=5)"
   ]
  },
  {
   "cell_type": "markdown",
   "metadata": {},
   "source": [
    "# Monitoring metrics"
   ]
  },
  {
   "cell_type": "markdown",
   "metadata": {},
   "source": [
    "You may need to monitor transition of some metrics during each trial. In each experiment function, you can call `Experiment.save_metric` to save metric with its key (name) and epoch."
   ]
  },
  {
   "cell_type": "code",
   "execution_count": 20,
   "metadata": {
    "collapsed": false,
    "scrolled": true
   },
   "outputs": [
    {
     "name": "stderr",
     "output_type": "stream",
     "text": [
      "2019-02-26 06:26:17,146 [daskperiment.core.code] [WARNING] Code context has been changed: calculate_score\n",
      "2019-02-26 06:26:17,148 [daskperiment.core.code] [WARNING] @@ -1,3 +1,6 @@\n",
      "\n",
      "2019-02-26 06:26:17,150 [daskperiment.core.code] [WARNING]  @ex.result\n",
      "2019-02-26 06:26:17,152 [daskperiment.core.code] [WARNING]  def calculate_score(s):\n",
      "2019-02-26 06:26:17,154 [daskperiment.core.code] [WARNING] +    for i in range(100):\n",
      "2019-02-26 06:26:17,157 [daskperiment.core.code] [WARNING] +        ex.save_metric('dummy_score', epoch=i, value=100 - np.random.random() * i)\n",
      "2019-02-26 06:26:17,161 [daskperiment.core.code] [WARNING] +        \n",
      "2019-02-26 06:26:17,163 [daskperiment.core.code] [WARNING]      return 10 / s\n"
     ]
    }
   ],
   "source": [
    "@ex.result\n",
    "def calculate_score(s):\n",
    "    for i in range(100):\n",
    "        ex.save_metric('dummy_score', epoch=i, value=100 - np.random.random() * i)\n",
    "        \n",
    "    return 10 / s\n",
    "\n",
    "d = prepare_data(a, b)\n",
    "s = calculate_score(d)"
   ]
  },
  {
   "cell_type": "code",
   "execution_count": 21,
   "metadata": {
    "collapsed": false,
    "scrolled": false
   },
   "outputs": [
    {
     "name": "stderr",
     "output_type": "stream",
     "text": [
      "2019-02-26 06:26:17,176 [daskperiment.core.parameter] [INFO] Updated parameters: a=1<class 'int'>, b=2<class 'int'>\n",
      "2019-02-26 06:26:17,179 [daskperiment.core.trial] [INFO] Started Experiment (trial id=6)\n",
      "2019-02-26 06:26:17,182 [daskperiment.core.experiment] [INFO] Target: calculate_score-0c1c4dd8-a97a-4aa7-a7a6-803a35e59360\n",
      "2019-02-26 06:26:17,183 [daskperiment.core.experiment] [INFO] Random seed is not provided, initialized with generated seed: 823656978\n",
      "2019-02-26 06:26:17,186 [daskperiment.core.trial] [INFO] Parameters: a=1<class 'int'>, b=2<class 'int'>\n",
      "2019-02-26 06:26:17,188 [daskperiment.core.code] [INFO] Saving code context: daskperiment_cache/quickstart_pj/code/quickstart_pj_6.py\n",
      "2019-02-26 06:26:17,191 [daskperiment.environment.environment] [INFO] Saving platform info: daskperiment_cache/quickstart_pj/environment/platform_quickstart_pj_6.json\n",
      "2019-02-26 06:26:17,193 [daskperiment.environment.environment] [INFO] Saving cpu info: daskperiment_cache/quickstart_pj/environment/cpu_quickstart_pj_6.json\n",
      "2019-02-26 06:26:17,196 [daskperiment.environment.environment] [INFO] Saving python info: daskperiment_cache/quickstart_pj/environment/python_quickstart_pj_6.json\n",
      "2019-02-26 06:26:17,199 [daskperiment.environment.environment] [INFO] Saving numpy info: daskperiment_cache/quickstart_pj/environment/numpy_quickstart_pj_6.txt\n",
      "2019-02-26 06:26:17,202 [daskperiment.environment.environment] [INFO] Saving scipy info: daskperiment_cache/quickstart_pj/environment/scipy_quickstart_pj_6.txt\n",
      "2019-02-26 06:26:17,205 [daskperiment.environment.environment] [INFO] Saving pandas info: daskperiment_cache/quickstart_pj/environment/pandas_quickstart_pj_6.txt\n",
      "2019-02-26 06:26:17,207 [daskperiment.environment.environment] [INFO] Saving conda info: daskperiment_cache/quickstart_pj/environment/conda_quickstart_pj_6.txt\n",
      "2019-02-26 06:26:17,210 [daskperiment.environment.environment] [INFO] Saving git info: daskperiment_cache/quickstart_pj/environment/git_quickstart_pj_6.json\n",
      "2019-02-26 06:26:17,213 [daskperiment.environment.environment] [INFO] Saving requirements info: daskperiment_cache/quickstart_pj/environment/requirements_quickstart_pj_6.txt\n",
      "2019-02-26 06:26:17,219 [daskperiment.core.trial] [INFO] Finished Experiment (trial id=6)\n",
      "2019-02-26 06:26:17,220 [daskperiment.backend.local] [INFO] Saving Experiment to file: daskperiment_cache/quickstart_pj/quickstart_pj.pkl\n"
     ]
    },
    {
     "data": {
      "text/plain": [
       "3.3333333333333335"
      ]
     },
     "execution_count": 21,
     "metadata": {},
     "output_type": "execute_result"
    }
   ],
   "source": [
    "ex.set_parameters(a=1, b=2)\n",
    "s.compute()"
   ]
  },
  {
   "cell_type": "markdown",
   "metadata": {},
   "source": [
    "After a trial, you can load saved metric using `Experiment.load_metric` specifying its name and trial_id. As it is returned as `DataFrame`, you can easily investigate it."
   ]
  },
  {
   "cell_type": "code",
   "execution_count": 22,
   "metadata": {
    "collapsed": false
   },
   "outputs": [
    {
     "name": "stdout",
     "output_type": "stream",
     "text": [
      "Trial ID           6\n",
      "Epoch               \n",
      "0         100.000000\n",
      "1          99.633795\n",
      "2          98.552278\n",
      "3          98.549316\n",
      "4          96.200352\n"
     ]
    }
   ],
   "source": [
    "dummy_score = ex.load_metric('dummy_score', trial_id=6)\n",
    "print(dummy_score.head())"
   ]
  },
  {
   "cell_type": "code",
   "execution_count": 23,
   "metadata": {
    "collapsed": false
   },
   "outputs": [
    {
     "data": {
      "text/plain": [
       "<matplotlib.axes._subplots.AxesSubplot at 0x123e5f470>"
      ]
     },
     "execution_count": 23,
     "metadata": {},
     "output_type": "execute_result"
    },
    {
     "data": {
      "image/png": "[encoded data removed]",
      "text/plain": [
       "<Figure size 432x288 with 1 Axes>"
      ]
     },
     "metadata": {
      "needs_background": "light"
     },
     "output_type": "display_data"
    }
   ],
   "source": [
    "dummy_score.plot()"
   ]
  },
  {
   "cell_type": "markdown",
   "metadata": {},
   "source": [
    "Perform another trial."
   ]
  },
  {
   "cell_type": "code",
   "execution_count": 24,
   "metadata": {
    "collapsed": false
   },
   "outputs": [
    {
     "name": "stderr",
     "output_type": "stream",
     "text": [
      "2019-02-26 06:26:17,733 [daskperiment.core.parameter] [INFO] Updated parameters: a=3<class 'int'>, b=4<class 'int'>\n",
      "2019-02-26 06:26:17,739 [daskperiment.core.trial] [INFO] Started Experiment (trial id=7)\n",
      "2019-02-26 06:26:17,742 [daskperiment.core.experiment] [INFO] Target: calculate_score-0c1c4dd8-a97a-4aa7-a7a6-803a35e59360\n",
      "2019-02-26 06:26:17,745 [daskperiment.core.experiment] [INFO] Random seed is not provided, initialized with generated seed: 1168589931\n",
      "2019-02-26 06:26:17,747 [daskperiment.core.trial] [INFO] Parameters: a=3<class 'int'>, b=4<class 'int'>\n",
      "2019-02-26 06:26:17,749 [daskperiment.core.code] [INFO] Saving code context: daskperiment_cache/quickstart_pj/code/quickstart_pj_7.py\n",
      "2019-02-26 06:26:17,751 [daskperiment.environment.environment] [INFO] Saving platform info: daskperiment_cache/quickstart_pj/environment/platform_quickstart_pj_7.json\n",
      "2019-02-26 06:26:17,754 [daskperiment.environment.environment] [INFO] Saving cpu info: daskperiment_cache/quickstart_pj/environment/cpu_quickstart_pj_7.json\n",
      "2019-02-26 06:26:17,757 [daskperiment.environment.environment] [INFO] Saving python info: daskperiment_cache/quickstart_pj/environment/python_quickstart_pj_7.json\n",
      "2019-02-26 06:26:17,762 [daskperiment.environment.environment] [INFO] Saving numpy info: daskperiment_cache/quickstart_pj/environment/numpy_quickstart_pj_7.txt\n",
      "2019-02-26 06:26:17,767 [daskperiment.environment.environment] [INFO] Saving scipy info: daskperiment_cache/quickstart_pj/environment/scipy_quickstart_pj_7.txt\n",
      "2019-02-26 06:26:17,769 [daskperiment.environment.environment] [INFO] Saving pandas info: daskperiment_cache/quickstart_pj/environment/pandas_quickstart_pj_7.txt\n",
      "2019-02-26 06:26:17,773 [daskperiment.environment.environment] [INFO] Saving conda info: daskperiment_cache/quickstart_pj/environment/conda_quickstart_pj_7.txt\n",
      "2019-02-26 06:26:17,778 [daskperiment.environment.environment] [INFO] Saving git info: daskperiment_cache/quickstart_pj/environment/git_quickstart_pj_7.json\n",
      "2019-02-26 06:26:17,781 [daskperiment.environment.environment] [INFO] Saving requirements info: daskperiment_cache/quickstart_pj/environment/requirements_quickstart_pj_7.txt\n",
      "2019-02-26 06:26:17,788 [daskperiment.core.trial] [INFO] Finished Experiment (trial id=7)\n",
      "2019-02-26 06:26:17,790 [daskperiment.backend.local] [INFO] Saving Experiment to file: daskperiment_cache/quickstart_pj/quickstart_pj.pkl\n"
     ]
    },
    {
     "data": {
      "text/plain": [
       "1.4285714285714286"
      ]
     },
     "execution_count": 24,
     "metadata": {},
     "output_type": "execute_result"
    }
   ],
   "source": [
    "ex.set_parameters(a=3, b=4)\n",
    "s.compute()"
   ]
  },
  {
   "cell_type": "markdown",
   "metadata": {},
   "source": [
    "To compare metrics between trials, pass multiple trial ids to `Experiment.load_metric`."
   ]
  },
  {
   "cell_type": "code",
   "execution_count": 25,
   "metadata": {
    "collapsed": false
   },
   "outputs": [
    {
     "data": {
      "text/plain": [
       "<matplotlib.axes._subplots.AxesSubplot at 0x12418ec50>"
      ]
     },
     "execution_count": 25,
     "metadata": {},
     "output_type": "execute_result"
    },
    {
     "data": {
      "image/png": "[encoded data removed]",
      "text/plain": [
       "<Figure size 432x288 with 1 Axes>"
      ]
     },
     "metadata": {
      "needs_background": "light"
     },
     "output_type": "display_data"
    }
   ],
   "source": [
    "ex.load_metric('dummy_score', trial_id=[6, 7]).plot()"
   ]
  },
  {
   "cell_type": "markdown",
   "metadata": {},
   "source": [
    "# Check code context"
   ]
  },
  {
   "cell_type": "markdown",
   "metadata": {},
   "source": [
    "The above example illustrated `daskperiment` tracks code contexts decorated with `Experiment` decorators. \n",
    "\n",
    "To check the tracked code contexts, use `Experiment.get_code` specifying trial id (shows current code if trial id is not provided)."
   ]
  },
  {
   "cell_type": "code",
   "execution_count": 26,
   "metadata": {
    "collapsed": false,
    "scrolled": false
   },
   "outputs": [
    {
     "name": "stdout",
     "output_type": "stream",
     "text": [
      "@ex.persist\n",
      "def prepare_data(a, b):\n",
      "    return a + b\n",
      "\n",
      "\n",
      "@ex.result\n",
      "def calculate_score(s):\n",
      "    for i in range(100):\n",
      "        ex.save_metric('dummy_score', epoch=i, value=100 - np.random.random() * i)\n",
      "        \n",
      "    return 10 / s\n",
      "\n"
     ]
    }
   ],
   "source": [
    "print(ex.get_code())"
   ]
  },
  {
   "cell_type": "code",
   "execution_count": 27,
   "metadata": {
    "collapsed": false,
    "scrolled": true
   },
   "outputs": [
    {
     "name": "stdout",
     "output_type": "stream",
     "text": [
      "@ex\n",
      "def prepare_data(a, b):\n",
      "    return a + b \n",
      "\n",
      "\n",
      "@ex.result\n",
      "def calculate_score(s):\n",
      "    return 10 / s\n",
      "\n"
     ]
    }
   ],
   "source": [
    "print(ex.get_code(trial_id=1))"
   ]
  },
  {
   "cell_type": "markdown",
   "metadata": {},
   "source": [
    "Each code context is also saved as a text file per trial id. Thus, these are easily handled by diff tools and  Git."
   ]
  },
  {
   "cell_type": "code",
   "execution_count": 28,
   "metadata": {
    "collapsed": false
   },
   "outputs": [
    {
     "name": "stdout",
     "output_type": "stream",
     "text": [
      "# Code output saved in trial_id=1\r\n",
      "@ex\r\n",
      "def prepare_data(a, b):\r\n",
      "    return a + b \r\n",
      "\r\n",
      "\r\n",
      "@ex.result\r\n",
      "def calculate_score(s):\r\n",
      "    return 10 / s\r\n"
     ]
    }
   ],
   "source": [
    "%cat daskperiment_cache/quickstart_pj/code/quickstart_pj_1.py"
   ]
  },
  {
   "cell_type": "markdown",
   "metadata": {},
   "source": [
    "# Function purity and handling randomness"
   ]
  },
  {
   "cell_type": "markdown",
   "metadata": {},
   "source": [
    "To make the experiment reproducible, all the experiment step should be \"pure\" function (it the inputs are the same, output shouldn't be changed). In other words, the function should not have internal state nor randomness.\n",
    "\n",
    "`daskperiment` checks whether each experiment step is pure. It internally stores the hash of inputs and output, and shows a warning if its output is changed even though the inputs are unchanged.　\n",
    "\n",
    "To illustrate this, add randomness to the example code."
   ]
  },
  {
   "cell_type": "code",
   "execution_count": 29,
   "metadata": {
    "collapsed": false,
    "scrolled": true
   },
   "outputs": [
    {
     "name": "stderr",
     "output_type": "stream",
     "text": [
      "2019-02-26 06:26:18,558 [daskperiment.core.code] [WARNING] Code context has been changed: calculate_score\n",
      "2019-02-26 06:26:18,560 [daskperiment.core.code] [WARNING] @@ -3,4 +3,4 @@\n",
      "\n",
      "2019-02-26 06:26:18,563 [daskperiment.core.code] [WARNING]      for i in range(100):\n",
      "2019-02-26 06:26:18,565 [daskperiment.core.code] [WARNING]          ex.save_metric('dummy_score', epoch=i, value=100 - np.random.random() * i)\n",
      "2019-02-26 06:26:18,567 [daskperiment.core.code] [WARNING]          \n",
      "2019-02-26 06:26:18,569 [daskperiment.core.code] [WARNING] -    return 10 / s\n",
      "2019-02-26 06:26:18,570 [daskperiment.core.code] [WARNING] +    return 10 / s + np.random.random()\n"
     ]
    }
   ],
   "source": [
    "@ex.result\n",
    "def calculate_score(s):\n",
    "    for i in range(100):\n",
    "        ex.save_metric('dummy_score', epoch=i, value=100 - np.random.random() * i)\n",
    "        \n",
    "    return 10 / s + np.random.random()\n",
    "\n",
    "d = prepare_data(a, b)\n",
    "s = calculate_score(d)"
   ]
  },
  {
   "cell_type": "markdown",
   "metadata": {},
   "source": [
    "Because of the code change, it outputs the different results even though its inputs (parameters) are unchanged. `daskperiment` shows the warning."
   ]
  },
  {
   "cell_type": "code",
   "execution_count": 30,
   "metadata": {
    "collapsed": false
   },
   "outputs": [
    {
     "name": "stderr",
     "output_type": "stream",
     "text": [
      "2019-02-26 06:26:18,591 [daskperiment.core.trial] [INFO] Started Experiment (trial id=8)\n",
      "2019-02-26 06:26:18,595 [daskperiment.core.experiment] [INFO] Target: calculate_score-a3fee31c-c254-4b04-9ec4-25fd85aa6e6b\n",
      "2019-02-26 06:26:18,602 [daskperiment.core.experiment] [INFO] Random seed is not provided, initialized with generated seed: 2732233507\n",
      "2019-02-26 06:26:18,604 [daskperiment.core.trial] [INFO] Parameters: a=3<class 'int'>, b=4<class 'int'>\n",
      "2019-02-26 06:26:18,605 [daskperiment.core.code] [INFO] Saving code context: daskperiment_cache/quickstart_pj/code/quickstart_pj_8.py\n",
      "2019-02-26 06:26:18,610 [daskperiment.environment.environment] [INFO] Saving platform info: daskperiment_cache/quickstart_pj/environment/platform_quickstart_pj_8.json\n",
      "2019-02-26 06:26:18,612 [daskperiment.environment.environment] [INFO] Saving cpu info: daskperiment_cache/quickstart_pj/environment/cpu_quickstart_pj_8.json\n",
      "2019-02-26 06:26:18,615 [daskperiment.environment.environment] [INFO] Saving python info: daskperiment_cache/quickstart_pj/environment/python_quickstart_pj_8.json\n",
      "2019-02-26 06:26:18,617 [daskperiment.environment.environment] [INFO] Saving numpy info: daskperiment_cache/quickstart_pj/environment/numpy_quickstart_pj_8.txt\n",
      "2019-02-26 06:26:18,619 [daskperiment.environment.environment] [INFO] Saving scipy info: daskperiment_cache/quickstart_pj/environment/scipy_quickstart_pj_8.txt\n",
      "2019-02-26 06:26:18,621 [daskperiment.environment.environment] [INFO] Saving pandas info: daskperiment_cache/quickstart_pj/environment/pandas_quickstart_pj_8.txt\n",
      "2019-02-26 06:26:18,623 [daskperiment.environment.environment] [INFO] Saving conda info: daskperiment_cache/quickstart_pj/environment/conda_quickstart_pj_8.txt\n",
      "2019-02-26 06:26:18,626 [daskperiment.environment.environment] [INFO] Saving git info: daskperiment_cache/quickstart_pj/environment/git_quickstart_pj_8.json\n",
      "2019-02-26 06:26:18,629 [daskperiment.environment.environment] [INFO] Saving requirements info: daskperiment_cache/quickstart_pj/environment/requirements_quickstart_pj_8.txt\n",
      "2019-02-26 06:26:18,650 [daskperiment.core.trial] [WARNING] Experiment step result is changed with the same input: (step: calculate_score, args: (7,), kwargs: {})\n",
      "2019-02-26 06:26:18,652 [daskperiment.core.trial] [INFO] Finished Experiment (trial id=8)\n",
      "2019-02-26 06:26:18,655 [daskperiment.backend.local] [INFO] Saving Experiment to file: daskperiment_cache/quickstart_pj/quickstart_pj.pkl\n"
     ]
    },
    {
     "data": {
      "text/plain": [
       "2.1733296921741365"
      ]
     },
     "execution_count": 30,
     "metadata": {},
     "output_type": "execute_result"
    }
   ],
   "source": [
    "s.compute()"
   ]
  },
  {
   "cell_type": "markdown",
   "metadata": {},
   "source": [
    "The function outputs different result in every trial because of the randomness.\n",
    "To make the function reproducible, random seed should be provided.\n",
    "\n",
    "To do this, pass `seed` argument to `compute` method. Note that this trial shows the warning because its result is changed comparing to the previous result (no seed)."
   ]
  },
  {
   "cell_type": "code",
   "execution_count": 31,
   "metadata": {
    "collapsed": false,
    "scrolled": true
   },
   "outputs": [
    {
     "name": "stderr",
     "output_type": "stream",
     "text": [
      "2019-02-26 06:26:18,699 [daskperiment.core.trial] [INFO] Started Experiment (trial id=9)\n",
      "2019-02-26 06:26:18,701 [daskperiment.core.experiment] [INFO] Target: calculate_score-a3fee31c-c254-4b04-9ec4-25fd85aa6e6b\n",
      "2019-02-26 06:26:18,703 [daskperiment.core.experiment] [INFO] Random seed is initialized with given seed: 1\n",
      "2019-02-26 06:26:18,705 [daskperiment.core.trial] [INFO] Parameters: a=3<class 'int'>, b=4<class 'int'>\n",
      "2019-02-26 06:26:18,707 [daskperiment.core.code] [INFO] Saving code context: daskperiment_cache/quickstart_pj/code/quickstart_pj_9.py\n",
      "2019-02-26 06:26:18,710 [daskperiment.environment.environment] [INFO] Saving platform info: daskperiment_cache/quickstart_pj/environment/platform_quickstart_pj_9.json\n",
      "2019-02-26 06:26:18,712 [daskperiment.environment.environment] [INFO] Saving cpu info: daskperiment_cache/quickstart_pj/environment/cpu_quickstart_pj_9.json\n",
      "2019-02-26 06:26:18,715 [daskperiment.environment.environment] [INFO] Saving python info: daskperiment_cache/quickstart_pj/environment/python_quickstart_pj_9.json\n",
      "2019-02-26 06:26:18,717 [daskperiment.environment.environment] [INFO] Saving numpy info: daskperiment_cache/quickstart_pj/environment/numpy_quickstart_pj_9.txt\n",
      "2019-02-26 06:26:18,718 [daskperiment.environment.environment] [INFO] Saving scipy info: daskperiment_cache/quickstart_pj/environment/scipy_quickstart_pj_9.txt\n",
      "2019-02-26 06:26:18,720 [daskperiment.environment.environment] [INFO] Saving pandas info: daskperiment_cache/quickstart_pj/environment/pandas_quickstart_pj_9.txt\n",
      "2019-02-26 06:26:18,723 [daskperiment.environment.environment] [INFO] Saving conda info: daskperiment_cache/quickstart_pj/environment/conda_quickstart_pj_9.txt\n",
      "2019-02-26 06:26:18,725 [daskperiment.environment.environment] [INFO] Saving git info: daskperiment_cache/quickstart_pj/environment/git_quickstart_pj_9.json\n",
      "2019-02-26 06:26:18,727 [daskperiment.environment.environment] [INFO] Saving requirements info: daskperiment_cache/quickstart_pj/environment/requirements_quickstart_pj_9.txt\n",
      "2019-02-26 06:26:18,733 [daskperiment.core.trial] [WARNING] Experiment step result is changed with the same input: (step: calculate_score, args: (7,), kwargs: {})\n",
      "2019-02-26 06:26:18,736 [daskperiment.core.trial] [INFO] Finished Experiment (trial id=9)\n",
      "2019-02-26 06:26:18,738 [daskperiment.backend.local] [INFO] Saving Experiment to file: daskperiment_cache/quickstart_pj/quickstart_pj.pkl\n"
     ]
    },
    {
     "data": {
      "text/plain": [
       "1.7552163303435249"
      ]
     },
     "execution_count": 31,
     "metadata": {},
     "output_type": "execute_result"
    }
   ],
   "source": [
    "s.compute(seed=1)"
   ]
  },
  {
   "cell_type": "markdown",
   "metadata": {},
   "source": [
    "Another trial with the same seed doesn't show the warning, because the result is unchanged."
   ]
  },
  {
   "cell_type": "code",
   "execution_count": 32,
   "metadata": {
    "collapsed": false
   },
   "outputs": [
    {
     "name": "stderr",
     "output_type": "stream",
     "text": [
      "2019-02-26 06:26:18,803 [daskperiment.core.trial] [INFO] Started Experiment (trial id=10)\n",
      "2019-02-26 06:26:18,810 [daskperiment.core.experiment] [INFO] Target: calculate_score-a3fee31c-c254-4b04-9ec4-25fd85aa6e6b\n",
      "2019-02-26 06:26:18,812 [daskperiment.core.experiment] [INFO] Random seed is initialized with given seed: 1\n",
      "2019-02-26 06:26:18,815 [daskperiment.core.trial] [INFO] Parameters: a=3<class 'int'>, b=4<class 'int'>\n",
      "2019-02-26 06:26:18,817 [daskperiment.core.code] [INFO] Saving code context: daskperiment_cache/quickstart_pj/code/quickstart_pj_10.py\n",
      "2019-02-26 06:26:18,820 [daskperiment.environment.environment] [INFO] Saving platform info: daskperiment_cache/quickstart_pj/environment/platform_quickstart_pj_10.json\n",
      "2019-02-26 06:26:18,824 [daskperiment.environment.environment] [INFO] Saving cpu info: daskperiment_cache/quickstart_pj/environment/cpu_quickstart_pj_10.json\n",
      "2019-02-26 06:26:18,827 [daskperiment.environment.environment] [INFO] Saving python info: daskperiment_cache/quickstart_pj/environment/python_quickstart_pj_10.json\n",
      "2019-02-26 06:26:18,829 [daskperiment.environment.environment] [INFO] Saving numpy info: daskperiment_cache/quickstart_pj/environment/numpy_quickstart_pj_10.txt\n",
      "2019-02-26 06:26:18,832 [daskperiment.environment.environment] [INFO] Saving scipy info: daskperiment_cache/quickstart_pj/environment/scipy_quickstart_pj_10.txt\n",
      "2019-02-26 06:26:18,835 [daskperiment.environment.environment] [INFO] Saving pandas info: daskperiment_cache/quickstart_pj/environment/pandas_quickstart_pj_10.txt\n",
      "2019-02-26 06:26:18,838 [daskperiment.environment.environment] [INFO] Saving conda info: daskperiment_cache/quickstart_pj/environment/conda_quickstart_pj_10.txt\n",
      "2019-02-26 06:26:18,843 [daskperiment.environment.environment] [INFO] Saving git info: daskperiment_cache/quickstart_pj/environment/git_quickstart_pj_10.json\n",
      "2019-02-26 06:26:18,846 [daskperiment.environment.environment] [INFO] Saving requirements info: daskperiment_cache/quickstart_pj/environment/requirements_quickstart_pj_10.txt\n",
      "2019-02-26 06:26:18,857 [daskperiment.core.trial] [INFO] Finished Experiment (trial id=10)\n",
      "2019-02-26 06:26:18,859 [daskperiment.backend.local] [INFO] Saving Experiment to file: daskperiment_cache/quickstart_pj/quickstart_pj.pkl\n"
     ]
    },
    {
     "data": {
      "text/plain": [
       "1.7552163303435249"
      ]
     },
     "execution_count": 32,
     "metadata": {},
     "output_type": "execute_result"
    }
   ],
   "source": [
    "s.compute(seed=1)"
   ]
  },
  {
   "cell_type": "markdown",
   "metadata": {},
   "source": [
    "Calling `Experiment.get_history` specifying `verbose=True` returns detailed info including seed value per trials."
   ]
  },
  {
   "cell_type": "code",
   "execution_count": 33,
   "metadata": {
    "collapsed": false
   },
   "outputs": [
    {
     "data": {
      "text/html": [
       "<div>\n",
       "<style scoped>\n",
       "    .dataframe tbody tr th:only-of-type {\n",
       "        vertical-align: middle;\n",
       "    }\n",
       "\n",
       "    .dataframe tbody tr th {\n",
       "        vertical-align: top;\n",
       "    }\n",
       "\n",
       "    .dataframe thead th {\n",
       "        text-align: right;\n",
       "    }\n",
       "</style>\n",
       "<table border=\"1\" class=\"dataframe\">\n",
       "  <thead>\n",
       "    <tr style=\"text-align: right;\">\n",
       "      <th></th>\n",
       "      <th>a</th>\n",
       "      <th>b</th>\n",
       "      <th>Seed</th>\n",
       "      <th>Result</th>\n",
       "      <th>Result Type</th>\n",
       "      <th>Success</th>\n",
       "      <th>Finished</th>\n",
       "      <th>Process Time</th>\n",
       "      <th>Description</th>\n",
       "    </tr>\n",
       "    <tr>\n",
       "      <th>Trial ID</th>\n",
       "      <th></th>\n",
       "      <th></th>\n",
       "      <th></th>\n",
       "      <th></th>\n",
       "      <th></th>\n",
       "      <th></th>\n",
       "      <th></th>\n",
       "      <th></th>\n",
       "      <th></th>\n",
       "    </tr>\n",
       "  </thead>\n",
       "  <tbody>\n",
       "    <tr>\n",
       "      <th>1</th>\n",
       "      <td>1</td>\n",
       "      <td>2</td>\n",
       "      <td>1401499599</td>\n",
       "      <td>3.333333</td>\n",
       "      <td>&lt;class 'float'&gt;</td>\n",
       "      <td>True</td>\n",
       "      <td>2019-02-26 06:26:16.353470</td>\n",
       "      <td>00:00:00.121565</td>\n",
       "      <td>NaN</td>\n",
       "    </tr>\n",
       "    <tr>\n",
       "      <th>2</th>\n",
       "      <td>1</td>\n",
       "      <td>3</td>\n",
       "      <td>59447886</td>\n",
       "      <td>2.500000</td>\n",
       "      <td>&lt;class 'float'&gt;</td>\n",
       "      <td>True</td>\n",
       "      <td>2019-02-26 06:26:16.422238</td>\n",
       "      <td>00:00:00.042741</td>\n",
       "      <td>NaN</td>\n",
       "    </tr>\n",
       "    <tr>\n",
       "      <th>3</th>\n",
       "      <td>1</td>\n",
       "      <td>-1</td>\n",
       "      <td>2155996258</td>\n",
       "      <td>NaN</td>\n",
       "      <td>None</td>\n",
       "      <td>False</td>\n",
       "      <td>2019-02-26 06:26:16.757067</td>\n",
       "      <td>00:00:00.104169</td>\n",
       "      <td>ZeroDivisionError(division by zero)</td>\n",
       "    </tr>\n",
       "    <tr>\n",
       "      <th>4</th>\n",
       "      <td>1</td>\n",
       "      <td>2</td>\n",
       "      <td>3007295486</td>\n",
       "      <td>3.333333</td>\n",
       "      <td>&lt;class 'float'&gt;</td>\n",
       "      <td>True</td>\n",
       "      <td>2019-02-26 06:26:16.943991</td>\n",
       "      <td>00:00:00.046113</td>\n",
       "      <td>NaN</td>\n",
       "    </tr>\n",
       "    <tr>\n",
       "      <th>5</th>\n",
       "      <td>3</td>\n",
       "      <td>2</td>\n",
       "      <td>1867022954</td>\n",
       "      <td>2.000000</td>\n",
       "      <td>&lt;class 'float'&gt;</td>\n",
       "      <td>True</td>\n",
       "      <td>2019-02-26 06:26:17.079432</td>\n",
       "      <td>00:00:00.101899</td>\n",
       "      <td>NaN</td>\n",
       "    </tr>\n",
       "    <tr>\n",
       "      <th>6</th>\n",
       "      <td>1</td>\n",
       "      <td>2</td>\n",
       "      <td>823656978</td>\n",
       "      <td>3.333333</td>\n",
       "      <td>&lt;class 'float'&gt;</td>\n",
       "      <td>True</td>\n",
       "      <td>2019-02-26 06:26:17.219101</td>\n",
       "      <td>00:00:00.039257</td>\n",
       "      <td>NaN</td>\n",
       "    </tr>\n",
       "    <tr>\n",
       "      <th>7</th>\n",
       "      <td>3</td>\n",
       "      <td>4</td>\n",
       "      <td>1168589931</td>\n",
       "      <td>1.428571</td>\n",
       "      <td>&lt;class 'float'&gt;</td>\n",
       "      <td>True</td>\n",
       "      <td>2019-02-26 06:26:17.787806</td>\n",
       "      <td>00:00:00.048796</td>\n",
       "      <td>NaN</td>\n",
       "    </tr>\n",
       "    <tr>\n",
       "      <th>8</th>\n",
       "      <td>3</td>\n",
       "      <td>4</td>\n",
       "      <td>2732233507</td>\n",
       "      <td>2.173330</td>\n",
       "      <td>&lt;class 'float'&gt;</td>\n",
       "      <td>True</td>\n",
       "      <td>2019-02-26 06:26:18.652453</td>\n",
       "      <td>00:00:00.060693</td>\n",
       "      <td>NaN</td>\n",
       "    </tr>\n",
       "    <tr>\n",
       "      <th>9</th>\n",
       "      <td>3</td>\n",
       "      <td>4</td>\n",
       "      <td>1</td>\n",
       "      <td>1.755216</td>\n",
       "      <td>&lt;class 'float'&gt;</td>\n",
       "      <td>True</td>\n",
       "      <td>2019-02-26 06:26:18.735940</td>\n",
       "      <td>00:00:00.036015</td>\n",
       "      <td>NaN</td>\n",
       "    </tr>\n",
       "    <tr>\n",
       "      <th>10</th>\n",
       "      <td>3</td>\n",
       "      <td>4</td>\n",
       "      <td>1</td>\n",
       "      <td>1.755216</td>\n",
       "      <td>&lt;class 'float'&gt;</td>\n",
       "      <td>True</td>\n",
       "      <td>2019-02-26 06:26:18.856936</td>\n",
       "      <td>00:00:00.053642</td>\n",
       "      <td>NaN</td>\n",
       "    </tr>\n",
       "  </tbody>\n",
       "</table>\n",
       "</div>"
      ],
      "text/plain": [
       "          a  b        Seed    Result      Result Type  Success  \\\n",
       "Trial ID                                                         \n",
       "1         1  2  1401499599  3.333333  <class 'float'>     True   \n",
       "2         1  3    59447886  2.500000  <class 'float'>     True   \n",
       "3         1 -1  2155996258       NaN             None    False   \n",
       "4         1  2  3007295486  3.333333  <class 'float'>     True   \n",
       "5         3  2  1867022954  2.000000  <class 'float'>     True   \n",
       "6         1  2   823656978  3.333333  <class 'float'>     True   \n",
       "7         3  4  1168589931  1.428571  <class 'float'>     True   \n",
       "8         3  4  2732233507  2.173330  <class 'float'>     True   \n",
       "9         3  4           1  1.755216  <class 'float'>     True   \n",
       "10        3  4           1  1.755216  <class 'float'>     True   \n",
       "\n",
       "                           Finished    Process Time  \\\n",
       "Trial ID                                              \n",
       "1        2019-02-26 06:26:16.353470 00:00:00.121565   \n",
       "2        2019-02-26 06:26:16.422238 00:00:00.042741   \n",
       "3        2019-02-26 06:26:16.757067 00:00:00.104169   \n",
       "4        2019-02-26 06:26:16.943991 00:00:00.046113   \n",
       "5        2019-02-26 06:26:17.079432 00:00:00.101899   \n",
       "6        2019-02-26 06:26:17.219101 00:00:00.039257   \n",
       "7        2019-02-26 06:26:17.787806 00:00:00.048796   \n",
       "8        2019-02-26 06:26:18.652453 00:00:00.060693   \n",
       "9        2019-02-26 06:26:18.735940 00:00:00.036015   \n",
       "10       2019-02-26 06:26:18.856936 00:00:00.053642   \n",
       "\n",
       "                                  Description  \n",
       "Trial ID                                       \n",
       "1                                         NaN  \n",
       "2                                         NaN  \n",
       "3         ZeroDivisionError(division by zero)  \n",
       "4                                         NaN  \n",
       "5                                         NaN  \n",
       "6                                         NaN  \n",
       "7                                         NaN  \n",
       "8                                         NaN  \n",
       "9                                         NaN  \n",
       "10                                        NaN  "
      ]
     },
     "execution_count": 33,
     "metadata": {},
     "output_type": "execute_result"
    }
   ],
   "source": [
    "ex.get_history(verbose=True)"
   ]
  },
  {
   "cell_type": "markdown",
   "metadata": {},
   "source": [
    "# Save experiment result\n",
    "\n",
    "`daskperiment` automatically saves its internal state when the experiment result is computed (when `.compute` is called). Also, `Experiment` instance automatically recover previous state when it is instanciated.\n",
    "\n",
    "Following example instanciates `Experiment` instance using the same id as above. Thus, the created `Experiment` automatically recovers its state. "
   ]
  },
  {
   "cell_type": "code",
   "execution_count": 34,
   "metadata": {
    "collapsed": false
   },
   "outputs": [
    {
     "name": "stderr",
     "output_type": "stream",
     "text": [
      "2019-02-26 06:26:18,983 [daskperiment.backend.local] [INFO] Loading Experiment from file: daskperiment_cache/quickstart_pj/quickstart_pj.pkl\n",
      "2019-02-26 06:26:18,999 [daskperiment.core.experiment] [INFO] Loaded existing experiment: Experiment(id: quickstart_pj, trial_id: 10, backend: LocalBackend('daskperiment_cache/quickstart_pj'))\n",
      "2019-02-26 06:26:19,065 [daskperiment.environment.environment] [INFO] Platform Information: Darwin-17.7.0-x86_64-i386-64bit\n",
      "2019-02-26 06:26:19,068 [daskperiment.environment.environment] [INFO] Device CPU Count: 4\n",
      "2019-02-26 06:26:19,075 [daskperiment.environment.environment] [INFO] Python Implementation: CPython\n",
      "2019-02-26 06:26:19,076 [daskperiment.environment.environment] [INFO] Python Version: 3.6.6\n",
      "2019-02-26 06:26:19,079 [daskperiment.environment.environment] [INFO] Python Shell Mode: Jupyter Notebook\n",
      "2019-02-26 06:26:19,083 [daskperiment.environment.environment] [INFO] Daskperiment Version: 0.3.0\n",
      "2019-02-26 06:26:19,084 [daskperiment.environment.environment] [INFO] Daskperiment Path: /Users/sinhrks/Git/daskperiment/daskperiment\n",
      "2019-02-26 06:26:19,086 [daskperiment.environment.environment] [INFO] Working Directory: /Users/sinhrks/Git/daskperiment/notebook\n",
      "2019-02-26 06:26:19,089 [daskperiment.environment.environment] [INFO] Git Repository: /Users/sinhrks/Git/daskperiment\n",
      "2019-02-26 06:26:19,092 [daskperiment.environment.environment] [INFO] Git Active Branch: env_enh\n",
      "2019-02-26 06:26:19,094 [daskperiment.environment.environment] [INFO] Git HEAD Commit: 97bf82fd70ab657b5d54fe2f25aef10d57dce33a\n",
      "2019-02-26 06:26:19,096 [daskperiment.environment.environment] [INFO] Number of installed Python packages: 349\n"
     ]
    }
   ],
   "source": [
    "ex_new = daskperiment.Experiment(id='quickstart_pj')"
   ]
  },
  {
   "cell_type": "markdown",
   "metadata": {},
   "source": [
    "Calling `.get_history` returns information of previous trials."
   ]
  },
  {
   "cell_type": "code",
   "execution_count": 35,
   "metadata": {
    "collapsed": false
   },
   "outputs": [
    {
     "data": {
      "text/html": [
       "<div>\n",
       "<style scoped>\n",
       "    .dataframe tbody tr th:only-of-type {\n",
       "        vertical-align: middle;\n",
       "    }\n",
       "\n",
       "    .dataframe tbody tr th {\n",
       "        vertical-align: top;\n",
       "    }\n",
       "\n",
       "    .dataframe thead th {\n",
       "        text-align: right;\n",
       "    }\n",
       "</style>\n",
       "<table border=\"1\" class=\"dataframe\">\n",
       "  <thead>\n",
       "    <tr style=\"text-align: right;\">\n",
       "      <th></th>\n",
       "      <th>a</th>\n",
       "      <th>b</th>\n",
       "      <th>Result</th>\n",
       "      <th>Success</th>\n",
       "      <th>Finished</th>\n",
       "      <th>Process Time</th>\n",
       "      <th>Description</th>\n",
       "    </tr>\n",
       "    <tr>\n",
       "      <th>Trial ID</th>\n",
       "      <th></th>\n",
       "      <th></th>\n",
       "      <th></th>\n",
       "      <th></th>\n",
       "      <th></th>\n",
       "      <th></th>\n",
       "      <th></th>\n",
       "    </tr>\n",
       "  </thead>\n",
       "  <tbody>\n",
       "    <tr>\n",
       "      <th>1</th>\n",
       "      <td>1</td>\n",
       "      <td>2</td>\n",
       "      <td>3.333333</td>\n",
       "      <td>True</td>\n",
       "      <td>2019-02-26 06:26:16.353470</td>\n",
       "      <td>00:00:00.121565</td>\n",
       "      <td>NaN</td>\n",
       "    </tr>\n",
       "    <tr>\n",
       "      <th>2</th>\n",
       "      <td>1</td>\n",
       "      <td>3</td>\n",
       "      <td>2.500000</td>\n",
       "      <td>True</td>\n",
       "      <td>2019-02-26 06:26:16.422238</td>\n",
       "      <td>00:00:00.042741</td>\n",
       "      <td>NaN</td>\n",
       "    </tr>\n",
       "    <tr>\n",
       "      <th>3</th>\n",
       "      <td>1</td>\n",
       "      <td>-1</td>\n",
       "      <td>NaN</td>\n",
       "      <td>False</td>\n",
       "      <td>2019-02-26 06:26:16.757067</td>\n",
       "      <td>00:00:00.104169</td>\n",
       "      <td>ZeroDivisionError(division by zero)</td>\n",
       "    </tr>\n",
       "    <tr>\n",
       "      <th>4</th>\n",
       "      <td>1</td>\n",
       "      <td>2</td>\n",
       "      <td>3.333333</td>\n",
       "      <td>True</td>\n",
       "      <td>2019-02-26 06:26:16.943991</td>\n",
       "      <td>00:00:00.046113</td>\n",
       "      <td>NaN</td>\n",
       "    </tr>\n",
       "    <tr>\n",
       "      <th>5</th>\n",
       "      <td>3</td>\n",
       "      <td>2</td>\n",
       "      <td>2.000000</td>\n",
       "      <td>True</td>\n",
       "      <td>2019-02-26 06:26:17.079432</td>\n",
       "      <td>00:00:00.101899</td>\n",
       "      <td>NaN</td>\n",
       "    </tr>\n",
       "    <tr>\n",
       "      <th>6</th>\n",
       "      <td>1</td>\n",
       "      <td>2</td>\n",
       "      <td>3.333333</td>\n",
       "      <td>True</td>\n",
       "      <td>2019-02-26 06:26:17.219101</td>\n",
       "      <td>00:00:00.039257</td>\n",
       "      <td>NaN</td>\n",
       "    </tr>\n",
       "    <tr>\n",
       "      <th>7</th>\n",
       "      <td>3</td>\n",
       "      <td>4</td>\n",
       "      <td>1.428571</td>\n",
       "      <td>True</td>\n",
       "      <td>2019-02-26 06:26:17.787806</td>\n",
       "      <td>00:00:00.048796</td>\n",
       "      <td>NaN</td>\n",
       "    </tr>\n",
       "    <tr>\n",
       "      <th>8</th>\n",
       "      <td>3</td>\n",
       "      <td>4</td>\n",
       "      <td>2.173330</td>\n",
       "      <td>True</td>\n",
       "      <td>2019-02-26 06:26:18.652453</td>\n",
       "      <td>00:00:00.060693</td>\n",
       "      <td>NaN</td>\n",
       "    </tr>\n",
       "    <tr>\n",
       "      <th>9</th>\n",
       "      <td>3</td>\n",
       "      <td>4</td>\n",
       "      <td>1.755216</td>\n",
       "      <td>True</td>\n",
       "      <td>2019-02-26 06:26:18.735940</td>\n",
       "      <td>00:00:00.036015</td>\n",
       "      <td>NaN</td>\n",
       "    </tr>\n",
       "    <tr>\n",
       "      <th>10</th>\n",
       "      <td>3</td>\n",
       "      <td>4</td>\n",
       "      <td>1.755216</td>\n",
       "      <td>True</td>\n",
       "      <td>2019-02-26 06:26:18.856936</td>\n",
       "      <td>00:00:00.053642</td>\n",
       "      <td>NaN</td>\n",
       "    </tr>\n",
       "  </tbody>\n",
       "</table>\n",
       "</div>"
      ],
      "text/plain": [
       "          a  b    Result  Success                   Finished    Process Time  \\\n",
       "Trial ID                                                                       \n",
       "1         1  2  3.333333     True 2019-02-26 06:26:16.353470 00:00:00.121565   \n",
       "2         1  3  2.500000     True 2019-02-26 06:26:16.422238 00:00:00.042741   \n",
       "3         1 -1       NaN    False 2019-02-26 06:26:16.757067 00:00:00.104169   \n",
       "4         1  2  3.333333     True 2019-02-26 06:26:16.943991 00:00:00.046113   \n",
       "5         3  2  2.000000     True 2019-02-26 06:26:17.079432 00:00:00.101899   \n",
       "6         1  2  3.333333     True 2019-02-26 06:26:17.219101 00:00:00.039257   \n",
       "7         3  4  1.428571     True 2019-02-26 06:26:17.787806 00:00:00.048796   \n",
       "8         3  4  2.173330     True 2019-02-26 06:26:18.652453 00:00:00.060693   \n",
       "9         3  4  1.755216     True 2019-02-26 06:26:18.735940 00:00:00.036015   \n",
       "10        3  4  1.755216     True 2019-02-26 06:26:18.856936 00:00:00.053642   \n",
       "\n",
       "                                  Description  \n",
       "Trial ID                                       \n",
       "1                                         NaN  \n",
       "2                                         NaN  \n",
       "3         ZeroDivisionError(division by zero)  \n",
       "4                                         NaN  \n",
       "5                                         NaN  \n",
       "6                                         NaN  \n",
       "7                                         NaN  \n",
       "8                                         NaN  \n",
       "9                                         NaN  \n",
       "10                                        NaN  "
      ]
     },
     "execution_count": 35,
     "metadata": {},
     "output_type": "execute_result"
    }
   ],
   "source": [
    "ex_new.get_history()"
   ]
  },
  {
   "cell_type": "markdown",
   "metadata": {},
   "source": [
    "Also, `Experiment` instance automatically detects the environment change from its previous trial. Following is a sample log when package update is detected (pandas 0.23.4 -> 0.24.0).\n",
    "\n",
    "    2019-01-29 00:22:35,357 [daskperiment.io.serialize] [INFO] Loaded Experiment(id: quickstart_pj, trial_id: 14) from path=daskperiment_cache/quickstart_pj/quickstart_pj.pkl\n",
    "    2019-01-29 00:22:35,404 [daskperiment.core.environment] [WARNING] Installed Python packages have been changed\n",
    "    2019-01-29 00:22:35,408 [daskperiment.core.environment] [WARNING] @@ -142 +142 @@\n",
    "    2019-01-29 00:22:35,411 [daskperiment.core.environment] [WARNING] -pandas 0.23.4 (/Users/sinhrks/anaconda/lib/python3.6/site-packages)\n",
    "    2019-01-29 00:22:35,412 [daskperiment.core.environment] [WARNING] +pandas 0.24.0 (/Users/sinhrks/anaconda/lib/python3.6/site-packages)"
   ]
  },
  {
   "cell_type": "markdown",
   "metadata": {
    "collapsed": true
   },
   "source": [
    "# Run as CLI\n",
    "\n",
    "`daskperiment` also supports execution from command line. First, prepare a `Python` script to define experiment. The usage of `Experiment` class is all the same as Jupyter example. `daskperiment` regards a result of a function decorated with `Experiment.result` (`calculate_score` function in below case) as experiment output."
   ]
  },
  {
   "cell_type": "code",
   "execution_count": 36,
   "metadata": {
    "collapsed": false
   },
   "outputs": [
    {
     "name": "stdout",
     "output_type": "stream",
     "text": [
      "import daskperiment\r\n",
      "\r\n",
      "ex = daskperiment.Experiment(id='simple_experiment_pj')\r\n",
      "\r\n",
      "a = ex.parameter('a')\r\n",
      "b = ex.parameter('b')\r\n",
      "\r\n",
      "\r\n",
      "@ex\r\n",
      "def prepare_data(a, b):\r\n",
      "    return a + b\r\n",
      "\r\n",
      "\r\n",
      "@ex.result\r\n",
      "def calculate_score(s):\r\n",
      "    return s + 1\r\n",
      "\r\n",
      "\r\n",
      "d = prepare_data(a, b)\r\n",
      "calculate_score(d)\r\n"
     ]
    }
   ],
   "source": [
    "%cat ../scripts/simple_experiment.py"
   ]
  },
  {
   "cell_type": "markdown",
   "metadata": {},
   "source": [
    "You can provide parameter values from command line options using `key=value` format. `daskperinemt` automatically parse parameters and perform computation."
   ]
  },
  {
   "cell_type": "code",
   "execution_count": 37,
   "metadata": {
    "collapsed": false
   },
   "outputs": [
    {
     "name": "stdout",
     "output_type": "stream",
     "text": [
      "/Users/masaaki.horikoshi/anaconda/lib/python3.6/importlib/_bootstrap.py:219: RuntimeWarning: numpy.dtype size changed, may indicate binary incompatibility. Expected 96, got 88\n",
      "  return f(*args, **kwds)\n",
      "2019-02-26 06:26:24,182 [daskperiment.core.experiment] [INFO] Initialized new experiment: Experiment(id: simple_experiment_pj, trial_id: 0, backend: LocalBackend('daskperiment_cache/simple_experiment_pj'))\n",
      "2019-02-26 06:26:24,339 [daskperiment.environment.environment] [INFO] Platform Information: Darwin-17.7.0-x86_64-i386-64bit\n",
      "2019-02-26 06:26:24,340 [daskperiment.environment.environment] [INFO] Device CPU Count: 4\n",
      "2019-02-26 06:26:24,340 [daskperiment.environment.environment] [INFO] Python Implementation: CPython\n",
      "2019-02-26 06:26:24,341 [daskperiment.environment.environment] [INFO] Python Version: 3.6.6\n",
      "2019-02-26 06:26:24,342 [daskperiment.environment.environment] [INFO] Python Shell Mode: File\n",
      "2019-02-26 06:26:24,342 [daskperiment.environment.environment] [INFO] Daskperiment Version: 0.3.0\n",
      "2019-02-26 06:26:24,342 [daskperiment.environment.environment] [INFO] Daskperiment Path: /Users/sinhrks/Git/daskperiment/daskperiment\n",
      "2019-02-26 06:26:24,342 [daskperiment.environment.environment] [INFO] Working Directory: /Users/sinhrks/Git/daskperiment/notebook\n",
      "2019-02-26 06:26:24,342 [daskperiment.environment.environment] [INFO] Git Repository: /Users/sinhrks/Git/daskperiment\n",
      "2019-02-26 06:26:24,342 [daskperiment.environment.environment] [INFO] Git Active Branch: env_enh\n",
      "2019-02-26 06:26:24,342 [daskperiment.environment.environment] [INFO] Git HEAD Commit: 97bf82fd70ab657b5d54fe2f25aef10d57dce33a\n",
      "2019-02-26 06:26:24,342 [daskperiment.environment.environment] [INFO] Number of installed Python packages: 349\n",
      "2019-02-26 06:26:24,352 [daskperiment.core.parameter] [INFO] Updated parameters: a=1<class 'int'>, b=2<class 'int'>\n",
      "2019-02-26 06:26:24,352 [daskperiment.core.trial] [INFO] Started Experiment (trial id=1)\n",
      "2019-02-26 06:26:24,352 [daskperiment.core.experiment] [INFO] Target: calculate_score-e7564eca-43a6-43a2-9dea-89548ce8ebb3\n",
      "2019-02-26 06:26:24,352 [daskperiment.core.experiment] [INFO] Random seed is not provided, initialized with generated seed: 2113962094\n",
      "2019-02-26 06:26:24,352 [daskperiment.core.trial] [INFO] Parameters: a=1<class 'int'>, b=2<class 'int'>\n",
      "2019-02-26 06:26:24,353 [daskperiment.core.code] [INFO] Saving code context: daskperiment_cache/simple_experiment_pj/code/simple_experiment_pj_1.py\n",
      "2019-02-26 06:26:24,353 [daskperiment.environment.environment] [INFO] Saving platform info: daskperiment_cache/simple_experiment_pj/environment/platform_simple_experiment_pj_1.json\n",
      "2019-02-26 06:26:24,354 [daskperiment.environment.environment] [INFO] Saving cpu info: daskperiment_cache/simple_experiment_pj/environment/cpu_simple_experiment_pj_1.json\n",
      "2019-02-26 06:26:24,355 [daskperiment.environment.environment] [INFO] Saving python info: daskperiment_cache/simple_experiment_pj/environment/python_simple_experiment_pj_1.json\n",
      "2019-02-26 06:26:24,355 [daskperiment.environment.environment] [INFO] Saving numpy info: daskperiment_cache/simple_experiment_pj/environment/numpy_simple_experiment_pj_1.txt\n",
      "2019-02-26 06:26:24,356 [daskperiment.environment.environment] [INFO] Saving scipy info: daskperiment_cache/simple_experiment_pj/environment/scipy_simple_experiment_pj_1.txt\n",
      "2019-02-26 06:26:24,356 [daskperiment.environment.environment] [INFO] Saving pandas info: daskperiment_cache/simple_experiment_pj/environment/pandas_simple_experiment_pj_1.txt\n",
      "2019-02-26 06:26:24,357 [daskperiment.environment.environment] [INFO] Saving conda info: daskperiment_cache/simple_experiment_pj/environment/conda_simple_experiment_pj_1.txt\n",
      "2019-02-26 06:26:24,358 [daskperiment.environment.environment] [INFO] Saving git info: daskperiment_cache/simple_experiment_pj/environment/git_simple_experiment_pj_1.json\n",
      "2019-02-26 06:26:24,359 [daskperiment.environment.environment] [INFO] Saving requirements info: daskperiment_cache/simple_experiment_pj/environment/requirements_simple_experiment_pj_1.txt\n",
      "2019-02-26 06:26:24,367 [daskperiment.core.trial] [INFO] Finished Experiment (trial id=1)\n",
      "2019-02-26 06:26:24,367 [daskperiment.backend.local] [INFO] Saving Experiment to file: daskperiment_cache/simple_experiment_pj/simple_experiment_pj.pkl\n"
     ]
    }
   ],
   "source": [
    "!python ../scripts/simple_experiment.py a=1 b=2"
   ]
  },
  {
   "cell_type": "markdown",
   "metadata": {},
   "source": [
    "Let's perform multiple trials using different parameters. `daskperiment` automatically saves trial history as the same as Jupyter example (see trial id is incremented)."
   ]
  },
  {
   "cell_type": "code",
   "execution_count": 38,
   "metadata": {
    "collapsed": false
   },
   "outputs": [
    {
     "name": "stdout",
     "output_type": "stream",
     "text": [
      "/Users/masaaki.horikoshi/anaconda/lib/python3.6/importlib/_bootstrap.py:219: RuntimeWarning: numpy.dtype size changed, may indicate binary incompatibility. Expected 96, got 88\n",
      "  return f(*args, **kwds)\n",
      "2019-02-26 06:26:29,821 [daskperiment.backend.local] [INFO] Loading Experiment from file: daskperiment_cache/simple_experiment_pj/simple_experiment_pj.pkl\n",
      "2019-02-26 06:26:29,821 [daskperiment.core.experiment] [INFO] Loaded existing experiment: Experiment(id: simple_experiment_pj, trial_id: 1, backend: LocalBackend('daskperiment_cache/simple_experiment_pj'))\n",
      "2019-02-26 06:26:29,972 [daskperiment.environment.environment] [INFO] Platform Information: Darwin-17.7.0-x86_64-i386-64bit\n",
      "2019-02-26 06:26:29,974 [daskperiment.environment.environment] [INFO] Device CPU Count: 4\n",
      "2019-02-26 06:26:29,975 [daskperiment.environment.environment] [INFO] Python Implementation: CPython\n",
      "2019-02-26 06:26:29,976 [daskperiment.environment.environment] [INFO] Python Version: 3.6.6\n",
      "2019-02-26 06:26:29,977 [daskperiment.environment.environment] [INFO] Python Shell Mode: File\n",
      "2019-02-26 06:26:29,977 [daskperiment.environment.environment] [INFO] Daskperiment Version: 0.3.0\n",
      "2019-02-26 06:26:29,978 [daskperiment.environment.environment] [INFO] Daskperiment Path: /Users/sinhrks/Git/daskperiment/daskperiment\n",
      "2019-02-26 06:26:29,979 [daskperiment.environment.environment] [INFO] Working Directory: /Users/sinhrks/Git/daskperiment/notebook\n",
      "2019-02-26 06:26:29,979 [daskperiment.environment.environment] [INFO] Git Repository: /Users/sinhrks/Git/daskperiment\n",
      "2019-02-26 06:26:29,980 [daskperiment.environment.environment] [INFO] Git Active Branch: env_enh\n",
      "2019-02-26 06:26:29,981 [daskperiment.environment.environment] [INFO] Git HEAD Commit: 97bf82fd70ab657b5d54fe2f25aef10d57dce33a\n",
      "2019-02-26 06:26:29,982 [daskperiment.environment.environment] [INFO] Number of installed Python packages: 349\n",
      "2019-02-26 06:26:30,000 [daskperiment.core.parameter] [INFO] Updated parameters: a=3<class 'int'>, b=2<class 'int'>\n",
      "2019-02-26 06:26:30,001 [daskperiment.core.trial] [INFO] Started Experiment (trial id=2)\n",
      "2019-02-26 06:26:30,001 [daskperiment.core.experiment] [INFO] Target: calculate_score-ec955cfc-768c-4a45-bd86-9faa7eaf3ef7\n",
      "2019-02-26 06:26:30,001 [daskperiment.core.experiment] [INFO] Random seed is not provided, initialized with generated seed: 3973976697\n",
      "2019-02-26 06:26:30,001 [daskperiment.core.trial] [INFO] Parameters: a=3<class 'int'>, b=2<class 'int'>\n",
      "2019-02-26 06:26:30,002 [daskperiment.core.code] [INFO] Saving code context: daskperiment_cache/simple_experiment_pj/code/simple_experiment_pj_2.py\n",
      "2019-02-26 06:26:30,003 [daskperiment.environment.environment] [INFO] Saving platform info: daskperiment_cache/simple_experiment_pj/environment/platform_simple_experiment_pj_2.json\n",
      "2019-02-26 06:26:30,004 [daskperiment.environment.environment] [INFO] Saving cpu info: daskperiment_cache/simple_experiment_pj/environment/cpu_simple_experiment_pj_2.json\n",
      "2019-02-26 06:26:30,005 [daskperiment.environment.environment] [INFO] Saving python info: daskperiment_cache/simple_experiment_pj/environment/python_simple_experiment_pj_2.json\n",
      "2019-02-26 06:26:30,008 [daskperiment.environment.environment] [INFO] Saving numpy info: daskperiment_cache/simple_experiment_pj/environment/numpy_simple_experiment_pj_2.txt\n",
      "2019-02-26 06:26:30,010 [daskperiment.environment.environment] [INFO] Saving scipy info: daskperiment_cache/simple_experiment_pj/environment/scipy_simple_experiment_pj_2.txt\n",
      "2019-02-26 06:26:30,013 [daskperiment.environment.environment] [INFO] Saving pandas info: daskperiment_cache/simple_experiment_pj/environment/pandas_simple_experiment_pj_2.txt\n",
      "2019-02-26 06:26:30,015 [daskperiment.environment.environment] [INFO] Saving conda info: daskperiment_cache/simple_experiment_pj/environment/conda_simple_experiment_pj_2.txt\n",
      "2019-02-26 06:26:30,015 [daskperiment.environment.environment] [INFO] Saving git info: daskperiment_cache/simple_experiment_pj/environment/git_simple_experiment_pj_2.json\n",
      "2019-02-26 06:26:30,016 [daskperiment.environment.environment] [INFO] Saving requirements info: daskperiment_cache/simple_experiment_pj/environment/requirements_simple_experiment_pj_2.txt\n",
      "2019-02-26 06:26:30,034 [daskperiment.core.trial] [INFO] Finished Experiment (trial id=2)\n",
      "2019-02-26 06:26:30,034 [daskperiment.backend.local] [INFO] Saving Experiment to file: daskperiment_cache/simple_experiment_pj/simple_experiment_pj.pkl\n"
     ]
    }
   ],
   "source": [
    "!python ../scripts/simple_experiment.py a=3 b=2"
   ]
  },
  {
   "cell_type": "markdown",
   "metadata": {},
   "source": [
    "To confirm the experiment results, instanciate Experiment specifying the same id as the script and use Experiment.get_history."
   ]
  },
  {
   "cell_type": "code",
   "execution_count": 39,
   "metadata": {
    "collapsed": false
   },
   "outputs": [
    {
     "name": "stderr",
     "output_type": "stream",
     "text": [
      "2019-02-26 06:26:30,747 [daskperiment.backend.local] [INFO] Loading Experiment from file: daskperiment_cache/simple_experiment_pj/simple_experiment_pj.pkl\n",
      "2019-02-26 06:26:30,751 [daskperiment.core.experiment] [INFO] Loaded existing experiment: Experiment(id: simple_experiment_pj, trial_id: 2, backend: LocalBackend('daskperiment_cache/simple_experiment_pj'))\n",
      "2019-02-26 06:26:30,777 [daskperiment.environment.environment] [INFO] Platform Information: Darwin-17.7.0-x86_64-i386-64bit\n",
      "2019-02-26 06:26:30,780 [daskperiment.environment.environment] [INFO] Device CPU Count: 4\n",
      "2019-02-26 06:26:30,783 [daskperiment.environment.environment] [INFO] Python Implementation: CPython\n",
      "2019-02-26 06:26:30,785 [daskperiment.environment.environment] [INFO] Python Version: 3.6.6\n",
      "2019-02-26 06:26:30,787 [daskperiment.environment.environment] [INFO] Python Shell Mode: Jupyter Notebook\n",
      "2019-02-26 06:26:30,788 [daskperiment.environment.environment] [INFO] Daskperiment Version: 0.3.0\n",
      "2019-02-26 06:26:30,791 [daskperiment.environment.environment] [INFO] Daskperiment Path: /Users/sinhrks/Git/daskperiment/daskperiment\n",
      "2019-02-26 06:26:30,793 [daskperiment.environment.environment] [INFO] Working Directory: /Users/sinhrks/Git/daskperiment/notebook\n",
      "2019-02-26 06:26:30,796 [daskperiment.environment.environment] [INFO] Git Repository: /Users/sinhrks/Git/daskperiment\n",
      "2019-02-26 06:26:30,798 [daskperiment.environment.environment] [INFO] Git Active Branch: env_enh\n",
      "2019-02-26 06:26:30,800 [daskperiment.environment.environment] [INFO] Git HEAD Commit: 97bf82fd70ab657b5d54fe2f25aef10d57dce33a\n",
      "2019-02-26 06:26:30,802 [daskperiment.environment.environment] [INFO] Number of installed Python packages: 349\n",
      "2019-02-26 06:26:30,807 [daskperiment.environment.environment] [WARNING] Environment information has been changed: cpu\n",
      "2019-02-26 06:26:30,813 [daskperiment.environment.environment] [WARNING] @@ -17,2 +17,2 @@\n",
      "\n",
      "2019-02-26 06:26:30,815 [daskperiment.environment.environment] [WARNING] -L2 Cache Line Size: 6\n",
      "2019-02-26 06:26:30,817 [daskperiment.environment.environment] [WARNING] -L2 Cache Associativity: 0x100\n",
      "2019-02-26 06:26:30,820 [daskperiment.environment.environment] [WARNING] +L2 Cache Line Size: \n",
      "2019-02-26 06:26:30,821 [daskperiment.environment.environment] [WARNING] +L2 Cache Associativity: \n",
      "2019-02-26 06:26:30,823 [daskperiment.environment.environment] [WARNING] @@ -24 +24 @@\n",
      "\n",
      "2019-02-26 06:26:30,825 [daskperiment.environment.environment] [WARNING] -Extended Model: 3\n",
      "2019-02-26 06:26:30,829 [daskperiment.environment.environment] [WARNING] +Extended Model: \n",
      "2019-02-26 06:26:30,830 [daskperiment.environment.environment] [WARNING] @@ -26 +26 @@\n",
      "\n",
      "2019-02-26 06:26:30,833 [daskperiment.environment.environment] [WARNING] -Flags: 1gbpage,3dnowprefetch,abm,acpi,adx,aes,apic,avx,avx1.0,avx2,bmi1,bmi2,clflush,clfsh,cmov,cx16,cx8,de,ds,ds_cpl,dscpl,dtes64,dts,em64t,erms,est,f16c,fma,fpu,fpu_csds,fxsr,ht,htt,intel_pt,invpcid,ipt,lahf,lahf_lm,lzcnt,mca,mce,mmx,mon,monitor,movbe,msr,mtrr,osxsave,pae,pat,pbe,pcid,pclmulqdq,pdcm,pge,pni,popcnt,prefetchw,pse,pse36,rdrand,rdrnd,rdseed,rdtscp,rdwrfsgs,seglim64,sep,smap,smep,ss,sse,sse2,sse3,sse4.1,sse4.2,sse4_1,sse4_2,ssse3,syscall,tm,tm2,tpr,tsc,tsc_thread_offset,tscdeadline,tsci,tsctmr,vme,vmx,x2apic,xd,xsave,xtpr\n",
      "2019-02-26 06:26:30,836 [daskperiment.environment.environment] [WARNING] +Flags: 1gbpage,acpi,adx,aes,apic,avx1.0,avx2,bmi1,bmi2,clfsh,cmov,cx16,cx8,de,ds,dscpl,dtes64,em64t,erms,est,f16c,fma,fpu,fpu_csds,fxsr,htt,invpcid,ipt,lahf,lzcnt,mca,mce,mmx,mon,movbe,msr,mtrr,osxsave,pae,pat,pbe,pcid,pclmulqdq,pdcm,pge,popcnt,prefetchw,pse,pse36,rdrand,rdseed,rdtscp,rdwrfsgs,seglim64,sep,smap,smep,ss,sse,sse2,sse3,sse4.1,sse4.2,ssse3,syscall,tm,tm2,tpr,tsc,tsc_thread_offset,tsci,tsctmr,vme,vmx,x2apic,xd,xsave\n",
      "2019-02-26 06:26:30,839 [daskperiment.environment.environment] [WARNING] Environment information has been changed: python\n",
      "2019-02-26 06:26:30,840 [daskperiment.environment.environment] [WARNING] @@ -3 +3 @@\n",
      "\n",
      "2019-02-26 06:26:30,843 [daskperiment.environment.environment] [WARNING] -Python Shell Mode: File\n",
      "2019-02-26 06:26:30,845 [daskperiment.environment.environment] [WARNING] +Python Shell Mode: Jupyter Notebook\n"
     ]
    },
    {
     "data": {
      "text/html": [
       "<div>\n",
       "<style scoped>\n",
       "    .dataframe tbody tr th:only-of-type {\n",
       "        vertical-align: middle;\n",
       "    }\n",
       "\n",
       "    .dataframe tbody tr th {\n",
       "        vertical-align: top;\n",
       "    }\n",
       "\n",
       "    .dataframe thead th {\n",
       "        text-align: right;\n",
       "    }\n",
       "</style>\n",
       "<table border=\"1\" class=\"dataframe\">\n",
       "  <thead>\n",
       "    <tr style=\"text-align: right;\">\n",
       "      <th></th>\n",
       "      <th>a</th>\n",
       "      <th>b</th>\n",
       "      <th>Result</th>\n",
       "      <th>Success</th>\n",
       "      <th>Finished</th>\n",
       "      <th>Process Time</th>\n",
       "      <th>Description</th>\n",
       "    </tr>\n",
       "    <tr>\n",
       "      <th>Trial ID</th>\n",
       "      <th></th>\n",
       "      <th></th>\n",
       "      <th></th>\n",
       "      <th></th>\n",
       "      <th></th>\n",
       "      <th></th>\n",
       "      <th></th>\n",
       "    </tr>\n",
       "  </thead>\n",
       "  <tbody>\n",
       "    <tr>\n",
       "      <th>1</th>\n",
       "      <td>1</td>\n",
       "      <td>2</td>\n",
       "      <td>4</td>\n",
       "      <td>True</td>\n",
       "      <td>2019-02-26 06:26:24.366969</td>\n",
       "      <td>00:00:00.014454</td>\n",
       "      <td>NaN</td>\n",
       "    </tr>\n",
       "    <tr>\n",
       "      <th>2</th>\n",
       "      <td>3</td>\n",
       "      <td>2</td>\n",
       "      <td>6</td>\n",
       "      <td>True</td>\n",
       "      <td>2019-02-26 06:26:30.034078</td>\n",
       "      <td>00:00:00.032953</td>\n",
       "      <td>NaN</td>\n",
       "    </tr>\n",
       "  </tbody>\n",
       "</table>\n",
       "</div>"
      ],
      "text/plain": [
       "          a  b  Result  Success                   Finished    Process Time  \\\n",
       "Trial ID                                                                     \n",
       "1         1  2       4     True 2019-02-26 06:26:24.366969 00:00:00.014454   \n",
       "2         3  2       6     True 2019-02-26 06:26:30.034078 00:00:00.032953   \n",
       "\n",
       "          Description  \n",
       "Trial ID               \n",
       "1                 NaN  \n",
       "2                 NaN  "
      ]
     },
     "execution_count": 39,
     "metadata": {},
     "output_type": "execute_result"
    }
   ],
   "source": [
    "import daskperiment\n",
    "\n",
    "ex = daskperiment.Experiment(id='simple_experiment_pj')\n",
    "ex.get_history()"
   ]
  },
  {
   "cell_type": "code",
   "execution_count": null,
   "metadata": {
    "collapsed": true
   },
   "outputs": [],
   "source": []
  }
 ],
 "metadata": {
  "kernelspec": {
   "display_name": "Python 3",
   "language": "python",
   "name": "python3"
  },
  "language_info": {
   "codemirror_mode": {
    "name": "ipython",
    "version": 3
   },
   "file_extension": ".py",
   "mimetype": "text/x-python",
   "name": "python",
   "nbconvert_exporter": "python",
   "pygments_lexer": "ipython3",
   "version": "3.6.6"
  }
 },
 "nbformat": 4,
 "nbformat_minor": 2
}
