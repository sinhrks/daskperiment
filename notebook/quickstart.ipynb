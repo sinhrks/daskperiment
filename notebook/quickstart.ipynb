{
 "cells": [
  {
   "cell_type": "markdown",
   "metadata": {},
   "source": [
    "# Quickstart\n",
    "\n",
    "This notebook describes a minimal example. First, create `daskperiment.Experiment` instance. This instance controlls an experiment, a chain of functions to output value and a collection of input variables."
   ]
  },
  {
   "cell_type": "code",
   "execution_count": 1,
   "metadata": {
    "collapsed": false
   },
   "outputs": [],
   "source": [
    "%matplotlib inline\n",
    "import numpy as np\n",
    "import daskperiment"
   ]
  },
  {
   "cell_type": "markdown",
   "metadata": {},
   "source": [
    "First, create `daskperiment.Experiment` instance. This instance controlls an experiment, a chain of functions to output value and a collection of input variables."
   ]
  },
  {
   "cell_type": "code",
   "execution_count": 2,
   "metadata": {
    "collapsed": false,
    "scrolled": false
   },
   "outputs": [
    {
     "name": "stderr",
     "output_type": "stream",
     "text": [
      "2019-02-09 11:02:28,332 [daskperiment.io.pickle] [INFO] Creating new cache directory: /Users/sinhrks/Git/daskperiment/notebook/daskperiment_cache/quickstart_pj\n",
      "2019-02-09 11:02:28,338 [daskperiment.core.experiment] [INFO] Initialized new experiment: Experiment(id: quickstart_pj, trial_id: 0, backend: LocalBackend('daskperiment_cache/quickstart_pj'))\n",
      "2019-02-09 11:02:28,777 [daskperiment.core.environment] [INFO] Platform: Darwin-17.7.0-x86_64-i386-64bit\n",
      "2019-02-09 11:02:28,779 [daskperiment.core.environment] [INFO] Python: CPython 3.6.6 (Jupyter Notebook)\n",
      "2019-02-09 11:02:28,782 [daskperiment.core.environment] [INFO] daskperiment version: 0.2.1.dev0\n",
      "2019-02-09 11:02:28,785 [daskperiment.core.environment] [INFO] daskperiment path: /Users/masaaki.horikoshi/anaconda/lib/python3.6/site-packages/daskperiment-0.2.1.dev0-py3.6.egg/daskperiment\n",
      "2019-02-09 11:02:28,789 [daskperiment.core.environment] [INFO] Working directory: /Users/sinhrks/Git/daskperiment/notebook\n",
      "2019-02-09 11:02:28,791 [daskperiment.core.environment] [INFO] Number of installed Python packages: 339\n"
     ]
    },
    {
     "data": {
      "text/plain": [
       "Experiment(id: quickstart_pj, trial_id: 0, backend: LocalBackend('daskperiment_cache/quickstart_pj'))"
      ]
     },
     "execution_count": 2,
     "metadata": {},
     "output_type": "execute_result"
    }
   ],
   "source": [
    "ex = daskperiment.Experiment(id='quickstart_pj')\n",
    "ex"
   ]
  },
  {
   "cell_type": "markdown",
   "metadata": {},
   "source": [
    "Then, use `Experiment.parameter` method to define parameters (input variables for the experiment). The actual value of each parameter can be changed in every trial."
   ]
  },
  {
   "cell_type": "code",
   "execution_count": 3,
   "metadata": {
    "collapsed": false
   },
   "outputs": [
    {
     "data": {
      "text/plain": [
       "Parameter(a: Undefined)"
      ]
     },
     "execution_count": 3,
     "metadata": {},
     "output_type": "execute_result"
    }
   ],
   "source": [
    "a = ex.parameter('a')\n",
    "b = ex.parameter('b')\n",
    "a"
   ]
  },
  {
   "cell_type": "markdown",
   "metadata": {},
   "source": [
    "Next, you can define each experiment step (function) by decorating with `Experiment` instance (`@ex`).\n",
    "\n",
    "Note that the function to output the final result (mostly objective value to be minimized or maximized) must be decorated with `Experiment.result`. The chain of these functions are expressed as `Dask.Delayed` instance."
   ]
  },
  {
   "cell_type": "code",
   "execution_count": 4,
   "metadata": {
    "collapsed": false,
    "scrolled": false
   },
   "outputs": [
    {
     "data": {
      "text/plain": [
       "Delayed('calculate_score-4b58fcf3-26e6-4254-924c-1ab27b74c8e3')"
      ]
     },
     "execution_count": 4,
     "metadata": {},
     "output_type": "execute_result"
    }
   ],
   "source": [
    "@ex\n",
    "def prepare_data(a, b):\n",
    "    return a + b \n",
    "\n",
    "@ex.result\n",
    "def calculate_score(s):\n",
    "    return 10 / s\n",
    "\n",
    "d = prepare_data(a, b)\n",
    "s = calculate_score(d)\n",
    "s"
   ]
  },
  {
   "cell_type": "markdown",
   "metadata": {},
   "source": [
    "Thus, you can visualize computation graph via `.visualize` method."
   ]
  },
  {
   "cell_type": "code",
   "execution_count": 5,
   "metadata": {
    "collapsed": false
   },
   "outputs": [
    {
     "data": {
      "image/png": "[encoded data removed]",
      "text/plain": [
       "<IPython.core.display.Image object>"
      ]
     },
     "execution_count": 5,
     "metadata": {},
     "output_type": "execute_result"
    }
   ],
   "source": [
    "s.visualize()"
   ]
  },
  {
   "cell_type": "markdown",
   "metadata": {},
   "source": [
    "Use `Experiment.set_parameters` method to set parameters for a trial. After setting parameters, `Parameter` variable and experiment result will be computable.\n",
    "\n",
    "Parameters are recommended to be a scalar (or lightweight value) because these are stored as history (for example, passing filename as a parameter is　preffered rather than passing `DataFrame`)."
   ]
  },
  {
   "cell_type": "code",
   "execution_count": 6,
   "metadata": {
    "collapsed": false,
    "scrolled": false
   },
   "outputs": [
    {
     "name": "stderr",
     "output_type": "stream",
     "text": [
      "2019-02-09 11:02:29,844 [daskperiment.core.parameter] [INFO] Updated parameters: a=1<class 'int'>, b=2<class 'int'>\n"
     ]
    },
    {
     "data": {
      "text/plain": [
       "1"
      ]
     },
     "execution_count": 6,
     "metadata": {},
     "output_type": "execute_result"
    }
   ],
   "source": [
    "ex.set_parameters(a=1, b=2)\n",
    "a.compute()"
   ]
  },
  {
   "cell_type": "code",
   "execution_count": 7,
   "metadata": {
    "collapsed": false
   },
   "outputs": [
    {
     "name": "stderr",
     "output_type": "stream",
     "text": [
      "2019-02-09 11:02:29,875 [daskperiment.core.trial] [INFO] Started Experiment (trial id=1)\n",
      "2019-02-09 11:02:29,876 [daskperiment.core.experiment] [INFO] Target: calculate_score-4b58fcf3-26e6-4254-924c-1ab27b74c8e3\n",
      "2019-02-09 11:02:29,877 [daskperiment.core.trial] [INFO] Parameters: a=1<class 'int'>, b=2<class 'int'>\n",
      "2019-02-09 11:02:29,879 [daskperiment.core.code] [INFO] Saving code context: daskperiment_cache/quickstart_pj/code/quickstart_pj_1.py\n",
      "2019-02-09 11:02:29,883 [daskperiment.core.environment] [INFO] Saving device info: daskperiment_cache/quickstart_pj/environment/device_quickstart_pj_1.txt\n",
      "2019-02-09 11:02:29,890 [daskperiment.core.environment] [INFO] Saving python packages: daskperiment_cache/quickstart_pj/environment/requirements_quickstart_pj_1.txt\n",
      "2019-02-09 11:02:29,896 [daskperiment.core.trial] [INFO] Finished Experiment (trial id=1)\n",
      "2019-02-09 11:02:29,897 [daskperiment.backend.local] [INFO] Saving Experiment to file: daskperiment_cache/quickstart_pj/quickstart_pj.pkl\n",
      "2019-02-09 11:02:29,899 [daskperiment.io.pickle] [INFO] Saving LocalBackend('daskperiment_cache/quickstart_pj') to path=daskperiment_cache/quickstart_pj/quickstart_pj.pkl\n"
     ]
    },
    {
     "data": {
      "text/plain": [
       "3.3333333333333335"
      ]
     },
     "execution_count": 7,
     "metadata": {},
     "output_type": "execute_result"
    }
   ],
   "source": [
    "s.compute()"
   ]
  },
  {
   "cell_type": "markdown",
   "metadata": {},
   "source": [
    "You can update any parameters for next trial. Every trials can be distinguished by trial id."
   ]
  },
  {
   "cell_type": "code",
   "execution_count": 8,
   "metadata": {
    "collapsed": false,
    "scrolled": false
   },
   "outputs": [
    {
     "name": "stderr",
     "output_type": "stream",
     "text": [
      "2019-02-09 11:02:29,913 [daskperiment.core.parameter] [INFO] Updated parameters: a=1<class 'int'>, b=3<class 'int'>\n",
      "2019-02-09 11:02:29,914 [daskperiment.core.trial] [INFO] Started Experiment (trial id=2)\n",
      "2019-02-09 11:02:29,916 [daskperiment.core.experiment] [INFO] Target: calculate_score-4b58fcf3-26e6-4254-924c-1ab27b74c8e3\n",
      "2019-02-09 11:02:29,917 [daskperiment.core.trial] [INFO] Parameters: a=1<class 'int'>, b=3<class 'int'>\n",
      "2019-02-09 11:02:29,919 [daskperiment.core.code] [INFO] Saving code context: daskperiment_cache/quickstart_pj/code/quickstart_pj_2.py\n",
      "2019-02-09 11:02:29,921 [daskperiment.core.environment] [INFO] Saving device info: daskperiment_cache/quickstart_pj/environment/device_quickstart_pj_2.txt\n",
      "2019-02-09 11:02:29,924 [daskperiment.core.environment] [INFO] Saving python packages: daskperiment_cache/quickstart_pj/environment/requirements_quickstart_pj_2.txt\n",
      "2019-02-09 11:02:29,930 [daskperiment.core.trial] [INFO] Finished Experiment (trial id=2)\n",
      "2019-02-09 11:02:29,931 [daskperiment.backend.local] [INFO] Saving Experiment to file: daskperiment_cache/quickstart_pj/quickstart_pj.pkl\n",
      "2019-02-09 11:02:29,933 [daskperiment.io.pickle] [INFO] Saving LocalBackend('daskperiment_cache/quickstart_pj') to path=daskperiment_cache/quickstart_pj/quickstart_pj.pkl\n"
     ]
    },
    {
     "data": {
      "text/plain": [
       "2.5"
      ]
     },
     "execution_count": 8,
     "metadata": {},
     "output_type": "execute_result"
    }
   ],
   "source": [
    "ex.set_parameters(b=3)\n",
    "s.compute()"
   ]
  },
  {
   "cell_type": "markdown",
   "metadata": {},
   "source": [
    "After some trials, you can retrieve parameter values specifying trial id."
   ]
  },
  {
   "cell_type": "code",
   "execution_count": 9,
   "metadata": {
    "collapsed": false,
    "scrolled": true
   },
   "outputs": [
    {
     "data": {
      "text/plain": [
       "{'a': 1, 'b': 2}"
      ]
     },
     "execution_count": 9,
     "metadata": {},
     "output_type": "execute_result"
    }
   ],
   "source": [
    "ex.get_parameters(trial_id=1)"
   ]
  },
  {
   "cell_type": "code",
   "execution_count": 10,
   "metadata": {
    "collapsed": false
   },
   "outputs": [
    {
     "data": {
      "text/plain": [
       "{'a': 1, 'b': 3}"
      ]
     },
     "execution_count": 10,
     "metadata": {},
     "output_type": "execute_result"
    }
   ],
   "source": [
    "ex.get_parameters(trial_id=2)"
   ]
  },
  {
   "cell_type": "markdown",
   "metadata": {},
   "source": [
    "`Experiment.get_history` will return a `DataFrame` which stores a history of trial parameters and its results. You can select desirable trial using `pandas` basic operation."
   ]
  },
  {
   "cell_type": "code",
   "execution_count": 11,
   "metadata": {
    "collapsed": false,
    "scrolled": false
   },
   "outputs": [
    {
     "data": {
      "text/html": [
       "<div>\n",
       "<style scoped>\n",
       "    .dataframe tbody tr th:only-of-type {\n",
       "        vertical-align: middle;\n",
       "    }\n",
       "\n",
       "    .dataframe tbody tr th {\n",
       "        vertical-align: top;\n",
       "    }\n",
       "\n",
       "    .dataframe thead th {\n",
       "        text-align: right;\n",
       "    }\n",
       "</style>\n",
       "<table border=\"1\" class=\"dataframe\">\n",
       "  <thead>\n",
       "    <tr style=\"text-align: right;\">\n",
       "      <th></th>\n",
       "      <th>a</th>\n",
       "      <th>b</th>\n",
       "      <th>Result</th>\n",
       "      <th>Result Type</th>\n",
       "      <th>Success</th>\n",
       "      <th>Finished</th>\n",
       "      <th>Process Time</th>\n",
       "      <th>Description</th>\n",
       "    </tr>\n",
       "    <tr>\n",
       "      <th>Trial ID</th>\n",
       "      <th></th>\n",
       "      <th></th>\n",
       "      <th></th>\n",
       "      <th></th>\n",
       "      <th></th>\n",
       "      <th></th>\n",
       "      <th></th>\n",
       "      <th></th>\n",
       "    </tr>\n",
       "  </thead>\n",
       "  <tbody>\n",
       "    <tr>\n",
       "      <th>1</th>\n",
       "      <td>1</td>\n",
       "      <td>2</td>\n",
       "      <td>3.333333</td>\n",
       "      <td>&lt;class 'float'&gt;</td>\n",
       "      <td>True</td>\n",
       "      <td>2019-02-09 11:02:29.896291</td>\n",
       "      <td>00:00:00.021617</td>\n",
       "      <td>NaN</td>\n",
       "    </tr>\n",
       "    <tr>\n",
       "      <th>2</th>\n",
       "      <td>1</td>\n",
       "      <td>3</td>\n",
       "      <td>2.500000</td>\n",
       "      <td>&lt;class 'float'&gt;</td>\n",
       "      <td>True</td>\n",
       "      <td>2019-02-09 11:02:29.930040</td>\n",
       "      <td>00:00:00.015249</td>\n",
       "      <td>NaN</td>\n",
       "    </tr>\n",
       "  </tbody>\n",
       "</table>\n",
       "</div>"
      ],
      "text/plain": [
       "          a  b    Result      Result Type  Success                   Finished  \\\n",
       "Trial ID                                                                        \n",
       "1         1  2  3.333333  <class 'float'>     True 2019-02-09 11:02:29.896291   \n",
       "2         1  3  2.500000  <class 'float'>     True 2019-02-09 11:02:29.930040   \n",
       "\n",
       "            Process Time  Description  \n",
       "Trial ID                               \n",
       "1        00:00:00.021617          NaN  \n",
       "2        00:00:00.015249          NaN  "
      ]
     },
     "execution_count": 11,
     "metadata": {},
     "output_type": "execute_result"
    }
   ],
   "source": [
    "ex.get_history()"
   ]
  },
  {
   "cell_type": "markdown",
   "metadata": {},
   "source": [
    "When any error occurs during the trial, `Experiment` instance stores the log as failed trial. The \"Description\" column contains the error detail."
   ]
  },
  {
   "cell_type": "code",
   "execution_count": 12,
   "metadata": {
    "collapsed": false
   },
   "outputs": [
    {
     "name": "stderr",
     "output_type": "stream",
     "text": [
      "2019-02-09 11:02:30,122 [daskperiment.core.parameter] [INFO] Updated parameters: a=1<class 'int'>, b=-1<class 'int'>\n",
      "2019-02-09 11:02:30,130 [daskperiment.core.trial] [INFO] Started Experiment (trial id=3)\n",
      "2019-02-09 11:02:30,135 [daskperiment.core.experiment] [INFO] Target: calculate_score-4b58fcf3-26e6-4254-924c-1ab27b74c8e3\n",
      "2019-02-09 11:02:30,138 [daskperiment.core.trial] [INFO] Parameters: a=1<class 'int'>, b=-1<class 'int'>\n",
      "2019-02-09 11:02:30,142 [daskperiment.core.code] [INFO] Saving code context: daskperiment_cache/quickstart_pj/code/quickstart_pj_3.py\n",
      "2019-02-09 11:02:30,147 [daskperiment.core.environment] [INFO] Saving device info: daskperiment_cache/quickstart_pj/environment/device_quickstart_pj_3.txt\n",
      "2019-02-09 11:02:30,154 [daskperiment.core.environment] [INFO] Saving python packages: daskperiment_cache/quickstart_pj/environment/requirements_quickstart_pj_3.txt\n",
      "2019-02-09 11:02:30,161 [daskperiment.core.experiment] [ERROR] Experiment failed: ZeroDivisionError(division by zero)\n",
      "2019-02-09 11:02:30,163 [daskperiment.core.trial] [INFO] Finished Experiment (trial id=3)\n",
      "2019-02-09 11:02:30,167 [daskperiment.backend.local] [INFO] Saving Experiment to file: daskperiment_cache/quickstart_pj/quickstart_pj.pkl\n",
      "2019-02-09 11:02:30,170 [daskperiment.io.pickle] [INFO] Saving LocalBackend('daskperiment_cache/quickstart_pj') to path=daskperiment_cache/quickstart_pj/quickstart_pj.pkl\n"
     ]
    },
    {
     "name": "stdout",
     "output_type": "stream",
     "text": [
      "ZeroDivisionError(division by zero)\n"
     ]
    }
   ],
   "source": [
    "ex.set_parameters(a=1, b=-1)\n",
    "try:\n",
    "    s.compute()\n",
    "    \n",
    "except ZeroDivisionError as e:\n",
    "    # To hide stack trace\n",
    "    print('{}({})'.format(e.__class__.__name__, e))"
   ]
  },
  {
   "cell_type": "code",
   "execution_count": 13,
   "metadata": {
    "collapsed": false
   },
   "outputs": [
    {
     "data": {
      "text/html": [
       "<div>\n",
       "<style scoped>\n",
       "    .dataframe tbody tr th:only-of-type {\n",
       "        vertical-align: middle;\n",
       "    }\n",
       "\n",
       "    .dataframe tbody tr th {\n",
       "        vertical-align: top;\n",
       "    }\n",
       "\n",
       "    .dataframe thead th {\n",
       "        text-align: right;\n",
       "    }\n",
       "</style>\n",
       "<table border=\"1\" class=\"dataframe\">\n",
       "  <thead>\n",
       "    <tr style=\"text-align: right;\">\n",
       "      <th></th>\n",
       "      <th>a</th>\n",
       "      <th>b</th>\n",
       "      <th>Result</th>\n",
       "      <th>Result Type</th>\n",
       "      <th>Success</th>\n",
       "      <th>Finished</th>\n",
       "      <th>Process Time</th>\n",
       "      <th>Description</th>\n",
       "    </tr>\n",
       "    <tr>\n",
       "      <th>Trial ID</th>\n",
       "      <th></th>\n",
       "      <th></th>\n",
       "      <th></th>\n",
       "      <th></th>\n",
       "      <th></th>\n",
       "      <th></th>\n",
       "      <th></th>\n",
       "      <th></th>\n",
       "    </tr>\n",
       "  </thead>\n",
       "  <tbody>\n",
       "    <tr>\n",
       "      <th>1</th>\n",
       "      <td>1</td>\n",
       "      <td>2</td>\n",
       "      <td>3.333333</td>\n",
       "      <td>&lt;class 'float'&gt;</td>\n",
       "      <td>True</td>\n",
       "      <td>2019-02-09 11:02:29.896291</td>\n",
       "      <td>00:00:00.021617</td>\n",
       "      <td>NaN</td>\n",
       "    </tr>\n",
       "    <tr>\n",
       "      <th>2</th>\n",
       "      <td>1</td>\n",
       "      <td>3</td>\n",
       "      <td>2.500000</td>\n",
       "      <td>&lt;class 'float'&gt;</td>\n",
       "      <td>True</td>\n",
       "      <td>2019-02-09 11:02:29.930040</td>\n",
       "      <td>00:00:00.015249</td>\n",
       "      <td>NaN</td>\n",
       "    </tr>\n",
       "    <tr>\n",
       "      <th>3</th>\n",
       "      <td>1</td>\n",
       "      <td>-1</td>\n",
       "      <td>NaN</td>\n",
       "      <td>None</td>\n",
       "      <td>False</td>\n",
       "      <td>2019-02-09 11:02:30.163082</td>\n",
       "      <td>00:00:00.032226</td>\n",
       "      <td>ZeroDivisionError(division by zero)</td>\n",
       "    </tr>\n",
       "  </tbody>\n",
       "</table>\n",
       "</div>"
      ],
      "text/plain": [
       "          a  b    Result      Result Type  Success                   Finished  \\\n",
       "Trial ID                                                                        \n",
       "1         1  2  3.333333  <class 'float'>     True 2019-02-09 11:02:29.896291   \n",
       "2         1  3  2.500000  <class 'float'>     True 2019-02-09 11:02:29.930040   \n",
       "3         1 -1       NaN             None    False 2019-02-09 11:02:30.163082   \n",
       "\n",
       "            Process Time                          Description  \n",
       "Trial ID                                                       \n",
       "1        00:00:00.021617                                  NaN  \n",
       "2        00:00:00.015249                                  NaN  \n",
       "3        00:00:00.032226  ZeroDivisionError(division by zero)  "
      ]
     },
     "execution_count": 13,
     "metadata": {},
     "output_type": "execute_result"
    }
   ],
   "source": [
    "ex.get_history()"
   ]
  },
  {
   "cell_type": "markdown",
   "metadata": {},
   "source": [
    "Every time the computation performed, `Experiment` instance is automatically saved to specified cache directory. When `Experiment` instance is initialized, it automatically load previous trials (check trial id in the log)."
   ]
  },
  {
   "cell_type": "markdown",
   "metadata": {},
   "source": [
    "# Handling intermediate result"
   ]
  },
  {
   "cell_type": "markdown",
   "metadata": {},
   "source": [
    "Next example shows how to retrieve an intermediate result of the chain.\n",
    "\n",
    "The only difference is using `Experiment.persist` decorator. It makes `Experiment` instance to keep the decorated function's intermediate result. After definition, rebuilt the same workflow using the persisted function. \n",
    "\n",
    "Note that an intermediate result is saved as a pickle file named with its function name, function name must be unique in the experiment."
   ]
  },
  {
   "cell_type": "code",
   "execution_count": 14,
   "metadata": {
    "collapsed": false,
    "scrolled": true
   },
   "outputs": [
    {
     "name": "stderr",
     "output_type": "stream",
     "text": [
      "2019-02-09 11:02:30,277 [daskperiment.core.code] [WARNING] Code context has been changed: prepare_data\n",
      "2019-02-09 11:02:30,281 [daskperiment.core.code] [WARNING] @@ -1,3 +1,3 @@\n",
      "\n",
      "2019-02-09 11:02:30,284 [daskperiment.core.code] [WARNING] -@ex\n",
      "2019-02-09 11:02:30,285 [daskperiment.core.code] [WARNING] +@ex.persist\n",
      "2019-02-09 11:02:30,289 [daskperiment.core.code] [WARNING]  def prepare_data(a, b):\n",
      "2019-02-09 11:02:30,290 [daskperiment.core.code] [WARNING] -    return a + b \n",
      "2019-02-09 11:02:30,292 [daskperiment.core.code] [WARNING] +    return a + b\n"
     ]
    }
   ],
   "source": [
    "@ex.persist\n",
    "def prepare_data(a, b):\n",
    "    return a + b\n",
    "\n",
    "d = prepare_data(a, b)\n",
    "s = calculate_score(d)"
   ]
  },
  {
   "cell_type": "markdown",
   "metadata": {},
   "source": [
    "NOTE: Also, you can notice that `daskperiment` outputs some \"WARNING\" indicating code contexts has been changed. It's because `daskperiment` automatically tracks code context to guarantee reproducibility.\n",
    "\n",
    "Let's perform some trials."
   ]
  },
  {
   "cell_type": "code",
   "execution_count": 15,
   "metadata": {
    "collapsed": false
   },
   "outputs": [
    {
     "name": "stderr",
     "output_type": "stream",
     "text": [
      "2019-02-09 11:02:30,303 [daskperiment.core.parameter] [INFO] Updated parameters: a=1<class 'int'>, b=2<class 'int'>\n",
      "2019-02-09 11:02:30,305 [daskperiment.core.trial] [INFO] Started Experiment (trial id=4)\n",
      "2019-02-09 11:02:30,307 [daskperiment.core.experiment] [INFO] Target: calculate_score-120a5d25-81ed-4885-a0e0-dc653cb79fa4\n",
      "2019-02-09 11:02:30,307 [daskperiment.core.trial] [INFO] Parameters: a=1<class 'int'>, b=2<class 'int'>\n",
      "2019-02-09 11:02:30,308 [daskperiment.core.code] [INFO] Saving code context: daskperiment_cache/quickstart_pj/code/quickstart_pj_4.py\n",
      "2019-02-09 11:02:30,310 [daskperiment.core.environment] [INFO] Saving device info: daskperiment_cache/quickstart_pj/environment/device_quickstart_pj_4.txt\n",
      "2019-02-09 11:02:30,312 [daskperiment.core.environment] [INFO] Saving python packages: daskperiment_cache/quickstart_pj/environment/requirements_quickstart_pj_4.txt\n",
      "2019-02-09 11:02:30,317 [daskperiment.io.pickle] [INFO] Saving 3 to path=daskperiment_cache/quickstart_pj/persist/quickstart_pj_prepare_data_4.pkl\n",
      "2019-02-09 11:02:30,321 [daskperiment.core.trial] [INFO] Finished Experiment (trial id=4)\n",
      "2019-02-09 11:02:30,322 [daskperiment.backend.local] [INFO] Saving Experiment to file: daskperiment_cache/quickstart_pj/quickstart_pj.pkl\n",
      "2019-02-09 11:02:30,322 [daskperiment.io.pickle] [INFO] Saving LocalBackend('daskperiment_cache/quickstart_pj') to path=daskperiment_cache/quickstart_pj/quickstart_pj.pkl\n"
     ]
    },
    {
     "data": {
      "text/plain": [
       "3.3333333333333335"
      ]
     },
     "execution_count": 15,
     "metadata": {},
     "output_type": "execute_result"
    }
   ],
   "source": [
    "ex.set_parameters(a=1, b=2)\n",
    "s.compute()"
   ]
  },
  {
   "cell_type": "code",
   "execution_count": 16,
   "metadata": {
    "collapsed": false
   },
   "outputs": [
    {
     "name": "stderr",
     "output_type": "stream",
     "text": [
      "2019-02-09 11:02:30,333 [daskperiment.core.parameter] [INFO] Updated parameters: a=3<class 'int'>, b=2<class 'int'>\n",
      "2019-02-09 11:02:30,337 [daskperiment.core.trial] [INFO] Started Experiment (trial id=5)\n",
      "2019-02-09 11:02:30,341 [daskperiment.core.experiment] [INFO] Target: calculate_score-120a5d25-81ed-4885-a0e0-dc653cb79fa4\n",
      "2019-02-09 11:02:30,344 [daskperiment.core.trial] [INFO] Parameters: a=3<class 'int'>, b=2<class 'int'>\n",
      "2019-02-09 11:02:30,355 [daskperiment.core.code] [INFO] Saving code context: daskperiment_cache/quickstart_pj/code/quickstart_pj_5.py\n",
      "2019-02-09 11:02:30,362 [daskperiment.core.environment] [INFO] Saving device info: daskperiment_cache/quickstart_pj/environment/device_quickstart_pj_5.txt\n",
      "2019-02-09 11:02:30,368 [daskperiment.core.environment] [INFO] Saving python packages: daskperiment_cache/quickstart_pj/environment/requirements_quickstart_pj_5.txt\n",
      "2019-02-09 11:02:30,377 [daskperiment.io.pickle] [INFO] Saving 5 to path=daskperiment_cache/quickstart_pj/persist/quickstart_pj_prepare_data_5.pkl\n",
      "2019-02-09 11:02:30,381 [daskperiment.core.trial] [INFO] Finished Experiment (trial id=5)\n",
      "2019-02-09 11:02:30,383 [daskperiment.backend.local] [INFO] Saving Experiment to file: daskperiment_cache/quickstart_pj/quickstart_pj.pkl\n",
      "2019-02-09 11:02:30,388 [daskperiment.io.pickle] [INFO] Saving LocalBackend('daskperiment_cache/quickstart_pj') to path=daskperiment_cache/quickstart_pj/quickstart_pj.pkl\n"
     ]
    },
    {
     "data": {
      "text/plain": [
       "2.0"
      ]
     },
     "execution_count": 16,
     "metadata": {},
     "output_type": "execute_result"
    }
   ],
   "source": [
    "ex.set_parameters(a=3, b=2)\n",
    "s.compute()"
   ]
  },
  {
   "cell_type": "markdown",
   "metadata": {},
   "source": [
    "You can retrieve intermediate results via `Experiment.get_persisted` method by specifying function name and trial id."
   ]
  },
  {
   "cell_type": "code",
   "execution_count": 17,
   "metadata": {
    "collapsed": false
   },
   "outputs": [
    {
     "name": "stderr",
     "output_type": "stream",
     "text": [
      "2019-02-09 11:02:30,413 [daskperiment.io.pickle] [INFO] Loaded 3 from path=daskperiment_cache/quickstart_pj/persist/quickstart_pj_prepare_data_4.pkl\n"
     ]
    },
    {
     "data": {
      "text/plain": [
       "3"
      ]
     },
     "execution_count": 17,
     "metadata": {},
     "output_type": "execute_result"
    }
   ],
   "source": [
    "ex.get_persisted('prepare_data', trial_id=4)"
   ]
  },
  {
   "cell_type": "code",
   "execution_count": 18,
   "metadata": {
    "collapsed": false
   },
   "outputs": [
    {
     "name": "stderr",
     "output_type": "stream",
     "text": [
      "2019-02-09 11:02:30,427 [daskperiment.io.pickle] [INFO] Loaded 5 from path=daskperiment_cache/quickstart_pj/persist/quickstart_pj_prepare_data_5.pkl\n"
     ]
    },
    {
     "data": {
      "text/plain": [
       "5"
      ]
     },
     "execution_count": 18,
     "metadata": {},
     "output_type": "execute_result"
    }
   ],
   "source": [
    "ex.get_persisted('prepare_data', trial_id=5)"
   ]
  },
  {
   "cell_type": "markdown",
   "metadata": {},
   "source": [
    "# Monitoring metrics"
   ]
  },
  {
   "cell_type": "markdown",
   "metadata": {},
   "source": [
    "You may need to monitor transition of some metrics during each trial. In each experiment function, you can call `Experiment.save_metric` to save metric with its key (name) and epoch."
   ]
  },
  {
   "cell_type": "code",
   "execution_count": 19,
   "metadata": {
    "collapsed": false,
    "scrolled": true
   },
   "outputs": [
    {
     "name": "stderr",
     "output_type": "stream",
     "text": [
      "2019-02-09 11:02:30,461 [daskperiment.core.code] [WARNING] Code context has been changed: calculate_score\n",
      "2019-02-09 11:02:30,463 [daskperiment.core.code] [WARNING] @@ -1,3 +1,6 @@\n",
      "\n",
      "2019-02-09 11:02:30,466 [daskperiment.core.code] [WARNING]  @ex.result\n",
      "2019-02-09 11:02:30,467 [daskperiment.core.code] [WARNING]  def calculate_score(s):\n",
      "2019-02-09 11:02:30,469 [daskperiment.core.code] [WARNING] +    for i in range(100):\n",
      "2019-02-09 11:02:30,475 [daskperiment.core.code] [WARNING] +        ex.save_metric('dummy_score', epoch=i, value=100 - np.random.random() * i)\n",
      "2019-02-09 11:02:30,476 [daskperiment.core.code] [WARNING] +        \n",
      "2019-02-09 11:02:30,479 [daskperiment.core.code] [WARNING]      return 10 / s\n"
     ]
    }
   ],
   "source": [
    "@ex.result\n",
    "def calculate_score(s):\n",
    "    for i in range(100):\n",
    "        ex.save_metric('dummy_score', epoch=i, value=100 - np.random.random() * i)\n",
    "        \n",
    "    return 10 / s\n",
    "\n",
    "d = prepare_data(a, b)\n",
    "s = calculate_score(d)"
   ]
  },
  {
   "cell_type": "code",
   "execution_count": 20,
   "metadata": {
    "collapsed": false,
    "scrolled": false
   },
   "outputs": [
    {
     "name": "stderr",
     "output_type": "stream",
     "text": [
      "2019-02-09 11:02:30,493 [daskperiment.core.parameter] [INFO] Updated parameters: a=1<class 'int'>, b=2<class 'int'>\n",
      "2019-02-09 11:02:30,495 [daskperiment.core.trial] [INFO] Started Experiment (trial id=6)\n",
      "2019-02-09 11:02:30,498 [daskperiment.core.experiment] [INFO] Target: calculate_score-c7a01029-bd80-4a0c-b4d9-689eb2369434\n",
      "2019-02-09 11:02:30,499 [daskperiment.core.trial] [INFO] Parameters: a=1<class 'int'>, b=2<class 'int'>\n",
      "2019-02-09 11:02:30,501 [daskperiment.core.code] [INFO] Saving code context: daskperiment_cache/quickstart_pj/code/quickstart_pj_6.py\n",
      "2019-02-09 11:02:30,503 [daskperiment.core.environment] [INFO] Saving device info: daskperiment_cache/quickstart_pj/environment/device_quickstart_pj_6.txt\n",
      "2019-02-09 11:02:30,505 [daskperiment.core.environment] [INFO] Saving python packages: daskperiment_cache/quickstart_pj/environment/requirements_quickstart_pj_6.txt\n",
      "2019-02-09 11:02:30,510 [daskperiment.io.pickle] [INFO] Saving 3 to path=daskperiment_cache/quickstart_pj/persist/quickstart_pj_prepare_data_6.pkl\n",
      "2019-02-09 11:02:30,514 [daskperiment.core.trial] [INFO] Finished Experiment (trial id=6)\n",
      "2019-02-09 11:02:30,515 [daskperiment.backend.local] [INFO] Saving Experiment to file: daskperiment_cache/quickstart_pj/quickstart_pj.pkl\n",
      "2019-02-09 11:02:30,517 [daskperiment.io.pickle] [INFO] Saving LocalBackend('daskperiment_cache/quickstart_pj') to path=daskperiment_cache/quickstart_pj/quickstart_pj.pkl\n"
     ]
    },
    {
     "data": {
      "text/plain": [
       "3.3333333333333335"
      ]
     },
     "execution_count": 20,
     "metadata": {},
     "output_type": "execute_result"
    }
   ],
   "source": [
    "ex.set_parameters(a=1, b=2)\n",
    "s.compute()"
   ]
  },
  {
   "cell_type": "markdown",
   "metadata": {},
   "source": [
    "After a trial, you can load saved metric using `Experiment.load_metric` specifying its name and trial_id. As it is returned as `DataFrame`, you can easily investigate it."
   ]
  },
  {
   "cell_type": "code",
   "execution_count": 21,
   "metadata": {
    "collapsed": false
   },
   "outputs": [
    {
     "name": "stdout",
     "output_type": "stream",
     "text": [
      "Trial ID           6\n",
      "Epoch               \n",
      "0         100.000000\n",
      "1          99.565659\n",
      "2          99.012281\n",
      "3          97.125371\n",
      "4          96.292892\n"
     ]
    }
   ],
   "source": [
    "dummy_score = ex.load_metric('dummy_score', trial_id=6)\n",
    "print(dummy_score.head())"
   ]
  },
  {
   "cell_type": "code",
   "execution_count": 22,
   "metadata": {
    "collapsed": false
   },
   "outputs": [
    {
     "data": {
      "text/plain": [
       "<matplotlib.axes._subplots.AxesSubplot at 0x123caf5c0>"
      ]
     },
     "execution_count": 22,
     "metadata": {},
     "output_type": "execute_result"
    },
    {
     "data": {
      "image/png": "[encoded data removed]",
      "text/plain": [
       "<Figure size 432x288 with 1 Axes>"
      ]
     },
     "metadata": {
      "needs_background": "light"
     },
     "output_type": "display_data"
    }
   ],
   "source": [
    "dummy_score.plot()"
   ]
  },
  {
   "cell_type": "markdown",
   "metadata": {},
   "source": [
    "Perform another trial."
   ]
  },
  {
   "cell_type": "code",
   "execution_count": 23,
   "metadata": {
    "collapsed": false
   },
   "outputs": [
    {
     "name": "stderr",
     "output_type": "stream",
     "text": [
      "2019-02-09 11:02:30,960 [daskperiment.core.parameter] [INFO] Updated parameters: a=3<class 'int'>, b=4<class 'int'>\n",
      "2019-02-09 11:02:30,964 [daskperiment.core.trial] [INFO] Started Experiment (trial id=7)\n",
      "2019-02-09 11:02:30,967 [daskperiment.core.experiment] [INFO] Target: calculate_score-c7a01029-bd80-4a0c-b4d9-689eb2369434\n",
      "2019-02-09 11:02:30,969 [daskperiment.core.trial] [INFO] Parameters: a=3<class 'int'>, b=4<class 'int'>\n",
      "2019-02-09 11:02:30,971 [daskperiment.core.code] [INFO] Saving code context: daskperiment_cache/quickstart_pj/code/quickstart_pj_7.py\n",
      "2019-02-09 11:02:30,974 [daskperiment.core.environment] [INFO] Saving device info: daskperiment_cache/quickstart_pj/environment/device_quickstart_pj_7.txt\n",
      "2019-02-09 11:02:30,977 [daskperiment.core.environment] [INFO] Saving python packages: daskperiment_cache/quickstart_pj/environment/requirements_quickstart_pj_7.txt\n",
      "2019-02-09 11:02:30,981 [daskperiment.io.pickle] [INFO] Saving 7 to path=daskperiment_cache/quickstart_pj/persist/quickstart_pj_prepare_data_7.pkl\n",
      "2019-02-09 11:02:30,987 [daskperiment.core.trial] [INFO] Finished Experiment (trial id=7)\n",
      "2019-02-09 11:02:30,989 [daskperiment.backend.local] [INFO] Saving Experiment to file: daskperiment_cache/quickstart_pj/quickstart_pj.pkl\n",
      "2019-02-09 11:02:30,990 [daskperiment.io.pickle] [INFO] Saving LocalBackend('daskperiment_cache/quickstart_pj') to path=daskperiment_cache/quickstart_pj/quickstart_pj.pkl\n"
     ]
    },
    {
     "data": {
      "text/plain": [
       "1.4285714285714286"
      ]
     },
     "execution_count": 23,
     "metadata": {},
     "output_type": "execute_result"
    }
   ],
   "source": [
    "ex.set_parameters(a=3, b=4)\n",
    "s.compute()"
   ]
  },
  {
   "cell_type": "markdown",
   "metadata": {},
   "source": [
    "To compare metrics between trials, pass multiple trial ids to `Experiment.load_metric`."
   ]
  },
  {
   "cell_type": "code",
   "execution_count": 24,
   "metadata": {
    "collapsed": false
   },
   "outputs": [
    {
     "data": {
      "text/plain": [
       "<matplotlib.axes._subplots.AxesSubplot at 0x123fc68d0>"
      ]
     },
     "execution_count": 24,
     "metadata": {},
     "output_type": "execute_result"
    },
    {
     "data": {
      "image/png": "[encoded data removed]",
      "text/plain": [
       "<Figure size 432x288 with 1 Axes>"
      ]
     },
     "metadata": {
      "needs_background": "light"
     },
     "output_type": "display_data"
    }
   ],
   "source": [
    "ex.load_metric('dummy_score', trial_id=[6, 7]).plot()"
   ]
  },
  {
   "cell_type": "markdown",
   "metadata": {},
   "source": [
    "# Check code context"
   ]
  },
  {
   "cell_type": "markdown",
   "metadata": {},
   "source": [
    "The above example illustrated `daskperiment` tracks code contexts decorated with `Experiment` decorators. \n",
    "\n",
    "To check the tracked code contexts, use `Experiment.get_code` specifying trial id (shows current code if trial id is not provided)."
   ]
  },
  {
   "cell_type": "code",
   "execution_count": 25,
   "metadata": {
    "collapsed": false,
    "scrolled": false
   },
   "outputs": [
    {
     "name": "stdout",
     "output_type": "stream",
     "text": [
      "@ex.persist\n",
      "def prepare_data(a, b):\n",
      "    return a + b\n",
      "\n",
      "\n",
      "@ex.result\n",
      "def calculate_score(s):\n",
      "    for i in range(100):\n",
      "        ex.save_metric('dummy_score', epoch=i, value=100 - np.random.random() * i)\n",
      "        \n",
      "    return 10 / s\n",
      "\n"
     ]
    }
   ],
   "source": [
    "print(ex.get_code())"
   ]
  },
  {
   "cell_type": "code",
   "execution_count": 26,
   "metadata": {
    "collapsed": false,
    "scrolled": true
   },
   "outputs": [
    {
     "name": "stdout",
     "output_type": "stream",
     "text": [
      "@ex\n",
      "def prepare_data(a, b):\n",
      "    return a + b \n",
      "\n",
      "\n",
      "@ex.result\n",
      "def calculate_score(s):\n",
      "    return 10 / s\n",
      "\n"
     ]
    }
   ],
   "source": [
    "print(ex.get_code(trial_id=1))"
   ]
  },
  {
   "cell_type": "markdown",
   "metadata": {},
   "source": [
    "Each code context is also saved as a text file per trial id. Thus, these are easily handled by diff tools and  Git."
   ]
  },
  {
   "cell_type": "code",
   "execution_count": 27,
   "metadata": {
    "collapsed": false
   },
   "outputs": [
    {
     "name": "stdout",
     "output_type": "stream",
     "text": [
      "# Code output saved in trial_id=1\r\n",
      "@ex\r\n",
      "def prepare_data(a, b):\r\n",
      "    return a + b \r\n",
      "\r\n",
      "\r\n",
      "@ex.result\r\n",
      "def calculate_score(s):\r\n",
      "    return 10 / s\r\n"
     ]
    }
   ],
   "source": [
    "%cat daskperiment_cache/quickstart_pj/code/quickstart_pj_1.py"
   ]
  },
  {
   "cell_type": "markdown",
   "metadata": {},
   "source": [
    "# Save experiment result\n",
    "\n",
    "`daskperiment` automatically saves its internal state when the experiment result is computed (when `.compute` is called). Also, `Experiment` instance automatically recover previous state when it is instanciated.\n",
    "\n",
    "Following example instanciates `Experiment` instance using the same id as above. Thus, the created `Experiment` automatically recovers its state. "
   ]
  },
  {
   "cell_type": "code",
   "execution_count": 28,
   "metadata": {
    "collapsed": false
   },
   "outputs": [
    {
     "name": "stderr",
     "output_type": "stream",
     "text": [
      "2019-02-09 11:02:31,609 [daskperiment.io.pickle] [INFO] Use existing cache directory: /Users/sinhrks/Git/daskperiment/notebook/daskperiment_cache/quickstart_pj\n",
      "2019-02-09 11:02:31,612 [daskperiment.backend.local] [INFO] Loading Experiment from file: daskperiment_cache/quickstart_pj/quickstart_pj.pkl\n",
      "2019-02-09 11:02:31,615 [daskperiment.io.pickle] [INFO] Loaded LocalBackend('daskperiment_cache/quickstart_pj') from path=daskperiment_cache/quickstart_pj/quickstart_pj.pkl\n",
      "2019-02-09 11:02:31,618 [daskperiment.core.experiment] [INFO] Loaded existing experiment: Experiment(id: quickstart_pj, trial_id: 7, backend: LocalBackend('daskperiment_cache/quickstart_pj'))\n",
      "2019-02-09 11:02:31,624 [daskperiment.core.environment] [INFO] Platform: Darwin-17.7.0-x86_64-i386-64bit\n",
      "2019-02-09 11:02:31,625 [daskperiment.core.environment] [INFO] Python: CPython 3.6.6 (Jupyter Notebook)\n",
      "2019-02-09 11:02:31,627 [daskperiment.core.environment] [INFO] daskperiment version: 0.2.1.dev0\n",
      "2019-02-09 11:02:31,629 [daskperiment.core.environment] [INFO] daskperiment path: /Users/masaaki.horikoshi/anaconda/lib/python3.6/site-packages/daskperiment-0.2.1.dev0-py3.6.egg/daskperiment\n",
      "2019-02-09 11:02:31,631 [daskperiment.core.environment] [INFO] Working directory: /Users/sinhrks/Git/daskperiment/notebook\n",
      "2019-02-09 11:02:31,632 [daskperiment.core.environment] [INFO] Number of installed Python packages: 339\n"
     ]
    }
   ],
   "source": [
    "ex_new = daskperiment.Experiment(id='quickstart_pj')"
   ]
  },
  {
   "cell_type": "markdown",
   "metadata": {},
   "source": [
    "Calling `.get_history` returns information of previous trials."
   ]
  },
  {
   "cell_type": "code",
   "execution_count": 29,
   "metadata": {
    "collapsed": false
   },
   "outputs": [
    {
     "data": {
      "text/html": [
       "<div>\n",
       "<style scoped>\n",
       "    .dataframe tbody tr th:only-of-type {\n",
       "        vertical-align: middle;\n",
       "    }\n",
       "\n",
       "    .dataframe tbody tr th {\n",
       "        vertical-align: top;\n",
       "    }\n",
       "\n",
       "    .dataframe thead th {\n",
       "        text-align: right;\n",
       "    }\n",
       "</style>\n",
       "<table border=\"1\" class=\"dataframe\">\n",
       "  <thead>\n",
       "    <tr style=\"text-align: right;\">\n",
       "      <th></th>\n",
       "      <th>a</th>\n",
       "      <th>b</th>\n",
       "      <th>Result</th>\n",
       "      <th>Result Type</th>\n",
       "      <th>Success</th>\n",
       "      <th>Finished</th>\n",
       "      <th>Process Time</th>\n",
       "      <th>Description</th>\n",
       "    </tr>\n",
       "    <tr>\n",
       "      <th>Trial ID</th>\n",
       "      <th></th>\n",
       "      <th></th>\n",
       "      <th></th>\n",
       "      <th></th>\n",
       "      <th></th>\n",
       "      <th></th>\n",
       "      <th></th>\n",
       "      <th></th>\n",
       "    </tr>\n",
       "  </thead>\n",
       "  <tbody>\n",
       "    <tr>\n",
       "      <th>1</th>\n",
       "      <td>1</td>\n",
       "      <td>2</td>\n",
       "      <td>3.333333</td>\n",
       "      <td>&lt;class 'float'&gt;</td>\n",
       "      <td>True</td>\n",
       "      <td>2019-02-09 11:02:29.896291</td>\n",
       "      <td>00:00:00.021617</td>\n",
       "      <td>NaN</td>\n",
       "    </tr>\n",
       "    <tr>\n",
       "      <th>2</th>\n",
       "      <td>1</td>\n",
       "      <td>3</td>\n",
       "      <td>2.500000</td>\n",
       "      <td>&lt;class 'float'&gt;</td>\n",
       "      <td>True</td>\n",
       "      <td>2019-02-09 11:02:29.930040</td>\n",
       "      <td>00:00:00.015249</td>\n",
       "      <td>NaN</td>\n",
       "    </tr>\n",
       "    <tr>\n",
       "      <th>3</th>\n",
       "      <td>1</td>\n",
       "      <td>-1</td>\n",
       "      <td>NaN</td>\n",
       "      <td>None</td>\n",
       "      <td>False</td>\n",
       "      <td>2019-02-09 11:02:30.163082</td>\n",
       "      <td>00:00:00.032226</td>\n",
       "      <td>ZeroDivisionError(division by zero)</td>\n",
       "    </tr>\n",
       "    <tr>\n",
       "      <th>4</th>\n",
       "      <td>1</td>\n",
       "      <td>2</td>\n",
       "      <td>3.333333</td>\n",
       "      <td>&lt;class 'float'&gt;</td>\n",
       "      <td>True</td>\n",
       "      <td>2019-02-09 11:02:30.321098</td>\n",
       "      <td>00:00:00.015283</td>\n",
       "      <td>NaN</td>\n",
       "    </tr>\n",
       "    <tr>\n",
       "      <th>5</th>\n",
       "      <td>3</td>\n",
       "      <td>2</td>\n",
       "      <td>2.000000</td>\n",
       "      <td>&lt;class 'float'&gt;</td>\n",
       "      <td>True</td>\n",
       "      <td>2019-02-09 11:02:30.381651</td>\n",
       "      <td>00:00:00.044394</td>\n",
       "      <td>NaN</td>\n",
       "    </tr>\n",
       "    <tr>\n",
       "      <th>6</th>\n",
       "      <td>1</td>\n",
       "      <td>2</td>\n",
       "      <td>3.333333</td>\n",
       "      <td>&lt;class 'float'&gt;</td>\n",
       "      <td>True</td>\n",
       "      <td>2019-02-09 11:02:30.514058</td>\n",
       "      <td>00:00:00.018157</td>\n",
       "      <td>NaN</td>\n",
       "    </tr>\n",
       "    <tr>\n",
       "      <th>7</th>\n",
       "      <td>3</td>\n",
       "      <td>4</td>\n",
       "      <td>1.428571</td>\n",
       "      <td>&lt;class 'float'&gt;</td>\n",
       "      <td>True</td>\n",
       "      <td>2019-02-09 11:02:30.987444</td>\n",
       "      <td>00:00:00.023228</td>\n",
       "      <td>NaN</td>\n",
       "    </tr>\n",
       "  </tbody>\n",
       "</table>\n",
       "</div>"
      ],
      "text/plain": [
       "          a  b    Result      Result Type  Success                   Finished  \\\n",
       "Trial ID                                                                        \n",
       "1         1  2  3.333333  <class 'float'>     True 2019-02-09 11:02:29.896291   \n",
       "2         1  3  2.500000  <class 'float'>     True 2019-02-09 11:02:29.930040   \n",
       "3         1 -1       NaN             None    False 2019-02-09 11:02:30.163082   \n",
       "4         1  2  3.333333  <class 'float'>     True 2019-02-09 11:02:30.321098   \n",
       "5         3  2  2.000000  <class 'float'>     True 2019-02-09 11:02:30.381651   \n",
       "6         1  2  3.333333  <class 'float'>     True 2019-02-09 11:02:30.514058   \n",
       "7         3  4  1.428571  <class 'float'>     True 2019-02-09 11:02:30.987444   \n",
       "\n",
       "            Process Time                          Description  \n",
       "Trial ID                                                       \n",
       "1        00:00:00.021617                                  NaN  \n",
       "2        00:00:00.015249                                  NaN  \n",
       "3        00:00:00.032226  ZeroDivisionError(division by zero)  \n",
       "4        00:00:00.015283                                  NaN  \n",
       "5        00:00:00.044394                                  NaN  \n",
       "6        00:00:00.018157                                  NaN  \n",
       "7        00:00:00.023228                                  NaN  "
      ]
     },
     "execution_count": 29,
     "metadata": {},
     "output_type": "execute_result"
    }
   ],
   "source": [
    "ex_new.get_history()"
   ]
  },
  {
   "cell_type": "markdown",
   "metadata": {},
   "source": [
    "Also, `Experiment` instance automatically detects the environment change from its previous trial. Following is a sample log when package update is detected (pandas 0.23.4 -> 0.24.0).\n",
    "\n",
    "    2019-01-29 00:22:35,357 [daskperiment.io.serialize] [INFO] Loaded Experiment(id: quickstart_pj, trial_id: 14) from path=daskperiment_cache/quickstart_pj/quickstart_pj.pkl\n",
    "    2019-01-29 00:22:35,404 [daskperiment.core.environment] [WARNING] Installed Python packages have been changed\n",
    "    2019-01-29 00:22:35,408 [daskperiment.core.environment] [WARNING] @@ -142 +142 @@\n",
    "    2019-01-29 00:22:35,411 [daskperiment.core.environment] [WARNING] -pandas 0.23.4 (/Users/sinhrks/anaconda/lib/python3.6/site-packages)\n",
    "    2019-01-29 00:22:35,412 [daskperiment.core.environment] [WARNING] +pandas 0.24.0 (/Users/sinhrks/anaconda/lib/python3.6/site-packages)"
   ]
  },
  {
   "cell_type": "markdown",
   "metadata": {
    "collapsed": true
   },
   "source": [
    "# Run as CLI\n",
    "\n",
    "`daskperiment` also supports execution from command line. First, prepare a `Python` script to define experiment. The usage of `Experiment` class is all the same as Jupyter example. `daskperiment` regards a result of a function decorated with `Experiment.result` (`calculate_score` function in below case) as experiment output."
   ]
  },
  {
   "cell_type": "code",
   "execution_count": 30,
   "metadata": {
    "collapsed": false
   },
   "outputs": [
    {
     "name": "stdout",
     "output_type": "stream",
     "text": [
      "import daskperiment\r\n",
      "\r\n",
      "ex = daskperiment.Experiment(id='simple_experiment_pj')\r\n",
      "\r\n",
      "a = ex.parameter('a')\r\n",
      "b = ex.parameter('b')\r\n",
      "\r\n",
      "\r\n",
      "@ex\r\n",
      "def prepare_data(a, b):\r\n",
      "    return a + b\r\n",
      "\r\n",
      "\r\n",
      "@ex.result\r\n",
      "def calculate_score(s):\r\n",
      "    return s + 1\r\n",
      "\r\n",
      "\r\n",
      "d = prepare_data(a, b)\r\n",
      "calculate_score(d)\r\n"
     ]
    }
   ],
   "source": [
    "%cat ../scripts/simple_experiment.py"
   ]
  },
  {
   "cell_type": "markdown",
   "metadata": {},
   "source": [
    "You can provide parameter values from command line options using `key=value` format. `daskperinemt` automatically parse parameters and perform computation."
   ]
  },
  {
   "cell_type": "code",
   "execution_count": 31,
   "metadata": {
    "collapsed": false
   },
   "outputs": [
    {
     "name": "stdout",
     "output_type": "stream",
     "text": [
      "2019-02-09 11:02:32,577 [daskperiment.io.pickle] [INFO] Creating new cache directory: /Users/sinhrks/Git/daskperiment/notebook/daskperiment_cache/simple_experiment_pj\n",
      "2019-02-09 11:02:32,580 [daskperiment.core.experiment] [INFO] Initialized new experiment: Experiment(id: simple_experiment_pj, trial_id: 0, backend: LocalBackend('daskperiment_cache/simple_experiment_pj'))\n",
      "2019-02-09 11:02:32,968 [daskperiment.core.environment] [INFO] Platform: Darwin-17.7.0-x86_64-i386-64bit\n",
      "2019-02-09 11:02:32,969 [daskperiment.core.environment] [INFO] Python: CPython 3.6.6 (File)\n",
      "2019-02-09 11:02:32,969 [daskperiment.core.environment] [INFO] daskperiment version: 0.2.1.dev0\n",
      "2019-02-09 11:02:32,969 [daskperiment.core.environment] [INFO] daskperiment path: /Users/masaaki.horikoshi/anaconda/lib/python3.6/site-packages/daskperiment-0.2.1.dev0-py3.6.egg/daskperiment\n",
      "2019-02-09 11:02:32,969 [daskperiment.core.environment] [INFO] Working directory: /Users/sinhrks/Git/daskperiment/notebook\n",
      "2019-02-09 11:02:32,969 [daskperiment.core.environment] [INFO] Number of installed Python packages: 339\n",
      "2019-02-09 11:02:32,977 [daskperiment.core.parameter] [INFO] Updated parameters: a=1<class 'int'>, b=2<class 'int'>\n",
      "2019-02-09 11:02:32,977 [daskperiment.core.trial] [INFO] Started Experiment (trial id=1)\n",
      "2019-02-09 11:02:32,977 [daskperiment.core.experiment] [INFO] Target: calculate_score-6b3ae549-8c1c-49a2-8ac9-9f8bfdc8d41c\n",
      "2019-02-09 11:02:32,978 [daskperiment.core.trial] [INFO] Parameters: a=1<class 'int'>, b=2<class 'int'>\n",
      "2019-02-09 11:02:32,978 [daskperiment.core.code] [INFO] Saving code context: daskperiment_cache/simple_experiment_pj/code/simple_experiment_pj_1.py\n",
      "2019-02-09 11:02:32,978 [daskperiment.core.environment] [INFO] Saving device info: daskperiment_cache/simple_experiment_pj/environment/device_simple_experiment_pj_1.txt\n",
      "2019-02-09 11:02:32,979 [daskperiment.core.environment] [INFO] Saving python packages: daskperiment_cache/simple_experiment_pj/environment/requirements_simple_experiment_pj_1.txt\n",
      "2019-02-09 11:02:32,983 [daskperiment.core.trial] [INFO] Finished Experiment (trial id=1)\n",
      "2019-02-09 11:02:32,984 [daskperiment.backend.local] [INFO] Saving Experiment to file: daskperiment_cache/simple_experiment_pj/simple_experiment_pj.pkl\n",
      "2019-02-09 11:02:32,984 [daskperiment.io.pickle] [INFO] Saving LocalBackend('daskperiment_cache/simple_experiment_pj') to path=daskperiment_cache/simple_experiment_pj/simple_experiment_pj.pkl\n"
     ]
    }
   ],
   "source": [
    "!python ../scripts/simple_experiment.py a=1 b=2"
   ]
  },
  {
   "cell_type": "markdown",
   "metadata": {},
   "source": [
    "Let's perform multiple trials using different parameters. `daskperiment` automatically saves trial history as the same as Jupyter example (see trial id is incremented)."
   ]
  },
  {
   "cell_type": "code",
   "execution_count": 32,
   "metadata": {
    "collapsed": false
   },
   "outputs": [
    {
     "name": "stdout",
     "output_type": "stream",
     "text": [
      "2019-02-09 11:02:34,051 [daskperiment.io.pickle] [INFO] Use existing cache directory: /Users/sinhrks/Git/daskperiment/notebook/daskperiment_cache/simple_experiment_pj\n",
      "2019-02-09 11:02:34,054 [daskperiment.backend.local] [INFO] Loading Experiment from file: daskperiment_cache/simple_experiment_pj/simple_experiment_pj.pkl\n",
      "2019-02-09 11:02:34,055 [daskperiment.io.pickle] [INFO] Loaded LocalBackend('daskperiment_cache/simple_experiment_pj') from path=daskperiment_cache/simple_experiment_pj/simple_experiment_pj.pkl\n",
      "2019-02-09 11:02:34,055 [daskperiment.core.experiment] [INFO] Loaded existing experiment: Experiment(id: simple_experiment_pj, trial_id: 1, backend: LocalBackend('daskperiment_cache/simple_experiment_pj'))\n",
      "2019-02-09 11:02:34,551 [daskperiment.core.environment] [INFO] Platform: Darwin-17.7.0-x86_64-i386-64bit\n",
      "2019-02-09 11:02:34,551 [daskperiment.core.environment] [INFO] Python: CPython 3.6.6 (File)\n",
      "2019-02-09 11:02:34,551 [daskperiment.core.environment] [INFO] daskperiment version: 0.2.1.dev0\n",
      "2019-02-09 11:02:34,551 [daskperiment.core.environment] [INFO] daskperiment path: /Users/masaaki.horikoshi/anaconda/lib/python3.6/site-packages/daskperiment-0.2.1.dev0-py3.6.egg/daskperiment\n",
      "2019-02-09 11:02:34,551 [daskperiment.core.environment] [INFO] Working directory: /Users/sinhrks/Git/daskperiment/notebook\n",
      "2019-02-09 11:02:34,551 [daskperiment.core.environment] [INFO] Number of installed Python packages: 339\n",
      "2019-02-09 11:02:34,567 [daskperiment.core.parameter] [INFO] Updated parameters: a=3<class 'int'>, b=2<class 'int'>\n",
      "2019-02-09 11:02:34,567 [daskperiment.core.trial] [INFO] Started Experiment (trial id=2)\n",
      "2019-02-09 11:02:34,568 [daskperiment.core.experiment] [INFO] Target: calculate_score-868e61ad-693f-4b0a-87e6-cb26cd06259a\n",
      "2019-02-09 11:02:34,568 [daskperiment.core.trial] [INFO] Parameters: a=3<class 'int'>, b=2<class 'int'>\n",
      "2019-02-09 11:02:34,569 [daskperiment.core.code] [INFO] Saving code context: daskperiment_cache/simple_experiment_pj/code/simple_experiment_pj_2.py\n",
      "2019-02-09 11:02:34,570 [daskperiment.core.environment] [INFO] Saving device info: daskperiment_cache/simple_experiment_pj/environment/device_simple_experiment_pj_2.txt\n",
      "2019-02-09 11:02:34,571 [daskperiment.core.environment] [INFO] Saving python packages: daskperiment_cache/simple_experiment_pj/environment/requirements_simple_experiment_pj_2.txt\n",
      "2019-02-09 11:02:34,579 [daskperiment.core.trial] [INFO] Finished Experiment (trial id=2)\n",
      "2019-02-09 11:02:34,579 [daskperiment.backend.local] [INFO] Saving Experiment to file: daskperiment_cache/simple_experiment_pj/simple_experiment_pj.pkl\n",
      "2019-02-09 11:02:34,579 [daskperiment.io.pickle] [INFO] Saving LocalBackend('daskperiment_cache/simple_experiment_pj') to path=daskperiment_cache/simple_experiment_pj/simple_experiment_pj.pkl\n"
     ]
    }
   ],
   "source": [
    "!python ../scripts/simple_experiment.py a=3 b=2"
   ]
  },
  {
   "cell_type": "markdown",
   "metadata": {},
   "source": [
    "To confirm the experiment results, instanciate Experiment specifying the same id as the script and use Experiment.get_history."
   ]
  },
  {
   "cell_type": "code",
   "execution_count": 33,
   "metadata": {
    "collapsed": false
   },
   "outputs": [
    {
     "name": "stderr",
     "output_type": "stream",
     "text": [
      "2019-02-09 11:02:34,978 [daskperiment.io.pickle] [INFO] Use existing cache directory: /Users/sinhrks/Git/daskperiment/notebook/daskperiment_cache/simple_experiment_pj\n",
      "2019-02-09 11:02:34,982 [daskperiment.backend.local] [INFO] Loading Experiment from file: daskperiment_cache/simple_experiment_pj/simple_experiment_pj.pkl\n",
      "2019-02-09 11:02:34,986 [daskperiment.io.pickle] [INFO] Loaded LocalBackend('daskperiment_cache/simple_experiment_pj') from path=daskperiment_cache/simple_experiment_pj/simple_experiment_pj.pkl\n",
      "2019-02-09 11:02:34,988 [daskperiment.core.experiment] [INFO] Loaded existing experiment: Experiment(id: simple_experiment_pj, trial_id: 2, backend: LocalBackend('daskperiment_cache/simple_experiment_pj'))\n",
      "2019-02-09 11:02:34,991 [daskperiment.core.environment] [INFO] Platform: Darwin-17.7.0-x86_64-i386-64bit\n",
      "2019-02-09 11:02:34,993 [daskperiment.core.environment] [INFO] Python: CPython 3.6.6 (Jupyter Notebook)\n",
      "2019-02-09 11:02:34,994 [daskperiment.core.environment] [INFO] daskperiment version: 0.2.1.dev0\n",
      "2019-02-09 11:02:34,996 [daskperiment.core.environment] [INFO] daskperiment path: /Users/masaaki.horikoshi/anaconda/lib/python3.6/site-packages/daskperiment-0.2.1.dev0-py3.6.egg/daskperiment\n",
      "2019-02-09 11:02:34,999 [daskperiment.core.environment] [INFO] Working directory: /Users/sinhrks/Git/daskperiment/notebook\n",
      "2019-02-09 11:02:35,003 [daskperiment.core.environment] [INFO] Number of installed Python packages: 339\n",
      "2019-02-09 11:02:35,005 [daskperiment.core.environment] [WARNING] Environment information has been changed\n",
      "2019-02-09 11:02:35,008 [daskperiment.core.environment] [WARNING] @@ -2 +2 @@\n",
      "\n",
      "2019-02-09 11:02:35,014 [daskperiment.core.environment] [WARNING] -Python: CPython 3.6.6 (File)\n",
      "2019-02-09 11:02:35,016 [daskperiment.core.environment] [WARNING] +Python: CPython 3.6.6 (Jupyter Notebook)\n"
     ]
    },
    {
     "data": {
      "text/html": [
       "<div>\n",
       "<style scoped>\n",
       "    .dataframe tbody tr th:only-of-type {\n",
       "        vertical-align: middle;\n",
       "    }\n",
       "\n",
       "    .dataframe tbody tr th {\n",
       "        vertical-align: top;\n",
       "    }\n",
       "\n",
       "    .dataframe thead th {\n",
       "        text-align: right;\n",
       "    }\n",
       "</style>\n",
       "<table border=\"1\" class=\"dataframe\">\n",
       "  <thead>\n",
       "    <tr style=\"text-align: right;\">\n",
       "      <th></th>\n",
       "      <th>a</th>\n",
       "      <th>b</th>\n",
       "      <th>Result</th>\n",
       "      <th>Result Type</th>\n",
       "      <th>Success</th>\n",
       "      <th>Finished</th>\n",
       "      <th>Process Time</th>\n",
       "      <th>Description</th>\n",
       "    </tr>\n",
       "    <tr>\n",
       "      <th>Trial ID</th>\n",
       "      <th></th>\n",
       "      <th></th>\n",
       "      <th></th>\n",
       "      <th></th>\n",
       "      <th></th>\n",
       "      <th></th>\n",
       "      <th></th>\n",
       "      <th></th>\n",
       "    </tr>\n",
       "  </thead>\n",
       "  <tbody>\n",
       "    <tr>\n",
       "      <th>1</th>\n",
       "      <td>1</td>\n",
       "      <td>2</td>\n",
       "      <td>4</td>\n",
       "      <td>&lt;class 'int'&gt;</td>\n",
       "      <td>True</td>\n",
       "      <td>2019-02-09 11:02:32.983760</td>\n",
       "      <td>00:00:00.006027</td>\n",
       "      <td>NaN</td>\n",
       "    </tr>\n",
       "    <tr>\n",
       "      <th>2</th>\n",
       "      <td>3</td>\n",
       "      <td>2</td>\n",
       "      <td>6</td>\n",
       "      <td>&lt;class 'int'&gt;</td>\n",
       "      <td>True</td>\n",
       "      <td>2019-02-09 11:02:34.579304</td>\n",
       "      <td>00:00:00.011577</td>\n",
       "      <td>NaN</td>\n",
       "    </tr>\n",
       "  </tbody>\n",
       "</table>\n",
       "</div>"
      ],
      "text/plain": [
       "          a  b  Result    Result Type  Success                   Finished  \\\n",
       "Trial ID                                                                    \n",
       "1         1  2       4  <class 'int'>     True 2019-02-09 11:02:32.983760   \n",
       "2         3  2       6  <class 'int'>     True 2019-02-09 11:02:34.579304   \n",
       "\n",
       "            Process Time  Description  \n",
       "Trial ID                               \n",
       "1        00:00:00.006027          NaN  \n",
       "2        00:00:00.011577          NaN  "
      ]
     },
     "execution_count": 33,
     "metadata": {},
     "output_type": "execute_result"
    }
   ],
   "source": [
    "import daskperiment\n",
    "\n",
    "ex = daskperiment.Experiment(id='simple_experiment_pj')\n",
    "ex.get_history()"
   ]
  },
  {
   "cell_type": "code",
   "execution_count": null,
   "metadata": {
    "collapsed": true
   },
   "outputs": [],
   "source": []
  }
 ],
 "metadata": {
  "kernelspec": {
   "display_name": "Python 3",
   "language": "python",
   "name": "python3"
  },
  "language_info": {
   "codemirror_mode": {
    "name": "ipython",
    "version": 3
   },
   "file_extension": ".py",
   "mimetype": "text/x-python",
   "name": "python",
   "nbconvert_exporter": "python",
   "pygments_lexer": "ipython3",
   "version": "3.6.6"
  }
 },
 "nbformat": 4,
 "nbformat_minor": 2
}
